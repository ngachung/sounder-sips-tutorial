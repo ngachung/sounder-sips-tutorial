{
 "cells": [
  {
   "cell_type": "markdown",
   "id": "2d6fbcf3-53db-4e62-8c85-c1b23f673ea1",
   "metadata": {},
   "source": [
    "# Welcome to Unity!"
   ]
  },
  {
   "cell_type": "markdown",
   "id": "f287935e-120f-4490-a6e1-9896858772d5",
   "metadata": {},
   "source": [
    "## Documentation\n",
    "\n",
    "Documentation is on the web at: https://app.gitbook.com/o/xZRqGQeQXJ0RP4VMj7Lq/s/UMIRhLdbRQTvMWop8Il9/user-docs/starting-line\n",
    "\n",
    "## Tutorials\n",
    "\n",
    "All tutorials can be found in the 'tutorials' folder.\n",
    "\n",
    "### 1. Working with Applications (Coming Soon)\n",
    "\n",
    "Applications in the Unity system are units of work that are deployed to the processing environment. In this tutorial, we will show some features of the Dockstore environment, and eventually show how these can be queried through an API for usage in the Unity System.\n",
    "\n",
    "\n",
    "### 2. Working with data\n",
    "\n",
    "Data in the Unity environment is accessible through a Data Access and Processing API (DAPA) endpoint. This trial will show you the basics of authenticationg with Cognito, querying for collections, and then using a collection to find data in that collection. You will also learn to filter data by time range.\n",
    "\n",
    "\n",
    "### 3. Working with Jobs\n",
    "\n",
    "When an application processes data, we call this a Job. In this tutorial you will execute a simple request, check the status, and get the result back of the job. This job is a 'helloworld' type job, and is used to showcase the low-level API for requesting work.\n",
    "\n",
    "### 4. Processing Unity Data (Coming soon)\n",
    "\n",
    "In this utorial, we will combine the above concepts to process L0 and L1 SounderSIPS data in the Unity Environment.\n",
    "\n",
    "## Feedback\n",
    "\n",
    "To provide feedback on the tutorials, please reach out to one of the following:\n",
    "\n",
    "* github - create an issue on the repository https://github.com/unity-sds/sounder-sips-tutorial/issues \n",
    "* Reach out to someone on the Unity team"
   ]
  },
  {
   "cell_type": "code",
   "execution_count": null,
   "id": "63db7057-eb65-498f-861c-763a83686be1",
   "metadata": {},
   "outputs": [],
   "source": []
  }
 ],
 "metadata": {
  "kernelspec": {
   "display_name": "Python 3 (ipykernel)",
   "language": "python",
   "name": "python3"
  },
  "language_info": {
   "codemirror_mode": {
    "name": "ipython",
    "version": 3
   },
   "file_extension": ".py",
   "mimetype": "text/x-python",
   "name": "python",
   "nbconvert_exporter": "python",
   "pygments_lexer": "ipython3",
   "version": "3.9.12"
  }
 },
 "nbformat": 4,
 "nbformat_minor": 5
}
