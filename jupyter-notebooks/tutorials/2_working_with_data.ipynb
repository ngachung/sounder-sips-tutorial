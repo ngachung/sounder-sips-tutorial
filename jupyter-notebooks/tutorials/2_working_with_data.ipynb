{
 "cells": [
  {
   "cell_type": "markdown",
   "id": "3be345ad-b008-45c6-b481-46888d2d2ebc",
   "metadata": {},
   "source": [
    "# Working with Data\n",
    "\n",
    "The intent of this tutorial is to help familiarize yourself with browsing for data that will be used along with an application to generate data by submitting a job. Job submission will be covered in the next tutorial."
   ]
  },
  {
   "cell_type": "code",
   "execution_count": 1,
   "id": "93e43227-c229-4ed4-a514-9293eda6c4f6",
   "metadata": {},
   "outputs": [],
   "source": [
    "import requests\n",
    "import getpass\n",
    "import json\n",
    "from IPython.display import JSON"
   ]
  },
  {
   "cell_type": "markdown",
   "id": "b860ceff-8f05-4615-a78b-add89ae59567",
   "metadata": {},
   "source": [
    "First we need some pre-defined environment variables"
   ]
  },
  {
   "cell_type": "code",
   "execution_count": 2,
   "id": "484e55a1-2933-49e7-a684-c38ab269d1e8",
   "metadata": {},
   "outputs": [],
   "source": [
    "# This portion of the code is env specific for Dev, Test, Ops, etc. \n",
    "env = {\n",
    "    \"clientId\":\"71894molftjtie4dvvkbjeard0\",\n",
    "    \"url\":\"https://58nbcawrvb.execute-api.us-west-2.amazonaws.com/test/\"\n",
    "      }\n",
    "\n",
    "# The auth_json is template for authorizing with AWS Cognito for a token that can be used for calls to the data service.\n",
    "auth_json = '''{\n",
    "     \"AuthParameters\" : {\n",
    "        \"USERNAME\" : \"\",\n",
    "        \"PASSWORD\" : \"\"\n",
    "     },\n",
    "     \"AuthFlow\" : \"USER_PASSWORD_AUTH\",\n",
    "     \"ClientId\" : \"\"\n",
    "  }'''"
   ]
  },
  {
   "cell_type": "markdown",
   "id": "386c712e-307f-48e9-a1ba-f2bb3d378c4e",
   "metadata": {},
   "source": [
    "### Authentication Code\n",
    "\n",
    "The below method is a helper function for getting a token for accessing unity services"
   ]
  },
  {
   "cell_type": "code",
   "execution_count": 3,
   "id": "6b9bbd23-1e4b-4286-959a-a00908a8ff7e",
   "metadata": {},
   "outputs": [],
   "source": [
    "# This method is used for taking a username and password and client ID and fetching a cognito token\n",
    "def get_token(username, password, clientID):\n",
    "    aj = json.loads(auth_json)\n",
    "    aj['AuthParameters']['USERNAME'] = username\n",
    "    aj['AuthParameters']['PASSWORD'] = password\n",
    "    aj['ClientId'] =clientID \n",
    "    response = requests.post('https://cognito-idp.us-west-2.amazonaws.com', headers={\"Content-Type\":\"application/x-amz-json-1.1\", \"X-Amz-Target\":\"AWSCognitoIdentityProviderService.InitiateAuth\"}, json=aj)\n",
    "    token = response.json()['AuthenticationResult']['AccessToken']\n",
    "    return token"
   ]
  },
  {
   "cell_type": "markdown",
   "id": "5ea61770-5592-4e79-b6c3-8dadcb9301cb",
   "metadata": {},
   "source": [
    "### Ask the User for their Unity username, password\n",
    "\n",
    "These are required to get the token (described above) to connect to the data services."
   ]
  },
  {
   "cell_type": "code",
   "execution_count": 4,
   "id": "1f586ee1-003f-40eb-9ae5-3770b4579ead",
   "metadata": {},
   "outputs": [
    {
     "name": "stdout",
     "output_type": "stream",
     "text": [
      "Please enter your username...\n"
     ]
    },
    {
     "name": "stdin",
     "output_type": "stream",
     "text": [
      " gangl\n"
     ]
    },
    {
     "name": "stdout",
     "output_type": "stream",
     "text": [
      "Please enter your password...\n"
     ]
    },
    {
     "name": "stdin",
     "output_type": "stream",
     "text": [
      " ········\n"
     ]
    }
   ],
   "source": [
    "print(\"Please enter your username...\")\n",
    "user_name = input()\n",
    "\n",
    "print(\"Please enter your password...\")\n",
    "password = getpass.getpass()"
   ]
  },
  {
   "cell_type": "code",
   "execution_count": 5,
   "id": "be1b7bcd-eb10-44aa-9940-d92b7bec9817",
   "metadata": {},
   "outputs": [],
   "source": [
    "token = get_token(user_name, password, env['clientId'])"
   ]
  },
  {
   "cell_type": "markdown",
   "id": "1a128652-a73b-4b9c-93ce-5f4147d73c32",
   "metadata": {},
   "source": [
    "## List Available Collections in the Unity System"
   ]
  },
  {
   "cell_type": "code",
   "execution_count": 6,
   "id": "65d2dd37-c123-4125-b796-6a93a1b1d39e",
   "metadata": {},
   "outputs": [
    {
     "data": {
      "application/json": {
       "features": [
        {
         "assets": {},
         "description": "TODO",
         "extent": {
          "spatial": {
           "bbox": [
            [
             0,
             0,
             0,
             0
            ]
           ]
          },
          "temporal": {
           "interval": [
            [
             null,
             null
            ]
           ]
          }
         },
         "id": "SNDR_SNPP_ATMS_L1A___1",
         "license": "proprietary",
         "links": [
          {
           "href": "protected___^SNDR.SNPP.ATMS.L1A.*\\.nc$",
           "rel": "item",
           "title": "SNDR.SNPP.ATMS.L1A.nominal2.01.nc",
           "type": "data"
          },
          {
           "href": "protected___^SNDR.SNPP.ATMS.L1A.*\\.nc\\.cas$",
           "rel": "item",
           "title": "SNDR.SNPP.ATMS.L1A.nominal2.01.nc.cas",
           "type": "metadata"
          },
          {
           "href": "private___^SNDR.SNPP.ATMS.L1A.*\\.cmr\\.xml$",
           "rel": "item",
           "title": "SNDR.SNPP.ATMS.L1A.nominal2.01.cmr.xml",
           "type": "metadata"
          }
         ],
         "providers": [],
         "stac_version": "1.0.0",
         "summaries": {
          "granuleId": "^SNDR.SNPP.ATMS.L1A.*$",
          "granuleIdExtraction": "(^SNDR.SNPP.ATMS.L1A.*)(\\.nc|\\.nc\\.cas|\\.cmr\\.xml)",
          "process": "snpp.level1"
         },
         "type": "Collection"
        },
        {
         "assets": {},
         "description": "TODO",
         "extent": {
          "spatial": {
           "bbox": [
            [
             0,
             0,
             0,
             0
            ]
           ]
          },
          "temporal": {
           "interval": [
            [
             null,
             null
            ]
           ]
          }
         },
         "id": "L0_SNPP_EphAtt___1",
         "license": "proprietary",
         "links": [
          {
           "href": "protected___^P[0-9]{3}[0-9]{4}[A-Z]{13}T[0-9]{12}00\\.PDS$",
           "rel": "item",
           "title": "P1570011AAAAAAAAAAAAAT16014214620700.PDS",
           "type": "data"
          },
          {
           "href": "protected___^P[0-9]{3}[0-9]{4}[A-Z]{13}T[0-9]{12}01\\.PDS$",
           "rel": "item",
           "title": "P1570011AAAAAAAAAAAAAT16014214620701.PDS",
           "type": "metadata"
          },
          {
           "href": "protected___^P[0-9]{3}[0-9]{4}[A-Z]{13}T[0-9]{12}01\\.PDS\\.xml$",
           "rel": "item",
           "title": "P1570011AAAAAAAAAAAAAT16014214620701.PDS.xml",
           "type": "metadata"
          },
          {
           "href": "private___^P[0-9]{3}[0-9]{4}[A-Z]{13}T[0-9]{12}00.PDS.cmr.xml$",
           "rel": "item",
           "title": "P1570011AAAAAAAAAAAAAT16014214620700.PDS.cmr.xml",
           "type": "metadata"
          }
         ],
         "providers": [],
         "stac_version": "1.0.0",
         "summaries": {
          "granuleId": "^P[0-9]{3}[0-9]{4}[A-Z]{13}T[0-9]{12}0$",
          "granuleIdExtraction": "(P[0-9]{3}[0-9]{4}[A-Z]{13}T[0-9]{12}0).+",
          "process": "snpp.level0"
         },
         "type": "Collection"
        },
        {
         "assets": {},
         "description": "TODO",
         "extent": {
          "spatial": {
           "bbox": [
            [
             0,
             0,
             0,
             0
            ]
           ]
          },
          "temporal": {
           "interval": [
            [
             null,
             null
            ]
           ]
          }
         },
         "id": "L0_SNPP_ATMS_SCIENCE___1",
         "license": "proprietary",
         "links": [
          {
           "href": "protected___^P[0-9]{3}[0-9]{4}[A-Z]{13}T[0-9]{12}00\\.PDS$",
           "rel": "item",
           "title": "P1570515ATMSSCIENCEAXT11344000000000.PDS",
           "type": "data"
          },
          {
           "href": "protected___^P[0-9]{3}[0-9]{4}[A-Z]{13}T[0-9]{12}01\\.PDS$",
           "rel": "item",
           "title": "P1570515ATMSSCIENCEAXT11344000000001.PDS",
           "type": "metadata"
          },
          {
           "href": "protected___^P[0-9]{3}[0-9]{4}[A-Z]{13}T[0-9]{12}01\\.PDS\\.xml$",
           "rel": "item",
           "title": "P1570515ATMSSCIENCEAXT11344000000001.PDS.xml",
           "type": "metadata"
          },
          {
           "href": "private___^P[0-9]{3}[0-9]{4}[A-Z]{13}T[0-9]{12}00.PDS.cmr.xml$",
           "rel": "item",
           "title": "P1570515ATMSSCIENCEAXT11344000000000.PDS.cmr.xml",
           "type": "metadata"
          }
         ],
         "providers": [],
         "stac_version": "1.0.0",
         "summaries": {
          "granuleId": "^P[0-9]{3}[0-9]{4}[A-Z]{13}T[0-9]{12}0$",
          "granuleIdExtraction": "(P[0-9]{3}[0-9]{4}[A-Z]{13}T[0-9]{12}0).+",
          "process": "snpp.level0"
         },
         "type": "Collection"
        }
       ]
      },
      "text/plain": [
       "<IPython.core.display.JSON object>"
      ]
     },
     "execution_count": 6,
     "metadata": {
      "application/json": {
       "expanded": false,
       "root": "root"
      }
     },
     "output_type": "execute_result"
    }
   ],
   "source": [
    "url = env['url'] + \"am-uds-dapa/collections\"\n",
    "response = requests.get(url, headers={\"Authorization\": \"Bearer \" + token})\n",
    "\n",
    "#print(json.dumps(response.json()))\n",
    "JSON(response.json())"
   ]
  },
  {
   "cell_type": "markdown",
   "id": "4c4f410c-1dd3-4723-b3f8-11e951b38cdf",
   "metadata": {},
   "source": [
    "## Given a collection (above), List the files within that collection"
   ]
  },
  {
   "cell_type": "code",
   "execution_count": 10,
   "id": "1bb34cc9-eaae-4efd-82c0-6f33043b6207",
   "metadata": {},
   "outputs": [
    {
     "data": {
      "application/json": {
       "features": [
        {
         "assets": {
          "data": {
           "description": "P1570515ATMSSCIENCEAAT16306110337200.PDS",
           "href": "s3://uds-test-cumulus-protected/ATMS_SCIENCE_Group___1/P1570515ATMSSCIENCEAAT16306110337200.PDS",
           "title": "P1570515ATMSSCIENCEAAT16306110337200.PDS"
          },
          "metadata__cmr": {
           "description": "P1570515ATMSSCIENCEAAT16306110337200.PDS.cmr.xml",
           "href": "s3://uds-test-cumulus-private/ATMS_SCIENCE_Group___1/P1570515ATMSSCIENCEAAT16306110337200.PDS.cmr.xml",
           "title": "P1570515ATMSSCIENCEAAT16306110337200.PDS.cmr.xml"
          },
          "metadata__data": {
           "description": "P1570515ATMSSCIENCEAAT16306110337201.PDS",
           "href": "s3://uds-test-cumulus-protected/ATMS_SCIENCE_Group___1/P1570515ATMSSCIENCEAAT16306110337201.PDS",
           "title": "P1570515ATMSSCIENCEAAT16306110337201.PDS"
          },
          "metadata__xml": {
           "description": "P1570515ATMSSCIENCEAAT16306110337201.PDS.xml",
           "href": "s3://uds-test-cumulus-protected/ATMS_SCIENCE_Group___1/P1570515ATMSSCIENCEAAT16306110337201.PDS.xml",
           "title": "P1570515ATMSSCIENCEAAT16306110337201.PDS.xml"
          }
         },
         "bbox": [
          0,
          0,
          0,
          0
         ],
         "collection": "L0_SNPP_ATMS_SCIENCE___1",
         "geometry": {
          "coordinates": [
           0,
           0
          ],
          "type": "Point"
         },
         "id": "P1570515ATMSSCIENCEAAT1630611033720",
         "links": [
          {
           "href": ".",
           "rel": "collection"
          }
         ],
         "properties": {
          "created": "2016-11-01T11:04:14.506Z",
          "datetime": "1970-01-01T00:27:38.733854671Z",
          "end_datetime": "2016-11-01T07:59:59.991Z",
          "start_datetime": "2016-11-01T06:00:00.009Z"
         },
         "stac_extensions": [],
         "stac_version": "1.0.0",
         "type": "Feature"
        },
        {
         "assets": {
          "data": {
           "description": "P1570515ATMSSCIENCEAAT16306161014600.PDS",
           "href": "s3://uds-test-cumulus-protected/ATMS_SCIENCE_Group___1/P1570515ATMSSCIENCEAAT16306161014600.PDS",
           "title": "P1570515ATMSSCIENCEAAT16306161014600.PDS"
          },
          "metadata__cmr": {
           "description": "P1570515ATMSSCIENCEAAT16306161014600.PDS.cmr.xml",
           "href": "s3://uds-test-cumulus-private/ATMS_SCIENCE_Group___1/P1570515ATMSSCIENCEAAT16306161014600.PDS.cmr.xml",
           "title": "P1570515ATMSSCIENCEAAT16306161014600.PDS.cmr.xml"
          },
          "metadata__data": {
           "description": "P1570515ATMSSCIENCEAAT16306161014601.PDS",
           "href": "s3://uds-test-cumulus-protected/ATMS_SCIENCE_Group___1/P1570515ATMSSCIENCEAAT16306161014601.PDS",
           "title": "P1570515ATMSSCIENCEAAT16306161014601.PDS"
          },
          "metadata__xml": {
           "description": "P1570515ATMSSCIENCEAAT16306161014601.PDS.xml",
           "href": "s3://uds-test-cumulus-protected/ATMS_SCIENCE_Group___1/P1570515ATMSSCIENCEAAT16306161014601.PDS.xml",
           "title": "P1570515ATMSSCIENCEAAT16306161014601.PDS.xml"
          }
         },
         "bbox": [
          0,
          0,
          0,
          0
         ],
         "collection": "L0_SNPP_ATMS_SCIENCE___1",
         "geometry": {
          "coordinates": [
           0,
           0
          ],
          "type": "Point"
         },
         "id": "P1570515ATMSSCIENCEAAT1630616101460",
         "links": [
          {
           "href": ".",
           "rel": "collection"
          }
         ],
         "properties": {
          "created": "2016-11-01T16:10:52.026Z",
          "datetime": "1970-01-01T00:27:38.733853724Z",
          "end_datetime": "2016-11-01T11:59:59.991Z",
          "start_datetime": "2016-11-01T10:00:00.009Z"
         },
         "stac_extensions": [],
         "stac_version": "1.0.0",
         "type": "Feature"
        },
        {
         "assets": {
          "data": {
           "description": "P1570515ATMSSCIENCEAAT16001081056900.PDS",
           "href": "s3://uds-test-cumulus-protected/ATMS_SCIENCE_Group___1/P1570515ATMSSCIENCEAAT16001081056900.PDS",
           "title": "P1570515ATMSSCIENCEAAT16001081056900.PDS"
          },
          "metadata__cmr": {
           "description": "P1570515ATMSSCIENCEAAT16001081056900.PDS.cmr.xml",
           "href": "s3://uds-test-cumulus-private/ATMS_SCIENCE_Group___1/P1570515ATMSSCIENCEAAT16001081056900.PDS.cmr.xml",
           "title": "P1570515ATMSSCIENCEAAT16001081056900.PDS.cmr.xml"
          },
          "metadata__data": {
           "description": "P1570515ATMSSCIENCEAAT16001081056901.PDS",
           "href": "s3://uds-test-cumulus-protected/ATMS_SCIENCE_Group___1/P1570515ATMSSCIENCEAAT16001081056901.PDS",
           "title": "P1570515ATMSSCIENCEAAT16001081056901.PDS"
          },
          "metadata__xml": {
           "description": "P1570515ATMSSCIENCEAAT16001081056901.PDS.xml",
           "href": "s3://uds-test-cumulus-protected/ATMS_SCIENCE_Group___1/P1570515ATMSSCIENCEAAT16001081056901.PDS.xml",
           "title": "P1570515ATMSSCIENCEAAT16001081056901.PDS.xml"
          }
         },
         "bbox": [
          0,
          0,
          0,
          0
         ],
         "collection": "L0_SNPP_ATMS_SCIENCE___1",
         "geometry": {
          "coordinates": [
           0,
           0
          ],
          "type": "Point"
         },
         "id": "P1570515ATMSSCIENCEAAT1600108105690",
         "links": [
          {
           "href": ".",
           "rel": "collection"
          }
         ],
         "properties": {
          "created": "2016-01-01T08:11:30.487Z",
          "datetime": "1970-01-01T00:27:38.733853852Z",
          "end_datetime": "2016-01-01T03:59:59.991Z",
          "start_datetime": "2016-01-01T02:00:00.009Z"
         },
         "stac_extensions": [],
         "stac_version": "1.0.0",
         "type": "Feature"
        },
        {
         "assets": {
          "data": {
           "description": "P1570515ATMSSCIENCEAAT16306193352600.PDS",
           "href": "s3://uds-test-cumulus-protected/ATMS_SCIENCE_Group___1/P1570515ATMSSCIENCEAAT16306193352600.PDS",
           "title": "P1570515ATMSSCIENCEAAT16306193352600.PDS"
          },
          "metadata__cmr": {
           "description": "P1570515ATMSSCIENCEAAT16306193352600.PDS.cmr.xml",
           "href": "s3://uds-test-cumulus-private/ATMS_SCIENCE_Group___1/P1570515ATMSSCIENCEAAT16306193352600.PDS.cmr.xml",
           "title": "P1570515ATMSSCIENCEAAT16306193352600.PDS.cmr.xml"
          },
          "metadata__data": {
           "description": "P1570515ATMSSCIENCEAAT16306193352601.PDS",
           "href": "s3://uds-test-cumulus-protected/ATMS_SCIENCE_Group___1/P1570515ATMSSCIENCEAAT16306193352601.PDS",
           "title": "P1570515ATMSSCIENCEAAT16306193352601.PDS"
          },
          "metadata__xml": {
           "description": "P1570515ATMSSCIENCEAAT16306193352601.PDS.xml",
           "href": "s3://uds-test-cumulus-protected/ATMS_SCIENCE_Group___1/P1570515ATMSSCIENCEAAT16306193352601.PDS.xml",
           "title": "P1570515ATMSSCIENCEAAT16306193352601.PDS.xml"
          }
         },
         "bbox": [
          0,
          0,
          0,
          0
         ],
         "collection": "L0_SNPP_ATMS_SCIENCE___1",
         "geometry": {
          "coordinates": [
           0,
           0
          ],
          "type": "Point"
         },
         "id": "P1570515ATMSSCIENCEAAT1630619335260",
         "links": [
          {
           "href": ".",
           "rel": "collection"
          }
         ],
         "properties": {
          "created": "2016-11-01T19:34:34.097Z",
          "datetime": "1970-01-01T00:27:38.733853586Z",
          "end_datetime": "2016-11-01T15:59:59.991Z",
          "start_datetime": "2016-11-01T14:00:00.009Z"
         },
         "stac_extensions": [],
         "stac_version": "1.0.0",
         "type": "Feature"
        },
        {
         "assets": {
          "data": {
           "description": "P1570515ATMSSCIENCEAAT16306212254700.PDS",
           "href": "s3://uds-test-cumulus-protected/ATMS_SCIENCE_Group___1/P1570515ATMSSCIENCEAAT16306212254700.PDS",
           "title": "P1570515ATMSSCIENCEAAT16306212254700.PDS"
          },
          "metadata__cmr": {
           "description": "P1570515ATMSSCIENCEAAT16306212254700.PDS.cmr.xml",
           "href": "s3://uds-test-cumulus-private/ATMS_SCIENCE_Group___1/P1570515ATMSSCIENCEAAT16306212254700.PDS.cmr.xml",
           "title": "P1570515ATMSSCIENCEAAT16306212254700.PDS.cmr.xml"
          },
          "metadata__data": {
           "description": "P1570515ATMSSCIENCEAAT16306212254701.PDS",
           "href": "s3://uds-test-cumulus-protected/ATMS_SCIENCE_Group___1/P1570515ATMSSCIENCEAAT16306212254701.PDS",
           "title": "P1570515ATMSSCIENCEAAT16306212254701.PDS"
          },
          "metadata__xml": {
           "description": "P1570515ATMSSCIENCEAAT16306212254701.PDS.xml",
           "href": "s3://uds-test-cumulus-protected/ATMS_SCIENCE_Group___1/P1570515ATMSSCIENCEAAT16306212254701.PDS.xml",
           "title": "P1570515ATMSSCIENCEAAT16306212254701.PDS.xml"
          }
         },
         "bbox": [
          0,
          0,
          0,
          0
         ],
         "collection": "L0_SNPP_ATMS_SCIENCE___1",
         "geometry": {
          "coordinates": [
           0,
           0
          ],
          "type": "Point"
         },
         "id": "P1570515ATMSSCIENCEAAT1630621225470",
         "links": [
          {
           "href": ".",
           "rel": "collection"
          }
         ],
         "properties": {
          "created": "2016-11-01T21:23:33.030Z",
          "datetime": "1970-01-01T00:27:38.733851782Z",
          "end_datetime": "2016-11-01T17:59:59.991Z",
          "start_datetime": "2016-11-01T16:00:00.009Z"
         },
         "stac_extensions": [],
         "stac_version": "1.0.0",
         "type": "Feature"
        },
        {
         "assets": {
          "data": {
           "description": "P1570515ATMSSCIENCEAAT16306225915000.PDS",
           "href": "s3://uds-test-cumulus-protected/ATMS_SCIENCE_Group___1/P1570515ATMSSCIENCEAAT16306225915000.PDS",
           "title": "P1570515ATMSSCIENCEAAT16306225915000.PDS"
          },
          "metadata__cmr": {
           "description": "P1570515ATMSSCIENCEAAT16306225915000.PDS.cmr.xml",
           "href": "s3://uds-test-cumulus-private/ATMS_SCIENCE_Group___1/P1570515ATMSSCIENCEAAT16306225915000.PDS.cmr.xml",
           "title": "P1570515ATMSSCIENCEAAT16306225915000.PDS.cmr.xml"
          },
          "metadata__data": {
           "description": "P1570515ATMSSCIENCEAAT16306225915001.PDS",
           "href": "s3://uds-test-cumulus-protected/ATMS_SCIENCE_Group___1/P1570515ATMSSCIENCEAAT16306225915001.PDS",
           "title": "P1570515ATMSSCIENCEAAT16306225915001.PDS"
          },
          "metadata__xml": {
           "description": "P1570515ATMSSCIENCEAAT16306225915001.PDS.xml",
           "href": "s3://uds-test-cumulus-protected/ATMS_SCIENCE_Group___1/P1570515ATMSSCIENCEAAT16306225915001.PDS.xml",
           "title": "P1570515ATMSSCIENCEAAT16306225915001.PDS.xml"
          }
         },
         "bbox": [
          0,
          0,
          0,
          0
         ],
         "collection": "L0_SNPP_ATMS_SCIENCE___1",
         "geometry": {
          "coordinates": [
           0,
           0
          ],
          "type": "Point"
         },
         "id": "P1570515ATMSSCIENCEAAT1630622591500",
         "links": [
          {
           "href": ".",
           "rel": "collection"
          }
         ],
         "properties": {
          "created": "2016-11-01T22:59:52.981Z",
          "datetime": "1970-01-01T00:27:38.733851223Z",
          "end_datetime": "2016-11-01T19:59:59.991Z",
          "start_datetime": "2016-11-01T18:00:00.009Z"
         },
         "stac_extensions": [],
         "stac_version": "1.0.0",
         "type": "Feature"
        },
        {
         "assets": {
          "data": {
           "description": "P1570515ATMSSCIENCEAAT16307004208600.PDS",
           "href": "s3://uds-test-cumulus-protected/ATMS_SCIENCE_Group___1/P1570515ATMSSCIENCEAAT16307004208600.PDS",
           "title": "P1570515ATMSSCIENCEAAT16307004208600.PDS"
          },
          "metadata__cmr": {
           "description": "P1570515ATMSSCIENCEAAT16307004208600.PDS.cmr.xml",
           "href": "s3://uds-test-cumulus-private/ATMS_SCIENCE_Group___1/P1570515ATMSSCIENCEAAT16307004208600.PDS.cmr.xml",
           "title": "P1570515ATMSSCIENCEAAT16307004208600.PDS.cmr.xml"
          },
          "metadata__data": {
           "description": "P1570515ATMSSCIENCEAAT16307004208601.PDS",
           "href": "s3://uds-test-cumulus-protected/ATMS_SCIENCE_Group___1/P1570515ATMSSCIENCEAAT16307004208601.PDS",
           "title": "P1570515ATMSSCIENCEAAT16307004208601.PDS"
          },
          "metadata__xml": {
           "description": "P1570515ATMSSCIENCEAAT16307004208601.PDS.xml",
           "href": "s3://uds-test-cumulus-protected/ATMS_SCIENCE_Group___1/P1570515ATMSSCIENCEAAT16307004208601.PDS.xml",
           "title": "P1570515ATMSSCIENCEAAT16307004208601.PDS.xml"
          }
         },
         "bbox": [
          0,
          0,
          0,
          0
         ],
         "collection": "L0_SNPP_ATMS_SCIENCE___1",
         "geometry": {
          "coordinates": [
           0,
           0
          ],
          "type": "Point"
         },
         "id": "P1570515ATMSSCIENCEAAT1630700420860",
         "links": [
          {
           "href": ".",
           "rel": "collection"
          }
         ],
         "properties": {
          "created": "2016-11-02T00:42:48.740Z",
          "datetime": "1970-01-01T00:27:38.733851344Z",
          "end_datetime": "2016-11-01T21:59:59.991Z",
          "start_datetime": "2016-11-01T20:00:00.009Z"
         },
         "stac_extensions": [],
         "stac_version": "1.0.0",
         "type": "Feature"
        },
        {
         "assets": {
          "data": {
           "description": "P1570515ATMSSCIENCEAAT16307040339000.PDS",
           "href": "s3://uds-test-cumulus-protected/ATMS_SCIENCE_Group___1/P1570515ATMSSCIENCEAAT16307040339000.PDS",
           "title": "P1570515ATMSSCIENCEAAT16307040339000.PDS"
          },
          "metadata__cmr": {
           "description": "P1570515ATMSSCIENCEAAT16307040339000.PDS.cmr.xml",
           "href": "s3://uds-test-cumulus-private/ATMS_SCIENCE_Group___1/P1570515ATMSSCIENCEAAT16307040339000.PDS.cmr.xml",
           "title": "P1570515ATMSSCIENCEAAT16307040339000.PDS.cmr.xml"
          },
          "metadata__data": {
           "description": "P1570515ATMSSCIENCEAAT16307040339001.PDS",
           "href": "s3://uds-test-cumulus-protected/ATMS_SCIENCE_Group___1/P1570515ATMSSCIENCEAAT16307040339001.PDS",
           "title": "P1570515ATMSSCIENCEAAT16307040339001.PDS"
          },
          "metadata__xml": {
           "description": "P1570515ATMSSCIENCEAAT16307040339001.PDS.xml",
           "href": "s3://uds-test-cumulus-protected/ATMS_SCIENCE_Group___1/P1570515ATMSSCIENCEAAT16307040339001.PDS.xml",
           "title": "P1570515ATMSSCIENCEAAT16307040339001.PDS.xml"
          }
         },
         "bbox": [
          0,
          0,
          0,
          0
         ],
         "collection": "L0_SNPP_ATMS_SCIENCE___1",
         "geometry": {
          "coordinates": [
           0,
           0
          ],
          "type": "Point"
         },
         "id": "P1570515ATMSSCIENCEAAT1630704033900",
         "links": [
          {
           "href": ".",
           "rel": "collection"
          }
         ],
         "properties": {
          "created": "2016-11-02T04:04:17.586Z",
          "datetime": "1970-01-01T00:27:38.733850831Z",
          "end_datetime": "2016-11-01T23:59:59.991Z",
          "start_datetime": "2016-11-01T22:00:00.009Z"
         },
         "stac_extensions": [],
         "stac_version": "1.0.0",
         "type": "Feature"
        },
        {
         "assets": {
          "data": {
           "description": "P1570515ATMSSCIENCEAAT16002024930300.PDS",
           "href": "s3://uds-test-cumulus-protected/ATMS_SCIENCE_Group___1/P1570515ATMSSCIENCEAAT16002024930300.PDS",
           "title": "P1570515ATMSSCIENCEAAT16002024930300.PDS"
          },
          "metadata__cmr": {
           "description": "P1570515ATMSSCIENCEAAT16002024930300.PDS.cmr.xml",
           "href": "s3://uds-test-cumulus-private/ATMS_SCIENCE_Group___1/P1570515ATMSSCIENCEAAT16002024930300.PDS.cmr.xml",
           "title": "P1570515ATMSSCIENCEAAT16002024930300.PDS.cmr.xml"
          },
          "metadata__data": {
           "description": "P1570515ATMSSCIENCEAAT16002024930301.PDS",
           "href": "s3://uds-test-cumulus-protected/ATMS_SCIENCE_Group___1/P1570515ATMSSCIENCEAAT16002024930301.PDS",
           "title": "P1570515ATMSSCIENCEAAT16002024930301.PDS"
          },
          "metadata__xml": {
           "description": "P1570515ATMSSCIENCEAAT16002024930301.PDS.xml",
           "href": "s3://uds-test-cumulus-protected/ATMS_SCIENCE_Group___1/P1570515ATMSSCIENCEAAT16002024930301.PDS.xml",
           "title": "P1570515ATMSSCIENCEAAT16002024930301.PDS.xml"
          }
         },
         "bbox": [
          0,
          0,
          0,
          0
         ],
         "collection": "L0_SNPP_ATMS_SCIENCE___1",
         "geometry": {
          "coordinates": [
           0,
           0
          ],
          "type": "Point"
         },
         "id": "P1570515ATMSSCIENCEAAT1600202493030",
         "links": [
          {
           "href": ".",
           "rel": "collection"
          }
         ],
         "properties": {
          "created": "2016-01-02T02:50:04.594Z",
          "datetime": "1970-01-01T00:27:38.733845801Z",
          "end_datetime": "2016-01-01T23:59:59.991Z",
          "start_datetime": "2016-01-01T22:00:00.009Z"
         },
         "stac_extensions": [],
         "stac_version": "1.0.0",
         "type": "Feature"
        },
        {
         "assets": {
          "data": {
           "description": "P1570515ATMSSCIENCEAAT16001232634200.PDS",
           "href": "s3://uds-test-cumulus-protected/ATMS_SCIENCE_Group___1/P1570515ATMSSCIENCEAAT16001232634200.PDS",
           "title": "P1570515ATMSSCIENCEAAT16001232634200.PDS"
          },
          "metadata__cmr": {
           "description": "P1570515ATMSSCIENCEAAT16001232634200.PDS.cmr.xml",
           "href": "s3://uds-test-cumulus-private/ATMS_SCIENCE_Group___1/P1570515ATMSSCIENCEAAT16001232634200.PDS.cmr.xml",
           "title": "P1570515ATMSSCIENCEAAT16001232634200.PDS.cmr.xml"
          },
          "metadata__data": {
           "description": "P1570515ATMSSCIENCEAAT16001232634201.PDS",
           "href": "s3://uds-test-cumulus-protected/ATMS_SCIENCE_Group___1/P1570515ATMSSCIENCEAAT16001232634201.PDS",
           "title": "P1570515ATMSSCIENCEAAT16001232634201.PDS"
          },
          "metadata__xml": {
           "description": "P1570515ATMSSCIENCEAAT16001232634201.PDS.xml",
           "href": "s3://uds-test-cumulus-protected/ATMS_SCIENCE_Group___1/P1570515ATMSSCIENCEAAT16001232634201.PDS.xml",
           "title": "P1570515ATMSSCIENCEAAT16001232634201.PDS.xml"
          }
         },
         "bbox": [
          0,
          0,
          0,
          0
         ],
         "collection": "L0_SNPP_ATMS_SCIENCE___1",
         "geometry": {
          "coordinates": [
           0,
           0
          ],
          "type": "Point"
         },
         "id": "P1570515ATMSSCIENCEAAT1600123263420",
         "links": [
          {
           "href": ".",
           "rel": "collection"
          }
         ],
         "properties": {
          "created": "2016-01-01T23:27:08.758Z",
          "datetime": "1970-01-01T00:27:38.733844991Z",
          "end_datetime": "2016-01-01T19:59:59.991Z",
          "start_datetime": "2016-01-01T18:00:00.009Z"
         },
         "stac_extensions": [],
         "stac_version": "1.0.0",
         "type": "Feature"
        },
        {
         "assets": {
          "data": {
           "description": "P1570515ATMSSCIENCEAAT16002010810800.PDS",
           "href": "s3://uds-test-cumulus-protected/ATMS_SCIENCE_Group___1/P1570515ATMSSCIENCEAAT16002010810800.PDS",
           "title": "P1570515ATMSSCIENCEAAT16002010810800.PDS"
          },
          "metadata__cmr": {
           "description": "P1570515ATMSSCIENCEAAT16002010810800.PDS.cmr.xml",
           "href": "s3://uds-test-cumulus-private/ATMS_SCIENCE_Group___1/P1570515ATMSSCIENCEAAT16002010810800.PDS.cmr.xml",
           "title": "P1570515ATMSSCIENCEAAT16002010810800.PDS.cmr.xml"
          },
          "metadata__data": {
           "description": "P1570515ATMSSCIENCEAAT16002010810801.PDS",
           "href": "s3://uds-test-cumulus-protected/ATMS_SCIENCE_Group___1/P1570515ATMSSCIENCEAAT16002010810801.PDS",
           "title": "P1570515ATMSSCIENCEAAT16002010810801.PDS"
          },
          "metadata__xml": {
           "description": "P1570515ATMSSCIENCEAAT16002010810801.PDS.xml",
           "href": "s3://uds-test-cumulus-protected/ATMS_SCIENCE_Group___1/P1570515ATMSSCIENCEAAT16002010810801.PDS.xml",
           "title": "P1570515ATMSSCIENCEAAT16002010810801.PDS.xml"
          }
         },
         "bbox": [
          0,
          0,
          0,
          0
         ],
         "collection": "L0_SNPP_ATMS_SCIENCE___1",
         "geometry": {
          "coordinates": [
           0,
           0
          ],
          "type": "Point"
         },
         "id": "P1570515ATMSSCIENCEAAT1600201081080",
         "links": [
          {
           "href": ".",
           "rel": "collection"
          }
         ],
         "properties": {
          "created": "2016-01-02T01:08:44.251Z",
          "datetime": "1970-01-01T00:27:38.733843001Z",
          "end_datetime": "2016-01-01T21:59:59.991Z",
          "start_datetime": "2016-01-01T20:00:00.009Z"
         },
         "stac_extensions": [],
         "stac_version": "1.0.0",
         "type": "Feature"
        },
        {
         "assets": {
          "data": {
           "description": "P1570515ATMSSCIENCEAAT16001113006500.PDS",
           "href": "s3://uds-test-cumulus-protected/ATMS_SCIENCE_Group___1/P1570515ATMSSCIENCEAAT16001113006500.PDS",
           "title": "P1570515ATMSSCIENCEAAT16001113006500.PDS"
          },
          "metadata__cmr": {
           "description": "P1570515ATMSSCIENCEAAT16001113006500.PDS.cmr.xml",
           "href": "s3://uds-test-cumulus-private/ATMS_SCIENCE_Group___1/P1570515ATMSSCIENCEAAT16001113006500.PDS.cmr.xml",
           "title": "P1570515ATMSSCIENCEAAT16001113006500.PDS.cmr.xml"
          },
          "metadata__data": {
           "description": "P1570515ATMSSCIENCEAAT16001113006501.PDS",
           "href": "s3://uds-test-cumulus-protected/ATMS_SCIENCE_Group___1/P1570515ATMSSCIENCEAAT16001113006501.PDS",
           "title": "P1570515ATMSSCIENCEAAT16001113006501.PDS"
          },
          "metadata__xml": {
           "description": "P1570515ATMSSCIENCEAAT16001113006501.PDS.xml",
           "href": "s3://uds-test-cumulus-protected/ATMS_SCIENCE_Group___1/P1570515ATMSSCIENCEAAT16001113006501.PDS.xml",
           "title": "P1570515ATMSSCIENCEAAT16001113006501.PDS.xml"
          }
         },
         "bbox": [
          0,
          0,
          0,
          0
         ],
         "collection": "L0_SNPP_ATMS_SCIENCE___1",
         "geometry": {
          "coordinates": [
           0,
           0
          ],
          "type": "Point"
         },
         "id": "P1570515ATMSSCIENCEAAT1600111300650",
         "links": [
          {
           "href": ".",
           "rel": "collection"
          }
         ],
         "properties": {
          "created": "2016-01-01T11:30:40.816Z",
          "datetime": "1970-01-01T00:27:38.733839497Z",
          "end_datetime": "2016-01-01T07:59:59.991Z",
          "start_datetime": "2016-01-01T06:00:00.009Z"
         },
         "stac_extensions": [],
         "stac_version": "1.0.0",
         "type": "Feature"
        },
        {
         "assets": {
          "data": {
           "description": "P1570515ATMSSCIENCEAAT16306092352700.PDS",
           "href": "s3://uds-test-cumulus-protected/ATMS_SCIENCE_Group___1/P1570515ATMSSCIENCEAAT16306092352700.PDS",
           "title": "P1570515ATMSSCIENCEAAT16306092352700.PDS"
          },
          "metadata__cmr": {
           "description": "P1570515ATMSSCIENCEAAT16306092352700.PDS.cmr.xml",
           "href": "s3://uds-test-cumulus-private/ATMS_SCIENCE_Group___1/P1570515ATMSSCIENCEAAT16306092352700.PDS.cmr.xml",
           "title": "P1570515ATMSSCIENCEAAT16306092352700.PDS.cmr.xml"
          },
          "metadata__data": {
           "description": "P1570515ATMSSCIENCEAAT16306092352701.PDS",
           "href": "s3://uds-test-cumulus-protected/ATMS_SCIENCE_Group___1/P1570515ATMSSCIENCEAAT16306092352701.PDS",
           "title": "P1570515ATMSSCIENCEAAT16306092352701.PDS"
          },
          "metadata__xml": {
           "description": "P1570515ATMSSCIENCEAAT16306092352701.PDS.xml",
           "href": "s3://uds-test-cumulus-protected/ATMS_SCIENCE_Group___1/P1570515ATMSSCIENCEAAT16306092352701.PDS.xml",
           "title": "P1570515ATMSSCIENCEAAT16306092352701.PDS.xml"
          }
         },
         "bbox": [
          0,
          0,
          0,
          0
         ],
         "collection": "L0_SNPP_ATMS_SCIENCE___1",
         "geometry": {
          "coordinates": [
           0,
           0
          ],
          "type": "Point"
         },
         "id": "P1570515ATMSSCIENCEAAT1630609235270",
         "links": [
          {
           "href": ".",
           "rel": "collection"
          }
         ],
         "properties": {
          "created": "2016-11-01T09:24:29.093Z",
          "datetime": "1970-01-01T00:27:38.733840964Z",
          "end_datetime": "2016-11-01T05:59:59.991Z",
          "start_datetime": "2016-11-01T04:00:00.009Z"
         },
         "stac_extensions": [],
         "stac_version": "1.0.0",
         "type": "Feature"
        },
        {
         "assets": {
          "data": {
           "description": "P1570515ATMSSCIENCEAAT16306124542700.PDS",
           "href": "s3://uds-test-cumulus-protected/ATMS_SCIENCE_Group___1/P1570515ATMSSCIENCEAAT16306124542700.PDS",
           "title": "P1570515ATMSSCIENCEAAT16306124542700.PDS"
          },
          "metadata__cmr": {
           "description": "P1570515ATMSSCIENCEAAT16306124542700.PDS.cmr.xml",
           "href": "s3://uds-test-cumulus-private/ATMS_SCIENCE_Group___1/P1570515ATMSSCIENCEAAT16306124542700.PDS.cmr.xml",
           "title": "P1570515ATMSSCIENCEAAT16306124542700.PDS.cmr.xml"
          },
          "metadata__data": {
           "description": "P1570515ATMSSCIENCEAAT16306124542701.PDS",
           "href": "s3://uds-test-cumulus-protected/ATMS_SCIENCE_Group___1/P1570515ATMSSCIENCEAAT16306124542701.PDS",
           "title": "P1570515ATMSSCIENCEAAT16306124542701.PDS"
          },
          "metadata__xml": {
           "description": "P1570515ATMSSCIENCEAAT16306124542701.PDS.xml",
           "href": "s3://uds-test-cumulus-protected/ATMS_SCIENCE_Group___1/P1570515ATMSSCIENCEAAT16306124542701.PDS.xml",
           "title": "P1570515ATMSSCIENCEAAT16306124542701.PDS.xml"
          }
         },
         "bbox": [
          0,
          0,
          0,
          0
         ],
         "collection": "L0_SNPP_ATMS_SCIENCE___1",
         "geometry": {
          "coordinates": [
           0,
           0
          ],
          "type": "Point"
         },
         "id": "P1570515ATMSSCIENCEAAT1630612454270",
         "links": [
          {
           "href": ".",
           "rel": "collection"
          }
         ],
         "properties": {
          "created": "2016-11-01T12:46:17.692Z",
          "datetime": "1970-01-01T00:27:38.733840732Z",
          "end_datetime": "2016-11-01T09:59:59.991Z",
          "start_datetime": "2016-11-01T08:00:00.009Z"
         },
         "stac_extensions": [],
         "stac_version": "1.0.0",
         "type": "Feature"
        },
        {
         "assets": {
          "data": {
           "description": "P1570515ATMSSCIENCEAAT16306175000100.PDS",
           "href": "s3://uds-test-cumulus-protected/ATMS_SCIENCE_Group___1/P1570515ATMSSCIENCEAAT16306175000100.PDS",
           "title": "P1570515ATMSSCIENCEAAT16306175000100.PDS"
          },
          "metadata__cmr": {
           "description": "P1570515ATMSSCIENCEAAT16306175000100.PDS.cmr.xml",
           "href": "s3://uds-test-cumulus-private/ATMS_SCIENCE_Group___1/P1570515ATMSSCIENCEAAT16306175000100.PDS.cmr.xml",
           "title": "P1570515ATMSSCIENCEAAT16306175000100.PDS.cmr.xml"
          },
          "metadata__data": {
           "description": "P1570515ATMSSCIENCEAAT16306175000101.PDS",
           "href": "s3://uds-test-cumulus-protected/ATMS_SCIENCE_Group___1/P1570515ATMSSCIENCEAAT16306175000101.PDS",
           "title": "P1570515ATMSSCIENCEAAT16306175000101.PDS"
          },
          "metadata__xml": {
           "description": "P1570515ATMSSCIENCEAAT16306175000101.PDS.xml",
           "href": "s3://uds-test-cumulus-protected/ATMS_SCIENCE_Group___1/P1570515ATMSSCIENCEAAT16306175000101.PDS.xml",
           "title": "P1570515ATMSSCIENCEAAT16306175000101.PDS.xml"
          }
         },
         "bbox": [
          0,
          0,
          0,
          0
         ],
         "collection": "L0_SNPP_ATMS_SCIENCE___1",
         "geometry": {
          "coordinates": [
           0,
           0
          ],
          "type": "Point"
         },
         "id": "P1570515ATMSSCIENCEAAT1630617500010",
         "links": [
          {
           "href": ".",
           "rel": "collection"
          }
         ],
         "properties": {
          "created": "2016-11-01T17:50:37.212Z",
          "datetime": "1970-01-01T00:27:38.733840741Z",
          "end_datetime": "2016-11-01T13:59:59.991Z",
          "start_datetime": "2016-11-01T12:00:00.009Z"
         },
         "stac_extensions": [],
         "stac_version": "1.0.0",
         "type": "Feature"
        },
        {
         "assets": {
          "data": {
           "description": "P1570515ATMSSCIENCEAAT16001181711200.PDS",
           "href": "s3://uds-test-cumulus-protected/ATMS_SCIENCE_Group___1/P1570515ATMSSCIENCEAAT16001181711200.PDS",
           "title": "P1570515ATMSSCIENCEAAT16001181711200.PDS"
          },
          "metadata__cmr": {
           "description": "P1570515ATMSSCIENCEAAT16001181711200.PDS.cmr.xml",
           "href": "s3://uds-test-cumulus-private/ATMS_SCIENCE_Group___1/P1570515ATMSSCIENCEAAT16001181711200.PDS.cmr.xml",
           "title": "P1570515ATMSSCIENCEAAT16001181711200.PDS.cmr.xml"
          },
          "metadata__data": {
           "description": "P1570515ATMSSCIENCEAAT16001181711201.PDS",
           "href": "s3://uds-test-cumulus-protected/ATMS_SCIENCE_Group___1/P1570515ATMSSCIENCEAAT16001181711201.PDS",
           "title": "P1570515ATMSSCIENCEAAT16001181711201.PDS"
          },
          "metadata__xml": {
           "description": "P1570515ATMSSCIENCEAAT16001181711201.PDS.xml",
           "href": "s3://uds-test-cumulus-protected/ATMS_SCIENCE_Group___1/P1570515ATMSSCIENCEAAT16001181711201.PDS.xml",
           "title": "P1570515ATMSSCIENCEAAT16001181711201.PDS.xml"
          }
         },
         "bbox": [
          0,
          0,
          0,
          0
         ],
         "collection": "L0_SNPP_ATMS_SCIENCE___1",
         "geometry": {
          "coordinates": [
           0,
           0
          ],
          "type": "Point"
         },
         "id": "P1570515ATMSSCIENCEAAT1600118171120",
         "links": [
          {
           "href": ".",
           "rel": "collection"
          }
         ],
         "properties": {
          "created": "2016-01-01T18:17:46.203Z",
          "datetime": "1970-01-01T00:27:38.733842610Z",
          "end_datetime": "2016-01-01T13:59:59.991Z",
          "start_datetime": "2016-01-01T12:00:00.009Z"
         },
         "stac_extensions": [],
         "stac_version": "1.0.0",
         "type": "Feature"
        },
        {
         "assets": {
          "data": {
           "description": "P1570515ATMSSCIENCEAAT16001200125200.PDS",
           "href": "s3://uds-test-cumulus-protected/ATMS_SCIENCE_Group___1/P1570515ATMSSCIENCEAAT16001200125200.PDS",
           "title": "P1570515ATMSSCIENCEAAT16001200125200.PDS"
          },
          "metadata__cmr": {
           "description": "P1570515ATMSSCIENCEAAT16001200125200.PDS.cmr.xml",
           "href": "s3://uds-test-cumulus-private/ATMS_SCIENCE_Group___1/P1570515ATMSSCIENCEAAT16001200125200.PDS.cmr.xml",
           "title": "P1570515ATMSSCIENCEAAT16001200125200.PDS.cmr.xml"
          },
          "metadata__data": {
           "description": "P1570515ATMSSCIENCEAAT16001200125201.PDS",
           "href": "s3://uds-test-cumulus-protected/ATMS_SCIENCE_Group___1/P1570515ATMSSCIENCEAAT16001200125201.PDS",
           "title": "P1570515ATMSSCIENCEAAT16001200125201.PDS"
          },
          "metadata__xml": {
           "description": "P1570515ATMSSCIENCEAAT16001200125201.PDS.xml",
           "href": "s3://uds-test-cumulus-protected/ATMS_SCIENCE_Group___1/P1570515ATMSSCIENCEAAT16001200125201.PDS.xml",
           "title": "P1570515ATMSSCIENCEAAT16001200125201.PDS.xml"
          }
         },
         "bbox": [
          0,
          0,
          0,
          0
         ],
         "collection": "L0_SNPP_ATMS_SCIENCE___1",
         "geometry": {
          "coordinates": [
           0,
           0
          ],
          "type": "Point"
         },
         "id": "P1570515ATMSSCIENCEAAT1600120012520",
         "links": [
          {
           "href": ".",
           "rel": "collection"
          }
         ],
         "properties": {
          "created": "2016-01-01T20:02:00.644Z",
          "datetime": "1970-01-01T00:27:38.733839966Z",
          "end_datetime": "2016-01-01T15:59:59.991Z",
          "start_datetime": "2016-01-01T14:00:00.009Z"
         },
         "stac_extensions": [],
         "stac_version": "1.0.0",
         "type": "Feature"
        },
        {
         "assets": {
          "data": {
           "description": "P1570515ATMSSCIENCEAAT16001131204600.PDS",
           "href": "s3://uds-test-cumulus-protected/ATMS_SCIENCE_Group___1/P1570515ATMSSCIENCEAAT16001131204600.PDS",
           "title": "P1570515ATMSSCIENCEAAT16001131204600.PDS"
          },
          "metadata__cmr": {
           "description": "P1570515ATMSSCIENCEAAT16001131204600.PDS.cmr.xml",
           "href": "s3://uds-test-cumulus-private/ATMS_SCIENCE_Group___1/P1570515ATMSSCIENCEAAT16001131204600.PDS.cmr.xml",
           "title": "P1570515ATMSSCIENCEAAT16001131204600.PDS.cmr.xml"
          },
          "metadata__data": {
           "description": "P1570515ATMSSCIENCEAAT16001131204601.PDS",
           "href": "s3://uds-test-cumulus-protected/ATMS_SCIENCE_Group___1/P1570515ATMSSCIENCEAAT16001131204601.PDS",
           "title": "P1570515ATMSSCIENCEAAT16001131204601.PDS"
          },
          "metadata__xml": {
           "description": "P1570515ATMSSCIENCEAAT16001131204601.PDS.xml",
           "href": "s3://uds-test-cumulus-protected/ATMS_SCIENCE_Group___1/P1570515ATMSSCIENCEAAT16001131204601.PDS.xml",
           "title": "P1570515ATMSSCIENCEAAT16001131204601.PDS.xml"
          }
         },
         "bbox": [
          0,
          0,
          0,
          0
         ],
         "collection": "L0_SNPP_ATMS_SCIENCE___1",
         "geometry": {
          "coordinates": [
           0,
           0
          ],
          "type": "Point"
         },
         "id": "P1570515ATMSSCIENCEAAT1600113120460",
         "links": [
          {
           "href": ".",
           "rel": "collection"
          }
         ],
         "properties": {
          "created": "2016-01-01T13:12:38.118Z",
          "datetime": "1970-01-01T00:27:38.733840145Z",
          "end_datetime": "2016-01-01T09:59:59.991Z",
          "start_datetime": "2016-01-01T08:00:00.009Z"
         },
         "stac_extensions": [],
         "stac_version": "1.0.0",
         "type": "Feature"
        },
        {
         "assets": {
          "data": {
           "description": "P1570515ATMSSCIENCEAAT16306074411000.PDS",
           "href": "s3://uds-test-cumulus-protected/ATMS_SCIENCE_Group___1/P1570515ATMSSCIENCEAAT16306074411000.PDS",
           "title": "P1570515ATMSSCIENCEAAT16306074411000.PDS"
          },
          "metadata__cmr": {
           "description": "P1570515ATMSSCIENCEAAT16306074411000.PDS.cmr.xml",
           "href": "s3://uds-test-cumulus-private/ATMS_SCIENCE_Group___1/P1570515ATMSSCIENCEAAT16306074411000.PDS.cmr.xml",
           "title": "P1570515ATMSSCIENCEAAT16306074411000.PDS.cmr.xml"
          },
          "metadata__data": {
           "description": "P1570515ATMSSCIENCEAAT16306074411001.PDS",
           "href": "s3://uds-test-cumulus-protected/ATMS_SCIENCE_Group___1/P1570515ATMSSCIENCEAAT16306074411001.PDS",
           "title": "P1570515ATMSSCIENCEAAT16306074411001.PDS"
          },
          "metadata__xml": {
           "description": "P1570515ATMSSCIENCEAAT16306074411001.PDS.xml",
           "href": "s3://uds-test-cumulus-protected/ATMS_SCIENCE_Group___1/P1570515ATMSSCIENCEAAT16306074411001.PDS.xml",
           "title": "P1570515ATMSSCIENCEAAT16306074411001.PDS.xml"
          }
         },
         "bbox": [
          0,
          0,
          0,
          0
         ],
         "collection": "L0_SNPP_ATMS_SCIENCE___1",
         "geometry": {
          "coordinates": [
           0,
           0
          ],
          "type": "Point"
         },
         "id": "P1570515ATMSSCIENCEAAT1630607441100",
         "links": [
          {
           "href": ".",
           "rel": "collection"
          }
         ],
         "properties": {
          "created": "2016-11-01T07:44:48.896Z",
          "datetime": "1970-01-01T00:27:38.733840513Z",
          "end_datetime": "2016-11-01T03:59:59.991Z",
          "start_datetime": "2016-11-01T02:00:00.009Z"
         },
         "stac_extensions": [],
         "stac_version": "1.0.0",
         "type": "Feature"
        },
        {
         "assets": {
          "data": {
           "description": "P1570515ATMSSCIENCEAAT16001214424100.PDS",
           "href": "s3://uds-test-cumulus-protected/ATMS_SCIENCE_Group___1/P1570515ATMSSCIENCEAAT16001214424100.PDS",
           "title": "P1570515ATMSSCIENCEAAT16001214424100.PDS"
          },
          "metadata__cmr": {
           "description": "P1570515ATMSSCIENCEAAT16001214424100.PDS.cmr.xml",
           "href": "s3://uds-test-cumulus-private/ATMS_SCIENCE_Group___1/P1570515ATMSSCIENCEAAT16001214424100.PDS.cmr.xml",
           "title": "P1570515ATMSSCIENCEAAT16001214424100.PDS.cmr.xml"
          },
          "metadata__data": {
           "description": "P1570515ATMSSCIENCEAAT16001214424101.PDS",
           "href": "s3://uds-test-cumulus-protected/ATMS_SCIENCE_Group___1/P1570515ATMSSCIENCEAAT16001214424101.PDS",
           "title": "P1570515ATMSSCIENCEAAT16001214424101.PDS"
          },
          "metadata__xml": {
           "description": "P1570515ATMSSCIENCEAAT16001214424101.PDS.xml",
           "href": "s3://uds-test-cumulus-protected/ATMS_SCIENCE_Group___1/P1570515ATMSSCIENCEAAT16001214424101.PDS.xml",
           "title": "P1570515ATMSSCIENCEAAT16001214424101.PDS.xml"
          }
         },
         "bbox": [
          0,
          0,
          0,
          0
         ],
         "collection": "L0_SNPP_ATMS_SCIENCE___1",
         "geometry": {
          "coordinates": [
           0,
           0
          ],
          "type": "Point"
         },
         "id": "P1570515ATMSSCIENCEAAT1600121442410",
         "links": [
          {
           "href": ".",
           "rel": "collection"
          }
         ],
         "properties": {
          "created": "2016-01-01T21:44:59.141Z",
          "datetime": "1970-01-01T00:27:38.733842223Z",
          "end_datetime": "2016-01-01T17:59:59.991Z",
          "start_datetime": "2016-01-01T16:00:00.009Z"
         },
         "stac_extensions": [],
         "stac_version": "1.0.0",
         "type": "Feature"
        },
        {
         "assets": {
          "data": {
           "description": "P1570515ATMSSCIENCEAAT16001145419000.PDS",
           "href": "s3://uds-test-cumulus-protected/ATMS_SCIENCE_Group___1/P1570515ATMSSCIENCEAAT16001145419000.PDS",
           "title": "P1570515ATMSSCIENCEAAT16001145419000.PDS"
          },
          "metadata__cmr": {
           "description": "P1570515ATMSSCIENCEAAT16001145419000.PDS.cmr.xml",
           "href": "s3://uds-test-cumulus-private/ATMS_SCIENCE_Group___1/P1570515ATMSSCIENCEAAT16001145419000.PDS.cmr.xml",
           "title": "P1570515ATMSSCIENCEAAT16001145419000.PDS.cmr.xml"
          },
          "metadata__data": {
           "description": "P1570515ATMSSCIENCEAAT16001145419001.PDS",
           "href": "s3://uds-test-cumulus-protected/ATMS_SCIENCE_Group___1/P1570515ATMSSCIENCEAAT16001145419001.PDS",
           "title": "P1570515ATMSSCIENCEAAT16001145419001.PDS"
          },
          "metadata__xml": {
           "description": "P1570515ATMSSCIENCEAAT16001145419001.PDS.xml",
           "href": "s3://uds-test-cumulus-protected/ATMS_SCIENCE_Group___1/P1570515ATMSSCIENCEAAT16001145419001.PDS.xml",
           "title": "P1570515ATMSSCIENCEAAT16001145419001.PDS.xml"
          }
         },
         "bbox": [
          0,
          0,
          0,
          0
         ],
         "collection": "L0_SNPP_ATMS_SCIENCE___1",
         "geometry": {
          "coordinates": [
           0,
           0
          ],
          "type": "Point"
         },
         "id": "P1570515ATMSSCIENCEAAT1600114541900",
         "links": [
          {
           "href": ".",
           "rel": "collection"
          }
         ],
         "properties": {
          "created": "2016-01-01T14:54:53.667Z",
          "datetime": "1970-01-01T00:27:38.733839726Z",
          "end_datetime": "2016-01-01T11:59:59.991Z",
          "start_datetime": "2016-01-01T10:00:00.009Z"
         },
         "stac_extensions": [],
         "stac_version": "1.0.0",
         "type": "Feature"
        },
        {
         "assets": {
          "data": {
           "description": "P1570515ATMSSCIENCEAAT16306060336600.PDS",
           "href": "s3://uds-test-cumulus-protected/ATMS_SCIENCE_Group___1/P1570515ATMSSCIENCEAAT16306060336600.PDS",
           "title": "P1570515ATMSSCIENCEAAT16306060336600.PDS"
          },
          "metadata__cmr": {
           "description": "P1570515ATMSSCIENCEAAT16306060336600.PDS.cmr.xml",
           "href": "s3://uds-test-cumulus-private/ATMS_SCIENCE_Group___1/P1570515ATMSSCIENCEAAT16306060336600.PDS.cmr.xml",
           "title": "P1570515ATMSSCIENCEAAT16306060336600.PDS.cmr.xml"
          },
          "metadata__data": {
           "description": "P1570515ATMSSCIENCEAAT16306060336601.PDS",
           "href": "s3://uds-test-cumulus-protected/ATMS_SCIENCE_Group___1/P1570515ATMSSCIENCEAAT16306060336601.PDS",
           "title": "P1570515ATMSSCIENCEAAT16306060336601.PDS"
          },
          "metadata__xml": {
           "description": "P1570515ATMSSCIENCEAAT16306060336601.PDS.xml",
           "href": "s3://uds-test-cumulus-protected/ATMS_SCIENCE_Group___1/P1570515ATMSSCIENCEAAT16306060336601.PDS.xml",
           "title": "P1570515ATMSSCIENCEAAT16306060336601.PDS.xml"
          }
         },
         "bbox": [
          0,
          0,
          0,
          0
         ],
         "collection": "L0_SNPP_ATMS_SCIENCE___1",
         "geometry": {
          "coordinates": [
           0,
           0
          ],
          "type": "Point"
         },
         "id": "P1570515ATMSSCIENCEAAT1630606033660",
         "links": [
          {
           "href": ".",
           "rel": "collection"
          }
         ],
         "properties": {
          "created": "2016-11-01T06:04:13.277Z",
          "datetime": "1970-01-01T00:27:38.733839847Z",
          "end_datetime": "2016-11-01T01:59:59.991Z",
          "start_datetime": "2016-11-01T00:00:00.441Z"
         },
         "stac_extensions": [],
         "stac_version": "1.0.0",
         "type": "Feature"
        },
        {
         "assets": {
          "data": {
           "description": "P1570515ATMSSCIENCEAAT16001044919900.PDS",
           "href": "s3://uds-test-cumulus-protected/ATMS_SCIENCE_Group___1/P1570515ATMSSCIENCEAAT16001044919900.PDS",
           "title": "P1570515ATMSSCIENCEAAT16001044919900.PDS"
          },
          "metadata__cmr": {
           "description": "P1570515ATMSSCIENCEAAT16001044919900.PDS.cmr.xml",
           "href": "s3://uds-test-cumulus-private/ATMS_SCIENCE_Group___1/P1570515ATMSSCIENCEAAT16001044919900.PDS.cmr.xml",
           "title": "P1570515ATMSSCIENCEAAT16001044919900.PDS.cmr.xml"
          },
          "metadata__data": {
           "description": "P1570515ATMSSCIENCEAAT16001044919901.PDS",
           "href": "s3://uds-test-cumulus-protected/ATMS_SCIENCE_Group___1/P1570515ATMSSCIENCEAAT16001044919901.PDS",
           "title": "P1570515ATMSSCIENCEAAT16001044919901.PDS"
          },
          "metadata__xml": {
           "description": "P1570515ATMSSCIENCEAAT16001044919901.PDS.xml",
           "href": "s3://uds-test-cumulus-protected/ATMS_SCIENCE_Group___1/P1570515ATMSSCIENCEAAT16001044919901.PDS.xml",
           "title": "P1570515ATMSSCIENCEAAT16001044919901.PDS.xml"
          }
         },
         "bbox": [
          0,
          0,
          0,
          0
         ],
         "collection": "L0_SNPP_ATMS_SCIENCE___1",
         "geometry": {
          "coordinates": [
           0,
           0
          ],
          "type": "Point"
         },
         "id": "P1570515ATMSSCIENCEAAT1600104491990",
         "links": [
          {
           "href": ".",
           "rel": "collection"
          }
         ],
         "properties": {
          "created": "2016-01-01T04:49:53.631Z",
          "datetime": "1970-01-01T00:27:38.733837926Z",
          "end_datetime": "2016-01-01T01:59:59.991Z",
          "start_datetime": "2016-01-01T00:00:00.009Z"
         },
         "stac_extensions": [],
         "stac_version": "1.0.0",
         "type": "Feature"
        },
        {
         "assets": {
          "data": {
           "description": "P1570515ATMSSCIENCEAAT16001095042600.PDS",
           "href": "s3://uds-test-cumulus-protected/ATMS_SCIENCE_Group___1/P1570515ATMSSCIENCEAAT16001095042600.PDS",
           "title": "P1570515ATMSSCIENCEAAT16001095042600.PDS"
          },
          "metadata__cmr": {
           "description": "P1570515ATMSSCIENCEAAT16001095042600.PDS.cmr.xml",
           "href": "s3://uds-test-cumulus-private/ATMS_SCIENCE_Group___1/P1570515ATMSSCIENCEAAT16001095042600.PDS.cmr.xml",
           "title": "P1570515ATMSSCIENCEAAT16001095042600.PDS.cmr.xml"
          },
          "metadata__data": {
           "description": "P1570515ATMSSCIENCEAAT16001095042601.PDS",
           "href": "s3://uds-test-cumulus-protected/ATMS_SCIENCE_Group___1/P1570515ATMSSCIENCEAAT16001095042601.PDS",
           "title": "P1570515ATMSSCIENCEAAT16001095042601.PDS"
          },
          "metadata__xml": {
           "description": "P1570515ATMSSCIENCEAAT16001095042601.PDS.xml",
           "href": "s3://uds-test-cumulus-protected/ATMS_SCIENCE_Group___1/P1570515ATMSSCIENCEAAT16001095042601.PDS.xml",
           "title": "P1570515ATMSSCIENCEAAT16001095042601.PDS.xml"
          }
         },
         "bbox": [
          0,
          0,
          0,
          0
         ],
         "collection": "L0_SNPP_ATMS_SCIENCE___1",
         "geometry": {
          "coordinates": [
           0,
           0
          ],
          "type": "Point"
         },
         "id": "P1570515ATMSSCIENCEAAT1600109504260",
         "links": [
          {
           "href": ".",
           "rel": "collection"
          }
         ],
         "properties": {
          "created": "2016-01-01T09:51:17.708Z",
          "datetime": "1970-01-01T00:27:38.733837133Z",
          "end_datetime": "2016-01-01T05:59:59.991Z",
          "start_datetime": "2016-01-01T04:00:00.009Z"
         },
         "stac_extensions": [],
         "stac_version": "1.0.0",
         "type": "Feature"
        },
        {
         "assets": {
          "data": {
           "description": "P1570515ATMSSCIENCEAAT16002075200500.PDS",
           "href": "s3://uds-test-cumulus-protected/ATMS_SCIENCE_Group___1/P1570515ATMSSCIENCEAAT16002075200500.PDS",
           "title": "P1570515ATMSSCIENCEAAT16002075200500.PDS"
          },
          "metadata__cmr": {
           "description": "P1570515ATMSSCIENCEAAT16002075200500.PDS.cmr.xml",
           "href": "s3://uds-test-cumulus-private/ATMS_SCIENCE_Group___1/P1570515ATMSSCIENCEAAT16002075200500.PDS.cmr.xml",
           "title": "P1570515ATMSSCIENCEAAT16002075200500.PDS.cmr.xml"
          },
          "metadata__data": {
           "description": "P1570515ATMSSCIENCEAAT16002075200501.PDS",
           "href": "s3://uds-test-cumulus-protected/ATMS_SCIENCE_Group___1/P1570515ATMSSCIENCEAAT16002075200501.PDS",
           "title": "P1570515ATMSSCIENCEAAT16002075200501.PDS"
          },
          "metadata__xml": {
           "description": "P1570515ATMSSCIENCEAAT16002075200501.PDS.xml",
           "href": "s3://uds-test-cumulus-protected/ATMS_SCIENCE_Group___1/P1570515ATMSSCIENCEAAT16002075200501.PDS.xml",
           "title": "P1570515ATMSSCIENCEAAT16002075200501.PDS.xml"
          }
         },
         "bbox": [
          0,
          0,
          0,
          0
         ],
         "collection": "L0_SNPP_ATMS_SCIENCE___1",
         "geometry": {
          "coordinates": [
           0,
           0
          ],
          "type": "Point"
         },
         "id": "P1570515ATMSSCIENCEAAT1600207520050",
         "links": [
          {
           "href": ".",
           "rel": "collection"
          }
         ],
         "properties": {
          "created": "2016-01-02T07:52:34.815Z",
          "datetime": "1970-01-01T00:27:38.458822435Z",
          "end_datetime": "2016-01-02T03:59:59.991Z",
          "start_datetime": "2016-01-02T02:00:00.009Z"
         },
         "stac_extensions": [],
         "stac_version": "1.0.0",
         "type": "Feature"
        },
        {
         "assets": {
          "data": {
           "description": "P1570515ATMSSCIENCEAAT16002212445100.PDS",
           "href": "s3://uds-test-cumulus-protected/ATMS_SCIENCE_Group___1/P1570515ATMSSCIENCEAAT16002212445100.PDS",
           "title": "P1570515ATMSSCIENCEAAT16002212445100.PDS"
          },
          "metadata__cmr": {
           "description": "P1570515ATMSSCIENCEAAT16002212445100.PDS.cmr.xml",
           "href": "s3://uds-test-cumulus-private/ATMS_SCIENCE_Group___1/P1570515ATMSSCIENCEAAT16002212445100.PDS.cmr.xml",
           "title": "P1570515ATMSSCIENCEAAT16002212445100.PDS.cmr.xml"
          },
          "metadata__data": {
           "description": "P1570515ATMSSCIENCEAAT16002212445101.PDS",
           "href": "s3://uds-test-cumulus-protected/ATMS_SCIENCE_Group___1/P1570515ATMSSCIENCEAAT16002212445101.PDS",
           "title": "P1570515ATMSSCIENCEAAT16002212445101.PDS"
          },
          "metadata__xml": {
           "description": "P1570515ATMSSCIENCEAAT16002212445101.PDS.xml",
           "href": "s3://uds-test-cumulus-protected/ATMS_SCIENCE_Group___1/P1570515ATMSSCIENCEAAT16002212445101.PDS.xml",
           "title": "P1570515ATMSSCIENCEAAT16002212445101.PDS.xml"
          }
         },
         "bbox": [
          0,
          0,
          0,
          0
         ],
         "collection": "L0_SNPP_ATMS_SCIENCE___1",
         "geometry": {
          "coordinates": [
           0,
           0
          ],
          "type": "Point"
         },
         "id": "P1570515ATMSSCIENCEAAT1600221244510",
         "links": [
          {
           "href": ".",
           "rel": "collection"
          }
         ],
         "properties": {
          "created": "2016-01-02T21:25:19.661Z",
          "datetime": "1970-01-01T00:27:38.458821135Z",
          "end_datetime": "2016-01-02T17:59:59.991Z",
          "start_datetime": "2016-01-02T16:00:00.009Z"
         },
         "stac_extensions": [],
         "stac_version": "1.0.0",
         "type": "Feature"
        },
        {
         "assets": {
          "data": {
           "description": "P1570515ATMSSCIENCEAAT16002093138500.PDS",
           "href": "s3://uds-test-cumulus-protected/ATMS_SCIENCE_Group___1/P1570515ATMSSCIENCEAAT16002093138500.PDS",
           "title": "P1570515ATMSSCIENCEAAT16002093138500.PDS"
          },
          "metadata__cmr": {
           "description": "P1570515ATMSSCIENCEAAT16002093138500.PDS.cmr.xml",
           "href": "s3://uds-test-cumulus-private/ATMS_SCIENCE_Group___1/P1570515ATMSSCIENCEAAT16002093138500.PDS.cmr.xml",
           "title": "P1570515ATMSSCIENCEAAT16002093138500.PDS.cmr.xml"
          },
          "metadata__data": {
           "description": "P1570515ATMSSCIENCEAAT16002093138501.PDS",
           "href": "s3://uds-test-cumulus-protected/ATMS_SCIENCE_Group___1/P1570515ATMSSCIENCEAAT16002093138501.PDS",
           "title": "P1570515ATMSSCIENCEAAT16002093138501.PDS"
          },
          "metadata__xml": {
           "description": "P1570515ATMSSCIENCEAAT16002093138501.PDS.xml",
           "href": "s3://uds-test-cumulus-protected/ATMS_SCIENCE_Group___1/P1570515ATMSSCIENCEAAT16002093138501.PDS.xml",
           "title": "P1570515ATMSSCIENCEAAT16002093138501.PDS.xml"
          }
         },
         "bbox": [
          0,
          0,
          0,
          0
         ],
         "collection": "L0_SNPP_ATMS_SCIENCE___1",
         "geometry": {
          "coordinates": [
           0,
           0
          ],
          "type": "Point"
         },
         "id": "P1570515ATMSSCIENCEAAT1600209313850",
         "links": [
          {
           "href": ".",
           "rel": "collection"
          }
         ],
         "properties": {
          "created": "2016-01-02T09:32:13.352Z",
          "datetime": "1970-01-01T00:27:38.458820594Z",
          "end_datetime": "2016-01-02T05:59:59.991Z",
          "start_datetime": "2016-01-02T04:00:00.009Z"
         },
         "stac_extensions": [],
         "stac_version": "1.0.0",
         "type": "Feature"
        },
        {
         "assets": {
          "data": {
           "description": "P1570515ATMSSCIENCEAAT16002111104500.PDS",
           "href": "s3://uds-test-cumulus-protected/ATMS_SCIENCE_Group___1/P1570515ATMSSCIENCEAAT16002111104500.PDS",
           "title": "P1570515ATMSSCIENCEAAT16002111104500.PDS"
          },
          "metadata__cmr": {
           "description": "P1570515ATMSSCIENCEAAT16002111104500.PDS.cmr.xml",
           "href": "s3://uds-test-cumulus-private/ATMS_SCIENCE_Group___1/P1570515ATMSSCIENCEAAT16002111104500.PDS.cmr.xml",
           "title": "P1570515ATMSSCIENCEAAT16002111104500.PDS.cmr.xml"
          },
          "metadata__data": {
           "description": "P1570515ATMSSCIENCEAAT16002111104501.PDS",
           "href": "s3://uds-test-cumulus-protected/ATMS_SCIENCE_Group___1/P1570515ATMSSCIENCEAAT16002111104501.PDS",
           "title": "P1570515ATMSSCIENCEAAT16002111104501.PDS"
          },
          "metadata__xml": {
           "description": "P1570515ATMSSCIENCEAAT16002111104501.PDS.xml",
           "href": "s3://uds-test-cumulus-protected/ATMS_SCIENCE_Group___1/P1570515ATMSSCIENCEAAT16002111104501.PDS.xml",
           "title": "P1570515ATMSSCIENCEAAT16002111104501.PDS.xml"
          }
         },
         "bbox": [
          0,
          0,
          0,
          0
         ],
         "collection": "L0_SNPP_ATMS_SCIENCE___1",
         "geometry": {
          "coordinates": [
           0,
           0
          ],
          "type": "Point"
         },
         "id": "P1570515ATMSSCIENCEAAT1600211110450",
         "links": [
          {
           "href": ".",
           "rel": "collection"
          }
         ],
         "properties": {
          "created": "2016-01-02T11:11:37.588Z",
          "datetime": "1970-01-01T00:27:38.458820368Z",
          "end_datetime": "2016-01-02T07:59:59.991Z",
          "start_datetime": "2016-01-02T06:00:00.009Z"
         },
         "stac_extensions": [],
         "stac_version": "1.0.0",
         "type": "Feature"
        },
        {
         "assets": {
          "data": {
           "description": "P1570515ATMSSCIENCEAAT16002175730200.PDS",
           "href": "s3://uds-test-cumulus-protected/ATMS_SCIENCE_Group___1/P1570515ATMSSCIENCEAAT16002175730200.PDS",
           "title": "P1570515ATMSSCIENCEAAT16002175730200.PDS"
          },
          "metadata__cmr": {
           "description": "P1570515ATMSSCIENCEAAT16002175730200.PDS.cmr.xml",
           "href": "s3://uds-test-cumulus-private/ATMS_SCIENCE_Group___1/P1570515ATMSSCIENCEAAT16002175730200.PDS.cmr.xml",
           "title": "P1570515ATMSSCIENCEAAT16002175730200.PDS.cmr.xml"
          },
          "metadata__data": {
           "description": "P1570515ATMSSCIENCEAAT16002175730201.PDS",
           "href": "s3://uds-test-cumulus-protected/ATMS_SCIENCE_Group___1/P1570515ATMSSCIENCEAAT16002175730201.PDS",
           "title": "P1570515ATMSSCIENCEAAT16002175730201.PDS"
          },
          "metadata__xml": {
           "description": "P1570515ATMSSCIENCEAAT16002175730201.PDS.xml",
           "href": "s3://uds-test-cumulus-protected/ATMS_SCIENCE_Group___1/P1570515ATMSSCIENCEAAT16002175730201.PDS.xml",
           "title": "P1570515ATMSSCIENCEAAT16002175730201.PDS.xml"
          }
         },
         "bbox": [
          0,
          0,
          0,
          0
         ],
         "collection": "L0_SNPP_ATMS_SCIENCE___1",
         "geometry": {
          "coordinates": [
           0,
           0
          ],
          "type": "Point"
         },
         "id": "P1570515ATMSSCIENCEAAT1600217573020",
         "links": [
          {
           "href": ".",
           "rel": "collection"
          }
         ],
         "properties": {
          "created": "2016-01-02T17:58:05.093Z",
          "datetime": "1970-01-01T00:27:38.458819894Z",
          "end_datetime": "2016-01-02T13:59:59.991Z",
          "start_datetime": "2016-01-02T12:00:00.009Z"
         },
         "stac_extensions": [],
         "stac_version": "1.0.0",
         "type": "Feature"
        },
        {
         "assets": {
          "data": {
           "description": "P1570515ATMSSCIENCEAAT16002061128600.PDS",
           "href": "s3://uds-test-cumulus-protected/ATMS_SCIENCE_Group___1/P1570515ATMSSCIENCEAAT16002061128600.PDS",
           "title": "P1570515ATMSSCIENCEAAT16002061128600.PDS"
          },
          "metadata__cmr": {
           "description": "P1570515ATMSSCIENCEAAT16002061128600.PDS.cmr.xml",
           "href": "s3://uds-test-cumulus-private/ATMS_SCIENCE_Group___1/P1570515ATMSSCIENCEAAT16002061128600.PDS.cmr.xml",
           "title": "P1570515ATMSSCIENCEAAT16002061128600.PDS.cmr.xml"
          },
          "metadata__data": {
           "description": "P1570515ATMSSCIENCEAAT16002061128601.PDS",
           "href": "s3://uds-test-cumulus-protected/ATMS_SCIENCE_Group___1/P1570515ATMSSCIENCEAAT16002061128601.PDS",
           "title": "P1570515ATMSSCIENCEAAT16002061128601.PDS"
          },
          "metadata__xml": {
           "description": "P1570515ATMSSCIENCEAAT16002061128601.PDS.xml",
           "href": "s3://uds-test-cumulus-protected/ATMS_SCIENCE_Group___1/P1570515ATMSSCIENCEAAT16002061128601.PDS.xml",
           "title": "P1570515ATMSSCIENCEAAT16002061128601.PDS.xml"
          }
         },
         "bbox": [
          0,
          0,
          0,
          0
         ],
         "collection": "L0_SNPP_ATMS_SCIENCE___1",
         "geometry": {
          "coordinates": [
           0,
           0
          ],
          "type": "Point"
         },
         "id": "P1570515ATMSSCIENCEAAT1600206112860",
         "links": [
          {
           "href": ".",
           "rel": "collection"
          }
         ],
         "properties": {
          "created": "2016-01-02T06:12:02.891Z",
          "datetime": "1970-01-01T00:27:38.458820023Z",
          "end_datetime": "2016-01-02T01:59:59.991Z",
          "start_datetime": "2016-01-02T00:00:00.009Z"
         },
         "stac_extensions": [],
         "stac_version": "1.0.0",
         "type": "Feature"
        },
        {
         "assets": {
          "data": {
           "description": "P1570515ATMSSCIENCEAAT16003004846000.PDS",
           "href": "s3://uds-test-cumulus-protected/ATMS_SCIENCE_Group___1/P1570515ATMSSCIENCEAAT16003004846000.PDS",
           "title": "P1570515ATMSSCIENCEAAT16003004846000.PDS"
          },
          "metadata__cmr": {
           "description": "P1570515ATMSSCIENCEAAT16003004846000.PDS.cmr.xml",
           "href": "s3://uds-test-cumulus-private/ATMS_SCIENCE_Group___1/P1570515ATMSSCIENCEAAT16003004846000.PDS.cmr.xml",
           "title": "P1570515ATMSSCIENCEAAT16003004846000.PDS.cmr.xml"
          },
          "metadata__data": {
           "description": "P1570515ATMSSCIENCEAAT16003004846001.PDS",
           "href": "s3://uds-test-cumulus-protected/ATMS_SCIENCE_Group___1/P1570515ATMSSCIENCEAAT16003004846001.PDS",
           "title": "P1570515ATMSSCIENCEAAT16003004846001.PDS"
          },
          "metadata__xml": {
           "description": "P1570515ATMSSCIENCEAAT16003004846001.PDS.xml",
           "href": "s3://uds-test-cumulus-protected/ATMS_SCIENCE_Group___1/P1570515ATMSSCIENCEAAT16003004846001.PDS.xml",
           "title": "P1570515ATMSSCIENCEAAT16003004846001.PDS.xml"
          }
         },
         "bbox": [
          0,
          0,
          0,
          0
         ],
         "collection": "L0_SNPP_ATMS_SCIENCE___1",
         "geometry": {
          "coordinates": [
           0,
           0
          ],
          "type": "Point"
         },
         "id": "P1570515ATMSSCIENCEAAT1600300484600",
         "links": [
          {
           "href": ".",
           "rel": "collection"
          }
         ],
         "properties": {
          "created": "2016-01-03T00:49:20.784Z",
          "datetime": "1970-01-01T00:27:38.458817805Z",
          "end_datetime": "2016-01-02T21:59:59.991Z",
          "start_datetime": "2016-01-02T20:00:00.009Z"
         },
         "stac_extensions": [],
         "stac_version": "1.0.0",
         "type": "Feature"
        },
        {
         "assets": {
          "data": {
           "description": "P1570515ATMSSCIENCEAAT16003041107900.PDS",
           "href": "s3://uds-test-cumulus-protected/ATMS_SCIENCE_Group___1/P1570515ATMSSCIENCEAAT16003041107900.PDS",
           "title": "P1570515ATMSSCIENCEAAT16003041107900.PDS"
          },
          "metadata__cmr": {
           "description": "P1570515ATMSSCIENCEAAT16003041107900.PDS.cmr.xml",
           "href": "s3://uds-test-cumulus-private/ATMS_SCIENCE_Group___1/P1570515ATMSSCIENCEAAT16003041107900.PDS.cmr.xml",
           "title": "P1570515ATMSSCIENCEAAT16003041107900.PDS.cmr.xml"
          },
          "metadata__data": {
           "description": "P1570515ATMSSCIENCEAAT16003041107901.PDS",
           "href": "s3://uds-test-cumulus-protected/ATMS_SCIENCE_Group___1/P1570515ATMSSCIENCEAAT16003041107901.PDS",
           "title": "P1570515ATMSSCIENCEAAT16003041107901.PDS"
          },
          "metadata__xml": {
           "description": "P1570515ATMSSCIENCEAAT16003041107901.PDS.xml",
           "href": "s3://uds-test-cumulus-protected/ATMS_SCIENCE_Group___1/P1570515ATMSSCIENCEAAT16003041107901.PDS.xml",
           "title": "P1570515ATMSSCIENCEAAT16003041107901.PDS.xml"
          }
         },
         "bbox": [
          0,
          0,
          0,
          0
         ],
         "collection": "L0_SNPP_ATMS_SCIENCE___1",
         "geometry": {
          "coordinates": [
           0,
           0
          ],
          "type": "Point"
         },
         "id": "P1570515ATMSSCIENCEAAT1600304110790",
         "links": [
          {
           "href": ".",
           "rel": "collection"
          }
         ],
         "properties": {
          "created": "2016-01-03T04:11:42.417Z",
          "datetime": "1970-01-01T00:27:38.458817894Z",
          "end_datetime": "2016-01-02T23:59:59.991Z",
          "start_datetime": "2016-01-02T22:00:00.009Z"
         },
         "stac_extensions": [],
         "stac_version": "1.0.0",
         "type": "Feature"
        },
        {
         "assets": {
          "data": {
           "description": "P1570515ATMSSCIENCEAAT16002230716000.PDS",
           "href": "s3://uds-test-cumulus-protected/ATMS_SCIENCE_Group___1/P1570515ATMSSCIENCEAAT16002230716000.PDS",
           "title": "P1570515ATMSSCIENCEAAT16002230716000.PDS"
          },
          "metadata__cmr": {
           "description": "P1570515ATMSSCIENCEAAT16002230716000.PDS.cmr.xml",
           "href": "s3://uds-test-cumulus-private/ATMS_SCIENCE_Group___1/P1570515ATMSSCIENCEAAT16002230716000.PDS.cmr.xml",
           "title": "P1570515ATMSSCIENCEAAT16002230716000.PDS.cmr.xml"
          },
          "metadata__data": {
           "description": "P1570515ATMSSCIENCEAAT16002230716001.PDS",
           "href": "s3://uds-test-cumulus-protected/ATMS_SCIENCE_Group___1/P1570515ATMSSCIENCEAAT16002230716001.PDS",
           "title": "P1570515ATMSSCIENCEAAT16002230716001.PDS"
          },
          "metadata__xml": {
           "description": "P1570515ATMSSCIENCEAAT16002230716001.PDS.xml",
           "href": "s3://uds-test-cumulus-protected/ATMS_SCIENCE_Group___1/P1570515ATMSSCIENCEAAT16002230716001.PDS.xml",
           "title": "P1570515ATMSSCIENCEAAT16002230716001.PDS.xml"
          }
         },
         "bbox": [
          0,
          0,
          0,
          0
         ],
         "collection": "L0_SNPP_ATMS_SCIENCE___1",
         "geometry": {
          "coordinates": [
           0,
           0
          ],
          "type": "Point"
         },
         "id": "P1570515ATMSSCIENCEAAT1600223071600",
         "links": [
          {
           "href": ".",
           "rel": "collection"
          }
         ],
         "properties": {
          "created": "2016-01-02T23:07:50.600Z",
          "datetime": "1970-01-01T00:27:38.458818168Z",
          "end_datetime": "2016-01-02T19:59:59.991Z",
          "start_datetime": "2016-01-02T18:00:00.009Z"
         },
         "stac_extensions": [],
         "stac_version": "1.0.0",
         "type": "Feature"
        },
        {
         "assets": {
          "data": {
           "description": "P1570515ATMSSCIENCEAAT16002161551900.PDS",
           "href": "s3://uds-test-cumulus-protected/ATMS_SCIENCE_Group___1/P1570515ATMSSCIENCEAAT16002161551900.PDS",
           "title": "P1570515ATMSSCIENCEAAT16002161551900.PDS"
          },
          "metadata__cmr": {
           "description": "P1570515ATMSSCIENCEAAT16002161551900.PDS.cmr.xml",
           "href": "s3://uds-test-cumulus-private/ATMS_SCIENCE_Group___1/P1570515ATMSSCIENCEAAT16002161551900.PDS.cmr.xml",
           "title": "P1570515ATMSSCIENCEAAT16002161551900.PDS.cmr.xml"
          },
          "metadata__data": {
           "description": "P1570515ATMSSCIENCEAAT16002161551901.PDS",
           "href": "s3://uds-test-cumulus-protected/ATMS_SCIENCE_Group___1/P1570515ATMSSCIENCEAAT16002161551901.PDS",
           "title": "P1570515ATMSSCIENCEAAT16002161551901.PDS"
          },
          "metadata__xml": {
           "description": "P1570515ATMSSCIENCEAAT16002161551901.PDS.xml",
           "href": "s3://uds-test-cumulus-protected/ATMS_SCIENCE_Group___1/P1570515ATMSSCIENCEAAT16002161551901.PDS.xml",
           "title": "P1570515ATMSSCIENCEAAT16002161551901.PDS.xml"
          }
         },
         "bbox": [
          0,
          0,
          0,
          0
         ],
         "collection": "L0_SNPP_ATMS_SCIENCE___1",
         "geometry": {
          "coordinates": [
           0,
           0
          ],
          "type": "Point"
         },
         "id": "P1570515ATMSSCIENCEAAT1600216155190",
         "links": [
          {
           "href": ".",
           "rel": "collection"
          }
         ],
         "properties": {
          "created": "2016-01-02T16:16:26.782Z",
          "datetime": "1970-01-01T00:27:38.458815936Z",
          "end_datetime": "2016-01-02T11:59:59.991Z",
          "start_datetime": "2016-01-02T10:00:00.009Z"
         },
         "stac_extensions": [],
         "stac_version": "1.0.0",
         "type": "Feature"
        },
        {
         "assets": {
          "data": {
           "description": "P1570515ATMSSCIENCEAAT16002194153900.PDS",
           "href": "s3://uds-test-cumulus-protected/ATMS_SCIENCE_Group___1/P1570515ATMSSCIENCEAAT16002194153900.PDS",
           "title": "P1570515ATMSSCIENCEAAT16002194153900.PDS"
          },
          "metadata__cmr": {
           "description": "P1570515ATMSSCIENCEAAT16002194153900.PDS.cmr.xml",
           "href": "s3://uds-test-cumulus-private/ATMS_SCIENCE_Group___1/P1570515ATMSSCIENCEAAT16002194153900.PDS.cmr.xml",
           "title": "P1570515ATMSSCIENCEAAT16002194153900.PDS.cmr.xml"
          },
          "metadata__data": {
           "description": "P1570515ATMSSCIENCEAAT16002194153901.PDS",
           "href": "s3://uds-test-cumulus-protected/ATMS_SCIENCE_Group___1/P1570515ATMSSCIENCEAAT16002194153901.PDS",
           "title": "P1570515ATMSSCIENCEAAT16002194153901.PDS"
          },
          "metadata__xml": {
           "description": "P1570515ATMSSCIENCEAAT16002194153901.PDS.xml",
           "href": "s3://uds-test-cumulus-protected/ATMS_SCIENCE_Group___1/P1570515ATMSSCIENCEAAT16002194153901.PDS.xml",
           "title": "P1570515ATMSSCIENCEAAT16002194153901.PDS.xml"
          }
         },
         "bbox": [
          0,
          0,
          0,
          0
         ],
         "collection": "L0_SNPP_ATMS_SCIENCE___1",
         "geometry": {
          "coordinates": [
           0,
           0
          ],
          "type": "Point"
         },
         "id": "P1570515ATMSSCIENCEAAT1600219415390",
         "links": [
          {
           "href": ".",
           "rel": "collection"
          }
         ],
         "properties": {
          "created": "2016-01-02T19:42:26.775Z",
          "datetime": "1970-01-01T00:27:38.458816475Z",
          "end_datetime": "2016-01-02T15:59:59.991Z",
          "start_datetime": "2016-01-02T14:00:00.009Z"
         },
         "stac_extensions": [],
         "stac_version": "1.0.0",
         "type": "Feature"
        },
        {
         "assets": {
          "data": {
           "description": "P1570515ATMSSCIENCEAAT16002125244200.PDS",
           "href": "s3://uds-test-cumulus-protected/ATMS_SCIENCE_Group___1/P1570515ATMSSCIENCEAAT16002125244200.PDS",
           "title": "P1570515ATMSSCIENCEAAT16002125244200.PDS"
          },
          "metadata__cmr": {
           "description": "P1570515ATMSSCIENCEAAT16002125244200.PDS.cmr.xml",
           "href": "s3://uds-test-cumulus-private/ATMS_SCIENCE_Group___1/P1570515ATMSSCIENCEAAT16002125244200.PDS.cmr.xml",
           "title": "P1570515ATMSSCIENCEAAT16002125244200.PDS.cmr.xml"
          },
          "metadata__data": {
           "description": "P1570515ATMSSCIENCEAAT16002125244201.PDS",
           "href": "s3://uds-test-cumulus-protected/ATMS_SCIENCE_Group___1/P1570515ATMSSCIENCEAAT16002125244201.PDS",
           "title": "P1570515ATMSSCIENCEAAT16002125244201.PDS"
          },
          "metadata__xml": {
           "description": "P1570515ATMSSCIENCEAAT16002125244201.PDS.xml",
           "href": "s3://uds-test-cumulus-protected/ATMS_SCIENCE_Group___1/P1570515ATMSSCIENCEAAT16002125244201.PDS.xml",
           "title": "P1570515ATMSSCIENCEAAT16002125244201.PDS.xml"
          }
         },
         "bbox": [
          0,
          0,
          0,
          0
         ],
         "collection": "L0_SNPP_ATMS_SCIENCE___1",
         "geometry": {
          "coordinates": [
           0,
           0
          ],
          "type": "Point"
         },
         "id": "P1570515ATMSSCIENCEAAT1600212524420",
         "links": [
          {
           "href": ".",
           "rel": "collection"
          }
         ],
         "properties": {
          "created": "2016-01-02T12:53:19.610Z",
          "datetime": "1970-01-01T00:27:38.458815575Z",
          "end_datetime": "2016-01-02T09:59:59.991Z",
          "start_datetime": "2016-01-02T08:00:00.009Z"
         },
         "stac_extensions": [],
         "stac_version": "1.0.0",
         "type": "Feature"
        },
        {
         "assets": {
          "data": {
           "description": "P1570515ATMSSCIENCEAAT16003224754000.PDS",
           "href": "s3://uds-test-cumulus-protected/ATMS_SCIENCE_Group___1/P1570515ATMSSCIENCEAAT16003224754000.PDS",
           "title": "P1570515ATMSSCIENCEAAT16003224754000.PDS"
          },
          "metadata__cmr": {
           "description": "P1570515ATMSSCIENCEAAT16003224754000.PDS.cmr.xml",
           "href": "s3://uds-test-cumulus-private/ATMS_SCIENCE_Group___1/P1570515ATMSSCIENCEAAT16003224754000.PDS.cmr.xml",
           "title": "P1570515ATMSSCIENCEAAT16003224754000.PDS.cmr.xml"
          },
          "metadata__data": {
           "description": "P1570515ATMSSCIENCEAAT16003224754001.PDS",
           "href": "s3://uds-test-cumulus-protected/ATMS_SCIENCE_Group___1/P1570515ATMSSCIENCEAAT16003224754001.PDS",
           "title": "P1570515ATMSSCIENCEAAT16003224754001.PDS"
          },
          "metadata__xml": {
           "description": "P1570515ATMSSCIENCEAAT16003224754001.PDS.xml",
           "href": "s3://uds-test-cumulus-protected/ATMS_SCIENCE_Group___1/P1570515ATMSSCIENCEAAT16003224754001.PDS.xml",
           "title": "P1570515ATMSSCIENCEAAT16003224754001.PDS.xml"
          }
         },
         "bbox": [
          0,
          0,
          0,
          0
         ],
         "collection": "L0_SNPP_ATMS_SCIENCE___1",
         "geometry": {
          "coordinates": [
           0,
           0
          ],
          "type": "Point"
         },
         "id": "P1570515ATMSSCIENCEAAT1600322475400",
         "links": [
          {
           "href": ".",
           "rel": "collection"
          }
         ],
         "properties": {
          "created": "2016-01-03T22:48:28.502Z",
          "datetime": "1970-01-01T00:27:38.458789121Z",
          "end_datetime": "2016-01-03T19:59:59.991Z",
          "start_datetime": "2016-01-03T18:00:00.009Z"
         },
         "stac_extensions": [],
         "stac_version": "1.0.0",
         "type": "Feature"
        },
        {
         "assets": {
          "data": {
           "description": "P1570515ATMSSCIENCEAAT16004035221400.PDS",
           "href": "s3://uds-test-cumulus-protected/ATMS_SCIENCE_Group___1/P1570515ATMSSCIENCEAAT16004035221400.PDS",
           "title": "P1570515ATMSSCIENCEAAT16004035221400.PDS"
          },
          "metadata__cmr": {
           "description": "P1570515ATMSSCIENCEAAT16004035221400.PDS.cmr.xml",
           "href": "s3://uds-test-cumulus-private/ATMS_SCIENCE_Group___1/P1570515ATMSSCIENCEAAT16004035221400.PDS.cmr.xml",
           "title": "P1570515ATMSSCIENCEAAT16004035221400.PDS.cmr.xml"
          },
          "metadata__data": {
           "description": "P1570515ATMSSCIENCEAAT16004035221401.PDS",
           "href": "s3://uds-test-cumulus-protected/ATMS_SCIENCE_Group___1/P1570515ATMSSCIENCEAAT16004035221401.PDS",
           "title": "P1570515ATMSSCIENCEAAT16004035221401.PDS"
          },
          "metadata__xml": {
           "description": "P1570515ATMSSCIENCEAAT16004035221401.PDS.xml",
           "href": "s3://uds-test-cumulus-protected/ATMS_SCIENCE_Group___1/P1570515ATMSSCIENCEAAT16004035221401.PDS.xml",
           "title": "P1570515ATMSSCIENCEAAT16004035221401.PDS.xml"
          }
         },
         "bbox": [
          0,
          0,
          0,
          0
         ],
         "collection": "L0_SNPP_ATMS_SCIENCE___1",
         "geometry": {
          "coordinates": [
           0,
           0
          ],
          "type": "Point"
         },
         "id": "P1570515ATMSSCIENCEAAT1600403522140",
         "links": [
          {
           "href": ".",
           "rel": "collection"
          }
         ],
         "properties": {
          "created": "2016-01-04T03:52:55.296Z",
          "datetime": "1970-01-01T00:27:38.458786033Z",
          "end_datetime": "2016-01-03T23:59:59.991Z",
          "start_datetime": "2016-01-03T22:00:00.009Z"
         },
         "stac_extensions": [],
         "stac_version": "1.0.0",
         "type": "Feature"
        },
        {
         "assets": {
          "data": {
           "description": "P1570515ATMSSCIENCEAAT16003210558100.PDS",
           "href": "s3://uds-test-cumulus-protected/ATMS_SCIENCE_Group___1/P1570515ATMSSCIENCEAAT16003210558100.PDS",
           "title": "P1570515ATMSSCIENCEAAT16003210558100.PDS"
          },
          "metadata__cmr": {
           "description": "P1570515ATMSSCIENCEAAT16003210558100.PDS.cmr.xml",
           "href": "s3://uds-test-cumulus-private/ATMS_SCIENCE_Group___1/P1570515ATMSSCIENCEAAT16003210558100.PDS.cmr.xml",
           "title": "P1570515ATMSSCIENCEAAT16003210558100.PDS.cmr.xml"
          },
          "metadata__data": {
           "description": "P1570515ATMSSCIENCEAAT16003210558101.PDS",
           "href": "s3://uds-test-cumulus-protected/ATMS_SCIENCE_Group___1/P1570515ATMSSCIENCEAAT16003210558101.PDS",
           "title": "P1570515ATMSSCIENCEAAT16003210558101.PDS"
          },
          "metadata__xml": {
           "description": "P1570515ATMSSCIENCEAAT16003210558101.PDS.xml",
           "href": "s3://uds-test-cumulus-protected/ATMS_SCIENCE_Group___1/P1570515ATMSSCIENCEAAT16003210558101.PDS.xml",
           "title": "P1570515ATMSSCIENCEAAT16003210558101.PDS.xml"
          }
         },
         "bbox": [
          0,
          0,
          0,
          0
         ],
         "collection": "L0_SNPP_ATMS_SCIENCE___1",
         "geometry": {
          "coordinates": [
           0,
           0
          ],
          "type": "Point"
         },
         "id": "P1570515ATMSSCIENCEAAT1600321055810",
         "links": [
          {
           "href": ".",
           "rel": "collection"
          }
         ],
         "properties": {
          "created": "2016-01-03T21:06:32.555Z",
          "datetime": "1970-01-01T00:27:38.458784855Z",
          "end_datetime": "2016-01-03T17:59:59.991Z",
          "start_datetime": "2016-01-03T16:00:00.009Z"
         },
         "stac_extensions": [],
         "stac_version": "1.0.0",
         "type": "Feature"
        },
        {
         "assets": {
          "data": {
           "description": "P1570515ATMSSCIENCEAAT16003105535500.PDS",
           "href": "s3://uds-test-cumulus-protected/ATMS_SCIENCE_Group___1/P1570515ATMSSCIENCEAAT16003105535500.PDS",
           "title": "P1570515ATMSSCIENCEAAT16003105535500.PDS"
          },
          "metadata__cmr": {
           "description": "P1570515ATMSSCIENCEAAT16003105535500.PDS.cmr.xml",
           "href": "s3://uds-test-cumulus-private/ATMS_SCIENCE_Group___1/P1570515ATMSSCIENCEAAT16003105535500.PDS.cmr.xml",
           "title": "P1570515ATMSSCIENCEAAT16003105535500.PDS.cmr.xml"
          },
          "metadata__data": {
           "description": "P1570515ATMSSCIENCEAAT16003105535501.PDS",
           "href": "s3://uds-test-cumulus-protected/ATMS_SCIENCE_Group___1/P1570515ATMSSCIENCEAAT16003105535501.PDS",
           "title": "P1570515ATMSSCIENCEAAT16003105535501.PDS"
          },
          "metadata__xml": {
           "description": "P1570515ATMSSCIENCEAAT16003105535501.PDS.xml",
           "href": "s3://uds-test-cumulus-protected/ATMS_SCIENCE_Group___1/P1570515ATMSSCIENCEAAT16003105535501.PDS.xml",
           "title": "P1570515ATMSSCIENCEAAT16003105535501.PDS.xml"
          }
         },
         "bbox": [
          0,
          0,
          0,
          0
         ],
         "collection": "L0_SNPP_ATMS_SCIENCE___1",
         "geometry": {
          "coordinates": [
           0,
           0
          ],
          "type": "Point"
         },
         "id": "P1570515ATMSSCIENCEAAT1600310553550",
         "links": [
          {
           "href": ".",
           "rel": "collection"
          }
         ],
         "properties": {
          "created": "2016-01-03T10:56:09.358Z",
          "datetime": "1970-01-01T00:27:38.458784754Z",
          "end_datetime": "2016-01-03T07:59:59.991Z",
          "start_datetime": "2016-01-03T06:00:00.009Z"
         },
         "stac_extensions": [],
         "stac_version": "1.0.0",
         "type": "Feature"
        },
        {
         "assets": {
          "data": {
           "description": "P1570515ATMSSCIENCEAAT16003173820800.PDS",
           "href": "s3://uds-test-cumulus-protected/ATMS_SCIENCE_Group___1/P1570515ATMSSCIENCEAAT16003173820800.PDS",
           "title": "P1570515ATMSSCIENCEAAT16003173820800.PDS"
          },
          "metadata__cmr": {
           "description": "P1570515ATMSSCIENCEAAT16003173820800.PDS.cmr.xml",
           "href": "s3://uds-test-cumulus-private/ATMS_SCIENCE_Group___1/P1570515ATMSSCIENCEAAT16003173820800.PDS.cmr.xml",
           "title": "P1570515ATMSSCIENCEAAT16003173820800.PDS.cmr.xml"
          },
          "metadata__data": {
           "description": "P1570515ATMSSCIENCEAAT16003173820801.PDS",
           "href": "s3://uds-test-cumulus-protected/ATMS_SCIENCE_Group___1/P1570515ATMSSCIENCEAAT16003173820801.PDS",
           "title": "P1570515ATMSSCIENCEAAT16003173820801.PDS"
          },
          "metadata__xml": {
           "description": "P1570515ATMSSCIENCEAAT16003173820801.PDS.xml",
           "href": "s3://uds-test-cumulus-protected/ATMS_SCIENCE_Group___1/P1570515ATMSSCIENCEAAT16003173820801.PDS.xml",
           "title": "P1570515ATMSSCIENCEAAT16003173820801.PDS.xml"
          }
         },
         "bbox": [
          0,
          0,
          0,
          0
         ],
         "collection": "L0_SNPP_ATMS_SCIENCE___1",
         "geometry": {
          "coordinates": [
           0,
           0
          ],
          "type": "Point"
         },
         "id": "P1570515ATMSSCIENCEAAT1600317382080",
         "links": [
          {
           "href": ".",
           "rel": "collection"
          }
         ],
         "properties": {
          "created": "2016-01-03T17:38:53.753Z",
          "datetime": "1970-01-01T00:27:38.458784325Z",
          "end_datetime": "2016-01-03T13:59:59.991Z",
          "start_datetime": "2016-01-03T12:00:00.009Z"
         },
         "stac_extensions": [],
         "stac_version": "1.0.0",
         "type": "Feature"
        },
        {
         "assets": {
          "data": {
           "description": "P1570515ATMSSCIENCEAAT16004021106400.PDS",
           "href": "s3://uds-test-cumulus-protected/ATMS_SCIENCE_Group___1/P1570515ATMSSCIENCEAAT16004021106400.PDS",
           "title": "P1570515ATMSSCIENCEAAT16004021106400.PDS"
          },
          "metadata__cmr": {
           "description": "P1570515ATMSSCIENCEAAT16004021106400.PDS.cmr.xml",
           "href": "s3://uds-test-cumulus-private/ATMS_SCIENCE_Group___1/P1570515ATMSSCIENCEAAT16004021106400.PDS.cmr.xml",
           "title": "P1570515ATMSSCIENCEAAT16004021106400.PDS.cmr.xml"
          },
          "metadata__data": {
           "description": "P1570515ATMSSCIENCEAAT16004021106401.PDS",
           "href": "s3://uds-test-cumulus-protected/ATMS_SCIENCE_Group___1/P1570515ATMSSCIENCEAAT16004021106401.PDS",
           "title": "P1570515ATMSSCIENCEAAT16004021106401.PDS"
          },
          "metadata__xml": {
           "description": "P1570515ATMSSCIENCEAAT16004021106401.PDS.xml",
           "href": "s3://uds-test-cumulus-protected/ATMS_SCIENCE_Group___1/P1570515ATMSSCIENCEAAT16004021106401.PDS.xml",
           "title": "P1570515ATMSSCIENCEAAT16004021106401.PDS.xml"
          }
         },
         "bbox": [
          0,
          0,
          0,
          0
         ],
         "collection": "L0_SNPP_ATMS_SCIENCE___1",
         "geometry": {
          "coordinates": [
           0,
           0
          ],
          "type": "Point"
         },
         "id": "P1570515ATMSSCIENCEAAT1600402110640",
         "links": [
          {
           "href": ".",
           "rel": "collection"
          }
         ],
         "properties": {
          "created": "2016-01-04T02:11:40.960Z",
          "datetime": "1970-01-01T00:27:38.458784094Z",
          "end_datetime": "2016-01-03T21:59:59.991Z",
          "start_datetime": "2016-01-03T20:00:00.009Z"
         },
         "stac_extensions": [],
         "stac_version": "1.0.0",
         "type": "Feature"
        },
        {
         "assets": {
          "data": {
           "description": "P1570515ATMSSCIENCEAAT16003141523000.PDS",
           "href": "s3://uds-test-cumulus-protected/ATMS_SCIENCE_Group___1/P1570515ATMSSCIENCEAAT16003141523000.PDS",
           "title": "P1570515ATMSSCIENCEAAT16003141523000.PDS"
          },
          "metadata__cmr": {
           "description": "P1570515ATMSSCIENCEAAT16003141523000.PDS.cmr.xml",
           "href": "s3://uds-test-cumulus-private/ATMS_SCIENCE_Group___1/P1570515ATMSSCIENCEAAT16003141523000.PDS.cmr.xml",
           "title": "P1570515ATMSSCIENCEAAT16003141523000.PDS.cmr.xml"
          },
          "metadata__data": {
           "description": "P1570515ATMSSCIENCEAAT16003141523001.PDS",
           "href": "s3://uds-test-cumulus-protected/ATMS_SCIENCE_Group___1/P1570515ATMSSCIENCEAAT16003141523001.PDS",
           "title": "P1570515ATMSSCIENCEAAT16003141523001.PDS"
          },
          "metadata__xml": {
           "description": "P1570515ATMSSCIENCEAAT16003141523001.PDS.xml",
           "href": "s3://uds-test-cumulus-protected/ATMS_SCIENCE_Group___1/P1570515ATMSSCIENCEAAT16003141523001.PDS.xml",
           "title": "P1570515ATMSSCIENCEAAT16003141523001.PDS.xml"
          }
         },
         "bbox": [
          0,
          0,
          0,
          0
         ],
         "collection": "L0_SNPP_ATMS_SCIENCE___1",
         "geometry": {
          "coordinates": [
           0,
           0
          ],
          "type": "Point"
         },
         "id": "P1570515ATMSSCIENCEAAT1600314152300",
         "links": [
          {
           "href": ".",
           "rel": "collection"
          }
         ],
         "properties": {
          "created": "2016-01-03T14:15:58.488Z",
          "datetime": "1970-01-01T00:27:38.458783987Z",
          "end_datetime": "2016-01-03T09:59:59.991Z",
          "start_datetime": "2016-01-03T08:00:00.009Z"
         },
         "stac_extensions": [],
         "stac_version": "1.0.0",
         "type": "Feature"
        },
        {
         "assets": {
          "data": {
           "description": "P1570515ATMSSCIENCEAAT16003155712900.PDS",
           "href": "s3://uds-test-cumulus-protected/ATMS_SCIENCE_Group___1/P1570515ATMSSCIENCEAAT16003155712900.PDS",
           "title": "P1570515ATMSSCIENCEAAT16003155712900.PDS"
          },
          "metadata__cmr": {
           "description": "P1570515ATMSSCIENCEAAT16003155712900.PDS.cmr.xml",
           "href": "s3://uds-test-cumulus-private/ATMS_SCIENCE_Group___1/P1570515ATMSSCIENCEAAT16003155712900.PDS.cmr.xml",
           "title": "P1570515ATMSSCIENCEAAT16003155712900.PDS.cmr.xml"
          },
          "metadata__data": {
           "description": "P1570515ATMSSCIENCEAAT16003155712901.PDS",
           "href": "s3://uds-test-cumulus-protected/ATMS_SCIENCE_Group___1/P1570515ATMSSCIENCEAAT16003155712901.PDS",
           "title": "P1570515ATMSSCIENCEAAT16003155712901.PDS"
          },
          "metadata__xml": {
           "description": "P1570515ATMSSCIENCEAAT16003155712901.PDS.xml",
           "href": "s3://uds-test-cumulus-protected/ATMS_SCIENCE_Group___1/P1570515ATMSSCIENCEAAT16003155712901.PDS.xml",
           "title": "P1570515ATMSSCIENCEAAT16003155712901.PDS.xml"
          }
         },
         "bbox": [
          0,
          0,
          0,
          0
         ],
         "collection": "L0_SNPP_ATMS_SCIENCE___1",
         "geometry": {
          "coordinates": [
           0,
           0
          ],
          "type": "Point"
         },
         "id": "P1570515ATMSSCIENCEAAT1600315571290",
         "links": [
          {
           "href": ".",
           "rel": "collection"
          }
         ],
         "properties": {
          "created": "2016-01-03T15:57:45.928Z",
          "datetime": "1970-01-01T00:27:38.458783808Z",
          "end_datetime": "2016-01-03T11:59:59.991Z",
          "start_datetime": "2016-01-03T10:00:00.009Z"
         },
         "stac_extensions": [],
         "stac_version": "1.0.0",
         "type": "Feature"
        },
        {
         "assets": {
          "data": {
           "description": "P1570515ATMSSCIENCEAAT16003192222400.PDS",
           "href": "s3://uds-test-cumulus-protected/ATMS_SCIENCE_Group___1/P1570515ATMSSCIENCEAAT16003192222400.PDS",
           "title": "P1570515ATMSSCIENCEAAT16003192222400.PDS"
          },
          "metadata__cmr": {
           "description": "P1570515ATMSSCIENCEAAT16003192222400.PDS.cmr.xml",
           "href": "s3://uds-test-cumulus-private/ATMS_SCIENCE_Group___1/P1570515ATMSSCIENCEAAT16003192222400.PDS.cmr.xml",
           "title": "P1570515ATMSSCIENCEAAT16003192222400.PDS.cmr.xml"
          },
          "metadata__data": {
           "description": "P1570515ATMSSCIENCEAAT16003192222401.PDS",
           "href": "s3://uds-test-cumulus-protected/ATMS_SCIENCE_Group___1/P1570515ATMSSCIENCEAAT16003192222401.PDS",
           "title": "P1570515ATMSSCIENCEAAT16003192222401.PDS"
          },
          "metadata__xml": {
           "description": "P1570515ATMSSCIENCEAAT16003192222401.PDS.xml",
           "href": "s3://uds-test-cumulus-protected/ATMS_SCIENCE_Group___1/P1570515ATMSSCIENCEAAT16003192222401.PDS.xml",
           "title": "P1570515ATMSSCIENCEAAT16003192222401.PDS.xml"
          }
         },
         "bbox": [
          0,
          0,
          0,
          0
         ],
         "collection": "L0_SNPP_ATMS_SCIENCE___1",
         "geometry": {
          "coordinates": [
           0,
           0
          ],
          "type": "Point"
         },
         "id": "P1570515ATMSSCIENCEAAT1600319222240",
         "links": [
          {
           "href": ".",
           "rel": "collection"
          }
         ],
         "properties": {
          "created": "2016-01-03T19:22:57.231Z",
          "datetime": "1970-01-01T00:27:38.458783722Z",
          "end_datetime": "2016-01-03T15:59:59.991Z",
          "start_datetime": "2016-01-03T14:00:00.009Z"
         },
         "stac_extensions": [],
         "stac_version": "1.0.0",
         "type": "Feature"
        },
        {
         "assets": {
          "data": {
           "description": "P1570515ATMSSCIENCEAAT16003091430700.PDS",
           "href": "s3://uds-test-cumulus-protected/ATMS_SCIENCE_Group___1/P1570515ATMSSCIENCEAAT16003091430700.PDS",
           "title": "P1570515ATMSSCIENCEAAT16003091430700.PDS"
          },
          "metadata__cmr": {
           "description": "P1570515ATMSSCIENCEAAT16003091430700.PDS.cmr.xml",
           "href": "s3://uds-test-cumulus-private/ATMS_SCIENCE_Group___1/P1570515ATMSSCIENCEAAT16003091430700.PDS.cmr.xml",
           "title": "P1570515ATMSSCIENCEAAT16003091430700.PDS.cmr.xml"
          },
          "metadata__data": {
           "description": "P1570515ATMSSCIENCEAAT16003091430701.PDS",
           "href": "s3://uds-test-cumulus-protected/ATMS_SCIENCE_Group___1/P1570515ATMSSCIENCEAAT16003091430701.PDS",
           "title": "P1570515ATMSSCIENCEAAT16003091430701.PDS"
          },
          "metadata__xml": {
           "description": "P1570515ATMSSCIENCEAAT16003091430701.PDS.xml",
           "href": "s3://uds-test-cumulus-protected/ATMS_SCIENCE_Group___1/P1570515ATMSSCIENCEAAT16003091430701.PDS.xml",
           "title": "P1570515ATMSSCIENCEAAT16003091430701.PDS.xml"
          }
         },
         "bbox": [
          0,
          0,
          0,
          0
         ],
         "collection": "L0_SNPP_ATMS_SCIENCE___1",
         "geometry": {
          "coordinates": [
           0,
           0
          ],
          "type": "Point"
         },
         "id": "P1570515ATMSSCIENCEAAT1600309143070",
         "links": [
          {
           "href": ".",
           "rel": "collection"
          }
         ],
         "properties": {
          "created": "2016-01-03T09:15:05.245Z",
          "datetime": "1970-01-01T00:27:38.458783333Z",
          "end_datetime": "2016-01-03T05:59:59.991Z",
          "start_datetime": "2016-01-03T04:00:00.009Z"
         },
         "stac_extensions": [],
         "stac_version": "1.0.0",
         "type": "Feature"
        },
        {
         "assets": {
          "data": {
           "description": "P1570515ATMSSCIENCEAAT16003073258300.PDS",
           "href": "s3://uds-test-cumulus-protected/ATMS_SCIENCE_Group___1/P1570515ATMSSCIENCEAAT16003073258300.PDS",
           "title": "P1570515ATMSSCIENCEAAT16003073258300.PDS"
          },
          "metadata__cmr": {
           "description": "P1570515ATMSSCIENCEAAT16003073258300.PDS.cmr.xml",
           "href": "s3://uds-test-cumulus-private/ATMS_SCIENCE_Group___1/P1570515ATMSSCIENCEAAT16003073258300.PDS.cmr.xml",
           "title": "P1570515ATMSSCIENCEAAT16003073258300.PDS.cmr.xml"
          },
          "metadata__data": {
           "description": "P1570515ATMSSCIENCEAAT16003073258301.PDS",
           "href": "s3://uds-test-cumulus-protected/ATMS_SCIENCE_Group___1/P1570515ATMSSCIENCEAAT16003073258301.PDS",
           "title": "P1570515ATMSSCIENCEAAT16003073258301.PDS"
          },
          "metadata__xml": {
           "description": "P1570515ATMSSCIENCEAAT16003073258301.PDS.xml",
           "href": "s3://uds-test-cumulus-protected/ATMS_SCIENCE_Group___1/P1570515ATMSSCIENCEAAT16003073258301.PDS.xml",
           "title": "P1570515ATMSSCIENCEAAT16003073258301.PDS.xml"
          }
         },
         "bbox": [
          0,
          0,
          0,
          0
         ],
         "collection": "L0_SNPP_ATMS_SCIENCE___1",
         "geometry": {
          "coordinates": [
           0,
           0
          ],
          "type": "Point"
         },
         "id": "P1570515ATMSSCIENCEAAT1600307325830",
         "links": [
          {
           "href": ".",
           "rel": "collection"
          }
         ],
         "properties": {
          "created": "2016-01-03T07:33:32.550Z",
          "datetime": "1970-01-01T00:27:38.458783081Z",
          "end_datetime": "2016-01-03T03:59:59.991Z",
          "start_datetime": "2016-01-03T02:00:00.009Z"
         },
         "stac_extensions": [],
         "stac_version": "1.0.0",
         "type": "Feature"
        },
        {
         "assets": {
          "data": {
           "description": "P1570515ATMSSCIENCEAAT16003055243500.PDS",
           "href": "s3://uds-test-cumulus-protected/ATMS_SCIENCE_Group___1/P1570515ATMSSCIENCEAAT16003055243500.PDS",
           "title": "P1570515ATMSSCIENCEAAT16003055243500.PDS"
          },
          "metadata__cmr": {
           "description": "P1570515ATMSSCIENCEAAT16003055243500.PDS.cmr.xml",
           "href": "s3://uds-test-cumulus-private/ATMS_SCIENCE_Group___1/P1570515ATMSSCIENCEAAT16003055243500.PDS.cmr.xml",
           "title": "P1570515ATMSSCIENCEAAT16003055243500.PDS.cmr.xml"
          },
          "metadata__data": {
           "description": "P1570515ATMSSCIENCEAAT16003055243501.PDS",
           "href": "s3://uds-test-cumulus-protected/ATMS_SCIENCE_Group___1/P1570515ATMSSCIENCEAAT16003055243501.PDS",
           "title": "P1570515ATMSSCIENCEAAT16003055243501.PDS"
          },
          "metadata__xml": {
           "description": "P1570515ATMSSCIENCEAAT16003055243501.PDS.xml",
           "href": "s3://uds-test-cumulus-protected/ATMS_SCIENCE_Group___1/P1570515ATMSSCIENCEAAT16003055243501.PDS.xml",
           "title": "P1570515ATMSSCIENCEAAT16003055243501.PDS.xml"
          }
         },
         "bbox": [
          0,
          0,
          0,
          0
         ],
         "collection": "L0_SNPP_ATMS_SCIENCE___1",
         "geometry": {
          "coordinates": [
           0,
           0
          ],
          "type": "Point"
         },
         "id": "P1570515ATMSSCIENCEAAT1600305524350",
         "links": [
          {
           "href": ".",
           "rel": "collection"
          }
         ],
         "properties": {
          "created": "2016-01-03T05:53:18.874Z",
          "datetime": "1970-01-01T00:27:38.458783134Z",
          "end_datetime": "2016-01-03T01:59:59.991Z",
          "start_datetime": "2016-01-03T00:00:00.009Z"
         },
         "stac_extensions": [],
         "stac_version": "1.0.0",
         "type": "Feature"
        },
        {
         "assets": {
          "data": {
           "description": "P1570515ATMSSCIENCEAAT16005033336100.PDS",
           "href": "s3://uds-test-cumulus-protected/ATMS_SCIENCE_Group___1/P1570515ATMSSCIENCEAAT16005033336100.PDS",
           "title": "P1570515ATMSSCIENCEAAT16005033336100.PDS"
          },
          "metadata__cmr": {
           "description": "P1570515ATMSSCIENCEAAT16005033336100.PDS.cmr.xml",
           "href": "s3://uds-test-cumulus-private/ATMS_SCIENCE_Group___1/P1570515ATMSSCIENCEAAT16005033336100.PDS.cmr.xml",
           "title": "P1570515ATMSSCIENCEAAT16005033336100.PDS.cmr.xml"
          },
          "metadata__data": {
           "description": "P1570515ATMSSCIENCEAAT16005033336101.PDS",
           "href": "s3://uds-test-cumulus-protected/ATMS_SCIENCE_Group___1/P1570515ATMSSCIENCEAAT16005033336101.PDS",
           "title": "P1570515ATMSSCIENCEAAT16005033336101.PDS"
          },
          "metadata__xml": {
           "description": "P1570515ATMSSCIENCEAAT16005033336101.PDS.xml",
           "href": "s3://uds-test-cumulus-protected/ATMS_SCIENCE_Group___1/P1570515ATMSSCIENCEAAT16005033336101.PDS.xml",
           "title": "P1570515ATMSSCIENCEAAT16005033336101.PDS.xml"
          }
         },
         "bbox": [
          0,
          0,
          0,
          0
         ],
         "collection": "L0_SNPP_ATMS_SCIENCE___1",
         "geometry": {
          "coordinates": [
           0,
           0
          ],
          "type": "Point"
         },
         "id": "P1570515ATMSSCIENCEAAT1600503333610",
         "links": [
          {
           "href": ".",
           "rel": "collection"
          }
         ],
         "properties": {
          "created": "2016-01-05T03:34:10.134Z",
          "datetime": "1970-01-01T00:27:38.458758039Z",
          "end_datetime": "2016-01-04T23:59:59.991Z",
          "start_datetime": "2016-01-04T22:00:00.009Z"
         },
         "stac_extensions": [],
         "stac_version": "1.0.0",
         "type": "Feature"
        },
        {
         "assets": {
          "data": {
           "description": "P1570515ATMSSCIENCEAAT16005015216200.PDS",
           "href": "s3://uds-test-cumulus-protected/ATMS_SCIENCE_Group___1/P1570515ATMSSCIENCEAAT16005015216200.PDS",
           "title": "P1570515ATMSSCIENCEAAT16005015216200.PDS"
          },
          "metadata__cmr": {
           "description": "P1570515ATMSSCIENCEAAT16005015216200.PDS.cmr.xml",
           "href": "s3://uds-test-cumulus-private/ATMS_SCIENCE_Group___1/P1570515ATMSSCIENCEAAT16005015216200.PDS.cmr.xml",
           "title": "P1570515ATMSSCIENCEAAT16005015216200.PDS.cmr.xml"
          },
          "metadata__data": {
           "description": "P1570515ATMSSCIENCEAAT16005015216201.PDS",
           "href": "s3://uds-test-cumulus-protected/ATMS_SCIENCE_Group___1/P1570515ATMSSCIENCEAAT16005015216201.PDS",
           "title": "P1570515ATMSSCIENCEAAT16005015216201.PDS"
          },
          "metadata__xml": {
           "description": "P1570515ATMSSCIENCEAAT16005015216201.PDS.xml",
           "href": "s3://uds-test-cumulus-protected/ATMS_SCIENCE_Group___1/P1570515ATMSSCIENCEAAT16005015216201.PDS.xml",
           "title": "P1570515ATMSSCIENCEAAT16005015216201.PDS.xml"
          }
         },
         "bbox": [
          0,
          0,
          0,
          0
         ],
         "collection": "L0_SNPP_ATMS_SCIENCE___1",
         "geometry": {
          "coordinates": [
           0,
           0
          ],
          "type": "Point"
         },
         "id": "P1570515ATMSSCIENCEAAT1600501521620",
         "links": [
          {
           "href": ".",
           "rel": "collection"
          }
         ],
         "properties": {
          "created": "2016-01-05T01:52:49.896Z",
          "datetime": "1970-01-01T00:27:38.458757426Z",
          "end_datetime": "2016-01-04T21:59:59.991Z",
          "start_datetime": "2016-01-04T20:00:00.009Z"
         },
         "stac_extensions": [],
         "stac_version": "1.0.0",
         "type": "Feature"
        },
        {
         "assets": {
          "data": {
           "description": "P1570515ATMSSCIENCEAAT16004121445600.PDS",
           "href": "s3://uds-test-cumulus-protected/ATMS_SCIENCE_Group___1/P1570515ATMSSCIENCEAAT16004121445600.PDS",
           "title": "P1570515ATMSSCIENCEAAT16004121445600.PDS"
          },
          "metadata__cmr": {
           "description": "P1570515ATMSSCIENCEAAT16004121445600.PDS.cmr.xml",
           "href": "s3://uds-test-cumulus-private/ATMS_SCIENCE_Group___1/P1570515ATMSSCIENCEAAT16004121445600.PDS.cmr.xml",
           "title": "P1570515ATMSSCIENCEAAT16004121445600.PDS.cmr.xml"
          },
          "metadata__data": {
           "description": "P1570515ATMSSCIENCEAAT16004121445601.PDS",
           "href": "s3://uds-test-cumulus-protected/ATMS_SCIENCE_Group___1/P1570515ATMSSCIENCEAAT16004121445601.PDS",
           "title": "P1570515ATMSSCIENCEAAT16004121445601.PDS"
          },
          "metadata__xml": {
           "description": "P1570515ATMSSCIENCEAAT16004121445601.PDS.xml",
           "href": "s3://uds-test-cumulus-protected/ATMS_SCIENCE_Group___1/P1570515ATMSSCIENCEAAT16004121445601.PDS.xml",
           "title": "P1570515ATMSSCIENCEAAT16004121445601.PDS.xml"
          }
         },
         "bbox": [
          0,
          0,
          0,
          0
         ],
         "collection": "L0_SNPP_ATMS_SCIENCE___1",
         "geometry": {
          "coordinates": [
           0,
           0
          ],
          "type": "Point"
         },
         "id": "P1570515ATMSSCIENCEAAT1600412144560",
         "links": [
          {
           "href": ".",
           "rel": "collection"
          }
         ],
         "properties": {
          "created": "2016-01-04T12:15:20.314Z",
          "datetime": "1970-01-01T00:27:38.458754212Z",
          "end_datetime": "2016-01-04T07:59:59.991Z",
          "start_datetime": "2016-01-04T06:00:00.009Z"
         },
         "stac_extensions": [],
         "stac_version": "1.0.0",
         "type": "Feature"
        },
        {
         "assets": {
          "data": {
           "description": "P1570515ATMSSCIENCEAAT16004153833000.PDS",
           "href": "s3://uds-test-cumulus-protected/ATMS_SCIENCE_Group___1/P1570515ATMSSCIENCEAAT16004153833000.PDS",
           "title": "P1570515ATMSSCIENCEAAT16004153833000.PDS"
          },
          "metadata__cmr": {
           "description": "P1570515ATMSSCIENCEAAT16004153833000.PDS.cmr.xml",
           "href": "s3://uds-test-cumulus-private/ATMS_SCIENCE_Group___1/P1570515ATMSSCIENCEAAT16004153833000.PDS.cmr.xml",
           "title": "P1570515ATMSSCIENCEAAT16004153833000.PDS.cmr.xml"
          },
          "metadata__data": {
           "description": "P1570515ATMSSCIENCEAAT16004153833001.PDS",
           "href": "s3://uds-test-cumulus-protected/ATMS_SCIENCE_Group___1/P1570515ATMSSCIENCEAAT16004153833001.PDS",
           "title": "P1570515ATMSSCIENCEAAT16004153833001.PDS"
          },
          "metadata__xml": {
           "description": "P1570515ATMSSCIENCEAAT16004153833001.PDS.xml",
           "href": "s3://uds-test-cumulus-protected/ATMS_SCIENCE_Group___1/P1570515ATMSSCIENCEAAT16004153833001.PDS.xml",
           "title": "P1570515ATMSSCIENCEAAT16004153833001.PDS.xml"
          }
         },
         "bbox": [
          0,
          0,
          0,
          0
         ],
         "collection": "L0_SNPP_ATMS_SCIENCE___1",
         "geometry": {
          "coordinates": [
           0,
           0
          ],
          "type": "Point"
         },
         "id": "P1570515ATMSSCIENCEAAT1600415383300",
         "links": [
          {
           "href": ".",
           "rel": "collection"
          }
         ],
         "properties": {
          "created": "2016-01-04T15:39:08.037Z",
          "datetime": "1970-01-01T00:27:38.458754063Z",
          "end_datetime": "2016-01-04T11:59:59.991Z",
          "start_datetime": "2016-01-04T10:00:00.009Z"
         },
         "stac_extensions": [],
         "stac_version": "1.0.0",
         "type": "Feature"
        },
        {
         "assets": {
          "data": {
           "description": "P1570515ATMSSCIENCEAAT16004053336500.PDS",
           "href": "s3://uds-test-cumulus-protected/ATMS_SCIENCE_Group___1/P1570515ATMSSCIENCEAAT16004053336500.PDS",
           "title": "P1570515ATMSSCIENCEAAT16004053336500.PDS"
          },
          "metadata__cmr": {
           "description": "P1570515ATMSSCIENCEAAT16004053336500.PDS.cmr.xml",
           "href": "s3://uds-test-cumulus-private/ATMS_SCIENCE_Group___1/P1570515ATMSSCIENCEAAT16004053336500.PDS.cmr.xml",
           "title": "P1570515ATMSSCIENCEAAT16004053336500.PDS.cmr.xml"
          },
          "metadata__data": {
           "description": "P1570515ATMSSCIENCEAAT16004053336501.PDS",
           "href": "s3://uds-test-cumulus-protected/ATMS_SCIENCE_Group___1/P1570515ATMSSCIENCEAAT16004053336501.PDS",
           "title": "P1570515ATMSSCIENCEAAT16004053336501.PDS"
          },
          "metadata__xml": {
           "description": "P1570515ATMSSCIENCEAAT16004053336501.PDS.xml",
           "href": "s3://uds-test-cumulus-protected/ATMS_SCIENCE_Group___1/P1570515ATMSSCIENCEAAT16004053336501.PDS.xml",
           "title": "P1570515ATMSSCIENCEAAT16004053336501.PDS.xml"
          }
         },
         "bbox": [
          0,
          0,
          0,
          0
         ],
         "collection": "L0_SNPP_ATMS_SCIENCE___1",
         "geometry": {
          "coordinates": [
           0,
           0
          ],
          "type": "Point"
         },
         "id": "P1570515ATMSSCIENCEAAT1600405333650",
         "links": [
          {
           "href": ".",
           "rel": "collection"
          }
         ],
         "properties": {
          "created": "2016-01-04T05:34:10.697Z",
          "datetime": "1970-01-01T00:27:38.458753413Z",
          "end_datetime": "2016-01-04T01:59:59.991Z",
          "start_datetime": "2016-01-04T00:00:00.009Z"
         },
         "stac_extensions": [],
         "stac_version": "1.0.0",
         "type": "Feature"
        },
        {
         "assets": {
          "data": {
           "description": "P1570515ATMSSCIENCEAAT16004085417300.PDS",
           "href": "s3://uds-test-cumulus-protected/ATMS_SCIENCE_Group___1/P1570515ATMSSCIENCEAAT16004085417300.PDS",
           "title": "P1570515ATMSSCIENCEAAT16004085417300.PDS"
          },
          "metadata__cmr": {
           "description": "P1570515ATMSSCIENCEAAT16004085417300.PDS.cmr.xml",
           "href": "s3://uds-test-cumulus-private/ATMS_SCIENCE_Group___1/P1570515ATMSSCIENCEAAT16004085417300.PDS.cmr.xml",
           "title": "P1570515ATMSSCIENCEAAT16004085417300.PDS.cmr.xml"
          },
          "metadata__data": {
           "description": "P1570515ATMSSCIENCEAAT16004085417301.PDS",
           "href": "s3://uds-test-cumulus-protected/ATMS_SCIENCE_Group___1/P1570515ATMSSCIENCEAAT16004085417301.PDS",
           "title": "P1570515ATMSSCIENCEAAT16004085417301.PDS"
          },
          "metadata__xml": {
           "description": "P1570515ATMSSCIENCEAAT16004085417301.PDS.xml",
           "href": "s3://uds-test-cumulus-protected/ATMS_SCIENCE_Group___1/P1570515ATMSSCIENCEAAT16004085417301.PDS.xml",
           "title": "P1570515ATMSSCIENCEAAT16004085417301.PDS.xml"
          }
         },
         "bbox": [
          0,
          0,
          0,
          0
         ],
         "collection": "L0_SNPP_ATMS_SCIENCE___1",
         "geometry": {
          "coordinates": [
           0,
           0
          ],
          "type": "Point"
         },
         "id": "P1570515ATMSSCIENCEAAT1600408541730",
         "links": [
          {
           "href": ".",
           "rel": "collection"
          }
         ],
         "properties": {
          "created": "2016-01-04T08:54:51.887Z",
          "datetime": "1970-01-01T00:27:38.458752385Z",
          "end_datetime": "2016-01-04T05:59:59.991Z",
          "start_datetime": "2016-01-04T04:00:00.009Z"
         },
         "stac_extensions": [],
         "stac_version": "1.0.0",
         "type": "Feature"
        },
        {
         "assets": {
          "data": {
           "description": "P1570515ATMSSCIENCEAAT16004135643000.PDS",
           "href": "s3://uds-test-cumulus-protected/ATMS_SCIENCE_Group___1/P1570515ATMSSCIENCEAAT16004135643000.PDS",
           "title": "P1570515ATMSSCIENCEAAT16004135643000.PDS"
          },
          "metadata__cmr": {
           "description": "P1570515ATMSSCIENCEAAT16004135643000.PDS.cmr.xml",
           "href": "s3://uds-test-cumulus-private/ATMS_SCIENCE_Group___1/P1570515ATMSSCIENCEAAT16004135643000.PDS.cmr.xml",
           "title": "P1570515ATMSSCIENCEAAT16004135643000.PDS.cmr.xml"
          },
          "metadata__data": {
           "description": "P1570515ATMSSCIENCEAAT16004135643001.PDS",
           "href": "s3://uds-test-cumulus-protected/ATMS_SCIENCE_Group___1/P1570515ATMSSCIENCEAAT16004135643001.PDS",
           "title": "P1570515ATMSSCIENCEAAT16004135643001.PDS"
          },
          "metadata__xml": {
           "description": "P1570515ATMSSCIENCEAAT16004135643001.PDS.xml",
           "href": "s3://uds-test-cumulus-protected/ATMS_SCIENCE_Group___1/P1570515ATMSSCIENCEAAT16004135643001.PDS.xml",
           "title": "P1570515ATMSSCIENCEAAT16004135643001.PDS.xml"
          }
         },
         "bbox": [
          0,
          0,
          0,
          0
         ],
         "collection": "L0_SNPP_ATMS_SCIENCE___1",
         "geometry": {
          "coordinates": [
           0,
           0
          ],
          "type": "Point"
         },
         "id": "P1570515ATMSSCIENCEAAT1600413564300",
         "links": [
          {
           "href": ".",
           "rel": "collection"
          }
         ],
         "properties": {
          "created": "2016-01-04T13:57:17.867Z",
          "datetime": "1970-01-01T00:27:38.458753074Z",
          "end_datetime": "2016-01-04T09:59:59.991Z",
          "start_datetime": "2016-01-04T08:00:00.009Z"
         },
         "stac_extensions": [],
         "stac_version": "1.0.0",
         "type": "Feature"
        },
        {
         "assets": {
          "data": {
           "description": "P1570515ATMSSCIENCEAAT16004190231300.PDS",
           "href": "s3://uds-test-cumulus-protected/ATMS_SCIENCE_Group___1/P1570515ATMSSCIENCEAAT16004190231300.PDS",
           "title": "P1570515ATMSSCIENCEAAT16004190231300.PDS"
          },
          "metadata__cmr": {
           "description": "P1570515ATMSSCIENCEAAT16004190231300.PDS.cmr.xml",
           "href": "s3://uds-test-cumulus-private/ATMS_SCIENCE_Group___1/P1570515ATMSSCIENCEAAT16004190231300.PDS.cmr.xml",
           "title": "P1570515ATMSSCIENCEAAT16004190231300.PDS.cmr.xml"
          },
          "metadata__data": {
           "description": "P1570515ATMSSCIENCEAAT16004190231301.PDS",
           "href": "s3://uds-test-cumulus-protected/ATMS_SCIENCE_Group___1/P1570515ATMSSCIENCEAAT16004190231301.PDS",
           "title": "P1570515ATMSSCIENCEAAT16004190231301.PDS"
          },
          "metadata__xml": {
           "description": "P1570515ATMSSCIENCEAAT16004190231301.PDS.xml",
           "href": "s3://uds-test-cumulus-protected/ATMS_SCIENCE_Group___1/P1570515ATMSSCIENCEAAT16004190231301.PDS.xml",
           "title": "P1570515ATMSSCIENCEAAT16004190231301.PDS.xml"
          }
         },
         "bbox": [
          0,
          0,
          0,
          0
         ],
         "collection": "L0_SNPP_ATMS_SCIENCE___1",
         "geometry": {
          "coordinates": [
           0,
           0
          ],
          "type": "Point"
         },
         "id": "P1570515ATMSSCIENCEAAT1600419023130",
         "links": [
          {
           "href": ".",
           "rel": "collection"
          }
         ],
         "properties": {
          "created": "2016-01-04T19:03:04.632Z",
          "datetime": "1970-01-01T00:27:38.458752794Z",
          "end_datetime": "2016-01-04T15:59:59.991Z",
          "start_datetime": "2016-01-04T14:00:00.009Z"
         },
         "stac_extensions": [],
         "stac_version": "1.0.0",
         "type": "Feature"
        },
        {
         "assets": {
          "data": {
           "description": "P1570515ATMSSCIENCEAAT16004071410300.PDS",
           "href": "s3://uds-test-cumulus-protected/ATMS_SCIENCE_Group___1/P1570515ATMSSCIENCEAAT16004071410300.PDS",
           "title": "P1570515ATMSSCIENCEAAT16004071410300.PDS"
          },
          "metadata__cmr": {
           "description": "P1570515ATMSSCIENCEAAT16004071410300.PDS.cmr.xml",
           "href": "s3://uds-test-cumulus-private/ATMS_SCIENCE_Group___1/P1570515ATMSSCIENCEAAT16004071410300.PDS.cmr.xml",
           "title": "P1570515ATMSSCIENCEAAT16004071410300.PDS.cmr.xml"
          },
          "metadata__data": {
           "description": "P1570515ATMSSCIENCEAAT16004071410301.PDS",
           "href": "s3://uds-test-cumulus-protected/ATMS_SCIENCE_Group___1/P1570515ATMSSCIENCEAAT16004071410301.PDS",
           "title": "P1570515ATMSSCIENCEAAT16004071410301.PDS"
          },
          "metadata__xml": {
           "description": "P1570515ATMSSCIENCEAAT16004071410301.PDS.xml",
           "href": "s3://uds-test-cumulus-protected/ATMS_SCIENCE_Group___1/P1570515ATMSSCIENCEAAT16004071410301.PDS.xml",
           "title": "P1570515ATMSSCIENCEAAT16004071410301.PDS.xml"
          }
         },
         "bbox": [
          0,
          0,
          0,
          0
         ],
         "collection": "L0_SNPP_ATMS_SCIENCE___1",
         "geometry": {
          "coordinates": [
           0,
           0
          ],
          "type": "Point"
         },
         "id": "P1570515ATMSSCIENCEAAT1600407141030",
         "links": [
          {
           "href": ".",
           "rel": "collection"
          }
         ],
         "properties": {
          "created": "2016-01-04T07:14:44.871Z",
          "datetime": "1970-01-01T00:27:38.458752928Z",
          "end_datetime": "2016-01-04T03:59:59.991Z",
          "start_datetime": "2016-01-04T02:00:00.009Z"
         },
         "stac_extensions": [],
         "stac_version": "1.0.0",
         "type": "Feature"
        },
        {
         "assets": {
          "data": {
           "description": "P1570515ATMSSCIENCEAAT16004204622400.PDS",
           "href": "s3://uds-test-cumulus-protected/ATMS_SCIENCE_Group___1/P1570515ATMSSCIENCEAAT16004204622400.PDS",
           "title": "P1570515ATMSSCIENCEAAT16004204622400.PDS"
          },
          "metadata__cmr": {
           "description": "P1570515ATMSSCIENCEAAT16004204622400.PDS.cmr.xml",
           "href": "s3://uds-test-cumulus-private/ATMS_SCIENCE_Group___1/P1570515ATMSSCIENCEAAT16004204622400.PDS.cmr.xml",
           "title": "P1570515ATMSSCIENCEAAT16004204622400.PDS.cmr.xml"
          },
          "metadata__data": {
           "description": "P1570515ATMSSCIENCEAAT16004204622401.PDS",
           "href": "s3://uds-test-cumulus-protected/ATMS_SCIENCE_Group___1/P1570515ATMSSCIENCEAAT16004204622401.PDS",
           "title": "P1570515ATMSSCIENCEAAT16004204622401.PDS"
          },
          "metadata__xml": {
           "description": "P1570515ATMSSCIENCEAAT16004204622401.PDS.xml",
           "href": "s3://uds-test-cumulus-protected/ATMS_SCIENCE_Group___1/P1570515ATMSSCIENCEAAT16004204622401.PDS.xml",
           "title": "P1570515ATMSSCIENCEAAT16004204622401.PDS.xml"
          }
         },
         "bbox": [
          0,
          0,
          0,
          0
         ],
         "collection": "L0_SNPP_ATMS_SCIENCE___1",
         "geometry": {
          "coordinates": [
           0,
           0
          ],
          "type": "Point"
         },
         "id": "P1570515ATMSSCIENCEAAT1600420462240",
         "links": [
          {
           "href": ".",
           "rel": "collection"
          }
         ],
         "properties": {
          "created": "2016-01-04T20:46:55.742Z",
          "datetime": "1970-01-01T00:27:38.458752627Z",
          "end_datetime": "2016-01-04T17:59:59.991Z",
          "start_datetime": "2016-01-04T16:00:00.009Z"
         },
         "stac_extensions": [],
         "stac_version": "1.0.0",
         "type": "Feature"
        },
        {
         "assets": {
          "data": {
           "description": "P1570515ATMSSCIENCEAAT16004171855600.PDS",
           "href": "s3://uds-test-cumulus-protected/ATMS_SCIENCE_Group___1/P1570515ATMSSCIENCEAAT16004171855600.PDS",
           "title": "P1570515ATMSSCIENCEAAT16004171855600.PDS"
          },
          "metadata__cmr": {
           "description": "P1570515ATMSSCIENCEAAT16004171855600.PDS.cmr.xml",
           "href": "s3://uds-test-cumulus-private/ATMS_SCIENCE_Group___1/P1570515ATMSSCIENCEAAT16004171855600.PDS.cmr.xml",
           "title": "P1570515ATMSSCIENCEAAT16004171855600.PDS.cmr.xml"
          },
          "metadata__data": {
           "description": "P1570515ATMSSCIENCEAAT16004171855601.PDS",
           "href": "s3://uds-test-cumulus-protected/ATMS_SCIENCE_Group___1/P1570515ATMSSCIENCEAAT16004171855601.PDS",
           "title": "P1570515ATMSSCIENCEAAT16004171855601.PDS"
          },
          "metadata__xml": {
           "description": "P1570515ATMSSCIENCEAAT16004171855601.PDS.xml",
           "href": "s3://uds-test-cumulus-protected/ATMS_SCIENCE_Group___1/P1570515ATMSSCIENCEAAT16004171855601.PDS.xml",
           "title": "P1570515ATMSSCIENCEAAT16004171855601.PDS.xml"
          }
         },
         "bbox": [
          0,
          0,
          0,
          0
         ],
         "collection": "L0_SNPP_ATMS_SCIENCE___1",
         "geometry": {
          "coordinates": [
           0,
           0
          ],
          "type": "Point"
         },
         "id": "P1570515ATMSSCIENCEAAT1600417185560",
         "links": [
          {
           "href": ".",
           "rel": "collection"
          }
         ],
         "properties": {
          "created": "2016-01-04T17:19:34.975Z",
          "datetime": "1970-01-01T00:27:38.458752768Z",
          "end_datetime": "2016-01-04T13:59:59.991Z",
          "start_datetime": "2016-01-04T12:00:00.009Z"
         },
         "stac_extensions": [],
         "stac_version": "1.0.0",
         "type": "Feature"
        },
        {
         "assets": {
          "data": {
           "description": "P1570515ATMSSCIENCEAAT16005001057200.PDS",
           "href": "s3://uds-test-cumulus-protected/ATMS_SCIENCE_Group___1/P1570515ATMSSCIENCEAAT16005001057200.PDS",
           "title": "P1570515ATMSSCIENCEAAT16005001057200.PDS"
          },
          "metadata__cmr": {
           "description": "P1570515ATMSSCIENCEAAT16005001057200.PDS.cmr.xml",
           "href": "s3://uds-test-cumulus-private/ATMS_SCIENCE_Group___1/P1570515ATMSSCIENCEAAT16005001057200.PDS.cmr.xml",
           "title": "P1570515ATMSSCIENCEAAT16005001057200.PDS.cmr.xml"
          },
          "metadata__data": {
           "description": "P1570515ATMSSCIENCEAAT16005001057201.PDS",
           "href": "s3://uds-test-cumulus-protected/ATMS_SCIENCE_Group___1/P1570515ATMSSCIENCEAAT16005001057201.PDS",
           "title": "P1570515ATMSSCIENCEAAT16005001057201.PDS"
          },
          "metadata__xml": {
           "description": "P1570515ATMSSCIENCEAAT16005001057201.PDS.xml",
           "href": "s3://uds-test-cumulus-protected/ATMS_SCIENCE_Group___1/P1570515ATMSSCIENCEAAT16005001057201.PDS.xml",
           "title": "P1570515ATMSSCIENCEAAT16005001057201.PDS.xml"
          }
         },
         "bbox": [
          0,
          0,
          0,
          0
         ],
         "collection": "L0_SNPP_ATMS_SCIENCE___1",
         "geometry": {
          "coordinates": [
           0,
           0
          ],
          "type": "Point"
         },
         "id": "P1570515ATMSSCIENCEAAT1600500105720",
         "links": [
          {
           "href": ".",
           "rel": "collection"
          }
         ],
         "properties": {
          "created": "2016-01-05T00:11:32.115Z",
          "datetime": "1970-01-01T00:27:38.458752708Z",
          "end_datetime": "2016-01-04T19:59:59.991Z",
          "start_datetime": "2016-01-04T18:00:00.009Z"
         },
         "stac_extensions": [],
         "stac_version": "1.0.0",
         "type": "Feature"
        },
        {
         "assets": {
          "data": {
           "description": "P1570515ATMSSCIENCEAAT16005202656200.PDS",
           "href": "s3://uds-test-cumulus-protected/ATMS_SCIENCE_Group___1/P1570515ATMSSCIENCEAAT16005202656200.PDS",
           "title": "P1570515ATMSSCIENCEAAT16005202656200.PDS"
          },
          "metadata__cmr": {
           "description": "P1570515ATMSSCIENCEAAT16005202656200.PDS.cmr.xml",
           "href": "s3://uds-test-cumulus-private/ATMS_SCIENCE_Group___1/P1570515ATMSSCIENCEAAT16005202656200.PDS.cmr.xml",
           "title": "P1570515ATMSSCIENCEAAT16005202656200.PDS.cmr.xml"
          },
          "metadata__data": {
           "description": "P1570515ATMSSCIENCEAAT16005202656201.PDS",
           "href": "s3://uds-test-cumulus-protected/ATMS_SCIENCE_Group___1/P1570515ATMSSCIENCEAAT16005202656201.PDS",
           "title": "P1570515ATMSSCIENCEAAT16005202656201.PDS"
          },
          "metadata__xml": {
           "description": "P1570515ATMSSCIENCEAAT16005202656201.PDS.xml",
           "href": "s3://uds-test-cumulus-protected/ATMS_SCIENCE_Group___1/P1570515ATMSSCIENCEAAT16005202656201.PDS.xml",
           "title": "P1570515ATMSSCIENCEAAT16005202656201.PDS.xml"
          }
         },
         "bbox": [
          0,
          0,
          0,
          0
         ],
         "collection": "L0_SNPP_ATMS_SCIENCE___1",
         "geometry": {
          "coordinates": [
           0,
           0
          ],
          "type": "Point"
         },
         "id": "P1570515ATMSSCIENCEAAT1600520265620",
         "links": [
          {
           "href": ".",
           "rel": "collection"
          }
         ],
         "properties": {
          "created": "2016-01-05T20:27:31.684Z",
          "datetime": "1970-01-01T00:27:38.458726006Z",
          "end_datetime": "2016-01-05T15:59:59.991Z",
          "start_datetime": "2016-01-05T14:00:00.009Z"
         },
         "stac_extensions": [],
         "stac_version": "1.0.0",
         "type": "Feature"
        },
        {
         "assets": {
          "data": {
           "description": "P1570515ATMSSCIENCEAAT16006031435600.PDS",
           "href": "s3://uds-test-cumulus-protected/ATMS_SCIENCE_Group___1/P1570515ATMSSCIENCEAAT16006031435600.PDS",
           "title": "P1570515ATMSSCIENCEAAT16006031435600.PDS"
          },
          "metadata__cmr": {
           "description": "P1570515ATMSSCIENCEAAT16006031435600.PDS.cmr.xml",
           "href": "s3://uds-test-cumulus-private/ATMS_SCIENCE_Group___1/P1570515ATMSSCIENCEAAT16006031435600.PDS.cmr.xml",
           "title": "P1570515ATMSSCIENCEAAT16006031435600.PDS.cmr.xml"
          },
          "metadata__data": {
           "description": "P1570515ATMSSCIENCEAAT16006031435601.PDS",
           "href": "s3://uds-test-cumulus-protected/ATMS_SCIENCE_Group___1/P1570515ATMSSCIENCEAAT16006031435601.PDS",
           "title": "P1570515ATMSSCIENCEAAT16006031435601.PDS"
          },
          "metadata__xml": {
           "description": "P1570515ATMSSCIENCEAAT16006031435601.PDS.xml",
           "href": "s3://uds-test-cumulus-protected/ATMS_SCIENCE_Group___1/P1570515ATMSSCIENCEAAT16006031435601.PDS.xml",
           "title": "P1570515ATMSSCIENCEAAT16006031435601.PDS.xml"
          }
         },
         "bbox": [
          0,
          0,
          0,
          0
         ],
         "collection": "L0_SNPP_ATMS_SCIENCE___1",
         "geometry": {
          "coordinates": [
           0,
           0
          ],
          "type": "Point"
         },
         "id": "P1570515ATMSSCIENCEAAT1600603143560",
         "links": [
          {
           "href": ".",
           "rel": "collection"
          }
         ],
         "properties": {
          "created": "2016-01-06T03:15:08.410Z",
          "datetime": "1970-01-01T00:27:38.458725793Z",
          "end_datetime": "2016-01-05T23:59:59.991Z",
          "start_datetime": "2016-01-05T22:00:00.009Z"
         },
         "stac_extensions": [],
         "stac_version": "1.0.0",
         "type": "Feature"
        },
        {
         "assets": {
          "data": {
           "description": "P1570515ATMSSCIENCEAAT16005235142200.PDS",
           "href": "s3://uds-test-cumulus-protected/ATMS_SCIENCE_Group___1/P1570515ATMSSCIENCEAAT16005235142200.PDS",
           "title": "P1570515ATMSSCIENCEAAT16005235142200.PDS"
          },
          "metadata__cmr": {
           "description": "P1570515ATMSSCIENCEAAT16005235142200.PDS.cmr.xml",
           "href": "s3://uds-test-cumulus-private/ATMS_SCIENCE_Group___1/P1570515ATMSSCIENCEAAT16005235142200.PDS.cmr.xml",
           "title": "P1570515ATMSSCIENCEAAT16005235142200.PDS.cmr.xml"
          },
          "metadata__data": {
           "description": "P1570515ATMSSCIENCEAAT16005235142201.PDS",
           "href": "s3://uds-test-cumulus-protected/ATMS_SCIENCE_Group___1/P1570515ATMSSCIENCEAAT16005235142201.PDS",
           "title": "P1570515ATMSSCIENCEAAT16005235142201.PDS"
          },
          "metadata__xml": {
           "description": "P1570515ATMSSCIENCEAAT16005235142201.PDS.xml",
           "href": "s3://uds-test-cumulus-protected/ATMS_SCIENCE_Group___1/P1570515ATMSSCIENCEAAT16005235142201.PDS.xml",
           "title": "P1570515ATMSSCIENCEAAT16005235142201.PDS.xml"
          }
         },
         "bbox": [
          0,
          0,
          0,
          0
         ],
         "collection": "L0_SNPP_ATMS_SCIENCE___1",
         "geometry": {
          "coordinates": [
           0,
           0
          ],
          "type": "Point"
         },
         "id": "P1570515ATMSSCIENCEAAT1600523514220",
         "links": [
          {
           "href": ".",
           "rel": "collection"
          }
         ],
         "properties": {
          "created": "2016-01-05T23:52:17.800Z",
          "datetime": "1970-01-01T00:27:38.458723193Z",
          "end_datetime": "2016-01-05T19:59:59.991Z",
          "start_datetime": "2016-01-05T18:00:00.009Z"
         },
         "stac_extensions": [],
         "stac_version": "1.0.0",
         "type": "Feature"
        },
        {
         "assets": {
          "data": {
           "description": "P1570515ATMSSCIENCEAAT16005221024000.PDS",
           "href": "s3://uds-test-cumulus-protected/ATMS_SCIENCE_Group___1/P1570515ATMSSCIENCEAAT16005221024000.PDS",
           "title": "P1570515ATMSSCIENCEAAT16005221024000.PDS"
          },
          "metadata__cmr": {
           "description": "P1570515ATMSSCIENCEAAT16005221024000.PDS.cmr.xml",
           "href": "s3://uds-test-cumulus-private/ATMS_SCIENCE_Group___1/P1570515ATMSSCIENCEAAT16005221024000.PDS.cmr.xml",
           "title": "P1570515ATMSSCIENCEAAT16005221024000.PDS.cmr.xml"
          },
          "metadata__data": {
           "description": "P1570515ATMSSCIENCEAAT16005221024001.PDS",
           "href": "s3://uds-test-cumulus-protected/ATMS_SCIENCE_Group___1/P1570515ATMSSCIENCEAAT16005221024001.PDS",
           "title": "P1570515ATMSSCIENCEAAT16005221024001.PDS"
          },
          "metadata__xml": {
           "description": "P1570515ATMSSCIENCEAAT16005221024001.PDS.xml",
           "href": "s3://uds-test-cumulus-protected/ATMS_SCIENCE_Group___1/P1570515ATMSSCIENCEAAT16005221024001.PDS.xml",
           "title": "P1570515ATMSSCIENCEAAT16005221024001.PDS.xml"
          }
         },
         "bbox": [
          0,
          0,
          0,
          0
         ],
         "collection": "L0_SNPP_ATMS_SCIENCE___1",
         "geometry": {
          "coordinates": [
           0,
           0
          ],
          "type": "Point"
         },
         "id": "P1570515ATMSSCIENCEAAT1600522102400",
         "links": [
          {
           "href": ".",
           "rel": "collection"
          }
         ],
         "properties": {
          "created": "2016-01-05T22:10:58.689Z",
          "datetime": "1970-01-01T00:27:38.458722448Z",
          "end_datetime": "2016-01-05T17:59:59.991Z",
          "start_datetime": "2016-01-05T16:00:00.009Z"
         },
         "stac_extensions": [],
         "stac_version": "1.0.0",
         "type": "Feature"
        },
        {
         "assets": {
          "data": {
           "description": "P1570515ATMSSCIENCEAAT16006013405800.PDS",
           "href": "s3://uds-test-cumulus-protected/ATMS_SCIENCE_Group___1/P1570515ATMSSCIENCEAAT16006013405800.PDS",
           "title": "P1570515ATMSSCIENCEAAT16006013405800.PDS"
          },
          "metadata__cmr": {
           "description": "P1570515ATMSSCIENCEAAT16006013405800.PDS.cmr.xml",
           "href": "s3://uds-test-cumulus-private/ATMS_SCIENCE_Group___1/P1570515ATMSSCIENCEAAT16006013405800.PDS.cmr.xml",
           "title": "P1570515ATMSSCIENCEAAT16006013405800.PDS.cmr.xml"
          },
          "metadata__data": {
           "description": "P1570515ATMSSCIENCEAAT16006013405801.PDS",
           "href": "s3://uds-test-cumulus-protected/ATMS_SCIENCE_Group___1/P1570515ATMSSCIENCEAAT16006013405801.PDS",
           "title": "P1570515ATMSSCIENCEAAT16006013405801.PDS"
          },
          "metadata__xml": {
           "description": "P1570515ATMSSCIENCEAAT16006013405801.PDS.xml",
           "href": "s3://uds-test-cumulus-protected/ATMS_SCIENCE_Group___1/P1570515ATMSSCIENCEAAT16006013405801.PDS.xml",
           "title": "P1570515ATMSSCIENCEAAT16006013405801.PDS.xml"
          }
         },
         "bbox": [
          0,
          0,
          0,
          0
         ],
         "collection": "L0_SNPP_ATMS_SCIENCE___1",
         "geometry": {
          "coordinates": [
           0,
           0
          ],
          "type": "Point"
         },
         "id": "P1570515ATMSSCIENCEAAT1600601340580",
         "links": [
          {
           "href": ".",
           "rel": "collection"
          }
         ],
         "properties": {
          "created": "2016-01-06T01:34:40.363Z",
          "datetime": "1970-01-01T00:27:38.458722053Z",
          "end_datetime": "2016-01-05T21:59:59.991Z",
          "start_datetime": "2016-01-05T20:00:00.009Z"
         },
         "stac_extensions": [],
         "stac_version": "1.0.0",
         "type": "Feature"
        },
        {
         "assets": {
          "data": {
           "description": "P1570515ATMSSCIENCEAAT16005120734700.PDS",
           "href": "s3://uds-test-cumulus-protected/ATMS_SCIENCE_Group___1/P1570515ATMSSCIENCEAAT16005120734700.PDS",
           "title": "P1570515ATMSSCIENCEAAT16005120734700.PDS"
          },
          "metadata__cmr": {
           "description": "P1570515ATMSSCIENCEAAT16005120734700.PDS.cmr.xml",
           "href": "s3://uds-test-cumulus-private/ATMS_SCIENCE_Group___1/P1570515ATMSSCIENCEAAT16005120734700.PDS.cmr.xml",
           "title": "P1570515ATMSSCIENCEAAT16005120734700.PDS.cmr.xml"
          },
          "metadata__data": {
           "description": "P1570515ATMSSCIENCEAAT16005120734701.PDS",
           "href": "s3://uds-test-cumulus-protected/ATMS_SCIENCE_Group___1/P1570515ATMSSCIENCEAAT16005120734701.PDS",
           "title": "P1570515ATMSSCIENCEAAT16005120734701.PDS"
          },
          "metadata__xml": {
           "description": "P1570515ATMSSCIENCEAAT16005120734701.PDS.xml",
           "href": "s3://uds-test-cumulus-protected/ATMS_SCIENCE_Group___1/P1570515ATMSSCIENCEAAT16005120734701.PDS.xml",
           "title": "P1570515ATMSSCIENCEAAT16005120734701.PDS.xml"
          }
         },
         "bbox": [
          0,
          0,
          0,
          0
         ],
         "collection": "L0_SNPP_ATMS_SCIENCE___1",
         "geometry": {
          "coordinates": [
           0,
           0
          ],
          "type": "Point"
         },
         "id": "P1570515ATMSSCIENCEAAT1600512073470",
         "links": [
          {
           "href": ".",
           "rel": "collection"
          }
         ],
         "properties": {
          "created": "2016-01-05T12:08:08.304Z",
          "datetime": "1970-01-01T00:27:38.458722105Z",
          "end_datetime": "2016-01-05T07:59:59.991Z",
          "start_datetime": "2016-01-05T06:00:00.009Z"
         },
         "stac_extensions": [],
         "stac_version": "1.0.0",
         "type": "Feature"
        },
        {
         "assets": {
          "data": {
           "description": "P1570515ATMSSCIENCEAAT16005170358300.PDS",
           "href": "s3://uds-test-cumulus-protected/ATMS_SCIENCE_Group___1/P1570515ATMSSCIENCEAAT16005170358300.PDS",
           "title": "P1570515ATMSSCIENCEAAT16005170358300.PDS"
          },
          "metadata__cmr": {
           "description": "P1570515ATMSSCIENCEAAT16005170358300.PDS.cmr.xml",
           "href": "s3://uds-test-cumulus-private/ATMS_SCIENCE_Group___1/P1570515ATMSSCIENCEAAT16005170358300.PDS.cmr.xml",
           "title": "P1570515ATMSSCIENCEAAT16005170358300.PDS.cmr.xml"
          },
          "metadata__data": {
           "description": "P1570515ATMSSCIENCEAAT16005170358301.PDS",
           "href": "s3://uds-test-cumulus-protected/ATMS_SCIENCE_Group___1/P1570515ATMSSCIENCEAAT16005170358301.PDS",
           "title": "P1570515ATMSSCIENCEAAT16005170358301.PDS"
          },
          "metadata__xml": {
           "description": "P1570515ATMSSCIENCEAAT16005170358301.PDS.xml",
           "href": "s3://uds-test-cumulus-protected/ATMS_SCIENCE_Group___1/P1570515ATMSSCIENCEAAT16005170358301.PDS.xml",
           "title": "P1570515ATMSSCIENCEAAT16005170358301.PDS.xml"
          }
         },
         "bbox": [
          0,
          0,
          0,
          0
         ],
         "collection": "L0_SNPP_ATMS_SCIENCE___1",
         "geometry": {
          "coordinates": [
           0,
           0
          ],
          "type": "Point"
         },
         "id": "P1570515ATMSSCIENCEAAT1600517035830",
         "links": [
          {
           "href": ".",
           "rel": "collection"
          }
         ],
         "properties": {
          "created": "2016-01-05T17:04:33.764Z",
          "datetime": "1970-01-01T00:27:38.458721554Z",
          "end_datetime": "2016-01-05T13:59:59.991Z",
          "start_datetime": "2016-01-05T12:00:00.009Z"
         },
         "stac_extensions": [],
         "stac_version": "1.0.0",
         "type": "Feature"
        },
        {
         "assets": {
          "data": {
           "description": "P1570515ATMSSCIENCEAAT16005051430100.PDS",
           "href": "s3://uds-test-cumulus-protected/ATMS_SCIENCE_Group___1/P1570515ATMSSCIENCEAAT16005051430100.PDS",
           "title": "P1570515ATMSSCIENCEAAT16005051430100.PDS"
          },
          "metadata__cmr": {
           "description": "P1570515ATMSSCIENCEAAT16005051430100.PDS.cmr.xml",
           "href": "s3://uds-test-cumulus-private/ATMS_SCIENCE_Group___1/P1570515ATMSSCIENCEAAT16005051430100.PDS.cmr.xml",
           "title": "P1570515ATMSSCIENCEAAT16005051430100.PDS.cmr.xml"
          },
          "metadata__data": {
           "description": "P1570515ATMSSCIENCEAAT16005051430101.PDS",
           "href": "s3://uds-test-cumulus-protected/ATMS_SCIENCE_Group___1/P1570515ATMSSCIENCEAAT16005051430101.PDS",
           "title": "P1570515ATMSSCIENCEAAT16005051430101.PDS"
          },
          "metadata__xml": {
           "description": "P1570515ATMSSCIENCEAAT16005051430101.PDS.xml",
           "href": "s3://uds-test-cumulus-protected/ATMS_SCIENCE_Group___1/P1570515ATMSSCIENCEAAT16005051430101.PDS.xml",
           "title": "P1570515ATMSSCIENCEAAT16005051430101.PDS.xml"
          }
         },
         "bbox": [
          0,
          0,
          0,
          0
         ],
         "collection": "L0_SNPP_ATMS_SCIENCE___1",
         "geometry": {
          "coordinates": [
           0,
           0
          ],
          "type": "Point"
         },
         "id": "P1570515ATMSSCIENCEAAT1600505143010",
         "links": [
          {
           "href": ".",
           "rel": "collection"
          }
         ],
         "properties": {
          "created": "2016-01-05T05:15:04.389Z",
          "datetime": "1970-01-01T00:27:38.458721448Z",
          "end_datetime": "2016-01-05T01:59:59.991Z",
          "start_datetime": "2016-01-05T00:00:00.009Z"
         },
         "stac_extensions": [],
         "stac_version": "1.0.0",
         "type": "Feature"
        },
        {
         "assets": {
          "data": {
           "description": "P1570515ATMSSCIENCEAAT16005151945300.PDS",
           "href": "s3://uds-test-cumulus-protected/ATMS_SCIENCE_Group___1/P1570515ATMSSCIENCEAAT16005151945300.PDS",
           "title": "P1570515ATMSSCIENCEAAT16005151945300.PDS"
          },
          "metadata__cmr": {
           "description": "P1570515ATMSSCIENCEAAT16005151945300.PDS.cmr.xml",
           "href": "s3://uds-test-cumulus-private/ATMS_SCIENCE_Group___1/P1570515ATMSSCIENCEAAT16005151945300.PDS.cmr.xml",
           "title": "P1570515ATMSSCIENCEAAT16005151945300.PDS.cmr.xml"
          },
          "metadata__data": {
           "description": "P1570515ATMSSCIENCEAAT16005151945301.PDS",
           "href": "s3://uds-test-cumulus-protected/ATMS_SCIENCE_Group___1/P1570515ATMSSCIENCEAAT16005151945301.PDS",
           "title": "P1570515ATMSSCIENCEAAT16005151945301.PDS"
          },
          "metadata__xml": {
           "description": "P1570515ATMSSCIENCEAAT16005151945301.PDS.xml",
           "href": "s3://uds-test-cumulus-protected/ATMS_SCIENCE_Group___1/P1570515ATMSSCIENCEAAT16005151945301.PDS.xml",
           "title": "P1570515ATMSSCIENCEAAT16005151945301.PDS.xml"
          }
         },
         "bbox": [
          0,
          0,
          0,
          0
         ],
         "collection": "L0_SNPP_ATMS_SCIENCE___1",
         "geometry": {
          "coordinates": [
           0,
           0
          ],
          "type": "Point"
         },
         "id": "P1570515ATMSSCIENCEAAT1600515194530",
         "links": [
          {
           "href": ".",
           "rel": "collection"
          }
         ],
         "properties": {
          "created": "2016-01-05T15:20:19.456Z",
          "datetime": "1970-01-01T00:27:38.458721607Z",
          "end_datetime": "2016-01-05T11:59:59.991Z",
          "start_datetime": "2016-01-05T10:00:00.009Z"
         },
         "stac_extensions": [],
         "stac_version": "1.0.0",
         "type": "Feature"
        },
        {
         "assets": {
          "data": {
           "description": "P1570515ATMSSCIENCEAAT16005133715700.PDS",
           "href": "s3://uds-test-cumulus-protected/ATMS_SCIENCE_Group___1/P1570515ATMSSCIENCEAAT16005133715700.PDS",
           "title": "P1570515ATMSSCIENCEAAT16005133715700.PDS"
          },
          "metadata__cmr": {
           "description": "P1570515ATMSSCIENCEAAT16005133715700.PDS.cmr.xml",
           "href": "s3://uds-test-cumulus-private/ATMS_SCIENCE_Group___1/P1570515ATMSSCIENCEAAT16005133715700.PDS.cmr.xml",
           "title": "P1570515ATMSSCIENCEAAT16005133715700.PDS.cmr.xml"
          },
          "metadata__data": {
           "description": "P1570515ATMSSCIENCEAAT16005133715701.PDS",
           "href": "s3://uds-test-cumulus-protected/ATMS_SCIENCE_Group___1/P1570515ATMSSCIENCEAAT16005133715701.PDS",
           "title": "P1570515ATMSSCIENCEAAT16005133715701.PDS"
          },
          "metadata__xml": {
           "description": "P1570515ATMSSCIENCEAAT16005133715701.PDS.xml",
           "href": "s3://uds-test-cumulus-protected/ATMS_SCIENCE_Group___1/P1570515ATMSSCIENCEAAT16005133715701.PDS.xml",
           "title": "P1570515ATMSSCIENCEAAT16005133715701.PDS.xml"
          }
         },
         "bbox": [
          0,
          0,
          0,
          0
         ],
         "collection": "L0_SNPP_ATMS_SCIENCE___1",
         "geometry": {
          "coordinates": [
           0,
           0
          ],
          "type": "Point"
         },
         "id": "P1570515ATMSSCIENCEAAT1600513371570",
         "links": [
          {
           "href": ".",
           "rel": "collection"
          }
         ],
         "properties": {
          "created": "2016-01-05T13:37:48.961Z",
          "datetime": "1970-01-01T00:27:38.458720873Z",
          "end_datetime": "2016-01-05T09:59:59.991Z",
          "start_datetime": "2016-01-05T08:00:00.009Z"
         },
         "stac_extensions": [],
         "stac_version": "1.0.0",
         "type": "Feature"
        },
        {
         "assets": {
          "data": {
           "description": "P1570515ATMSSCIENCEAAT16005065518100.PDS",
           "href": "s3://uds-test-cumulus-protected/ATMS_SCIENCE_Group___1/P1570515ATMSSCIENCEAAT16005065518100.PDS",
           "title": "P1570515ATMSSCIENCEAAT16005065518100.PDS"
          },
          "metadata__cmr": {
           "description": "P1570515ATMSSCIENCEAAT16005065518100.PDS.cmr.xml",
           "href": "s3://uds-test-cumulus-private/ATMS_SCIENCE_Group___1/P1570515ATMSSCIENCEAAT16005065518100.PDS.cmr.xml",
           "title": "P1570515ATMSSCIENCEAAT16005065518100.PDS.cmr.xml"
          },
          "metadata__data": {
           "description": "P1570515ATMSSCIENCEAAT16005065518101.PDS",
           "href": "s3://uds-test-cumulus-protected/ATMS_SCIENCE_Group___1/P1570515ATMSSCIENCEAAT16005065518101.PDS",
           "title": "P1570515ATMSSCIENCEAAT16005065518101.PDS"
          },
          "metadata__xml": {
           "description": "P1570515ATMSSCIENCEAAT16005065518101.PDS.xml",
           "href": "s3://uds-test-cumulus-protected/ATMS_SCIENCE_Group___1/P1570515ATMSSCIENCEAAT16005065518101.PDS.xml",
           "title": "P1570515ATMSSCIENCEAAT16005065518101.PDS.xml"
          }
         },
         "bbox": [
          0,
          0,
          0,
          0
         ],
         "collection": "L0_SNPP_ATMS_SCIENCE___1",
         "geometry": {
          "coordinates": [
           0,
           0
          ],
          "type": "Point"
         },
         "id": "P1570515ATMSSCIENCEAAT1600506551810",
         "links": [
          {
           "href": ".",
           "rel": "collection"
          }
         ],
         "properties": {
          "created": "2016-01-05T06:55:52.240Z",
          "datetime": "1970-01-01T00:27:38.458720140Z",
          "end_datetime": "2016-01-05T03:59:59.991Z",
          "start_datetime": "2016-01-05T02:00:00.009Z"
         },
         "stac_extensions": [],
         "stac_version": "1.0.0",
         "type": "Feature"
        },
        {
         "assets": {
          "data": {
           "description": "P1570515ATMSSCIENCEAAT16005102734900.PDS",
           "href": "s3://uds-test-cumulus-protected/ATMS_SCIENCE_Group___1/P1570515ATMSSCIENCEAAT16005102734900.PDS",
           "title": "P1570515ATMSSCIENCEAAT16005102734900.PDS"
          },
          "metadata__cmr": {
           "description": "P1570515ATMSSCIENCEAAT16005102734900.PDS.cmr.xml",
           "href": "s3://uds-test-cumulus-private/ATMS_SCIENCE_Group___1/P1570515ATMSSCIENCEAAT16005102734900.PDS.cmr.xml",
           "title": "P1570515ATMSSCIENCEAAT16005102734900.PDS.cmr.xml"
          },
          "metadata__data": {
           "description": "P1570515ATMSSCIENCEAAT16005102734901.PDS",
           "href": "s3://uds-test-cumulus-protected/ATMS_SCIENCE_Group___1/P1570515ATMSSCIENCEAAT16005102734901.PDS",
           "title": "P1570515ATMSSCIENCEAAT16005102734901.PDS"
          },
          "metadata__xml": {
           "description": "P1570515ATMSSCIENCEAAT16005102734901.PDS.xml",
           "href": "s3://uds-test-cumulus-protected/ATMS_SCIENCE_Group___1/P1570515ATMSSCIENCEAAT16005102734901.PDS.xml",
           "title": "P1570515ATMSSCIENCEAAT16005102734901.PDS.xml"
          }
         },
         "bbox": [
          0,
          0,
          0,
          0
         ],
         "collection": "L0_SNPP_ATMS_SCIENCE___1",
         "geometry": {
          "coordinates": [
           0,
           0
          ],
          "type": "Point"
         },
         "id": "P1570515ATMSSCIENCEAAT1600510273490",
         "links": [
          {
           "href": ".",
           "rel": "collection"
          }
         ],
         "properties": {
          "created": "2016-01-05T10:28:09.027Z",
          "datetime": "1970-01-01T00:27:38.458719773Z",
          "end_datetime": "2016-01-05T05:59:59.991Z",
          "start_datetime": "2016-01-05T04:00:00.009Z"
         },
         "stac_extensions": [],
         "stac_version": "1.0.0",
         "type": "Feature"
        },
        {
         "assets": {
          "data": {
           "description": "P1570515ATMSSCIENCEAAT16006233318100.PDS",
           "href": "s3://uds-test-cumulus-protected/ATMS_SCIENCE_Group___1/P1570515ATMSSCIENCEAAT16006233318100.PDS",
           "title": "P1570515ATMSSCIENCEAAT16006233318100.PDS"
          },
          "metadata__cmr": {
           "description": "P1570515ATMSSCIENCEAAT16006233318100.PDS.cmr.xml",
           "href": "s3://uds-test-cumulus-private/ATMS_SCIENCE_Group___1/P1570515ATMSSCIENCEAAT16006233318100.PDS.cmr.xml",
           "title": "P1570515ATMSSCIENCEAAT16006233318100.PDS.cmr.xml"
          },
          "metadata__data": {
           "description": "P1570515ATMSSCIENCEAAT16006233318101.PDS",
           "href": "s3://uds-test-cumulus-protected/ATMS_SCIENCE_Group___1/P1570515ATMSSCIENCEAAT16006233318101.PDS",
           "title": "P1570515ATMSSCIENCEAAT16006233318101.PDS"
          },
          "metadata__xml": {
           "description": "P1570515ATMSSCIENCEAAT16006233318101.PDS.xml",
           "href": "s3://uds-test-cumulus-protected/ATMS_SCIENCE_Group___1/P1570515ATMSSCIENCEAAT16006233318101.PDS.xml",
           "title": "P1570515ATMSSCIENCEAAT16006233318101.PDS.xml"
          }
         },
         "bbox": [
          0,
          0,
          0,
          0
         ],
         "collection": "L0_SNPP_ATMS_SCIENCE___1",
         "geometry": {
          "coordinates": [
           0,
           0
          ],
          "type": "Point"
         },
         "id": "P1570515ATMSSCIENCEAAT1600623331810",
         "links": [
          {
           "href": ".",
           "rel": "collection"
          }
         ],
         "properties": {
          "created": "2016-01-06T23:33:52.291Z",
          "datetime": "1970-01-01T00:27:38.458695073Z",
          "end_datetime": "2016-01-06T19:59:59.991Z",
          "start_datetime": "2016-01-06T18:00:00.009Z"
         },
         "stac_extensions": [],
         "stac_version": "1.0.0",
         "type": "Feature"
        },
        {
         "assets": {
          "data": {
           "description": "P1570515ATMSSCIENCEAAT16007025542100.PDS",
           "href": "s3://uds-test-cumulus-protected/ATMS_SCIENCE_Group___1/P1570515ATMSSCIENCEAAT16007025542100.PDS",
           "title": "P1570515ATMSSCIENCEAAT16007025542100.PDS"
          },
          "metadata__cmr": {
           "description": "P1570515ATMSSCIENCEAAT16007025542100.PDS.cmr.xml",
           "href": "s3://uds-test-cumulus-private/ATMS_SCIENCE_Group___1/P1570515ATMSSCIENCEAAT16007025542100.PDS.cmr.xml",
           "title": "P1570515ATMSSCIENCEAAT16007025542100.PDS.cmr.xml"
          },
          "metadata__data": {
           "description": "P1570515ATMSSCIENCEAAT16007025542101.PDS",
           "href": "s3://uds-test-cumulus-protected/ATMS_SCIENCE_Group___1/P1570515ATMSSCIENCEAAT16007025542101.PDS",
           "title": "P1570515ATMSSCIENCEAAT16007025542101.PDS"
          },
          "metadata__xml": {
           "description": "P1570515ATMSSCIENCEAAT16007025542101.PDS.xml",
           "href": "s3://uds-test-cumulus-protected/ATMS_SCIENCE_Group___1/P1570515ATMSSCIENCEAAT16007025542101.PDS.xml",
           "title": "P1570515ATMSSCIENCEAAT16007025542101.PDS.xml"
          }
         },
         "bbox": [
          0,
          0,
          0,
          0
         ],
         "collection": "L0_SNPP_ATMS_SCIENCE___1",
         "geometry": {
          "coordinates": [
           0,
           0
          ],
          "type": "Point"
         },
         "id": "P1570515ATMSSCIENCEAAT1600702554210",
         "links": [
          {
           "href": ".",
           "rel": "collection"
          }
         ],
         "properties": {
          "created": "2016-01-07T02:56:17.131Z",
          "datetime": "1970-01-01T00:27:38.458694772Z",
          "end_datetime": "2016-01-06T23:59:59.991Z",
          "start_datetime": "2016-01-06T22:00:00.009Z"
         },
         "stac_extensions": [],
         "stac_version": "1.0.0",
         "type": "Feature"
        },
        {
         "assets": {
          "data": {
           "description": "P1570515ATMSSCIENCEAAT16006204125000.PDS",
           "href": "s3://uds-test-cumulus-protected/ATMS_SCIENCE_Group___1/P1570515ATMSSCIENCEAAT16006204125000.PDS",
           "title": "P1570515ATMSSCIENCEAAT16006204125000.PDS"
          },
          "metadata__cmr": {
           "description": "P1570515ATMSSCIENCEAAT16006204125000.PDS.cmr.xml",
           "href": "s3://uds-test-cumulus-private/ATMS_SCIENCE_Group___1/P1570515ATMSSCIENCEAAT16006204125000.PDS.cmr.xml",
           "title": "P1570515ATMSSCIENCEAAT16006204125000.PDS.cmr.xml"
          },
          "metadata__data": {
           "description": "P1570515ATMSSCIENCEAAT16006204125001.PDS",
           "href": "s3://uds-test-cumulus-protected/ATMS_SCIENCE_Group___1/P1570515ATMSSCIENCEAAT16006204125001.PDS",
           "title": "P1570515ATMSSCIENCEAAT16006204125001.PDS"
          },
          "metadata__xml": {
           "description": "P1570515ATMSSCIENCEAAT16006204125001.PDS.xml",
           "href": "s3://uds-test-cumulus-protected/ATMS_SCIENCE_Group___1/P1570515ATMSSCIENCEAAT16006204125001.PDS.xml",
           "title": "P1570515ATMSSCIENCEAAT16006204125001.PDS.xml"
          }
         },
         "bbox": [
          0,
          0,
          0,
          0
         ],
         "collection": "L0_SNPP_ATMS_SCIENCE___1",
         "geometry": {
          "coordinates": [
           0,
           0
          ],
          "type": "Point"
         },
         "id": "P1570515ATMSSCIENCEAAT1600620412500",
         "links": [
          {
           "href": ".",
           "rel": "collection"
          }
         ],
         "properties": {
          "created": "2016-01-06T20:42:02.913Z",
          "datetime": "1970-01-01T00:27:38.458690188Z",
          "end_datetime": "2016-01-06T13:59:59.991Z",
          "start_datetime": "2016-01-06T12:00:00.009Z"
         },
         "stac_extensions": [],
         "stac_version": "1.0.0",
         "type": "Feature"
        },
        {
         "assets": {
          "data": {
           "description": "P1570515ATMSSCIENCEAAT16006215043600.PDS",
           "href": "s3://uds-test-cumulus-protected/ATMS_SCIENCE_Group___1/P1570515ATMSSCIENCEAAT16006215043600.PDS",
           "title": "P1570515ATMSSCIENCEAAT16006215043600.PDS"
          },
          "metadata__cmr": {
           "description": "P1570515ATMSSCIENCEAAT16006215043600.PDS.cmr.xml",
           "href": "s3://uds-test-cumulus-private/ATMS_SCIENCE_Group___1/P1570515ATMSSCIENCEAAT16006215043600.PDS.cmr.xml",
           "title": "P1570515ATMSSCIENCEAAT16006215043600.PDS.cmr.xml"
          },
          "metadata__data": {
           "description": "P1570515ATMSSCIENCEAAT16006215043601.PDS",
           "href": "s3://uds-test-cumulus-protected/ATMS_SCIENCE_Group___1/P1570515ATMSSCIENCEAAT16006215043601.PDS",
           "title": "P1570515ATMSSCIENCEAAT16006215043601.PDS"
          },
          "metadata__xml": {
           "description": "P1570515ATMSSCIENCEAAT16006215043601.PDS.xml",
           "href": "s3://uds-test-cumulus-protected/ATMS_SCIENCE_Group___1/P1570515ATMSSCIENCEAAT16006215043601.PDS.xml",
           "title": "P1570515ATMSSCIENCEAAT16006215043601.PDS.xml"
          }
         },
         "bbox": [
          0,
          0,
          0,
          0
         ],
         "collection": "L0_SNPP_ATMS_SCIENCE___1",
         "geometry": {
          "coordinates": [
           0,
           0
          ],
          "type": "Point"
         },
         "id": "P1570515ATMSSCIENCEAAT1600621504360",
         "links": [
          {
           "href": ".",
           "rel": "collection"
          }
         ],
         "properties": {
          "created": "2016-01-06T21:51:17.556Z",
          "datetime": "1970-01-01T00:27:38.458690127Z",
          "end_datetime": "2016-01-06T17:59:59.991Z",
          "start_datetime": "2016-01-06T16:00:00.009Z"
         },
         "stac_extensions": [],
         "stac_version": "1.0.0",
         "type": "Feature"
        },
        {
         "assets": {
          "data": {
           "description": "P1570515ATMSSCIENCEAAT16006131807700.PDS",
           "href": "s3://uds-test-cumulus-protected/ATMS_SCIENCE_Group___1/P1570515ATMSSCIENCEAAT16006131807700.PDS",
           "title": "P1570515ATMSSCIENCEAAT16006131807700.PDS"
          },
          "metadata__cmr": {
           "description": "P1570515ATMSSCIENCEAAT16006131807700.PDS.cmr.xml",
           "href": "s3://uds-test-cumulus-private/ATMS_SCIENCE_Group___1/P1570515ATMSSCIENCEAAT16006131807700.PDS.cmr.xml",
           "title": "P1570515ATMSSCIENCEAAT16006131807700.PDS.cmr.xml"
          },
          "metadata__data": {
           "description": "P1570515ATMSSCIENCEAAT16006131807701.PDS",
           "href": "s3://uds-test-cumulus-protected/ATMS_SCIENCE_Group___1/P1570515ATMSSCIENCEAAT16006131807701.PDS",
           "title": "P1570515ATMSSCIENCEAAT16006131807701.PDS"
          },
          "metadata__xml": {
           "description": "P1570515ATMSSCIENCEAAT16006131807701.PDS.xml",
           "href": "s3://uds-test-cumulus-protected/ATMS_SCIENCE_Group___1/P1570515ATMSSCIENCEAAT16006131807701.PDS.xml",
           "title": "P1570515ATMSSCIENCEAAT16006131807701.PDS.xml"
          }
         },
         "bbox": [
          0,
          0,
          0,
          0
         ],
         "collection": "L0_SNPP_ATMS_SCIENCE___1",
         "geometry": {
          "coordinates": [
           0,
           0
          ],
          "type": "Point"
         },
         "id": "P1570515ATMSSCIENCEAAT1600613180770",
         "links": [
          {
           "href": ".",
           "rel": "collection"
          }
         ],
         "properties": {
          "created": "2016-01-06T13:18:41.205Z",
          "datetime": "1970-01-01T00:27:38.458690293Z",
          "end_datetime": "2016-01-06T09:59:59.991Z",
          "start_datetime": "2016-01-06T08:00:00.009Z"
         },
         "stac_extensions": [],
         "stac_version": "1.0.0",
         "type": "Feature"
        },
        {
         "assets": {
          "data": {
           "description": "P1570515ATMSSCIENCEAAT16006095656400.PDS",
           "href": "s3://uds-test-cumulus-protected/ATMS_SCIENCE_Group___1/P1570515ATMSSCIENCEAAT16006095656400.PDS",
           "title": "P1570515ATMSSCIENCEAAT16006095656400.PDS"
          },
          "metadata__cmr": {
           "description": "P1570515ATMSSCIENCEAAT16006095656400.PDS.cmr.xml",
           "href": "s3://uds-test-cumulus-private/ATMS_SCIENCE_Group___1/P1570515ATMSSCIENCEAAT16006095656400.PDS.cmr.xml",
           "title": "P1570515ATMSSCIENCEAAT16006095656400.PDS.cmr.xml"
          },
          "metadata__data": {
           "description": "P1570515ATMSSCIENCEAAT16006095656401.PDS",
           "href": "s3://uds-test-cumulus-protected/ATMS_SCIENCE_Group___1/P1570515ATMSSCIENCEAAT16006095656401.PDS",
           "title": "P1570515ATMSSCIENCEAAT16006095656401.PDS"
          },
          "metadata__xml": {
           "description": "P1570515ATMSSCIENCEAAT16006095656401.PDS.xml",
           "href": "s3://uds-test-cumulus-protected/ATMS_SCIENCE_Group___1/P1570515ATMSSCIENCEAAT16006095656401.PDS.xml",
           "title": "P1570515ATMSSCIENCEAAT16006095656401.PDS.xml"
          }
         },
         "bbox": [
          0,
          0,
          0,
          0
         ],
         "collection": "L0_SNPP_ATMS_SCIENCE___1",
         "geometry": {
          "coordinates": [
           0,
           0
          ],
          "type": "Point"
         },
         "id": "P1570515ATMSSCIENCEAAT1600609565640",
         "links": [
          {
           "href": ".",
           "rel": "collection"
          }
         ],
         "properties": {
          "created": "2016-01-06T09:57:31.520Z",
          "datetime": "1970-01-01T00:27:38.458690202Z",
          "end_datetime": "2016-01-06T05:59:59.991Z",
          "start_datetime": "2016-01-06T04:00:00.009Z"
         },
         "stac_extensions": [],
         "stac_version": "1.0.0",
         "type": "Feature"
        },
        {
         "assets": {
          "data": {
           "description": "P1570515ATMSSCIENCEAAT16006113621400.PDS",
           "href": "s3://uds-test-cumulus-protected/ATMS_SCIENCE_Group___1/P1570515ATMSSCIENCEAAT16006113621400.PDS",
           "title": "P1570515ATMSSCIENCEAAT16006113621400.PDS"
          },
          "metadata__cmr": {
           "description": "P1570515ATMSSCIENCEAAT16006113621400.PDS.cmr.xml",
           "href": "s3://uds-test-cumulus-private/ATMS_SCIENCE_Group___1/P1570515ATMSSCIENCEAAT16006113621400.PDS.cmr.xml",
           "title": "P1570515ATMSSCIENCEAAT16006113621400.PDS.cmr.xml"
          },
          "metadata__data": {
           "description": "P1570515ATMSSCIENCEAAT16006113621401.PDS",
           "href": "s3://uds-test-cumulus-protected/ATMS_SCIENCE_Group___1/P1570515ATMSSCIENCEAAT16006113621401.PDS",
           "title": "P1570515ATMSSCIENCEAAT16006113621401.PDS"
          },
          "metadata__xml": {
           "description": "P1570515ATMSSCIENCEAAT16006113621401.PDS.xml",
           "href": "s3://uds-test-cumulus-protected/ATMS_SCIENCE_Group___1/P1570515ATMSSCIENCEAAT16006113621401.PDS.xml",
           "title": "P1570515ATMSSCIENCEAAT16006113621401.PDS.xml"
          }
         },
         "bbox": [
          0,
          0,
          0,
          0
         ],
         "collection": "L0_SNPP_ATMS_SCIENCE___1",
         "geometry": {
          "coordinates": [
           0,
           0
          ],
          "type": "Point"
         },
         "id": "P1570515ATMSSCIENCEAAT1600611362140",
         "links": [
          {
           "href": ".",
           "rel": "collection"
          }
         ],
         "properties": {
          "created": "2016-01-06T11:36:56.330Z",
          "datetime": "1970-01-01T00:27:38.458690412Z",
          "end_datetime": "2016-01-06T07:59:59.991Z",
          "start_datetime": "2016-01-06T06:00:00.009Z"
         },
         "stac_extensions": [],
         "stac_version": "1.0.0",
         "type": "Feature"
        },
        {
         "assets": {
          "data": {
           "description": "P1570515ATMSSCIENCEAAT16006204348400.PDS",
           "href": "s3://uds-test-cumulus-protected/ATMS_SCIENCE_Group___1/P1570515ATMSSCIENCEAAT16006204348400.PDS",
           "title": "P1570515ATMSSCIENCEAAT16006204348400.PDS"
          },
          "metadata__cmr": {
           "description": "P1570515ATMSSCIENCEAAT16006204348400.PDS.cmr.xml",
           "href": "s3://uds-test-cumulus-private/ATMS_SCIENCE_Group___1/P1570515ATMSSCIENCEAAT16006204348400.PDS.cmr.xml",
           "title": "P1570515ATMSSCIENCEAAT16006204348400.PDS.cmr.xml"
          },
          "metadata__data": {
           "description": "P1570515ATMSSCIENCEAAT16006204348401.PDS",
           "href": "s3://uds-test-cumulus-protected/ATMS_SCIENCE_Group___1/P1570515ATMSSCIENCEAAT16006204348401.PDS",
           "title": "P1570515ATMSSCIENCEAAT16006204348401.PDS"
          },
          "metadata__xml": {
           "description": "P1570515ATMSSCIENCEAAT16006204348401.PDS.xml",
           "href": "s3://uds-test-cumulus-protected/ATMS_SCIENCE_Group___1/P1570515ATMSSCIENCEAAT16006204348401.PDS.xml",
           "title": "P1570515ATMSSCIENCEAAT16006204348401.PDS.xml"
          }
         },
         "bbox": [
          0,
          0,
          0,
          0
         ],
         "collection": "L0_SNPP_ATMS_SCIENCE___1",
         "geometry": {
          "coordinates": [
           0,
           0
          ],
          "type": "Point"
         },
         "id": "P1570515ATMSSCIENCEAAT1600620434840",
         "links": [
          {
           "href": ".",
           "rel": "collection"
          }
         ],
         "properties": {
          "created": "2016-01-06T20:44:25.376Z",
          "datetime": "1970-01-01T00:27:38.458689704Z",
          "end_datetime": "2016-01-06T15:59:59.991Z",
          "start_datetime": "2016-01-06T14:00:00.009Z"
         },
         "stac_extensions": [],
         "stac_version": "1.0.0",
         "type": "Feature"
        },
        {
         "assets": {
          "data": {
           "description": "P1570515ATMSSCIENCEAAT16006182019900.PDS",
           "href": "s3://uds-test-cumulus-protected/ATMS_SCIENCE_Group___1/P1570515ATMSSCIENCEAAT16006182019900.PDS",
           "title": "P1570515ATMSSCIENCEAAT16006182019900.PDS"
          },
          "metadata__cmr": {
           "description": "P1570515ATMSSCIENCEAAT16006182019900.PDS.cmr.xml",
           "href": "s3://uds-test-cumulus-private/ATMS_SCIENCE_Group___1/P1570515ATMSSCIENCEAAT16006182019900.PDS.cmr.xml",
           "title": "P1570515ATMSSCIENCEAAT16006182019900.PDS.cmr.xml"
          },
          "metadata__data": {
           "description": "P1570515ATMSSCIENCEAAT16006182019901.PDS",
           "href": "s3://uds-test-cumulus-protected/ATMS_SCIENCE_Group___1/P1570515ATMSSCIENCEAAT16006182019901.PDS",
           "title": "P1570515ATMSSCIENCEAAT16006182019901.PDS"
          },
          "metadata__xml": {
           "description": "P1570515ATMSSCIENCEAAT16006182019901.PDS.xml",
           "href": "s3://uds-test-cumulus-protected/ATMS_SCIENCE_Group___1/P1570515ATMSSCIENCEAAT16006182019901.PDS.xml",
           "title": "P1570515ATMSSCIENCEAAT16006182019901.PDS.xml"
          }
         },
         "bbox": [
          0,
          0,
          0,
          0
         ],
         "collection": "L0_SNPP_ATMS_SCIENCE___1",
         "geometry": {
          "coordinates": [
           0,
           0
          ],
          "type": "Point"
         },
         "id": "P1570515ATMSSCIENCEAAT1600618201990",
         "links": [
          {
           "href": ".",
           "rel": "collection"
          }
         ],
         "properties": {
          "created": "2016-01-06T18:20:54.134Z",
          "datetime": "1970-01-01T00:27:38.458689509Z",
          "end_datetime": "2016-01-06T03:59:59.991Z",
          "start_datetime": "2016-01-06T02:00:00.009Z"
         },
         "stac_extensions": [],
         "stac_version": "1.0.0",
         "type": "Feature"
        },
        {
         "assets": {
          "data": {
           "description": "P1570515ATMSSCIENCEAAT16007012623300.PDS",
           "href": "s3://uds-test-cumulus-protected/ATMS_SCIENCE_Group___1/P1570515ATMSSCIENCEAAT16007012623300.PDS",
           "title": "P1570515ATMSSCIENCEAAT16007012623300.PDS"
          },
          "metadata__cmr": {
           "description": "P1570515ATMSSCIENCEAAT16007012623300.PDS.cmr.xml",
           "href": "s3://uds-test-cumulus-private/ATMS_SCIENCE_Group___1/P1570515ATMSSCIENCEAAT16007012623300.PDS.cmr.xml",
           "title": "P1570515ATMSSCIENCEAAT16007012623300.PDS.cmr.xml"
          },
          "metadata__data": {
           "description": "P1570515ATMSSCIENCEAAT16007012623301.PDS",
           "href": "s3://uds-test-cumulus-protected/ATMS_SCIENCE_Group___1/P1570515ATMSSCIENCEAAT16007012623301.PDS",
           "title": "P1570515ATMSSCIENCEAAT16007012623301.PDS"
          },
          "metadata__xml": {
           "description": "P1570515ATMSSCIENCEAAT16007012623301.PDS.xml",
           "href": "s3://uds-test-cumulus-protected/ATMS_SCIENCE_Group___1/P1570515ATMSSCIENCEAAT16007012623301.PDS.xml",
           "title": "P1570515ATMSSCIENCEAAT16007012623301.PDS.xml"
          }
         },
         "bbox": [
          0,
          0,
          0,
          0
         ],
         "collection": "L0_SNPP_ATMS_SCIENCE___1",
         "geometry": {
          "coordinates": [
           0,
           0
          ],
          "type": "Point"
         },
         "id": "P1570515ATMSSCIENCEAAT1600701262330",
         "links": [
          {
           "href": ".",
           "rel": "collection"
          }
         ],
         "properties": {
          "created": "2016-01-07T01:26:57.236Z",
          "datetime": "1970-01-01T00:27:38.458689733Z",
          "end_datetime": "2016-01-06T21:59:59.991Z",
          "start_datetime": "2016-01-06T20:00:00.009Z"
         },
         "stac_extensions": [],
         "stac_version": "1.0.0",
         "type": "Feature"
        },
        {
         "assets": {
          "data": {
           "description": "P1570515ATMSSCIENCEAAT16006150303100.PDS",
           "href": "s3://uds-test-cumulus-protected/ATMS_SCIENCE_Group___1/P1570515ATMSSCIENCEAAT16006150303100.PDS",
           "title": "P1570515ATMSSCIENCEAAT16006150303100.PDS"
          },
          "metadata__cmr": {
           "description": "P1570515ATMSSCIENCEAAT16006150303100.PDS.cmr.xml",
           "href": "s3://uds-test-cumulus-private/ATMS_SCIENCE_Group___1/P1570515ATMSSCIENCEAAT16006150303100.PDS.cmr.xml",
           "title": "P1570515ATMSSCIENCEAAT16006150303100.PDS.cmr.xml"
          },
          "metadata__data": {
           "description": "P1570515ATMSSCIENCEAAT16006150303101.PDS",
           "href": "s3://uds-test-cumulus-protected/ATMS_SCIENCE_Group___1/P1570515ATMSSCIENCEAAT16006150303101.PDS",
           "title": "P1570515ATMSSCIENCEAAT16006150303101.PDS"
          },
          "metadata__xml": {
           "description": "P1570515ATMSSCIENCEAAT16006150303101.PDS.xml",
           "href": "s3://uds-test-cumulus-protected/ATMS_SCIENCE_Group___1/P1570515ATMSSCIENCEAAT16006150303101.PDS.xml",
           "title": "P1570515ATMSSCIENCEAAT16006150303101.PDS.xml"
          }
         },
         "bbox": [
          0,
          0,
          0,
          0
         ],
         "collection": "L0_SNPP_ATMS_SCIENCE___1",
         "geometry": {
          "coordinates": [
           0,
           0
          ],
          "type": "Point"
         },
         "id": "P1570515ATMSSCIENCEAAT1600615030310",
         "links": [
          {
           "href": ".",
           "rel": "collection"
          }
         ],
         "properties": {
          "created": "2016-01-06T15:03:36.677Z",
          "datetime": "1970-01-01T00:27:38.458688928Z",
          "end_datetime": "2016-01-06T11:59:59.991Z",
          "start_datetime": "2016-01-06T10:00:00.009Z"
         },
         "stac_extensions": [],
         "stac_version": "1.0.0",
         "type": "Feature"
        },
        {
         "assets": {
          "data": {
           "description": "P1570515ATMSSCIENCEAAT16006045535200.PDS",
           "href": "s3://uds-test-cumulus-protected/ATMS_SCIENCE_Group___1/P1570515ATMSSCIENCEAAT16006045535200.PDS",
           "title": "P1570515ATMSSCIENCEAAT16006045535200.PDS"
          },
          "metadata__cmr": {
           "description": "P1570515ATMSSCIENCEAAT16006045535200.PDS.cmr.xml",
           "href": "s3://uds-test-cumulus-private/ATMS_SCIENCE_Group___1/P1570515ATMSSCIENCEAAT16006045535200.PDS.cmr.xml",
           "title": "P1570515ATMSSCIENCEAAT16006045535200.PDS.cmr.xml"
          },
          "metadata__data": {
           "description": "P1570515ATMSSCIENCEAAT16006045535201.PDS",
           "href": "s3://uds-test-cumulus-protected/ATMS_SCIENCE_Group___1/P1570515ATMSSCIENCEAAT16006045535201.PDS",
           "title": "P1570515ATMSSCIENCEAAT16006045535201.PDS"
          },
          "metadata__xml": {
           "description": "P1570515ATMSSCIENCEAAT16006045535201.PDS.xml",
           "href": "s3://uds-test-cumulus-protected/ATMS_SCIENCE_Group___1/P1570515ATMSSCIENCEAAT16006045535201.PDS.xml",
           "title": "P1570515ATMSSCIENCEAAT16006045535201.PDS.xml"
          }
         },
         "bbox": [
          0,
          0,
          0,
          0
         ],
         "collection": "L0_SNPP_ATMS_SCIENCE___1",
         "geometry": {
          "coordinates": [
           0,
           0
          ],
          "type": "Point"
         },
         "id": "P1570515ATMSSCIENCEAAT1600604553520",
         "links": [
          {
           "href": ".",
           "rel": "collection"
          }
         ],
         "properties": {
          "created": "2016-01-06T04:56:10.101Z",
          "datetime": "1970-01-01T00:27:38.458688593Z",
          "end_datetime": "2016-01-06T01:59:59.991Z",
          "start_datetime": "2016-01-06T00:00:00.009Z"
         },
         "stac_extensions": [],
         "stac_version": "1.0.0",
         "type": "Feature"
        },
        {
         "assets": {
          "data": {
           "description": "P1570515ATMSSCIENCEAAT16008041729700.PDS",
           "href": "s3://uds-test-cumulus-protected/ATMS_SCIENCE_Group___1/P1570515ATMSSCIENCEAAT16008041729700.PDS",
           "title": "P1570515ATMSSCIENCEAAT16008041729700.PDS"
          },
          "metadata__cmr": {
           "description": "P1570515ATMSSCIENCEAAT16008041729700.PDS.cmr.xml",
           "href": "s3://uds-test-cumulus-private/ATMS_SCIENCE_Group___1/P1570515ATMSSCIENCEAAT16008041729700.PDS.cmr.xml",
           "title": "P1570515ATMSSCIENCEAAT16008041729700.PDS.cmr.xml"
          },
          "metadata__data": {
           "description": "P1570515ATMSSCIENCEAAT16008041729701.PDS",
           "href": "s3://uds-test-cumulus-protected/ATMS_SCIENCE_Group___1/P1570515ATMSSCIENCEAAT16008041729701.PDS",
           "title": "P1570515ATMSSCIENCEAAT16008041729701.PDS"
          },
          "metadata__xml": {
           "description": "P1570515ATMSSCIENCEAAT16008041729701.PDS.xml",
           "href": "s3://uds-test-cumulus-protected/ATMS_SCIENCE_Group___1/P1570515ATMSSCIENCEAAT16008041729701.PDS.xml",
           "title": "P1570515ATMSSCIENCEAAT16008041729701.PDS.xml"
          }
         },
         "bbox": [
          0,
          0,
          0,
          0
         ],
         "collection": "L0_SNPP_ATMS_SCIENCE___1",
         "geometry": {
          "coordinates": [
           0,
           0
          ],
          "type": "Point"
         },
         "id": "P1570515ATMSSCIENCEAAT1600804172970",
         "links": [
          {
           "href": ".",
           "rel": "collection"
          }
         ],
         "properties": {
          "created": "2016-01-08T04:18:03.162Z",
          "datetime": "1970-01-01T00:27:38.458664153Z",
          "end_datetime": "2016-01-07T23:59:59.991Z",
          "start_datetime": "2016-01-07T22:00:00.009Z"
         },
         "stac_extensions": [],
         "stac_version": "1.0.0",
         "type": "Feature"
        },
        {
         "assets": {
          "data": {
           "description": "P1570515ATMSSCIENCEAAT16008005519100.PDS",
           "href": "s3://uds-test-cumulus-protected/ATMS_SCIENCE_Group___1/P1570515ATMSSCIENCEAAT16008005519100.PDS",
           "title": "P1570515ATMSSCIENCEAAT16008005519100.PDS"
          },
          "metadata__cmr": {
           "description": "P1570515ATMSSCIENCEAAT16008005519100.PDS.cmr.xml",
           "href": "s3://uds-test-cumulus-private/ATMS_SCIENCE_Group___1/P1570515ATMSSCIENCEAAT16008005519100.PDS.cmr.xml",
           "title": "P1570515ATMSSCIENCEAAT16008005519100.PDS.cmr.xml"
          },
          "metadata__data": {
           "description": "P1570515ATMSSCIENCEAAT16008005519101.PDS",
           "href": "s3://uds-test-cumulus-protected/ATMS_SCIENCE_Group___1/P1570515ATMSSCIENCEAAT16008005519101.PDS",
           "title": "P1570515ATMSSCIENCEAAT16008005519101.PDS"
          },
          "metadata__xml": {
           "description": "P1570515ATMSSCIENCEAAT16008005519101.PDS.xml",
           "href": "s3://uds-test-cumulus-protected/ATMS_SCIENCE_Group___1/P1570515ATMSSCIENCEAAT16008005519101.PDS.xml",
           "title": "P1570515ATMSSCIENCEAAT16008005519101.PDS.xml"
          }
         },
         "bbox": [
          0,
          0,
          0,
          0
         ],
         "collection": "L0_SNPP_ATMS_SCIENCE___1",
         "geometry": {
          "coordinates": [
           0,
           0
          ],
          "type": "Point"
         },
         "id": "P1570515ATMSSCIENCEAAT1600800551910",
         "links": [
          {
           "href": ".",
           "rel": "collection"
          }
         ],
         "properties": {
          "created": "2016-01-08T00:55:53.728Z",
          "datetime": "1970-01-01T00:27:38.458663107Z",
          "end_datetime": "2016-01-07T21:59:59.991Z",
          "start_datetime": "2016-01-07T20:00:00.009Z"
         },
         "stac_extensions": [],
         "stac_version": "1.0.0",
         "type": "Feature"
        },
        {
         "assets": {
          "data": {
           "description": "P1570515ATMSSCIENCEAAT16007194800200.PDS",
           "href": "s3://uds-test-cumulus-protected/ATMS_SCIENCE_Group___1/P1570515ATMSSCIENCEAAT16007194800200.PDS",
           "title": "P1570515ATMSSCIENCEAAT16007194800200.PDS"
          },
          "metadata__cmr": {
           "description": "P1570515ATMSSCIENCEAAT16007194800200.PDS.cmr.xml",
           "href": "s3://uds-test-cumulus-private/ATMS_SCIENCE_Group___1/P1570515ATMSSCIENCEAAT16007194800200.PDS.cmr.xml",
           "title": "P1570515ATMSSCIENCEAAT16007194800200.PDS.cmr.xml"
          },
          "metadata__data": {
           "description": "P1570515ATMSSCIENCEAAT16007194800201.PDS",
           "href": "s3://uds-test-cumulus-protected/ATMS_SCIENCE_Group___1/P1570515ATMSSCIENCEAAT16007194800201.PDS",
           "title": "P1570515ATMSSCIENCEAAT16007194800201.PDS"
          },
          "metadata__xml": {
           "description": "P1570515ATMSSCIENCEAAT16007194800201.PDS.xml",
           "href": "s3://uds-test-cumulus-protected/ATMS_SCIENCE_Group___1/P1570515ATMSSCIENCEAAT16007194800201.PDS.xml",
           "title": "P1570515ATMSSCIENCEAAT16007194800201.PDS.xml"
          }
         },
         "bbox": [
          0,
          0,
          0,
          0
         ],
         "collection": "L0_SNPP_ATMS_SCIENCE___1",
         "geometry": {
          "coordinates": [
           0,
           0
          ],
          "type": "Point"
         },
         "id": "P1570515ATMSSCIENCEAAT1600719480020",
         "links": [
          {
           "href": ".",
           "rel": "collection"
          }
         ],
         "properties": {
          "created": "2016-01-07T19:48:34.462Z",
          "datetime": "1970-01-01T00:27:38.458658653Z",
          "end_datetime": "2016-01-07T15:59:59.991Z",
          "start_datetime": "2016-01-07T14:00:00.009Z"
         },
         "stac_extensions": [],
         "stac_version": "1.0.0",
         "type": "Feature"
        },
        {
         "assets": {
          "data": {
           "description": "P1570515ATMSSCIENCEAAT16007231334100.PDS",
           "href": "s3://uds-test-cumulus-protected/ATMS_SCIENCE_Group___1/P1570515ATMSSCIENCEAAT16007231334100.PDS",
           "title": "P1570515ATMSSCIENCEAAT16007231334100.PDS"
          },
          "metadata__cmr": {
           "description": "P1570515ATMSSCIENCEAAT16007231334100.PDS.cmr.xml",
           "href": "s3://uds-test-cumulus-private/ATMS_SCIENCE_Group___1/P1570515ATMSSCIENCEAAT16007231334100.PDS.cmr.xml",
           "title": "P1570515ATMSSCIENCEAAT16007231334100.PDS.cmr.xml"
          },
          "metadata__data": {
           "description": "P1570515ATMSSCIENCEAAT16007231334101.PDS",
           "href": "s3://uds-test-cumulus-protected/ATMS_SCIENCE_Group___1/P1570515ATMSSCIENCEAAT16007231334101.PDS",
           "title": "P1570515ATMSSCIENCEAAT16007231334101.PDS"
          },
          "metadata__xml": {
           "description": "P1570515ATMSSCIENCEAAT16007231334101.PDS.xml",
           "href": "s3://uds-test-cumulus-protected/ATMS_SCIENCE_Group___1/P1570515ATMSSCIENCEAAT16007231334101.PDS.xml",
           "title": "P1570515ATMSSCIENCEAAT16007231334101.PDS.xml"
          }
         },
         "bbox": [
          0,
          0,
          0,
          0
         ],
         "collection": "L0_SNPP_ATMS_SCIENCE___1",
         "geometry": {
          "coordinates": [
           0,
           0
          ],
          "type": "Point"
         },
         "id": "P1570515ATMSSCIENCEAAT1600723133410",
         "links": [
          {
           "href": ".",
           "rel": "collection"
          }
         ],
         "properties": {
          "created": "2016-01-07T23:14:07.576Z",
          "datetime": "1970-01-01T00:27:38.458658525Z",
          "end_datetime": "2016-01-07T19:59:59.991Z",
          "start_datetime": "2016-01-07T18:00:00.009Z"
         },
         "stac_extensions": [],
         "stac_version": "1.0.0",
         "type": "Feature"
        },
        {
         "assets": {
          "data": {
           "description": "P1570515ATMSSCIENCEAAT16007075951300.PDS",
           "href": "s3://uds-test-cumulus-protected/ATMS_SCIENCE_Group___1/P1570515ATMSSCIENCEAAT16007075951300.PDS",
           "title": "P1570515ATMSSCIENCEAAT16007075951300.PDS"
          },
          "metadata__cmr": {
           "description": "P1570515ATMSSCIENCEAAT16007075951300.PDS.cmr.xml",
           "href": "s3://uds-test-cumulus-private/ATMS_SCIENCE_Group___1/P1570515ATMSSCIENCEAAT16007075951300.PDS.cmr.xml",
           "title": "P1570515ATMSSCIENCEAAT16007075951300.PDS.cmr.xml"
          },
          "metadata__data": {
           "description": "P1570515ATMSSCIENCEAAT16007075951301.PDS",
           "href": "s3://uds-test-cumulus-protected/ATMS_SCIENCE_Group___1/P1570515ATMSSCIENCEAAT16007075951301.PDS",
           "title": "P1570515ATMSSCIENCEAAT16007075951301.PDS"
          },
          "metadata__xml": {
           "description": "P1570515ATMSSCIENCEAAT16007075951301.PDS.xml",
           "href": "s3://uds-test-cumulus-protected/ATMS_SCIENCE_Group___1/P1570515ATMSSCIENCEAAT16007075951301.PDS.xml",
           "title": "P1570515ATMSSCIENCEAAT16007075951301.PDS.xml"
          }
         },
         "bbox": [
          0,
          0,
          0,
          0
         ],
         "collection": "L0_SNPP_ATMS_SCIENCE___1",
         "geometry": {
          "coordinates": [
           0,
           0
          ],
          "type": "Point"
         },
         "id": "P1570515ATMSSCIENCEAAT1600707595130",
         "links": [
          {
           "href": ".",
           "rel": "collection"
          }
         ],
         "properties": {
          "created": "2016-01-07T08:00:26.141Z",
          "datetime": "1970-01-01T00:27:38.458658627Z",
          "end_datetime": "2016-01-07T03:59:59.991Z",
          "start_datetime": "2016-01-07T02:00:00.009Z"
         },
         "stac_extensions": [],
         "stac_version": "1.0.0",
         "type": "Feature"
        },
        {
         "assets": {
          "data": {
           "description": "P1570515ATMSSCIENCEAAT16007213114100.PDS",
           "href": "s3://uds-test-cumulus-protected/ATMS_SCIENCE_Group___1/P1570515ATMSSCIENCEAAT16007213114100.PDS",
           "title": "P1570515ATMSSCIENCEAAT16007213114100.PDS"
          },
          "metadata__cmr": {
           "description": "P1570515ATMSSCIENCEAAT16007213114100.PDS.cmr.xml",
           "href": "s3://uds-test-cumulus-private/ATMS_SCIENCE_Group___1/P1570515ATMSSCIENCEAAT16007213114100.PDS.cmr.xml",
           "title": "P1570515ATMSSCIENCEAAT16007213114100.PDS.cmr.xml"
          },
          "metadata__data": {
           "description": "P1570515ATMSSCIENCEAAT16007213114101.PDS",
           "href": "s3://uds-test-cumulus-protected/ATMS_SCIENCE_Group___1/P1570515ATMSSCIENCEAAT16007213114101.PDS",
           "title": "P1570515ATMSSCIENCEAAT16007213114101.PDS"
          },
          "metadata__xml": {
           "description": "P1570515ATMSSCIENCEAAT16007213114101.PDS.xml",
           "href": "s3://uds-test-cumulus-protected/ATMS_SCIENCE_Group___1/P1570515ATMSSCIENCEAAT16007213114101.PDS.xml",
           "title": "P1570515ATMSSCIENCEAAT16007213114101.PDS.xml"
          }
         },
         "bbox": [
          0,
          0,
          0,
          0
         ],
         "collection": "L0_SNPP_ATMS_SCIENCE___1",
         "geometry": {
          "coordinates": [
           0,
           0
          ],
          "type": "Point"
         },
         "id": "P1570515ATMSSCIENCEAAT1600721311410",
         "links": [
          {
           "href": ".",
           "rel": "collection"
          }
         ],
         "properties": {
          "created": "2016-01-07T21:31:48.960Z",
          "datetime": "1970-01-01T00:27:38.458658338Z",
          "end_datetime": "2016-01-07T17:59:59.991Z",
          "start_datetime": "2016-01-07T16:00:00.009Z"
         },
         "stac_extensions": [],
         "stac_version": "1.0.0",
         "type": "Feature"
        },
        {
         "assets": {
          "data": {
           "description": "P1570515ATMSSCIENCEAAT16007180420200.PDS",
           "href": "s3://uds-test-cumulus-protected/ATMS_SCIENCE_Group___1/P1570515ATMSSCIENCEAAT16007180420200.PDS",
           "title": "P1570515ATMSSCIENCEAAT16007180420200.PDS"
          },
          "metadata__cmr": {
           "description": "P1570515ATMSSCIENCEAAT16007180420200.PDS.cmr.xml",
           "href": "s3://uds-test-cumulus-private/ATMS_SCIENCE_Group___1/P1570515ATMSSCIENCEAAT16007180420200.PDS.cmr.xml",
           "title": "P1570515ATMSSCIENCEAAT16007180420200.PDS.cmr.xml"
          },
          "metadata__data": {
           "description": "P1570515ATMSSCIENCEAAT16007180420201.PDS",
           "href": "s3://uds-test-cumulus-protected/ATMS_SCIENCE_Group___1/P1570515ATMSSCIENCEAAT16007180420201.PDS",
           "title": "P1570515ATMSSCIENCEAAT16007180420201.PDS"
          },
          "metadata__xml": {
           "description": "P1570515ATMSSCIENCEAAT16007180420201.PDS.xml",
           "href": "s3://uds-test-cumulus-protected/ATMS_SCIENCE_Group___1/P1570515ATMSSCIENCEAAT16007180420201.PDS.xml",
           "title": "P1570515ATMSSCIENCEAAT16007180420201.PDS.xml"
          }
         },
         "bbox": [
          0,
          0,
          0,
          0
         ],
         "collection": "L0_SNPP_ATMS_SCIENCE___1",
         "geometry": {
          "coordinates": [
           0,
           0
          ],
          "type": "Point"
         },
         "id": "P1570515ATMSSCIENCEAAT1600718042020",
         "links": [
          {
           "href": ".",
           "rel": "collection"
          }
         ],
         "properties": {
          "created": "2016-01-07T18:04:54.273Z",
          "datetime": "1970-01-01T00:27:38.458658493Z",
          "end_datetime": "2016-01-07T13:59:59.991Z",
          "start_datetime": "2016-01-07T12:00:00.009Z"
         },
         "stac_extensions": [],
         "stac_version": "1.0.0",
         "type": "Feature"
        },
        {
         "assets": {
          "data": {
           "description": "P1570515ATMSSCIENCEAAT16007163412300.PDS",
           "href": "s3://uds-test-cumulus-protected/ATMS_SCIENCE_Group___1/P1570515ATMSSCIENCEAAT16007163412300.PDS",
           "title": "P1570515ATMSSCIENCEAAT16007163412300.PDS"
          },
          "metadata__cmr": {
           "description": "P1570515ATMSSCIENCEAAT16007163412300.PDS.cmr.xml",
           "href": "s3://uds-test-cumulus-private/ATMS_SCIENCE_Group___1/P1570515ATMSSCIENCEAAT16007163412300.PDS.cmr.xml",
           "title": "P1570515ATMSSCIENCEAAT16007163412300.PDS.cmr.xml"
          },
          "metadata__data": {
           "description": "P1570515ATMSSCIENCEAAT16007163412301.PDS",
           "href": "s3://uds-test-cumulus-protected/ATMS_SCIENCE_Group___1/P1570515ATMSSCIENCEAAT16007163412301.PDS",
           "title": "P1570515ATMSSCIENCEAAT16007163412301.PDS"
          },
          "metadata__xml": {
           "description": "P1570515ATMSSCIENCEAAT16007163412301.PDS.xml",
           "href": "s3://uds-test-cumulus-protected/ATMS_SCIENCE_Group___1/P1570515ATMSSCIENCEAAT16007163412301.PDS.xml",
           "title": "P1570515ATMSSCIENCEAAT16007163412301.PDS.xml"
          }
         },
         "bbox": [
          0,
          0,
          0,
          0
         ],
         "collection": "L0_SNPP_ATMS_SCIENCE___1",
         "geometry": {
          "coordinates": [
           0,
           0
          ],
          "type": "Point"
         },
         "id": "P1570515ATMSSCIENCEAAT1600716341230",
         "links": [
          {
           "href": ".",
           "rel": "collection"
          }
         ],
         "properties": {
          "created": "2016-01-07T16:34:46.274Z",
          "datetime": "1970-01-01T00:27:38.458658131Z",
          "end_datetime": "2016-01-07T11:59:59.991Z",
          "start_datetime": "2016-01-07T10:00:00.009Z"
         },
         "stac_extensions": [],
         "stac_version": "1.0.0",
         "type": "Feature"
        },
        {
         "assets": {
          "data": {
           "description": "P1570515ATMSSCIENCEAAT16007112301000.PDS",
           "href": "s3://uds-test-cumulus-protected/ATMS_SCIENCE_Group___1/P1570515ATMSSCIENCEAAT16007112301000.PDS",
           "title": "P1570515ATMSSCIENCEAAT16007112301000.PDS"
          },
          "metadata__cmr": {
           "description": "P1570515ATMSSCIENCEAAT16007112301000.PDS.cmr.xml",
           "href": "s3://uds-test-cumulus-private/ATMS_SCIENCE_Group___1/P1570515ATMSSCIENCEAAT16007112301000.PDS.cmr.xml",
           "title": "P1570515ATMSSCIENCEAAT16007112301000.PDS.cmr.xml"
          },
          "metadata__data": {
           "description": "P1570515ATMSSCIENCEAAT16007112301001.PDS",
           "href": "s3://uds-test-cumulus-protected/ATMS_SCIENCE_Group___1/P1570515ATMSSCIENCEAAT16007112301001.PDS",
           "title": "P1570515ATMSSCIENCEAAT16007112301001.PDS"
          },
          "metadata__xml": {
           "description": "P1570515ATMSSCIENCEAAT16007112301001.PDS.xml",
           "href": "s3://uds-test-cumulus-protected/ATMS_SCIENCE_Group___1/P1570515ATMSSCIENCEAAT16007112301001.PDS.xml",
           "title": "P1570515ATMSSCIENCEAAT16007112301001.PDS.xml"
          }
         },
         "bbox": [
          0,
          0,
          0,
          0
         ],
         "collection": "L0_SNPP_ATMS_SCIENCE___1",
         "geometry": {
          "coordinates": [
           0,
           0
          ],
          "type": "Point"
         },
         "id": "P1570515ATMSSCIENCEAAT1600711230100",
         "links": [
          {
           "href": ".",
           "rel": "collection"
          }
         ],
         "properties": {
          "created": "2016-01-07T11:23:36.691Z",
          "datetime": "1970-01-01T00:27:38.458657607Z",
          "end_datetime": "2016-01-07T07:59:59.991Z",
          "start_datetime": "2016-01-07T06:00:00.009Z"
         },
         "stac_extensions": [],
         "stac_version": "1.0.0",
         "type": "Feature"
        },
        {
         "assets": {
          "data": {
           "description": "P1570515ATMSSCIENCEAAT16007094115000.PDS",
           "href": "s3://uds-test-cumulus-protected/ATMS_SCIENCE_Group___1/P1570515ATMSSCIENCEAAT16007094115000.PDS",
           "title": "P1570515ATMSSCIENCEAAT16007094115000.PDS"
          },
          "metadata__cmr": {
           "description": "P1570515ATMSSCIENCEAAT16007094115000.PDS.cmr.xml",
           "href": "s3://uds-test-cumulus-private/ATMS_SCIENCE_Group___1/P1570515ATMSSCIENCEAAT16007094115000.PDS.cmr.xml",
           "title": "P1570515ATMSSCIENCEAAT16007094115000.PDS.cmr.xml"
          },
          "metadata__data": {
           "description": "P1570515ATMSSCIENCEAAT16007094115001.PDS",
           "href": "s3://uds-test-cumulus-protected/ATMS_SCIENCE_Group___1/P1570515ATMSSCIENCEAAT16007094115001.PDS",
           "title": "P1570515ATMSSCIENCEAAT16007094115001.PDS"
          },
          "metadata__xml": {
           "description": "P1570515ATMSSCIENCEAAT16007094115001.PDS.xml",
           "href": "s3://uds-test-cumulus-protected/ATMS_SCIENCE_Group___1/P1570515ATMSSCIENCEAAT16007094115001.PDS.xml",
           "title": "P1570515ATMSSCIENCEAAT16007094115001.PDS.xml"
          }
         },
         "bbox": [
          0,
          0,
          0,
          0
         ],
         "collection": "L0_SNPP_ATMS_SCIENCE___1",
         "geometry": {
          "coordinates": [
           0,
           0
          ],
          "type": "Point"
         },
         "id": "P1570515ATMSSCIENCEAAT1600709411500",
         "links": [
          {
           "href": ".",
           "rel": "collection"
          }
         ],
         "properties": {
          "created": "2016-01-07T09:41:49.507Z",
          "datetime": "1970-01-01T00:27:38.458657793Z",
          "end_datetime": "2016-01-07T05:59:59.991Z",
          "start_datetime": "2016-01-07T04:00:00.009Z"
         },
         "stac_extensions": [],
         "stac_version": "1.0.0",
         "type": "Feature"
        },
        {
         "assets": {
          "data": {
           "description": "P1570515ATMSSCIENCEAAT16007130800700.PDS",
           "href": "s3://uds-test-cumulus-protected/ATMS_SCIENCE_Group___1/P1570515ATMSSCIENCEAAT16007130800700.PDS",
           "title": "P1570515ATMSSCIENCEAAT16007130800700.PDS"
          },
          "metadata__cmr": {
           "description": "P1570515ATMSSCIENCEAAT16007130800700.PDS.cmr.xml",
           "href": "s3://uds-test-cumulus-private/ATMS_SCIENCE_Group___1/P1570515ATMSSCIENCEAAT16007130800700.PDS.cmr.xml",
           "title": "P1570515ATMSSCIENCEAAT16007130800700.PDS.cmr.xml"
          },
          "metadata__data": {
           "description": "P1570515ATMSSCIENCEAAT16007130800701.PDS",
           "href": "s3://uds-test-cumulus-protected/ATMS_SCIENCE_Group___1/P1570515ATMSSCIENCEAAT16007130800701.PDS",
           "title": "P1570515ATMSSCIENCEAAT16007130800701.PDS"
          },
          "metadata__xml": {
           "description": "P1570515ATMSSCIENCEAAT16007130800701.PDS.xml",
           "href": "s3://uds-test-cumulus-protected/ATMS_SCIENCE_Group___1/P1570515ATMSSCIENCEAAT16007130800701.PDS.xml",
           "title": "P1570515ATMSSCIENCEAAT16007130800701.PDS.xml"
          }
         },
         "bbox": [
          0,
          0,
          0,
          0
         ],
         "collection": "L0_SNPP_ATMS_SCIENCE___1",
         "geometry": {
          "coordinates": [
           0,
           0
          ],
          "type": "Point"
         },
         "id": "P1570515ATMSSCIENCEAAT1600713080070",
         "links": [
          {
           "href": ".",
           "rel": "collection"
          }
         ],
         "properties": {
          "created": "2016-01-07T13:08:34.377Z",
          "datetime": "1970-01-01T00:27:38.458657704Z",
          "end_datetime": "2016-01-07T09:59:59.991Z",
          "start_datetime": "2016-01-07T08:00:00.009Z"
         },
         "stac_extensions": [],
         "stac_version": "1.0.0",
         "type": "Feature"
        },
        {
         "assets": {
          "data": {
           "description": "P1570515ATMSSCIENCEAAT16007061737200.PDS",
           "href": "s3://uds-test-cumulus-protected/ATMS_SCIENCE_Group___1/P1570515ATMSSCIENCEAAT16007061737200.PDS",
           "title": "P1570515ATMSSCIENCEAAT16007061737200.PDS"
          },
          "metadata__cmr": {
           "description": "P1570515ATMSSCIENCEAAT16007061737200.PDS.cmr.xml",
           "href": "s3://uds-test-cumulus-private/ATMS_SCIENCE_Group___1/P1570515ATMSSCIENCEAAT16007061737200.PDS.cmr.xml",
           "title": "P1570515ATMSSCIENCEAAT16007061737200.PDS.cmr.xml"
          },
          "metadata__data": {
           "description": "P1570515ATMSSCIENCEAAT16007061737201.PDS",
           "href": "s3://uds-test-cumulus-protected/ATMS_SCIENCE_Group___1/P1570515ATMSSCIENCEAAT16007061737201.PDS",
           "title": "P1570515ATMSSCIENCEAAT16007061737201.PDS"
          },
          "metadata__xml": {
           "description": "P1570515ATMSSCIENCEAAT16007061737201.PDS.xml",
           "href": "s3://uds-test-cumulus-protected/ATMS_SCIENCE_Group___1/P1570515ATMSSCIENCEAAT16007061737201.PDS.xml",
           "title": "P1570515ATMSSCIENCEAAT16007061737201.PDS.xml"
          }
         },
         "bbox": [
          0,
          0,
          0,
          0
         ],
         "collection": "L0_SNPP_ATMS_SCIENCE___1",
         "geometry": {
          "coordinates": [
           0,
           0
          ],
          "type": "Point"
         },
         "id": "P1570515ATMSSCIENCEAAT1600706173720",
         "links": [
          {
           "href": ".",
           "rel": "collection"
          }
         ],
         "properties": {
          "created": "2016-01-07T06:18:11.607Z",
          "datetime": "1970-01-01T00:27:38.458657388Z",
          "end_datetime": "2016-01-07T01:59:59.991Z",
          "start_datetime": "2016-01-07T00:00:00.009Z"
         },
         "stac_extensions": [],
         "stac_version": "1.0.0",
         "type": "Feature"
        },
        {
         "assets": {
          "data": {
           "description": "P1570515ATMSSCIENCEAAT16009035955100.PDS",
           "href": "s3://uds-test-cumulus-protected/ATMS_SCIENCE_Group___1/P1570515ATMSSCIENCEAAT16009035955100.PDS",
           "title": "P1570515ATMSSCIENCEAAT16009035955100.PDS"
          },
          "metadata__cmr": {
           "description": "P1570515ATMSSCIENCEAAT16009035955100.PDS.cmr.xml",
           "href": "s3://uds-test-cumulus-private/ATMS_SCIENCE_Group___1/P1570515ATMSSCIENCEAAT16009035955100.PDS.cmr.xml",
           "title": "P1570515ATMSSCIENCEAAT16009035955100.PDS.cmr.xml"
          },
          "metadata__data": {
           "description": "P1570515ATMSSCIENCEAAT16009035955101.PDS",
           "href": "s3://uds-test-cumulus-protected/ATMS_SCIENCE_Group___1/P1570515ATMSSCIENCEAAT16009035955101.PDS",
           "title": "P1570515ATMSSCIENCEAAT16009035955101.PDS"
          },
          "metadata__xml": {
           "description": "P1570515ATMSSCIENCEAAT16009035955101.PDS.xml",
           "href": "s3://uds-test-cumulus-protected/ATMS_SCIENCE_Group___1/P1570515ATMSSCIENCEAAT16009035955101.PDS.xml",
           "title": "P1570515ATMSSCIENCEAAT16009035955101.PDS.xml"
          }
         },
         "bbox": [
          0,
          0,
          0,
          0
         ],
         "collection": "L0_SNPP_ATMS_SCIENCE___1",
         "geometry": {
          "coordinates": [
           0,
           0
          ],
          "type": "Point"
         },
         "id": "P1570515ATMSSCIENCEAAT1600903595510",
         "links": [
          {
           "href": ".",
           "rel": "collection"
          }
         ],
         "properties": {
          "created": "2016-01-09T04:00:29.670Z",
          "datetime": "1970-01-01T00:27:38.458638527Z",
          "end_datetime": "2016-01-08T23:59:59.991Z",
          "start_datetime": "2016-01-08T22:00:00.009Z"
         },
         "stac_extensions": [],
         "stac_version": "1.0.0",
         "type": "Feature"
        },
        {
         "assets": {
          "data": {
           "description": "P1570515ATMSSCIENCEAAT16008160339100.PDS",
           "href": "s3://uds-test-cumulus-protected/ATMS_SCIENCE_Group___1/P1570515ATMSSCIENCEAAT16008160339100.PDS",
           "title": "P1570515ATMSSCIENCEAAT16008160339100.PDS"
          },
          "metadata__cmr": {
           "description": "P1570515ATMSSCIENCEAAT16008160339100.PDS.cmr.xml",
           "href": "s3://uds-test-cumulus-private/ATMS_SCIENCE_Group___1/P1570515ATMSSCIENCEAAT16008160339100.PDS.cmr.xml",
           "title": "P1570515ATMSSCIENCEAAT16008160339100.PDS.cmr.xml"
          },
          "metadata__data": {
           "description": "P1570515ATMSSCIENCEAAT16008160339101.PDS",
           "href": "s3://uds-test-cumulus-protected/ATMS_SCIENCE_Group___1/P1570515ATMSSCIENCEAAT16008160339101.PDS",
           "title": "P1570515ATMSSCIENCEAAT16008160339101.PDS"
          },
          "metadata__xml": {
           "description": "P1570515ATMSSCIENCEAAT16008160339101.PDS.xml",
           "href": "s3://uds-test-cumulus-protected/ATMS_SCIENCE_Group___1/P1570515ATMSSCIENCEAAT16008160339101.PDS.xml",
           "title": "P1570515ATMSSCIENCEAAT16008160339101.PDS.xml"
          }
         },
         "bbox": [
          0,
          0,
          0,
          0
         ],
         "collection": "L0_SNPP_ATMS_SCIENCE___1",
         "geometry": {
          "coordinates": [
           0,
           0
          ],
          "type": "Point"
         },
         "id": "P1570515ATMSSCIENCEAAT1600816033910",
         "links": [
          {
           "href": ".",
           "rel": "collection"
          }
         ],
         "properties": {
          "created": "2016-01-08T16:04:13.075Z",
          "datetime": "1970-01-01T00:27:38.458631747Z",
          "end_datetime": "2016-01-08T11:59:59.991Z",
          "start_datetime": "2016-01-08T10:00:00.009Z"
         },
         "stac_extensions": [],
         "stac_version": "1.0.0",
         "type": "Feature"
        },
        {
         "assets": {
          "data": {
           "description": "P1570515ATMSSCIENCEAAT16008073920100.PDS",
           "href": "s3://uds-test-cumulus-protected/ATMS_SCIENCE_Group___1/P1570515ATMSSCIENCEAAT16008073920100.PDS",
           "title": "P1570515ATMSSCIENCEAAT16008073920100.PDS"
          },
          "metadata__cmr": {
           "description": "P1570515ATMSSCIENCEAAT16008073920100.PDS.cmr.xml",
           "href": "s3://uds-test-cumulus-private/ATMS_SCIENCE_Group___1/P1570515ATMSSCIENCEAAT16008073920100.PDS.cmr.xml",
           "title": "P1570515ATMSSCIENCEAAT16008073920100.PDS.cmr.xml"
          },
          "metadata__data": {
           "description": "P1570515ATMSSCIENCEAAT16008073920101.PDS",
           "href": "s3://uds-test-cumulus-protected/ATMS_SCIENCE_Group___1/P1570515ATMSSCIENCEAAT16008073920101.PDS",
           "title": "P1570515ATMSSCIENCEAAT16008073920101.PDS"
          },
          "metadata__xml": {
           "description": "P1570515ATMSSCIENCEAAT16008073920101.PDS.xml",
           "href": "s3://uds-test-cumulus-protected/ATMS_SCIENCE_Group___1/P1570515ATMSSCIENCEAAT16008073920101.PDS.xml",
           "title": "P1570515ATMSSCIENCEAAT16008073920101.PDS.xml"
          }
         },
         "bbox": [
          0,
          0,
          0,
          0
         ],
         "collection": "L0_SNPP_ATMS_SCIENCE___1",
         "geometry": {
          "coordinates": [
           0,
           0
          ],
          "type": "Point"
         },
         "id": "P1570515ATMSSCIENCEAAT1600807392010",
         "links": [
          {
           "href": ".",
           "rel": "collection"
          }
         ],
         "properties": {
          "created": "2016-01-08T07:39:54.341Z",
          "datetime": "1970-01-01T00:27:38.458630085Z",
          "end_datetime": "2016-01-08T03:59:59.991Z",
          "start_datetime": "2016-01-08T02:00:00.009Z"
         },
         "stac_extensions": [],
         "stac_version": "1.0.0",
         "type": "Feature"
        },
        {
         "assets": {
          "data": {
           "description": "P1570515ATMSSCIENCEAAT16008091920700.PDS",
           "href": "s3://uds-test-cumulus-protected/ATMS_SCIENCE_Group___1/P1570515ATMSSCIENCEAAT16008091920700.PDS",
           "title": "P1570515ATMSSCIENCEAAT16008091920700.PDS"
          },
          "metadata__cmr": {
           "description": "P1570515ATMSSCIENCEAAT16008091920700.PDS.cmr.xml",
           "href": "s3://uds-test-cumulus-private/ATMS_SCIENCE_Group___1/P1570515ATMSSCIENCEAAT16008091920700.PDS.cmr.xml",
           "title": "P1570515ATMSSCIENCEAAT16008091920700.PDS.cmr.xml"
          },
          "metadata__data": {
           "description": "P1570515ATMSSCIENCEAAT16008091920701.PDS",
           "href": "s3://uds-test-cumulus-protected/ATMS_SCIENCE_Group___1/P1570515ATMSSCIENCEAAT16008091920701.PDS",
           "title": "P1570515ATMSSCIENCEAAT16008091920701.PDS"
          },
          "metadata__xml": {
           "description": "P1570515ATMSSCIENCEAAT16008091920701.PDS.xml",
           "href": "s3://uds-test-cumulus-protected/ATMS_SCIENCE_Group___1/P1570515ATMSSCIENCEAAT16008091920701.PDS.xml",
           "title": "P1570515ATMSSCIENCEAAT16008091920701.PDS.xml"
          }
         },
         "bbox": [
          0,
          0,
          0,
          0
         ],
         "collection": "L0_SNPP_ATMS_SCIENCE___1",
         "geometry": {
          "coordinates": [
           0,
           0
          ],
          "type": "Point"
         },
         "id": "P1570515ATMSSCIENCEAAT1600809192070",
         "links": [
          {
           "href": ".",
           "rel": "collection"
          }
         ],
         "properties": {
          "created": "2016-01-08T09:19:54.105Z",
          "datetime": "1970-01-01T00:27:38.458630487Z",
          "end_datetime": "2016-01-08T05:59:59.991Z",
          "start_datetime": "2016-01-08T04:00:00.009Z"
         },
         "stac_extensions": [],
         "stac_version": "1.0.0",
         "type": "Feature"
        }
       ]
      },
      "text/plain": [
       "<IPython.core.display.JSON object>"
      ]
     },
     "execution_count": 10,
     "metadata": {
      "application/json": {
       "expanded": false,
       "root": "root"
      }
     },
     "output_type": "execute_result"
    }
   ],
   "source": [
    "\n",
    "url = env['url'] + \"am-uds-dapa/collections/L0_SNPP_ATMS_SCIENCE___1/items\"\n",
    "params = []\n",
    "params.append((\"limit\", 100))\n",
    "\n",
    "response = requests.get(url, headers={\"Authorization\": \"Bearer \" + token}, params=params)\n",
    "JSON(response.json())\n"
   ]
  },
  {
   "cell_type": "markdown",
   "id": "42bc4d07-d8de-4298-9d33-6299ae41a024",
   "metadata": {},
   "source": [
    "## Filter the results above by time"
   ]
  },
  {
   "cell_type": "code",
   "execution_count": 11,
   "id": "70a4ab9e-8693-4948-bc2a-cce1e09d1cab",
   "metadata": {},
   "outputs": [
    {
     "data": {
      "application/json": {
       "features": [
        {
         "assets": {
          "data": {
           "description": "P1570515ATMSSCIENCEAAT16306110337200.PDS",
           "href": "s3://uds-test-cumulus-protected/ATMS_SCIENCE_Group___1/P1570515ATMSSCIENCEAAT16306110337200.PDS",
           "title": "P1570515ATMSSCIENCEAAT16306110337200.PDS"
          },
          "metadata__cmr": {
           "description": "P1570515ATMSSCIENCEAAT16306110337200.PDS.cmr.xml",
           "href": "s3://uds-test-cumulus-private/ATMS_SCIENCE_Group___1/P1570515ATMSSCIENCEAAT16306110337200.PDS.cmr.xml",
           "title": "P1570515ATMSSCIENCEAAT16306110337200.PDS.cmr.xml"
          },
          "metadata__data": {
           "description": "P1570515ATMSSCIENCEAAT16306110337201.PDS",
           "href": "s3://uds-test-cumulus-protected/ATMS_SCIENCE_Group___1/P1570515ATMSSCIENCEAAT16306110337201.PDS",
           "title": "P1570515ATMSSCIENCEAAT16306110337201.PDS"
          },
          "metadata__xml": {
           "description": "P1570515ATMSSCIENCEAAT16306110337201.PDS.xml",
           "href": "s3://uds-test-cumulus-protected/ATMS_SCIENCE_Group___1/P1570515ATMSSCIENCEAAT16306110337201.PDS.xml",
           "title": "P1570515ATMSSCIENCEAAT16306110337201.PDS.xml"
          }
         },
         "bbox": [
          0,
          0,
          0,
          0
         ],
         "collection": "L0_SNPP_ATMS_SCIENCE___1",
         "geometry": {
          "coordinates": [
           0,
           0
          ],
          "type": "Point"
         },
         "id": "P1570515ATMSSCIENCEAAT1630611033720",
         "links": [
          {
           "href": ".",
           "rel": "collection"
          }
         ],
         "properties": {
          "created": "2016-11-01T11:04:14.506Z",
          "datetime": "1970-01-01T00:27:38.733854671Z",
          "end_datetime": "2016-11-01T07:59:59.991Z",
          "start_datetime": "2016-11-01T06:00:00.009Z"
         },
         "stac_extensions": [],
         "stac_version": "1.0.0",
         "type": "Feature"
        },
        {
         "assets": {
          "data": {
           "description": "P1570515ATMSSCIENCEAAT16306161014600.PDS",
           "href": "s3://uds-test-cumulus-protected/ATMS_SCIENCE_Group___1/P1570515ATMSSCIENCEAAT16306161014600.PDS",
           "title": "P1570515ATMSSCIENCEAAT16306161014600.PDS"
          },
          "metadata__cmr": {
           "description": "P1570515ATMSSCIENCEAAT16306161014600.PDS.cmr.xml",
           "href": "s3://uds-test-cumulus-private/ATMS_SCIENCE_Group___1/P1570515ATMSSCIENCEAAT16306161014600.PDS.cmr.xml",
           "title": "P1570515ATMSSCIENCEAAT16306161014600.PDS.cmr.xml"
          },
          "metadata__data": {
           "description": "P1570515ATMSSCIENCEAAT16306161014601.PDS",
           "href": "s3://uds-test-cumulus-protected/ATMS_SCIENCE_Group___1/P1570515ATMSSCIENCEAAT16306161014601.PDS",
           "title": "P1570515ATMSSCIENCEAAT16306161014601.PDS"
          },
          "metadata__xml": {
           "description": "P1570515ATMSSCIENCEAAT16306161014601.PDS.xml",
           "href": "s3://uds-test-cumulus-protected/ATMS_SCIENCE_Group___1/P1570515ATMSSCIENCEAAT16306161014601.PDS.xml",
           "title": "P1570515ATMSSCIENCEAAT16306161014601.PDS.xml"
          }
         },
         "bbox": [
          0,
          0,
          0,
          0
         ],
         "collection": "L0_SNPP_ATMS_SCIENCE___1",
         "geometry": {
          "coordinates": [
           0,
           0
          ],
          "type": "Point"
         },
         "id": "P1570515ATMSSCIENCEAAT1630616101460",
         "links": [
          {
           "href": ".",
           "rel": "collection"
          }
         ],
         "properties": {
          "created": "2016-11-01T16:10:52.026Z",
          "datetime": "1970-01-01T00:27:38.733853724Z",
          "end_datetime": "2016-11-01T11:59:59.991Z",
          "start_datetime": "2016-11-01T10:00:00.009Z"
         },
         "stac_extensions": [],
         "stac_version": "1.0.0",
         "type": "Feature"
        },
        {
         "assets": {
          "data": {
           "description": "P1570515ATMSSCIENCEAAT16306092352700.PDS",
           "href": "s3://uds-test-cumulus-protected/ATMS_SCIENCE_Group___1/P1570515ATMSSCIENCEAAT16306092352700.PDS",
           "title": "P1570515ATMSSCIENCEAAT16306092352700.PDS"
          },
          "metadata__cmr": {
           "description": "P1570515ATMSSCIENCEAAT16306092352700.PDS.cmr.xml",
           "href": "s3://uds-test-cumulus-private/ATMS_SCIENCE_Group___1/P1570515ATMSSCIENCEAAT16306092352700.PDS.cmr.xml",
           "title": "P1570515ATMSSCIENCEAAT16306092352700.PDS.cmr.xml"
          },
          "metadata__data": {
           "description": "P1570515ATMSSCIENCEAAT16306092352701.PDS",
           "href": "s3://uds-test-cumulus-protected/ATMS_SCIENCE_Group___1/P1570515ATMSSCIENCEAAT16306092352701.PDS",
           "title": "P1570515ATMSSCIENCEAAT16306092352701.PDS"
          },
          "metadata__xml": {
           "description": "P1570515ATMSSCIENCEAAT16306092352701.PDS.xml",
           "href": "s3://uds-test-cumulus-protected/ATMS_SCIENCE_Group___1/P1570515ATMSSCIENCEAAT16306092352701.PDS.xml",
           "title": "P1570515ATMSSCIENCEAAT16306092352701.PDS.xml"
          }
         },
         "bbox": [
          0,
          0,
          0,
          0
         ],
         "collection": "L0_SNPP_ATMS_SCIENCE___1",
         "geometry": {
          "coordinates": [
           0,
           0
          ],
          "type": "Point"
         },
         "id": "P1570515ATMSSCIENCEAAT1630609235270",
         "links": [
          {
           "href": ".",
           "rel": "collection"
          }
         ],
         "properties": {
          "created": "2016-11-01T09:24:29.093Z",
          "datetime": "1970-01-01T00:27:38.733840964Z",
          "end_datetime": "2016-11-01T05:59:59.991Z",
          "start_datetime": "2016-11-01T04:00:00.009Z"
         },
         "stac_extensions": [],
         "stac_version": "1.0.0",
         "type": "Feature"
        },
        {
         "assets": {
          "data": {
           "description": "P1570515ATMSSCIENCEAAT16306124542700.PDS",
           "href": "s3://uds-test-cumulus-protected/ATMS_SCIENCE_Group___1/P1570515ATMSSCIENCEAAT16306124542700.PDS",
           "title": "P1570515ATMSSCIENCEAAT16306124542700.PDS"
          },
          "metadata__cmr": {
           "description": "P1570515ATMSSCIENCEAAT16306124542700.PDS.cmr.xml",
           "href": "s3://uds-test-cumulus-private/ATMS_SCIENCE_Group___1/P1570515ATMSSCIENCEAAT16306124542700.PDS.cmr.xml",
           "title": "P1570515ATMSSCIENCEAAT16306124542700.PDS.cmr.xml"
          },
          "metadata__data": {
           "description": "P1570515ATMSSCIENCEAAT16306124542701.PDS",
           "href": "s3://uds-test-cumulus-protected/ATMS_SCIENCE_Group___1/P1570515ATMSSCIENCEAAT16306124542701.PDS",
           "title": "P1570515ATMSSCIENCEAAT16306124542701.PDS"
          },
          "metadata__xml": {
           "description": "P1570515ATMSSCIENCEAAT16306124542701.PDS.xml",
           "href": "s3://uds-test-cumulus-protected/ATMS_SCIENCE_Group___1/P1570515ATMSSCIENCEAAT16306124542701.PDS.xml",
           "title": "P1570515ATMSSCIENCEAAT16306124542701.PDS.xml"
          }
         },
         "bbox": [
          0,
          0,
          0,
          0
         ],
         "collection": "L0_SNPP_ATMS_SCIENCE___1",
         "geometry": {
          "coordinates": [
           0,
           0
          ],
          "type": "Point"
         },
         "id": "P1570515ATMSSCIENCEAAT1630612454270",
         "links": [
          {
           "href": ".",
           "rel": "collection"
          }
         ],
         "properties": {
          "created": "2016-11-01T12:46:17.692Z",
          "datetime": "1970-01-01T00:27:38.733840732Z",
          "end_datetime": "2016-11-01T09:59:59.991Z",
          "start_datetime": "2016-11-01T08:00:00.009Z"
         },
         "stac_extensions": [],
         "stac_version": "1.0.0",
         "type": "Feature"
        },
        {
         "assets": {
          "data": {
           "description": "P1570515ATMSSCIENCEAAT16306175000100.PDS",
           "href": "s3://uds-test-cumulus-protected/ATMS_SCIENCE_Group___1/P1570515ATMSSCIENCEAAT16306175000100.PDS",
           "title": "P1570515ATMSSCIENCEAAT16306175000100.PDS"
          },
          "metadata__cmr": {
           "description": "P1570515ATMSSCIENCEAAT16306175000100.PDS.cmr.xml",
           "href": "s3://uds-test-cumulus-private/ATMS_SCIENCE_Group___1/P1570515ATMSSCIENCEAAT16306175000100.PDS.cmr.xml",
           "title": "P1570515ATMSSCIENCEAAT16306175000100.PDS.cmr.xml"
          },
          "metadata__data": {
           "description": "P1570515ATMSSCIENCEAAT16306175000101.PDS",
           "href": "s3://uds-test-cumulus-protected/ATMS_SCIENCE_Group___1/P1570515ATMSSCIENCEAAT16306175000101.PDS",
           "title": "P1570515ATMSSCIENCEAAT16306175000101.PDS"
          },
          "metadata__xml": {
           "description": "P1570515ATMSSCIENCEAAT16306175000101.PDS.xml",
           "href": "s3://uds-test-cumulus-protected/ATMS_SCIENCE_Group___1/P1570515ATMSSCIENCEAAT16306175000101.PDS.xml",
           "title": "P1570515ATMSSCIENCEAAT16306175000101.PDS.xml"
          }
         },
         "bbox": [
          0,
          0,
          0,
          0
         ],
         "collection": "L0_SNPP_ATMS_SCIENCE___1",
         "geometry": {
          "coordinates": [
           0,
           0
          ],
          "type": "Point"
         },
         "id": "P1570515ATMSSCIENCEAAT1630617500010",
         "links": [
          {
           "href": ".",
           "rel": "collection"
          }
         ],
         "properties": {
          "created": "2016-11-01T17:50:37.212Z",
          "datetime": "1970-01-01T00:27:38.733840741Z",
          "end_datetime": "2016-11-01T13:59:59.991Z",
          "start_datetime": "2016-11-01T12:00:00.009Z"
         },
         "stac_extensions": [],
         "stac_version": "1.0.0",
         "type": "Feature"
        },
        {
         "assets": {
          "data": {
           "description": "P1570515ATMSSCIENCEAAT16306074411000.PDS",
           "href": "s3://uds-test-cumulus-protected/ATMS_SCIENCE_Group___1/P1570515ATMSSCIENCEAAT16306074411000.PDS",
           "title": "P1570515ATMSSCIENCEAAT16306074411000.PDS"
          },
          "metadata__cmr": {
           "description": "P1570515ATMSSCIENCEAAT16306074411000.PDS.cmr.xml",
           "href": "s3://uds-test-cumulus-private/ATMS_SCIENCE_Group___1/P1570515ATMSSCIENCEAAT16306074411000.PDS.cmr.xml",
           "title": "P1570515ATMSSCIENCEAAT16306074411000.PDS.cmr.xml"
          },
          "metadata__data": {
           "description": "P1570515ATMSSCIENCEAAT16306074411001.PDS",
           "href": "s3://uds-test-cumulus-protected/ATMS_SCIENCE_Group___1/P1570515ATMSSCIENCEAAT16306074411001.PDS",
           "title": "P1570515ATMSSCIENCEAAT16306074411001.PDS"
          },
          "metadata__xml": {
           "description": "P1570515ATMSSCIENCEAAT16306074411001.PDS.xml",
           "href": "s3://uds-test-cumulus-protected/ATMS_SCIENCE_Group___1/P1570515ATMSSCIENCEAAT16306074411001.PDS.xml",
           "title": "P1570515ATMSSCIENCEAAT16306074411001.PDS.xml"
          }
         },
         "bbox": [
          0,
          0,
          0,
          0
         ],
         "collection": "L0_SNPP_ATMS_SCIENCE___1",
         "geometry": {
          "coordinates": [
           0,
           0
          ],
          "type": "Point"
         },
         "id": "P1570515ATMSSCIENCEAAT1630607441100",
         "links": [
          {
           "href": ".",
           "rel": "collection"
          }
         ],
         "properties": {
          "created": "2016-11-01T07:44:48.896Z",
          "datetime": "1970-01-01T00:27:38.733840513Z",
          "end_datetime": "2016-11-01T03:59:59.991Z",
          "start_datetime": "2016-11-01T02:00:00.009Z"
         },
         "stac_extensions": [],
         "stac_version": "1.0.0",
         "type": "Feature"
        },
        {
         "assets": {
          "data": {
           "description": "P1570515ATMSSCIENCEAAT16306060336600.PDS",
           "href": "s3://uds-test-cumulus-protected/ATMS_SCIENCE_Group___1/P1570515ATMSSCIENCEAAT16306060336600.PDS",
           "title": "P1570515ATMSSCIENCEAAT16306060336600.PDS"
          },
          "metadata__cmr": {
           "description": "P1570515ATMSSCIENCEAAT16306060336600.PDS.cmr.xml",
           "href": "s3://uds-test-cumulus-private/ATMS_SCIENCE_Group___1/P1570515ATMSSCIENCEAAT16306060336600.PDS.cmr.xml",
           "title": "P1570515ATMSSCIENCEAAT16306060336600.PDS.cmr.xml"
          },
          "metadata__data": {
           "description": "P1570515ATMSSCIENCEAAT16306060336601.PDS",
           "href": "s3://uds-test-cumulus-protected/ATMS_SCIENCE_Group___1/P1570515ATMSSCIENCEAAT16306060336601.PDS",
           "title": "P1570515ATMSSCIENCEAAT16306060336601.PDS"
          },
          "metadata__xml": {
           "description": "P1570515ATMSSCIENCEAAT16306060336601.PDS.xml",
           "href": "s3://uds-test-cumulus-protected/ATMS_SCIENCE_Group___1/P1570515ATMSSCIENCEAAT16306060336601.PDS.xml",
           "title": "P1570515ATMSSCIENCEAAT16306060336601.PDS.xml"
          }
         },
         "bbox": [
          0,
          0,
          0,
          0
         ],
         "collection": "L0_SNPP_ATMS_SCIENCE___1",
         "geometry": {
          "coordinates": [
           0,
           0
          ],
          "type": "Point"
         },
         "id": "P1570515ATMSSCIENCEAAT1630606033660",
         "links": [
          {
           "href": ".",
           "rel": "collection"
          }
         ],
         "properties": {
          "created": "2016-11-01T06:04:13.277Z",
          "datetime": "1970-01-01T00:27:38.733839847Z",
          "end_datetime": "2016-11-01T01:59:59.991Z",
          "start_datetime": "2016-11-01T00:00:00.441Z"
         },
         "stac_extensions": [],
         "stac_version": "1.0.0",
         "type": "Feature"
        }
       ]
      },
      "text/plain": [
       "<IPython.core.display.JSON object>"
      ]
     },
     "execution_count": 11,
     "metadata": {
      "application/json": {
       "expanded": false,
       "root": "root"
      }
     },
     "output_type": "execute_result"
    }
   ],
   "source": [
    "url = env['url'] + \"am-uds-dapa/collections/L0_SNPP_ATMS_SCIENCE___1/items\"\n",
    "# the datetime,limit, and offset are included due to a current bug in the API Gatway setting these values to 'none'.\n",
    "# Example date/time params\n",
    "\n",
    "params = []\n",
    "#add a datetime to your request\n",
    "params.append((\"datetime\", \"2016-11-01T00:00:00Z/2016-11-01T12:31:12Z\"))\n",
    "\n",
    "# limit - how many results to return in a single request\n",
    "params.append((\"limit\", 100))\n",
    "\n",
    "#offset - the number of results to offset, for paging\n",
    "#params.append((\"offset\", 100))\n",
    "\n",
    "#response = requests.get('https://58nbcawrvb.execute-api.us-west-2.amazonaws.com/test/', headers={\"Authorization\": \"Bearer \" + token})\n",
    "response = requests.get(url, headers={\"Authorization\": \"Bearer \" + token}, params=params)\n",
    "\n",
    "#print(json.dumps(response.json()))\n",
    "JSON(response.json())\n"
   ]
  },
  {
   "cell_type": "code",
   "execution_count": null,
   "id": "cdc0525c-3dcb-4c27-865b-3eacf0138d4b",
   "metadata": {},
   "outputs": [],
   "source": []
  }
 ],
 "metadata": {
  "kernelspec": {
   "display_name": "Python 3 (ipykernel)",
   "language": "python",
   "name": "python3"
  },
  "language_info": {
   "codemirror_mode": {
    "name": "ipython",
    "version": 3
   },
   "file_extension": ".py",
   "mimetype": "text/x-python",
   "name": "python",
   "nbconvert_exporter": "python",
   "pygments_lexer": "ipython3",
   "version": "3.10.5"
  }
 },
 "nbformat": 4,
 "nbformat_minor": 5
}
