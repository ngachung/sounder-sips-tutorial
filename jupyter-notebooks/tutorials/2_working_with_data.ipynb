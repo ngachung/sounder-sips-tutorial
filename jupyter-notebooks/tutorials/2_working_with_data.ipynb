{
 "cells": [
  {
   "cell_type": "markdown",
   "id": "3be345ad-b008-45c6-b481-46888d2d2ebc",
   "metadata": {},
   "source": [
    "# Working with Data\n",
    "\n",
    "The intent of this tutorial is to help familiarize yourself with browsing for data that will be used along with an application to generate data by submitting a job. Job submission will be covered in the next tutorial. Run each cell in order (shift-enter). The notes will indicate when you need to edit code to customize things (e.g., to indicate a data collection)vs. being prompted by running the cell (e.g. for your username and password)."
   ]
  },
  {
   "cell_type": "code",
   "execution_count": 21,
   "id": "93e43227-c229-4ed4-a514-9293eda6c4f6",
   "metadata": {},
   "outputs": [],
   "source": [
    "import requests\n",
    "import getpass\n",
    "import json\n",
    "from IPython.display import JSON"
   ]
  },
  {
   "cell_type": "markdown",
   "id": "b860ceff-8f05-4615-a78b-add89ae59567",
   "metadata": {},
   "source": [
    "First we need some pre-defined environment variables"
   ]
  },
  {
   "cell_type": "code",
   "execution_count": 22,
   "id": "484e55a1-2933-49e7-a684-c38ab269d1e8",
   "metadata": {},
   "outputs": [],
   "source": [
    "# This portion of the code is env specific for Dev, Test, Ops, etc. \n",
    "# define the environment as our test venue\n",
    "env = {\n",
    "    \"clientId\":\"71894molftjtie4dvvkbjeard0\",\n",
    "    \"url\":\"https://58nbcawrvb.execute-api.us-west-2.amazonaws.com/test/\"\n",
    "      }\n",
    "\n",
    "# The auth_json is template for authorizing with AWS Cognito for a token that can be used for calls to the data service.\n",
    "# For now this is just an empty data structure. You will be prompted for your username and password in a few steps.\n",
    "auth_json = '''{\n",
    "     \"AuthParameters\" : {\n",
    "        \"USERNAME\" : \"\",\n",
    "        \"PASSWORD\" : \"\"\n",
    "     },\n",
    "     \"AuthFlow\" : \"USER_PASSWORD_AUTH\",\n",
    "     \"ClientId\" : \"\"\n",
    "  }'''"
   ]
  },
  {
   "cell_type": "markdown",
   "id": "386c712e-307f-48e9-a1ba-f2bb3d378c4e",
   "metadata": {},
   "source": [
    "### Authentication Code\n",
    "\n",
    "The below method is a helper function for getting an access token for accessing Unity SDS services. You must pass the token along with any API requests in order to access the various Unity SDS services."
   ]
  },
  {
   "cell_type": "code",
   "execution_count": 23,
   "id": "6b9bbd23-1e4b-4286-959a-a00908a8ff7e",
   "metadata": {
    "tags": []
   },
   "outputs": [],
   "source": [
    "# This method is used for taking a username and password and client ID and fetching a cognito token\n",
    "def get_token(username, password, clientID):\n",
    "    aj = json.loads(auth_json)\n",
    "    aj['AuthParameters']['USERNAME'] = username\n",
    "    aj['AuthParameters']['PASSWORD'] = password\n",
    "    aj['ClientId'] =clientID \n",
    "    token = None\n",
    "    try:\n",
    "        response = requests.post('https://cognito-idp.us-west-2.amazonaws.com', headers={\"Content-Type\":\"application/x-amz-json-1.1\", \"X-Amz-Target\":\"AWSCognitoIdentityProviderService.InitiateAuth\"}, json=aj)\n",
    "        token = response.json()['AuthenticationResult']['AccessToken']\n",
    "    except:\n",
    "        print(\"Error, check username and password and try again.\")\n",
    "    return token"
   ]
  },
  {
   "cell_type": "markdown",
   "id": "5ea61770-5592-4e79-b6c3-8dadcb9301cb",
   "metadata": {
    "tags": []
   },
   "source": [
    "### Prompt for your Unity username and password\n",
    "\n",
    "These are required to get the token (described above) to connect to the data services."
   ]
  },
  {
   "cell_type": "code",
   "execution_count": 24,
   "id": "1f586ee1-003f-40eb-9ae5-3770b4579ead",
   "metadata": {
    "tags": []
   },
   "outputs": [
    {
     "name": "stdout",
     "output_type": "stream",
     "text": [
      "Please enter your username...\n"
     ]
    },
    {
     "name": "stdin",
     "output_type": "stream",
     "text": [
      " rtapella\n"
     ]
    },
    {
     "name": "stdout",
     "output_type": "stream",
     "text": [
      "Please enter your password...\n"
     ]
    },
    {
     "name": "stdin",
     "output_type": "stream",
     "text": [
      " ············\n"
     ]
    }
   ],
   "source": [
    "print(\"Please enter your username...\")\n",
    "user_name = input()\n",
    "\n",
    "print(\"Please enter your password...\")\n",
    "password = getpass.getpass()"
   ]
  },
  {
   "cell_type": "code",
   "execution_count": 25,
   "id": "be1b7bcd-eb10-44aa-9940-d92b7bec9817",
   "metadata": {},
   "outputs": [
    {
     "name": "stdout",
     "output_type": "stream",
     "text": [
      "Token received.\n"
     ]
    }
   ],
   "source": [
    "token = get_token(user_name, password, env['clientId'])\n",
    "\n",
    "if(token):\n",
    "    print(\"Token received.\")"
   ]
  },
  {
   "cell_type": "markdown",
   "id": "1a128652-a73b-4b9c-93ce-5f4147d73c32",
   "metadata": {},
   "source": [
    "## List Available Data Collections in the Unity System\n",
    "\n",
    "Data is organized into Collections. Any particular data file will be in at least one Collection."
   ]
  },
  {
   "cell_type": "code",
   "execution_count": 26,
   "id": "65d2dd37-c123-4125-b796-6a93a1b1d39e",
   "metadata": {},
   "outputs": [
    {
     "name": "stdout",
     "output_type": "stream",
     "text": [
      "Data Collections at https://58nbcawrvb.execute-api.us-west-2.amazonaws.com/test/am-uds-dapa/collections\n",
      "L0_SNPP_ATMS_SCIENCE___1\n",
      "L0_SNPP_EphAtt___1\n",
      "SNDR_SNPP_ATMS_L1B_OUTPUT___1\n",
      "SNDR_SNPP_ATMS_L1A_OUTPUT___1\n",
      "SNDR_SNPP_ATMS_L1A___1\n",
      "\n",
      "Full JSON response object:\n"
     ]
    },
    {
     "data": {
      "application/json": {
       "features": [
        {
         "assets": {},
         "description": "TODO",
         "extent": {
          "spatial": {
           "bbox": [
            [
             0,
             0,
             0,
             0
            ]
           ]
          },
          "temporal": {
           "interval": [
            [
             "1970-01-01T12:00:00+00:00",
             "2022-10-12T08:40:16+00:00"
            ]
           ]
          }
         },
         "id": "L0_SNPP_ATMS_SCIENCE___1",
         "license": "proprietary",
         "links": [
          {
           "href": "./collection.json",
           "rel": "root",
           "title": "L0_SNPP_ATMS_SCIENCE___1",
           "type": "application/json"
          },
          {
           "href": "./collection.json?bucket=protected&regex=%5EP%5B0-9%5D%7B3%7D%5B0-9%5D%7B4%7D%5BA-Z%5D%7B13%7DT%5B0-9%5D%7B12%7D01%5C.PDS%24",
           "rel": "item",
           "title": "P1570515ATMSSCIENCEAXT11344000000001.PDS",
           "type": "data"
          },
          {
           "href": "./collection.json?bucket=protected&regex=%5EP%5B0-9%5D%7B3%7D%5B0-9%5D%7B4%7D%5BA-Z%5D%7B13%7DT%5B0-9%5D%7B12%7D00%5C.PDS%24",
           "rel": "item",
           "title": "P1570515ATMSSCIENCEAXT11344000000000.PDS",
           "type": "metadata"
          },
          {
           "href": "./collection.json?bucket=protected&regex=%5EP%5B0-9%5D%7B3%7D%5B0-9%5D%7B4%7D%5BA-Z%5D%7B13%7DT%5B0-9%5D%7B12%7D01%5C.PDS%5C.xml%24",
           "rel": "item",
           "title": "P1570515ATMSSCIENCEAXT11344000000001.PDS.xml",
           "type": "metadata"
          },
          {
           "href": "./collection.json?bucket=private&regex=%5EP%5B0-9%5D%7B3%7D%5B0-9%5D%7B4%7D%5BA-Z%5D%7B13%7DT%5B0-9%5D%7B12%7D00.PDS.cmr.xml%24",
           "rel": "item",
           "title": "P1570515ATMSSCIENCEAXT11344000000000.PDS.cmr.xml",
           "type": "metadata"
          }
         ],
         "providers": [],
         "stac_version": "1.0.0",
         "summaries": {
          "granuleId": [
           "^P[0-9]{3}[0-9]{4}[A-Z]{13}T[0-9]{12}0$"
          ],
          "granuleIdExtraction": [
           "(P[0-9]{3}[0-9]{4}[A-Z]{13}T[0-9]{12}0).+"
          ],
          "process": [
           "snpp.level0"
          ],
          "totalGranules": [
           4381
          ]
         },
         "type": "Collection"
        },
        {
         "assets": {},
         "description": "TODO",
         "extent": {
          "spatial": {
           "bbox": [
            [
             0,
             0,
             0,
             0
            ]
           ]
          },
          "temporal": {
           "interval": [
            [
             "1970-01-01T12:00:00+00:00",
             "2022-10-12T08:40:16+00:00"
            ]
           ]
          }
         },
         "id": "L0_SNPP_EphAtt___1",
         "license": "proprietary",
         "links": [
          {
           "href": "./collection.json",
           "rel": "root",
           "title": "L0_SNPP_EphAtt___1",
           "type": "application/json"
          },
          {
           "href": "./collection.json?bucket=protected&regex=%5EP%5B0-9%5D%7B3%7D%5B0-9%5D%7B4%7D%5BA-Z%5D%7B13%7DT%5B0-9%5D%7B12%7D01%5C.PDS%24",
           "rel": "item",
           "title": "P1570011AAAAAAAAAAAAAT16014214620701.PDS",
           "type": "data"
          },
          {
           "href": "./collection.json?bucket=protected&regex=%5EP%5B0-9%5D%7B3%7D%5B0-9%5D%7B4%7D%5BA-Z%5D%7B13%7DT%5B0-9%5D%7B12%7D00%5C.PDS%24",
           "rel": "item",
           "title": "P1570011AAAAAAAAAAAAAT16014214620700.PDS",
           "type": "metadata"
          },
          {
           "href": "./collection.json?bucket=protected&regex=%5EP%5B0-9%5D%7B3%7D%5B0-9%5D%7B4%7D%5BA-Z%5D%7B13%7DT%5B0-9%5D%7B12%7D01%5C.PDS%5C.xml%24",
           "rel": "item",
           "title": "P1570011AAAAAAAAAAAAAT16014214620701.PDS.xml",
           "type": "metadata"
          },
          {
           "href": "./collection.json?bucket=private&regex=%5EP%5B0-9%5D%7B3%7D%5B0-9%5D%7B4%7D%5BA-Z%5D%7B13%7DT%5B0-9%5D%7B12%7D00.PDS.cmr.xml%24",
           "rel": "item",
           "title": "P1570011AAAAAAAAAAAAAT16014214620700.PDS.cmr.xml",
           "type": "metadata"
          }
         ],
         "providers": [],
         "stac_version": "1.0.0",
         "summaries": {
          "granuleId": [
           "^P[0-9]{3}[0-9]{4}[A-Z]{13}T[0-9]{12}0$"
          ],
          "granuleIdExtraction": [
           "(P[0-9]{3}[0-9]{4}[A-Z]{13}T[0-9]{12}0).+"
          ],
          "process": [
           "snpp.level0"
          ],
          "totalGranules": [
           4392
          ]
         },
         "type": "Collection"
        },
        {
         "assets": {},
         "description": "TODO",
         "extent": {
          "spatial": {
           "bbox": [
            [
             0,
             0,
             0,
             0
            ]
           ]
          },
          "temporal": {
           "interval": [
            [
             "1970-01-01T12:00:00+00:00",
             "2022-10-12T08:40:16+00:00"
            ]
           ]
          }
         },
         "id": "SNDR_SNPP_ATMS_L1B_OUTPUT___1",
         "license": "proprietary",
         "links": [
          {
           "href": "./collection.json",
           "rel": "root",
           "title": "SNDR_SNPP_ATMS_L1B_OUTPUT___1",
           "type": "application/json"
          },
          {
           "href": "./collection.json?bucket=protected&regex=%5Etest_file.%2A%5C.nc%24",
           "rel": "item",
           "title": "test_file01.nc",
           "type": "data"
          },
          {
           "href": "./collection.json?bucket=protected&regex=%5Etest_file.%2A%5C.nc%5C.cas%24",
           "rel": "item",
           "title": "test_file01.nc.cas",
           "type": "metadata"
          },
          {
           "href": "./collection.json?bucket=private&regex=%5Etest_file.%2A%5C.cmr%5C.xml%24",
           "rel": "item",
           "title": "test_file01.cmr.xml",
           "type": "metadata"
          }
         ],
         "providers": [],
         "stac_version": "1.0.0",
         "summaries": {
          "granuleId": [
           "^test_file.*$"
          ],
          "granuleIdExtraction": [
           "(^test_file.*)(\\.nc|\\.nc\\.cas|\\.cmr\\.xml)"
          ],
          "process": [
           "snpp.level1"
          ],
          "totalGranules": [
           36
          ]
         },
         "type": "Collection"
        },
        {
         "assets": {},
         "description": "TODO",
         "extent": {
          "spatial": {
           "bbox": [
            [
             0,
             0,
             0,
             0
            ]
           ]
          },
          "temporal": {
           "interval": [
            [
             "1970-01-01T12:00:00+00:00",
             "2022-10-12T08:40:17+00:00"
            ]
           ]
          }
         },
         "id": "SNDR_SNPP_ATMS_L1A_OUTPUT___1",
         "license": "proprietary",
         "links": [
          {
           "href": "./collection.json",
           "rel": "root",
           "title": "SNDR_SNPP_ATMS_L1A_OUTPUT___1",
           "type": "application/json"
          },
          {
           "href": "./collection.json?bucket=protected&regex=%5ESNDR.SNPP.ATMS.L1A.%2A%5C.nc%24",
           "rel": "item",
           "title": "SNDR.SNPP.ATMS.L1A.nominal2.01.nc",
           "type": "data"
          },
          {
           "href": "./collection.json?bucket=protected&regex=%5ESNDR.SNPP.ATMS.L1A.%2A%5C.nc%5C.cas%24",
           "rel": "item",
           "title": "SNDR.SNPP.ATMS.L1A.nominal2.01.nc.cas",
           "type": "metadata"
          },
          {
           "href": "./collection.json?bucket=private&regex=%5ESNDR.SNPP.ATMS.L1A.%2A%5C.cmr%5C.xml%24",
           "rel": "item",
           "title": "SNDR.SNPP.ATMS.L1A.nominal2.01.cmr.xml",
           "type": "metadata"
          }
         ],
         "providers": [],
         "stac_version": "1.0.0",
         "summaries": {
          "granuleId": [
           "^SNDR.SNPP.ATMS.L1A.*$"
          ],
          "granuleIdExtraction": [
           "(^SNDR.SNPP.ATMS.L1A.*)(\\.nc|\\.nc\\.cas|\\.cmr\\.xml)"
          ],
          "process": [
           "snpp.level1"
          ],
          "totalGranules": [
           20
          ]
         },
         "type": "Collection"
        },
        {
         "assets": {},
         "description": "TODO",
         "extent": {
          "spatial": {
           "bbox": [
            [
             0,
             0,
             0,
             0
            ]
           ]
          },
          "temporal": {
           "interval": [
            [
             "1970-01-01T12:00:00+00:00",
             "2022-10-12T08:40:17+00:00"
            ]
           ]
          }
         },
         "id": "SNDR_SNPP_ATMS_L1A___1",
         "license": "proprietary",
         "links": [
          {
           "href": "./collection.json",
           "rel": "root",
           "title": "SNDR_SNPP_ATMS_L1A___1",
           "type": "application/json"
          },
          {
           "href": "./collection.json?bucket=protected&regex=%5ESNDR.SNPP.ATMS.L1A.%2A%5C.nc%24",
           "rel": "item",
           "title": "SNDR.SNPP.ATMS.L1A.nominal2.01.nc",
           "type": "data"
          },
          {
           "href": "./collection.json?bucket=protected&regex=%5ESNDR.SNPP.ATMS.L1A.%2A%5C.nc%5C.cas%24",
           "rel": "item",
           "title": "SNDR.SNPP.ATMS.L1A.nominal2.01.nc.cas",
           "type": "metadata"
          },
          {
           "href": "./collection.json?bucket=private&regex=%5ESNDR.SNPP.ATMS.L1A.%2A%5C.cmr%5C.xml%24",
           "rel": "item",
           "title": "SNDR.SNPP.ATMS.L1A.nominal2.01.cmr.xml",
           "type": "metadata"
          }
         ],
         "providers": [],
         "stac_version": "1.0.0",
         "summaries": {
          "granuleId": [
           "^SNDR.SNPP.ATMS.L1A.*$"
          ],
          "granuleIdExtraction": [
           "(^SNDR.SNPP.ATMS.L1A.*)(\\.nc|\\.nc\\.cas|\\.cmr\\.xml)"
          ],
          "process": [
           "snpp.level1"
          ],
          "totalGranules": [
           20
          ]
         },
         "type": "Collection"
        }
       ],
       "links": [
        {
         "href": "https://58nbcawrvb.execute-api.us-west-2.amazonaws.com/test/am-uds-dapa/collections?limit=10&offset=0",
         "rel": "self"
        },
        {
         "href": "https://58nbcawrvb.execute-api.us-west-2.amazonaws.com",
         "rel": "root"
        },
        {
         "href": "https://58nbcawrvb.execute-api.us-west-2.amazonaws.com/test/am-uds-dapa/collections?limit=10&offset=10",
         "rel": "next"
        },
        {
         "href": "https://58nbcawrvb.execute-api.us-west-2.amazonaws.com/test/am-uds-dapa/collections?limit=10&offset=0",
         "rel": "prev"
        }
       ],
       "numberMatched": 5,
       "numberReturned": 5,
       "stac_version": "1.0.0",
       "type": "FeatureCollection"
      },
      "text/plain": [
       "<IPython.core.display.JSON object>"
      ]
     },
     "execution_count": 26,
     "metadata": {
      "application/json": {
       "expanded": false,
       "root": "root"
      }
     },
     "output_type": "execute_result"
    }
   ],
   "source": [
    "# The DAPA-request endpoint to retrieve collections is the base URL plus the following:\n",
    "url = env['url'] + \"am-uds-dapa/collections\"\n",
    "\n",
    "# Make a GET request at the URL you have constructed, using your access token\n",
    "response = requests.get(url, headers={\"Authorization\": \"Bearer \" + token})\n",
    "\n",
    "print (\"Data Collections at \" + url)\n",
    "# To see raw JSON of the API response, uncomment this line:\n",
    "#print(json.dumps(response.json()))\n",
    "\n",
    "features = response.json()['features']\n",
    "\n",
    "for data_set in features:\n",
    "   print(data_set['id'])\n",
    "\n",
    "print(\"\\nFull JSON response object:\")\n",
    "JSON(response.json())"
   ]
  },
  {
   "cell_type": "markdown",
   "id": "4c4f410c-1dd3-4723-b3f8-11e951b38cdf",
   "metadata": {},
   "source": [
    "## Given a collection (above), List the files within that collection\n",
    "\n",
    "Executing this cell will retrieve all the files in a Collection defined by the data_set variable. Then it will print out the name and href location of each (up to a limit defined in this code block).\n",
    "\n",
    "To see a different data Collection, change the data_set variable to one of the other Collections you found in the step above. If you would like to limit your query to something other than 100 files, change the value in the params.append() call."
   ]
  },
  {
   "cell_type": "code",
   "execution_count": 36,
   "id": "1bb34cc9-eaae-4efd-82c0-6f33043b6207",
   "metadata": {},
   "outputs": [
    {
     "name": "stdout",
     "output_type": "stream",
     "text": [
      "Total number of files: 20\n",
      "File IDs, titles, and hrefs in Collection SNDR_SNPP_ATMS_L1A___1\n",
      "\n",
      "For SNDR.SNPP.ATMS.L1A.nominal2.01\n",
      "File:\t\ts3://uds-test-cumulus-protected/SNDR_SNPP_ATMS_L1A___1/SNDR.SNPP.ATMS.L1A.nominal2.01.nc\n",
      "Metadata:\ts3://uds-test-cumulus-protected/SNDR_SNPP_ATMS_L1A___1/SNDR.SNPP.ATMS.L1A.nominal2.01.nc.cas\n",
      "\n",
      "For SNDR.SNPP.ATMS.L1A.nominal2.08\n",
      "File:\t\ts3://uds-test-cumulus-protected/SNDR_SNPP_ATMS_L1A___1/SNDR.SNPP.ATMS.L1A.nominal2.08.nc\n",
      "Metadata:\ts3://uds-test-cumulus-protected/SNDR_SNPP_ATMS_L1A___1/SNDR.SNPP.ATMS.L1A.nominal2.08.nc.cas\n",
      "\n",
      "For SNDR.SNPP.ATMS.L1A.nominal2.06\n",
      "File:\t\ts3://uds-test-cumulus-protected/SNDR_SNPP_ATMS_L1A___1/SNDR.SNPP.ATMS.L1A.nominal2.06.nc\n",
      "Metadata:\ts3://uds-test-cumulus-protected/SNDR_SNPP_ATMS_L1A___1/SNDR.SNPP.ATMS.L1A.nominal2.06.nc.cas\n",
      "\n",
      "For SNDR.SNPP.ATMS.L1A.nominal2.18\n",
      "File:\t\ts3://uds-test-cumulus-protected/SNDR_SNPP_ATMS_L1A___1/SNDR.SNPP.ATMS.L1A.nominal2.18.nc\n",
      "Metadata:\ts3://uds-test-cumulus-protected/SNDR_SNPP_ATMS_L1A___1/SNDR.SNPP.ATMS.L1A.nominal2.18.nc.cas\n",
      "\n",
      "For SNDR.SNPP.ATMS.L1A.nominal2.04\n",
      "File:\t\ts3://uds-test-cumulus-protected/SNDR_SNPP_ATMS_L1A___1/SNDR.SNPP.ATMS.L1A.nominal2.04.nc\n",
      "Metadata:\ts3://uds-test-cumulus-protected/SNDR_SNPP_ATMS_L1A___1/SNDR.SNPP.ATMS.L1A.nominal2.04.nc.cas\n",
      "\n",
      "For SNDR.SNPP.ATMS.L1A.nominal2.16\n",
      "File:\t\ts3://uds-test-cumulus-protected/SNDR_SNPP_ATMS_L1A___1/SNDR.SNPP.ATMS.L1A.nominal2.16.nc\n",
      "Metadata:\ts3://uds-test-cumulus-protected/SNDR_SNPP_ATMS_L1A___1/SNDR.SNPP.ATMS.L1A.nominal2.16.nc.cas\n",
      "\n",
      "For SNDR.SNPP.ATMS.L1A.nominal2.17\n",
      "File:\t\ts3://uds-test-cumulus-protected/SNDR_SNPP_ATMS_L1A___1/SNDR.SNPP.ATMS.L1A.nominal2.17.nc\n",
      "Metadata:\ts3://uds-test-cumulus-protected/SNDR_SNPP_ATMS_L1A___1/SNDR.SNPP.ATMS.L1A.nominal2.17.nc.cas\n",
      "\n",
      "For SNDR.SNPP.ATMS.L1A.nominal2.10\n",
      "File:\t\ts3://uds-test-cumulus-protected/SNDR_SNPP_ATMS_L1A___1/SNDR.SNPP.ATMS.L1A.nominal2.10.nc\n",
      "Metadata:\ts3://uds-test-cumulus-protected/SNDR_SNPP_ATMS_L1A___1/SNDR.SNPP.ATMS.L1A.nominal2.10.nc.cas\n",
      "\n",
      "For SNDR.SNPP.ATMS.L1A.nominal2.14\n",
      "File:\t\ts3://uds-test-cumulus-protected/SNDR_SNPP_ATMS_L1A___1/SNDR.SNPP.ATMS.L1A.nominal2.14.nc\n",
      "Metadata:\ts3://uds-test-cumulus-protected/SNDR_SNPP_ATMS_L1A___1/SNDR.SNPP.ATMS.L1A.nominal2.14.nc.cas\n",
      "\n",
      "For SNDR.SNPP.ATMS.L1A.nominal2.12\n",
      "File:\t\ts3://uds-test-cumulus-protected/SNDR_SNPP_ATMS_L1A___1/SNDR.SNPP.ATMS.L1A.nominal2.12.nc\n",
      "Metadata:\ts3://uds-test-cumulus-protected/SNDR_SNPP_ATMS_L1A___1/SNDR.SNPP.ATMS.L1A.nominal2.12.nc.cas\n",
      "\n",
      "For SNDR.SNPP.ATMS.L1A.nominal2.09\n",
      "File:\t\ts3://uds-test-cumulus-protected/SNDR_SNPP_ATMS_L1A___1/SNDR.SNPP.ATMS.L1A.nominal2.09.nc\n",
      "Metadata:\ts3://uds-test-cumulus-protected/SNDR_SNPP_ATMS_L1A___1/SNDR.SNPP.ATMS.L1A.nominal2.09.nc.cas\n",
      "\n",
      "For SNDR.SNPP.ATMS.L1A.nominal2.20\n",
      "File:\t\ts3://uds-test-cumulus-protected/SNDR_SNPP_ATMS_L1A___1/SNDR.SNPP.ATMS.L1A.nominal2.20.nc\n",
      "Metadata:\ts3://uds-test-cumulus-protected/SNDR_SNPP_ATMS_L1A___1/SNDR.SNPP.ATMS.L1A.nominal2.20.nc.cas\n",
      "\n",
      "For SNDR.SNPP.ATMS.L1A.nominal2.15\n",
      "File:\t\ts3://uds-test-cumulus-protected/SNDR_SNPP_ATMS_L1A___1/SNDR.SNPP.ATMS.L1A.nominal2.15.nc\n",
      "Metadata:\ts3://uds-test-cumulus-protected/SNDR_SNPP_ATMS_L1A___1/SNDR.SNPP.ATMS.L1A.nominal2.15.nc.cas\n",
      "\n",
      "For SNDR.SNPP.ATMS.L1A.nominal2.07\n",
      "File:\t\ts3://uds-test-cumulus-protected/SNDR_SNPP_ATMS_L1A___1/SNDR.SNPP.ATMS.L1A.nominal2.07.nc\n",
      "Metadata:\ts3://uds-test-cumulus-protected/SNDR_SNPP_ATMS_L1A___1/SNDR.SNPP.ATMS.L1A.nominal2.07.nc.cas\n",
      "\n",
      "For SNDR.SNPP.ATMS.L1A.nominal2.19\n",
      "File:\t\ts3://uds-test-cumulus-protected/SNDR_SNPP_ATMS_L1A___1/SNDR.SNPP.ATMS.L1A.nominal2.19.nc\n",
      "Metadata:\ts3://uds-test-cumulus-protected/SNDR_SNPP_ATMS_L1A___1/SNDR.SNPP.ATMS.L1A.nominal2.19.nc.cas\n",
      "\n",
      "For SNDR.SNPP.ATMS.L1A.nominal2.03\n",
      "File:\t\ts3://uds-test-cumulus-protected/SNDR_SNPP_ATMS_L1A___1/SNDR.SNPP.ATMS.L1A.nominal2.03.nc\n",
      "Metadata:\ts3://uds-test-cumulus-protected/SNDR_SNPP_ATMS_L1A___1/SNDR.SNPP.ATMS.L1A.nominal2.03.nc.cas\n",
      "\n",
      "For SNDR.SNPP.ATMS.L1A.nominal2.11\n",
      "File:\t\ts3://uds-test-cumulus-protected/SNDR_SNPP_ATMS_L1A___1/SNDR.SNPP.ATMS.L1A.nominal2.11.nc\n",
      "Metadata:\ts3://uds-test-cumulus-protected/SNDR_SNPP_ATMS_L1A___1/SNDR.SNPP.ATMS.L1A.nominal2.11.nc.cas\n",
      "\n",
      "For SNDR.SNPP.ATMS.L1A.nominal2.05\n",
      "File:\t\ts3://uds-test-cumulus-protected/SNDR_SNPP_ATMS_L1A___1/SNDR.SNPP.ATMS.L1A.nominal2.05.nc\n",
      "Metadata:\ts3://uds-test-cumulus-protected/SNDR_SNPP_ATMS_L1A___1/SNDR.SNPP.ATMS.L1A.nominal2.05.nc.cas\n",
      "\n",
      "For SNDR.SNPP.ATMS.L1A.nominal2.13\n",
      "File:\t\ts3://uds-test-cumulus-protected/SNDR_SNPP_ATMS_L1A___1/SNDR.SNPP.ATMS.L1A.nominal2.13.nc\n",
      "Metadata:\ts3://uds-test-cumulus-protected/SNDR_SNPP_ATMS_L1A___1/SNDR.SNPP.ATMS.L1A.nominal2.13.nc.cas\n",
      "\n",
      "For SNDR.SNPP.ATMS.L1A.nominal2.02\n",
      "File:\t\ts3://uds-test-cumulus-protected/SNDR_SNPP_ATMS_L1A___1/SNDR.SNPP.ATMS.L1A.nominal2.02.nc\n",
      "Metadata:\ts3://uds-test-cumulus-protected/SNDR_SNPP_ATMS_L1A___1/SNDR.SNPP.ATMS.L1A.nominal2.02.nc.cas\n",
      "\n",
      "Full JSON response object:\n"
     ]
    },
    {
     "data": {
      "application/json": {
       "features": [
        {
         "assets": {
          "data": {
           "description": "SNDR.SNPP.ATMS.L1A.nominal2.01.nc",
           "href": "s3://uds-test-cumulus-protected/SNDR_SNPP_ATMS_L1A___1/SNDR.SNPP.ATMS.L1A.nominal2.01.nc",
           "title": "SNDR.SNPP.ATMS.L1A.nominal2.01.nc"
          },
          "metadata__cmr": {
           "description": "SNDR.SNPP.ATMS.L1A.nominal2.01.cmr.xml",
           "href": "s3://uds-test-cumulus-private/SNDR_SNPP_ATMS_L1A___1/SNDR.SNPP.ATMS.L1A.nominal2.01.cmr.xml",
           "title": "SNDR.SNPP.ATMS.L1A.nominal2.01.cmr.xml"
          },
          "metadata__data": {
           "description": "SNDR.SNPP.ATMS.L1A.nominal2.01.nc.cas",
           "href": "s3://uds-test-cumulus-protected/SNDR_SNPP_ATMS_L1A___1/SNDR.SNPP.ATMS.L1A.nominal2.01.nc.cas",
           "title": "SNDR.SNPP.ATMS.L1A.nominal2.01.nc.cas"
          }
         },
         "bbox": [
          0,
          0,
          0,
          0
         ],
         "collection": "SNDR_SNPP_ATMS_L1A___1",
         "geometry": {
          "coordinates": [
           0,
           0
          ],
          "type": "Point"
         },
         "id": "SNDR.SNPP.ATMS.L1A.nominal2.01",
         "links": [
          {
           "href": ".",
           "rel": "collection"
          }
         ],
         "properties": {
          "created": "2020-12-14T13:50:00.000Z",
          "datetime": "1970-01-01T00:27:40.544797029Z",
          "end_datetime": "2016-01-14T10:00:00.000Z",
          "start_datetime": "2016-01-14T09:54:00.000Z"
         },
         "stac_extensions": [],
         "stac_version": "1.0.0",
         "type": "Feature"
        },
        {
         "assets": {
          "data": {
           "description": "SNDR.SNPP.ATMS.L1A.nominal2.08.nc",
           "href": "s3://uds-test-cumulus-protected/SNDR_SNPP_ATMS_L1A___1/SNDR.SNPP.ATMS.L1A.nominal2.08.nc",
           "title": "SNDR.SNPP.ATMS.L1A.nominal2.08.nc"
          },
          "metadata__cmr": {
           "description": "SNDR.SNPP.ATMS.L1A.nominal2.08.cmr.xml",
           "href": "s3://uds-test-cumulus-private/SNDR_SNPP_ATMS_L1A___1/SNDR.SNPP.ATMS.L1A.nominal2.08.cmr.xml",
           "title": "SNDR.SNPP.ATMS.L1A.nominal2.08.cmr.xml"
          },
          "metadata__data": {
           "description": "SNDR.SNPP.ATMS.L1A.nominal2.08.nc.cas",
           "href": "s3://uds-test-cumulus-protected/SNDR_SNPP_ATMS_L1A___1/SNDR.SNPP.ATMS.L1A.nominal2.08.nc.cas",
           "title": "SNDR.SNPP.ATMS.L1A.nominal2.08.nc.cas"
          }
         },
         "bbox": [
          0,
          0,
          0,
          0
         ],
         "collection": "SNDR_SNPP_ATMS_L1A___1",
         "geometry": {
          "coordinates": [
           0,
           0
          ],
          "type": "Point"
         },
         "id": "SNDR.SNPP.ATMS.L1A.nominal2.08",
         "links": [
          {
           "href": ".",
           "rel": "collection"
          }
         ],
         "properties": {
          "created": "2020-12-14T13:50:00.000Z",
          "datetime": "1970-01-01T00:27:40.544779333Z",
          "end_datetime": "2016-01-14T10:42:00.000Z",
          "start_datetime": "2016-01-14T10:36:00.000Z"
         },
         "stac_extensions": [],
         "stac_version": "1.0.0",
         "type": "Feature"
        },
        {
         "assets": {
          "data": {
           "description": "SNDR.SNPP.ATMS.L1A.nominal2.06.nc",
           "href": "s3://uds-test-cumulus-protected/SNDR_SNPP_ATMS_L1A___1/SNDR.SNPP.ATMS.L1A.nominal2.06.nc",
           "title": "SNDR.SNPP.ATMS.L1A.nominal2.06.nc"
          },
          "metadata__cmr": {
           "description": "SNDR.SNPP.ATMS.L1A.nominal2.06.cmr.xml",
           "href": "s3://uds-test-cumulus-private/SNDR_SNPP_ATMS_L1A___1/SNDR.SNPP.ATMS.L1A.nominal2.06.cmr.xml",
           "title": "SNDR.SNPP.ATMS.L1A.nominal2.06.cmr.xml"
          },
          "metadata__data": {
           "description": "SNDR.SNPP.ATMS.L1A.nominal2.06.nc.cas",
           "href": "s3://uds-test-cumulus-protected/SNDR_SNPP_ATMS_L1A___1/SNDR.SNPP.ATMS.L1A.nominal2.06.nc.cas",
           "title": "SNDR.SNPP.ATMS.L1A.nominal2.06.nc.cas"
          }
         },
         "bbox": [
          0,
          0,
          0,
          0
         ],
         "collection": "SNDR_SNPP_ATMS_L1A___1",
         "geometry": {
          "coordinates": [
           0,
           0
          ],
          "type": "Point"
         },
         "id": "SNDR.SNPP.ATMS.L1A.nominal2.06",
         "links": [
          {
           "href": ".",
           "rel": "collection"
          }
         ],
         "properties": {
          "created": "2020-12-14T13:50:00.000Z",
          "datetime": "1970-01-01T00:27:40.544778641Z",
          "end_datetime": "2016-01-14T10:30:00.000Z",
          "start_datetime": "2016-01-14T10:24:00.000Z"
         },
         "stac_extensions": [],
         "stac_version": "1.0.0",
         "type": "Feature"
        },
        {
         "assets": {
          "data": {
           "description": "SNDR.SNPP.ATMS.L1A.nominal2.18.nc",
           "href": "s3://uds-test-cumulus-protected/SNDR_SNPP_ATMS_L1A___1/SNDR.SNPP.ATMS.L1A.nominal2.18.nc",
           "title": "SNDR.SNPP.ATMS.L1A.nominal2.18.nc"
          },
          "metadata__cmr": {
           "description": "SNDR.SNPP.ATMS.L1A.nominal2.18.cmr.xml",
           "href": "s3://uds-test-cumulus-private/SNDR_SNPP_ATMS_L1A___1/SNDR.SNPP.ATMS.L1A.nominal2.18.cmr.xml",
           "title": "SNDR.SNPP.ATMS.L1A.nominal2.18.cmr.xml"
          },
          "metadata__data": {
           "description": "SNDR.SNPP.ATMS.L1A.nominal2.18.nc.cas",
           "href": "s3://uds-test-cumulus-protected/SNDR_SNPP_ATMS_L1A___1/SNDR.SNPP.ATMS.L1A.nominal2.18.nc.cas",
           "title": "SNDR.SNPP.ATMS.L1A.nominal2.18.nc.cas"
          }
         },
         "bbox": [
          0,
          0,
          0,
          0
         ],
         "collection": "SNDR_SNPP_ATMS_L1A___1",
         "geometry": {
          "coordinates": [
           0,
           0
          ],
          "type": "Point"
         },
         "id": "SNDR.SNPP.ATMS.L1A.nominal2.18",
         "links": [
          {
           "href": ".",
           "rel": "collection"
          }
         ],
         "properties": {
          "created": "2020-12-14T13:50:00.000Z",
          "datetime": "1970-01-01T00:27:40.544779698Z",
          "end_datetime": "2016-01-14T11:42:00.000Z",
          "start_datetime": "2016-01-14T11:36:00.000Z"
         },
         "stac_extensions": [],
         "stac_version": "1.0.0",
         "type": "Feature"
        },
        {
         "assets": {
          "data": {
           "description": "SNDR.SNPP.ATMS.L1A.nominal2.04.nc",
           "href": "s3://uds-test-cumulus-protected/SNDR_SNPP_ATMS_L1A___1/SNDR.SNPP.ATMS.L1A.nominal2.04.nc",
           "title": "SNDR.SNPP.ATMS.L1A.nominal2.04.nc"
          },
          "metadata__cmr": {
           "description": "SNDR.SNPP.ATMS.L1A.nominal2.04.cmr.xml",
           "href": "s3://uds-test-cumulus-private/SNDR_SNPP_ATMS_L1A___1/SNDR.SNPP.ATMS.L1A.nominal2.04.cmr.xml",
           "title": "SNDR.SNPP.ATMS.L1A.nominal2.04.cmr.xml"
          },
          "metadata__data": {
           "description": "SNDR.SNPP.ATMS.L1A.nominal2.04.nc.cas",
           "href": "s3://uds-test-cumulus-protected/SNDR_SNPP_ATMS_L1A___1/SNDR.SNPP.ATMS.L1A.nominal2.04.nc.cas",
           "title": "SNDR.SNPP.ATMS.L1A.nominal2.04.nc.cas"
          }
         },
         "bbox": [
          0,
          0,
          0,
          0
         ],
         "collection": "SNDR_SNPP_ATMS_L1A___1",
         "geometry": {
          "coordinates": [
           0,
           0
          ],
          "type": "Point"
         },
         "id": "SNDR.SNPP.ATMS.L1A.nominal2.04",
         "links": [
          {
           "href": ".",
           "rel": "collection"
          }
         ],
         "properties": {
          "created": "2020-12-14T13:50:00.000Z",
          "datetime": "1970-01-01T00:27:40.544779491Z",
          "end_datetime": "2016-01-14T10:18:00.000Z",
          "start_datetime": "2016-01-14T10:12:00.000Z"
         },
         "stac_extensions": [],
         "stac_version": "1.0.0",
         "type": "Feature"
        },
        {
         "assets": {
          "data": {
           "description": "SNDR.SNPP.ATMS.L1A.nominal2.16.nc",
           "href": "s3://uds-test-cumulus-protected/SNDR_SNPP_ATMS_L1A___1/SNDR.SNPP.ATMS.L1A.nominal2.16.nc",
           "title": "SNDR.SNPP.ATMS.L1A.nominal2.16.nc"
          },
          "metadata__cmr": {
           "description": "SNDR.SNPP.ATMS.L1A.nominal2.16.cmr.xml",
           "href": "s3://uds-test-cumulus-private/SNDR_SNPP_ATMS_L1A___1/SNDR.SNPP.ATMS.L1A.nominal2.16.cmr.xml",
           "title": "SNDR.SNPP.ATMS.L1A.nominal2.16.cmr.xml"
          },
          "metadata__data": {
           "description": "SNDR.SNPP.ATMS.L1A.nominal2.16.nc.cas",
           "href": "s3://uds-test-cumulus-protected/SNDR_SNPP_ATMS_L1A___1/SNDR.SNPP.ATMS.L1A.nominal2.16.nc.cas",
           "title": "SNDR.SNPP.ATMS.L1A.nominal2.16.nc.cas"
          }
         },
         "bbox": [
          0,
          0,
          0,
          0
         ],
         "collection": "SNDR_SNPP_ATMS_L1A___1",
         "geometry": {
          "coordinates": [
           0,
           0
          ],
          "type": "Point"
         },
         "id": "SNDR.SNPP.ATMS.L1A.nominal2.16",
         "links": [
          {
           "href": ".",
           "rel": "collection"
          }
         ],
         "properties": {
          "created": "2020-12-14T13:50:00.000Z",
          "datetime": "1970-01-01T00:27:40.544779027Z",
          "end_datetime": "2016-01-14T11:30:00.000Z",
          "start_datetime": "2016-01-14T11:24:00.000Z"
         },
         "stac_extensions": [],
         "stac_version": "1.0.0",
         "type": "Feature"
        },
        {
         "assets": {
          "data": {
           "description": "SNDR.SNPP.ATMS.L1A.nominal2.17.nc",
           "href": "s3://uds-test-cumulus-protected/SNDR_SNPP_ATMS_L1A___1/SNDR.SNPP.ATMS.L1A.nominal2.17.nc",
           "title": "SNDR.SNPP.ATMS.L1A.nominal2.17.nc"
          },
          "metadata__cmr": {
           "description": "SNDR.SNPP.ATMS.L1A.nominal2.17.cmr.xml",
           "href": "s3://uds-test-cumulus-private/SNDR_SNPP_ATMS_L1A___1/SNDR.SNPP.ATMS.L1A.nominal2.17.cmr.xml",
           "title": "SNDR.SNPP.ATMS.L1A.nominal2.17.cmr.xml"
          },
          "metadata__data": {
           "description": "SNDR.SNPP.ATMS.L1A.nominal2.17.nc.cas",
           "href": "s3://uds-test-cumulus-protected/SNDR_SNPP_ATMS_L1A___1/SNDR.SNPP.ATMS.L1A.nominal2.17.nc.cas",
           "title": "SNDR.SNPP.ATMS.L1A.nominal2.17.nc.cas"
          }
         },
         "bbox": [
          0,
          0,
          0,
          0
         ],
         "collection": "SNDR_SNPP_ATMS_L1A___1",
         "geometry": {
          "coordinates": [
           0,
           0
          ],
          "type": "Point"
         },
         "id": "SNDR.SNPP.ATMS.L1A.nominal2.17",
         "links": [
          {
           "href": ".",
           "rel": "collection"
          }
         ],
         "properties": {
          "created": "2020-12-14T13:50:00.000Z",
          "datetime": "1970-01-01T00:27:40.544779042Z",
          "end_datetime": "2016-01-14T11:36:00.000Z",
          "start_datetime": "2016-01-14T11:30:00.000Z"
         },
         "stac_extensions": [],
         "stac_version": "1.0.0",
         "type": "Feature"
        },
        {
         "assets": {
          "data": {
           "description": "SNDR.SNPP.ATMS.L1A.nominal2.10.nc",
           "href": "s3://uds-test-cumulus-protected/SNDR_SNPP_ATMS_L1A___1/SNDR.SNPP.ATMS.L1A.nominal2.10.nc",
           "title": "SNDR.SNPP.ATMS.L1A.nominal2.10.nc"
          },
          "metadata__cmr": {
           "description": "SNDR.SNPP.ATMS.L1A.nominal2.10.cmr.xml",
           "href": "s3://uds-test-cumulus-private/SNDR_SNPP_ATMS_L1A___1/SNDR.SNPP.ATMS.L1A.nominal2.10.cmr.xml",
           "title": "SNDR.SNPP.ATMS.L1A.nominal2.10.cmr.xml"
          },
          "metadata__data": {
           "description": "SNDR.SNPP.ATMS.L1A.nominal2.10.nc.cas",
           "href": "s3://uds-test-cumulus-protected/SNDR_SNPP_ATMS_L1A___1/SNDR.SNPP.ATMS.L1A.nominal2.10.nc.cas",
           "title": "SNDR.SNPP.ATMS.L1A.nominal2.10.nc.cas"
          }
         },
         "bbox": [
          0,
          0,
          0,
          0
         ],
         "collection": "SNDR_SNPP_ATMS_L1A___1",
         "geometry": {
          "coordinates": [
           0,
           0
          ],
          "type": "Point"
         },
         "id": "SNDR.SNPP.ATMS.L1A.nominal2.10",
         "links": [
          {
           "href": ".",
           "rel": "collection"
          }
         ],
         "properties": {
          "created": "2020-12-14T13:50:00.000Z",
          "datetime": "1970-01-01T00:27:40.544778730Z",
          "end_datetime": "2016-01-14T10:54:00.000Z",
          "start_datetime": "2016-01-14T10:48:00.000Z"
         },
         "stac_extensions": [],
         "stac_version": "1.0.0",
         "type": "Feature"
        },
        {
         "assets": {
          "data": {
           "description": "SNDR.SNPP.ATMS.L1A.nominal2.14.nc",
           "href": "s3://uds-test-cumulus-protected/SNDR_SNPP_ATMS_L1A___1/SNDR.SNPP.ATMS.L1A.nominal2.14.nc",
           "title": "SNDR.SNPP.ATMS.L1A.nominal2.14.nc"
          },
          "metadata__cmr": {
           "description": "SNDR.SNPP.ATMS.L1A.nominal2.14.cmr.xml",
           "href": "s3://uds-test-cumulus-private/SNDR_SNPP_ATMS_L1A___1/SNDR.SNPP.ATMS.L1A.nominal2.14.cmr.xml",
           "title": "SNDR.SNPP.ATMS.L1A.nominal2.14.cmr.xml"
          },
          "metadata__data": {
           "description": "SNDR.SNPP.ATMS.L1A.nominal2.14.nc.cas",
           "href": "s3://uds-test-cumulus-protected/SNDR_SNPP_ATMS_L1A___1/SNDR.SNPP.ATMS.L1A.nominal2.14.nc.cas",
           "title": "SNDR.SNPP.ATMS.L1A.nominal2.14.nc.cas"
          }
         },
         "bbox": [
          0,
          0,
          0,
          0
         ],
         "collection": "SNDR_SNPP_ATMS_L1A___1",
         "geometry": {
          "coordinates": [
           0,
           0
          ],
          "type": "Point"
         },
         "id": "SNDR.SNPP.ATMS.L1A.nominal2.14",
         "links": [
          {
           "href": ".",
           "rel": "collection"
          }
         ],
         "properties": {
          "created": "2020-12-14T13:50:00.000Z",
          "datetime": "1970-01-01T00:27:40.544777758Z",
          "end_datetime": "2016-01-14T11:18:00.000Z",
          "start_datetime": "2016-01-14T11:12:00.000Z"
         },
         "stac_extensions": [],
         "stac_version": "1.0.0",
         "type": "Feature"
        },
        {
         "assets": {
          "data": {
           "description": "SNDR.SNPP.ATMS.L1A.nominal2.12.nc",
           "href": "s3://uds-test-cumulus-protected/SNDR_SNPP_ATMS_L1A___1/SNDR.SNPP.ATMS.L1A.nominal2.12.nc",
           "title": "SNDR.SNPP.ATMS.L1A.nominal2.12.nc"
          },
          "metadata__cmr": {
           "description": "SNDR.SNPP.ATMS.L1A.nominal2.12.cmr.xml",
           "href": "s3://uds-test-cumulus-private/SNDR_SNPP_ATMS_L1A___1/SNDR.SNPP.ATMS.L1A.nominal2.12.cmr.xml",
           "title": "SNDR.SNPP.ATMS.L1A.nominal2.12.cmr.xml"
          },
          "metadata__data": {
           "description": "SNDR.SNPP.ATMS.L1A.nominal2.12.nc.cas",
           "href": "s3://uds-test-cumulus-protected/SNDR_SNPP_ATMS_L1A___1/SNDR.SNPP.ATMS.L1A.nominal2.12.nc.cas",
           "title": "SNDR.SNPP.ATMS.L1A.nominal2.12.nc.cas"
          }
         },
         "bbox": [
          0,
          0,
          0,
          0
         ],
         "collection": "SNDR_SNPP_ATMS_L1A___1",
         "geometry": {
          "coordinates": [
           0,
           0
          ],
          "type": "Point"
         },
         "id": "SNDR.SNPP.ATMS.L1A.nominal2.12",
         "links": [
          {
           "href": ".",
           "rel": "collection"
          }
         ],
         "properties": {
          "created": "2020-12-14T13:50:00.000Z",
          "datetime": "1970-01-01T00:27:40.544777938Z",
          "end_datetime": "2016-01-14T11:06:00.000Z",
          "start_datetime": "2016-01-14T11:00:00.000Z"
         },
         "stac_extensions": [],
         "stac_version": "1.0.0",
         "type": "Feature"
        },
        {
         "assets": {
          "data": {
           "description": "SNDR.SNPP.ATMS.L1A.nominal2.09.nc",
           "href": "s3://uds-test-cumulus-protected/SNDR_SNPP_ATMS_L1A___1/SNDR.SNPP.ATMS.L1A.nominal2.09.nc",
           "title": "SNDR.SNPP.ATMS.L1A.nominal2.09.nc"
          },
          "metadata__cmr": {
           "description": "SNDR.SNPP.ATMS.L1A.nominal2.09.cmr.xml",
           "href": "s3://uds-test-cumulus-private/SNDR_SNPP_ATMS_L1A___1/SNDR.SNPP.ATMS.L1A.nominal2.09.cmr.xml",
           "title": "SNDR.SNPP.ATMS.L1A.nominal2.09.cmr.xml"
          },
          "metadata__data": {
           "description": "SNDR.SNPP.ATMS.L1A.nominal2.09.nc.cas",
           "href": "s3://uds-test-cumulus-protected/SNDR_SNPP_ATMS_L1A___1/SNDR.SNPP.ATMS.L1A.nominal2.09.nc.cas",
           "title": "SNDR.SNPP.ATMS.L1A.nominal2.09.nc.cas"
          }
         },
         "bbox": [
          0,
          0,
          0,
          0
         ],
         "collection": "SNDR_SNPP_ATMS_L1A___1",
         "geometry": {
          "coordinates": [
           0,
           0
          ],
          "type": "Point"
         },
         "id": "SNDR.SNPP.ATMS.L1A.nominal2.09",
         "links": [
          {
           "href": ".",
           "rel": "collection"
          }
         ],
         "properties": {
          "created": "2020-12-14T13:50:00.000Z",
          "datetime": "1970-01-01T00:27:40.544780688Z",
          "end_datetime": "2016-01-14T10:48:00.000Z",
          "start_datetime": "2016-01-14T10:42:00.000Z"
         },
         "stac_extensions": [],
         "stac_version": "1.0.0",
         "type": "Feature"
        },
        {
         "assets": {
          "data": {
           "description": "SNDR.SNPP.ATMS.L1A.nominal2.20.nc",
           "href": "s3://uds-test-cumulus-protected/SNDR_SNPP_ATMS_L1A___1/SNDR.SNPP.ATMS.L1A.nominal2.20.nc",
           "title": "SNDR.SNPP.ATMS.L1A.nominal2.20.nc"
          },
          "metadata__cmr": {
           "description": "SNDR.SNPP.ATMS.L1A.nominal2.20.cmr.xml",
           "href": "s3://uds-test-cumulus-private/SNDR_SNPP_ATMS_L1A___1/SNDR.SNPP.ATMS.L1A.nominal2.20.cmr.xml",
           "title": "SNDR.SNPP.ATMS.L1A.nominal2.20.cmr.xml"
          },
          "metadata__data": {
           "description": "SNDR.SNPP.ATMS.L1A.nominal2.20.nc.cas",
           "href": "s3://uds-test-cumulus-protected/SNDR_SNPP_ATMS_L1A___1/SNDR.SNPP.ATMS.L1A.nominal2.20.nc.cas",
           "title": "SNDR.SNPP.ATMS.L1A.nominal2.20.nc.cas"
          }
         },
         "bbox": [
          0,
          0,
          0,
          0
         ],
         "collection": "SNDR_SNPP_ATMS_L1A___1",
         "geometry": {
          "coordinates": [
           0,
           0
          ],
          "type": "Point"
         },
         "id": "SNDR.SNPP.ATMS.L1A.nominal2.20",
         "links": [
          {
           "href": ".",
           "rel": "collection"
          }
         ],
         "properties": {
          "created": "2020-12-14T13:50:00.000Z",
          "datetime": "1970-01-01T00:27:40.544779091Z",
          "end_datetime": "2016-01-14T11:54:00.000Z",
          "start_datetime": "2016-01-14T11:48:00.000Z"
         },
         "stac_extensions": [],
         "stac_version": "1.0.0",
         "type": "Feature"
        },
        {
         "assets": {
          "data": {
           "description": "SNDR.SNPP.ATMS.L1A.nominal2.15.nc",
           "href": "s3://uds-test-cumulus-protected/SNDR_SNPP_ATMS_L1A___1/SNDR.SNPP.ATMS.L1A.nominal2.15.nc",
           "title": "SNDR.SNPP.ATMS.L1A.nominal2.15.nc"
          },
          "metadata__cmr": {
           "description": "SNDR.SNPP.ATMS.L1A.nominal2.15.cmr.xml",
           "href": "s3://uds-test-cumulus-private/SNDR_SNPP_ATMS_L1A___1/SNDR.SNPP.ATMS.L1A.nominal2.15.cmr.xml",
           "title": "SNDR.SNPP.ATMS.L1A.nominal2.15.cmr.xml"
          },
          "metadata__data": {
           "description": "SNDR.SNPP.ATMS.L1A.nominal2.15.nc.cas",
           "href": "s3://uds-test-cumulus-protected/SNDR_SNPP_ATMS_L1A___1/SNDR.SNPP.ATMS.L1A.nominal2.15.nc.cas",
           "title": "SNDR.SNPP.ATMS.L1A.nominal2.15.nc.cas"
          }
         },
         "bbox": [
          0,
          0,
          0,
          0
         ],
         "collection": "SNDR_SNPP_ATMS_L1A___1",
         "geometry": {
          "coordinates": [
           0,
           0
          ],
          "type": "Point"
         },
         "id": "SNDR.SNPP.ATMS.L1A.nominal2.15",
         "links": [
          {
           "href": ".",
           "rel": "collection"
          }
         ],
         "properties": {
          "created": "2020-12-14T13:50:00.000Z",
          "datetime": "1970-01-01T00:27:40.544779282Z",
          "end_datetime": "2016-01-14T11:24:00.000Z",
          "start_datetime": "2016-01-14T11:18:00.000Z"
         },
         "stac_extensions": [],
         "stac_version": "1.0.0",
         "type": "Feature"
        },
        {
         "assets": {
          "data": {
           "description": "SNDR.SNPP.ATMS.L1A.nominal2.07.nc",
           "href": "s3://uds-test-cumulus-protected/SNDR_SNPP_ATMS_L1A___1/SNDR.SNPP.ATMS.L1A.nominal2.07.nc",
           "title": "SNDR.SNPP.ATMS.L1A.nominal2.07.nc"
          },
          "metadata__cmr": {
           "description": "SNDR.SNPP.ATMS.L1A.nominal2.07.cmr.xml",
           "href": "s3://uds-test-cumulus-private/SNDR_SNPP_ATMS_L1A___1/SNDR.SNPP.ATMS.L1A.nominal2.07.cmr.xml",
           "title": "SNDR.SNPP.ATMS.L1A.nominal2.07.cmr.xml"
          },
          "metadata__data": {
           "description": "SNDR.SNPP.ATMS.L1A.nominal2.07.nc.cas",
           "href": "s3://uds-test-cumulus-protected/SNDR_SNPP_ATMS_L1A___1/SNDR.SNPP.ATMS.L1A.nominal2.07.nc.cas",
           "title": "SNDR.SNPP.ATMS.L1A.nominal2.07.nc.cas"
          }
         },
         "bbox": [
          0,
          0,
          0,
          0
         ],
         "collection": "SNDR_SNPP_ATMS_L1A___1",
         "geometry": {
          "coordinates": [
           0,
           0
          ],
          "type": "Point"
         },
         "id": "SNDR.SNPP.ATMS.L1A.nominal2.07",
         "links": [
          {
           "href": ".",
           "rel": "collection"
          }
         ],
         "properties": {
          "created": "2020-12-14T13:50:00.000Z",
          "datetime": "1970-01-01T00:27:40.544779047Z",
          "end_datetime": "2016-01-14T10:36:00.000Z",
          "start_datetime": "2016-01-14T10:30:00.000Z"
         },
         "stac_extensions": [],
         "stac_version": "1.0.0",
         "type": "Feature"
        },
        {
         "assets": {
          "data": {
           "description": "SNDR.SNPP.ATMS.L1A.nominal2.19.nc",
           "href": "s3://uds-test-cumulus-protected/SNDR_SNPP_ATMS_L1A___1/SNDR.SNPP.ATMS.L1A.nominal2.19.nc",
           "title": "SNDR.SNPP.ATMS.L1A.nominal2.19.nc"
          },
          "metadata__cmr": {
           "description": "SNDR.SNPP.ATMS.L1A.nominal2.19.cmr.xml",
           "href": "s3://uds-test-cumulus-private/SNDR_SNPP_ATMS_L1A___1/SNDR.SNPP.ATMS.L1A.nominal2.19.cmr.xml",
           "title": "SNDR.SNPP.ATMS.L1A.nominal2.19.cmr.xml"
          },
          "metadata__data": {
           "description": "SNDR.SNPP.ATMS.L1A.nominal2.19.nc.cas",
           "href": "s3://uds-test-cumulus-protected/SNDR_SNPP_ATMS_L1A___1/SNDR.SNPP.ATMS.L1A.nominal2.19.nc.cas",
           "title": "SNDR.SNPP.ATMS.L1A.nominal2.19.nc.cas"
          }
         },
         "bbox": [
          0,
          0,
          0,
          0
         ],
         "collection": "SNDR_SNPP_ATMS_L1A___1",
         "geometry": {
          "coordinates": [
           0,
           0
          ],
          "type": "Point"
         },
         "id": "SNDR.SNPP.ATMS.L1A.nominal2.19",
         "links": [
          {
           "href": ".",
           "rel": "collection"
          }
         ],
         "properties": {
          "created": "2020-12-14T13:50:00.000Z",
          "datetime": "1970-01-01T00:27:40.544778576Z",
          "end_datetime": "2016-01-14T11:48:00.000Z",
          "start_datetime": "2016-01-14T11:42:00.000Z"
         },
         "stac_extensions": [],
         "stac_version": "1.0.0",
         "type": "Feature"
        },
        {
         "assets": {
          "data": {
           "description": "SNDR.SNPP.ATMS.L1A.nominal2.03.nc",
           "href": "s3://uds-test-cumulus-protected/SNDR_SNPP_ATMS_L1A___1/SNDR.SNPP.ATMS.L1A.nominal2.03.nc",
           "title": "SNDR.SNPP.ATMS.L1A.nominal2.03.nc"
          },
          "metadata__cmr": {
           "description": "SNDR.SNPP.ATMS.L1A.nominal2.03.cmr.xml",
           "href": "s3://uds-test-cumulus-private/SNDR_SNPP_ATMS_L1A___1/SNDR.SNPP.ATMS.L1A.nominal2.03.cmr.xml",
           "title": "SNDR.SNPP.ATMS.L1A.nominal2.03.cmr.xml"
          },
          "metadata__data": {
           "description": "SNDR.SNPP.ATMS.L1A.nominal2.03.nc.cas",
           "href": "s3://uds-test-cumulus-protected/SNDR_SNPP_ATMS_L1A___1/SNDR.SNPP.ATMS.L1A.nominal2.03.nc.cas",
           "title": "SNDR.SNPP.ATMS.L1A.nominal2.03.nc.cas"
          }
         },
         "bbox": [
          0,
          0,
          0,
          0
         ],
         "collection": "SNDR_SNPP_ATMS_L1A___1",
         "geometry": {
          "coordinates": [
           0,
           0
          ],
          "type": "Point"
         },
         "id": "SNDR.SNPP.ATMS.L1A.nominal2.03",
         "links": [
          {
           "href": ".",
           "rel": "collection"
          }
         ],
         "properties": {
          "created": "2020-12-14T13:50:00.000Z",
          "datetime": "1970-01-01T00:27:40.544777714Z",
          "end_datetime": "2016-01-14T10:12:00.000Z",
          "start_datetime": "2016-01-14T10:06:00.000Z"
         },
         "stac_extensions": [],
         "stac_version": "1.0.0",
         "type": "Feature"
        },
        {
         "assets": {
          "data": {
           "description": "SNDR.SNPP.ATMS.L1A.nominal2.11.nc",
           "href": "s3://uds-test-cumulus-protected/SNDR_SNPP_ATMS_L1A___1/SNDR.SNPP.ATMS.L1A.nominal2.11.nc",
           "title": "SNDR.SNPP.ATMS.L1A.nominal2.11.nc"
          },
          "metadata__cmr": {
           "description": "SNDR.SNPP.ATMS.L1A.nominal2.11.cmr.xml",
           "href": "s3://uds-test-cumulus-private/SNDR_SNPP_ATMS_L1A___1/SNDR.SNPP.ATMS.L1A.nominal2.11.cmr.xml",
           "title": "SNDR.SNPP.ATMS.L1A.nominal2.11.cmr.xml"
          },
          "metadata__data": {
           "description": "SNDR.SNPP.ATMS.L1A.nominal2.11.nc.cas",
           "href": "s3://uds-test-cumulus-protected/SNDR_SNPP_ATMS_L1A___1/SNDR.SNPP.ATMS.L1A.nominal2.11.nc.cas",
           "title": "SNDR.SNPP.ATMS.L1A.nominal2.11.nc.cas"
          }
         },
         "bbox": [
          0,
          0,
          0,
          0
         ],
         "collection": "SNDR_SNPP_ATMS_L1A___1",
         "geometry": {
          "coordinates": [
           0,
           0
          ],
          "type": "Point"
         },
         "id": "SNDR.SNPP.ATMS.L1A.nominal2.11",
         "links": [
          {
           "href": ".",
           "rel": "collection"
          }
         ],
         "properties": {
          "created": "2020-12-14T13:50:00.000Z",
          "datetime": "1970-01-01T00:27:40.544777648Z",
          "end_datetime": "2016-01-14T11:00:00.000Z",
          "start_datetime": "2016-01-14T10:54:00.000Z"
         },
         "stac_extensions": [],
         "stac_version": "1.0.0",
         "type": "Feature"
        },
        {
         "assets": {
          "data": {
           "description": "SNDR.SNPP.ATMS.L1A.nominal2.05.nc",
           "href": "s3://uds-test-cumulus-protected/SNDR_SNPP_ATMS_L1A___1/SNDR.SNPP.ATMS.L1A.nominal2.05.nc",
           "title": "SNDR.SNPP.ATMS.L1A.nominal2.05.nc"
          },
          "metadata__cmr": {
           "description": "SNDR.SNPP.ATMS.L1A.nominal2.05.cmr.xml",
           "href": "s3://uds-test-cumulus-private/SNDR_SNPP_ATMS_L1A___1/SNDR.SNPP.ATMS.L1A.nominal2.05.cmr.xml",
           "title": "SNDR.SNPP.ATMS.L1A.nominal2.05.cmr.xml"
          },
          "metadata__data": {
           "description": "SNDR.SNPP.ATMS.L1A.nominal2.05.nc.cas",
           "href": "s3://uds-test-cumulus-protected/SNDR_SNPP_ATMS_L1A___1/SNDR.SNPP.ATMS.L1A.nominal2.05.nc.cas",
           "title": "SNDR.SNPP.ATMS.L1A.nominal2.05.nc.cas"
          }
         },
         "bbox": [
          0,
          0,
          0,
          0
         ],
         "collection": "SNDR_SNPP_ATMS_L1A___1",
         "geometry": {
          "coordinates": [
           0,
           0
          ],
          "type": "Point"
         },
         "id": "SNDR.SNPP.ATMS.L1A.nominal2.05",
         "links": [
          {
           "href": ".",
           "rel": "collection"
          }
         ],
         "properties": {
          "created": "2020-12-14T13:50:00.000Z",
          "datetime": "1970-01-01T00:27:40.544778060Z",
          "end_datetime": "2016-01-14T10:24:00.000Z",
          "start_datetime": "2016-01-14T10:18:00.000Z"
         },
         "stac_extensions": [],
         "stac_version": "1.0.0",
         "type": "Feature"
        },
        {
         "assets": {
          "data": {
           "description": "SNDR.SNPP.ATMS.L1A.nominal2.13.nc",
           "href": "s3://uds-test-cumulus-protected/SNDR_SNPP_ATMS_L1A___1/SNDR.SNPP.ATMS.L1A.nominal2.13.nc",
           "title": "SNDR.SNPP.ATMS.L1A.nominal2.13.nc"
          },
          "metadata__cmr": {
           "description": "SNDR.SNPP.ATMS.L1A.nominal2.13.cmr.xml",
           "href": "s3://uds-test-cumulus-private/SNDR_SNPP_ATMS_L1A___1/SNDR.SNPP.ATMS.L1A.nominal2.13.cmr.xml",
           "title": "SNDR.SNPP.ATMS.L1A.nominal2.13.cmr.xml"
          },
          "metadata__data": {
           "description": "SNDR.SNPP.ATMS.L1A.nominal2.13.nc.cas",
           "href": "s3://uds-test-cumulus-protected/SNDR_SNPP_ATMS_L1A___1/SNDR.SNPP.ATMS.L1A.nominal2.13.nc.cas",
           "title": "SNDR.SNPP.ATMS.L1A.nominal2.13.nc.cas"
          }
         },
         "bbox": [
          0,
          0,
          0,
          0
         ],
         "collection": "SNDR_SNPP_ATMS_L1A___1",
         "geometry": {
          "coordinates": [
           0,
           0
          ],
          "type": "Point"
         },
         "id": "SNDR.SNPP.ATMS.L1A.nominal2.13",
         "links": [
          {
           "href": ".",
           "rel": "collection"
          }
         ],
         "properties": {
          "created": "2020-12-14T13:50:00.000Z",
          "datetime": "1970-01-01T00:27:40.544778090Z",
          "end_datetime": "2016-01-14T11:12:00.000Z",
          "start_datetime": "2016-01-14T11:06:00.000Z"
         },
         "stac_extensions": [],
         "stac_version": "1.0.0",
         "type": "Feature"
        },
        {
         "assets": {
          "data": {
           "description": "SNDR.SNPP.ATMS.L1A.nominal2.02.nc",
           "href": "s3://uds-test-cumulus-protected/SNDR_SNPP_ATMS_L1A___1/SNDR.SNPP.ATMS.L1A.nominal2.02.nc",
           "title": "SNDR.SNPP.ATMS.L1A.nominal2.02.nc"
          },
          "metadata__cmr": {
           "description": "SNDR.SNPP.ATMS.L1A.nominal2.02.cmr.xml",
           "href": "s3://uds-test-cumulus-private/SNDR_SNPP_ATMS_L1A___1/SNDR.SNPP.ATMS.L1A.nominal2.02.cmr.xml",
           "title": "SNDR.SNPP.ATMS.L1A.nominal2.02.cmr.xml"
          },
          "metadata__data": {
           "description": "SNDR.SNPP.ATMS.L1A.nominal2.02.nc.cas",
           "href": "s3://uds-test-cumulus-protected/SNDR_SNPP_ATMS_L1A___1/SNDR.SNPP.ATMS.L1A.nominal2.02.nc.cas",
           "title": "SNDR.SNPP.ATMS.L1A.nominal2.02.nc.cas"
          }
         },
         "bbox": [
          0,
          0,
          0,
          0
         ],
         "collection": "SNDR_SNPP_ATMS_L1A___1",
         "geometry": {
          "coordinates": [
           0,
           0
          ],
          "type": "Point"
         },
         "id": "SNDR.SNPP.ATMS.L1A.nominal2.02",
         "links": [
          {
           "href": ".",
           "rel": "collection"
          }
         ],
         "properties": {
          "created": "2020-12-14T13:50:00.000Z",
          "datetime": "1970-01-01T00:27:40.544777466Z",
          "end_datetime": "2016-01-14T10:06:00.000Z",
          "start_datetime": "2016-01-14T10:00:00.000Z"
         },
         "stac_extensions": [],
         "stac_version": "1.0.0",
         "type": "Feature"
        }
       ],
       "links": [
        {
         "href": "https://58nbcawrvb.execute-api.us-west-2.amazonaws.com/test/am-uds-dapa/collections/SNDR_SNPP_ATMS_L1A___1/items?limit=20&offset=0",
         "rel": "self"
        },
        {
         "href": "https://58nbcawrvb.execute-api.us-west-2.amazonaws.com",
         "rel": "root"
        },
        {
         "href": "https://58nbcawrvb.execute-api.us-west-2.amazonaws.com/test/am-uds-dapa/collections/SNDR_SNPP_ATMS_L1A___1/items?limit=20&offset=20",
         "rel": "next"
        },
        {
         "href": "https://58nbcawrvb.execute-api.us-west-2.amazonaws.com/test/am-uds-dapa/collections/SNDR_SNPP_ATMS_L1A___1/items?limit=20&offset=0",
         "rel": "prev"
        }
       ],
       "numberMatched": 20,
       "numberReturned": 20,
       "stac_version": "1.0.0",
       "type": "FeatureCollection"
      },
      "text/plain": [
       "<IPython.core.display.JSON object>"
      ]
     },
     "execution_count": 36,
     "metadata": {
      "application/json": {
       "expanded": false,
       "root": "root"
      }
     },
     "output_type": "execute_result"
    }
   ],
   "source": [
    "data_set = \"SNDR_SNPP_ATMS_L1A___1\"\n",
    "url = env['url'] + \"am-uds-dapa/collections/\"+data_set+\"/items\"\n",
    "\n",
    "params = []\n",
    "params.append((\"limit\", 20))\n",
    "\n",
    "response = requests.get(url, headers={\"Authorization\": \"Bearer \" + token}, params=params)\n",
    "\n",
    "\n",
    "print(f\"Total number of files: {response.json()['numberMatched']}\")\n",
    "print(\"File IDs, titles, and hrefs in Collection \" + data_set + \"\\n\")\n",
    "\n",
    "features = response.json()['features']\n",
    "\n",
    "for data_file in features: {\n",
    "   print(\"For \"+ data_file['id']),\n",
    "   print(\"File:\\t\\t\"+data_file['assets']['data']['href']),\n",
    "   print(\"Metadata:\\t\"+data_file['assets']['metadata__data']['href']),\n",
    "   print(\"\")\n",
    "}\n",
    "\n",
    "\n",
    "print(\"Full JSON response object:\")\n",
    "JSON(response.json())\n"
   ]
  },
  {
   "cell_type": "markdown",
   "id": "42bc4d07-d8de-4298-9d33-6299ae41a024",
   "metadata": {},
   "source": [
    "## Filter the results above by time\n",
    "\n",
    "The standards-based API used by the Unity SDS Data Store, DAPA, has a variety of filtering options. Currently we have implemented a time-based filter. See more about the Data Access and Processing API at: https://docs.ogc.org/per/20-025r1.html#_dapa_overview\n",
    "\n",
    "This cell will filter the full list of files in the Collection with ID = data_set by a start and end time defined by the datetime parameter."
   ]
  },
  {
   "cell_type": "code",
   "execution_count": null,
   "id": "70a4ab9e-8693-4948-bc2a-cce1e09d1cab",
   "metadata": {},
   "outputs": [],
   "source": [
    "data_set = \"SNDR_SNPP_ATMS_L1B_OUTPUT___1\"\n",
    "url = env['url'] + \"am-uds-dapa/collections/\"+data_set+\"/items\"\n",
    "# the datetime,limit, and offset are included due to a current bug in the API Gatway setting these values to 'none'.\n",
    "# Example date/time params\n",
    "\n",
    "params = []\n",
    "#add a datetime to your request\n",
    "params.append((\"datetime\", \"2000-11-01T00:00:00Z/2022-11-01T02:31:12Z\"))\n",
    "\n",
    "# limit - how many results to return in a single request\n",
    "params.append((\"limit\", 10))\n",
    "\n",
    "response = requests.get(url, headers={\"Authorization\": \"Bearer \" + token}, params=params)\n",
    "\n",
    "print(f\"Total number of files: {response.json()['numberMatched']}\")\n",
    "print(\"File IDs, datetimes, and hrefs in Collection \" + data_set + \"\\n\")\n",
    "\n",
    "features = response.json()['features']\n",
    "while len(features) > 0:\n",
    "    for data_file in features: {\n",
    "       print(data_file['id']),\n",
    "       print(data_file['properties']['created']),\n",
    "       print(data_file['assets']['metadata__data']['href']),\n",
    "       print(\"\")\n",
    "    }\n",
    "    # Get the next page of results\n",
    "    response = requests.get(next(item for item in response.json()['links'] if item['rel'] == 'next')['href'], headers={\"Authorization\": \"Bearer \" + token}, params=params)\n",
    "    features = response.json()['features']"
   ]
  },
  {
   "cell_type": "markdown",
   "id": "7719daba",
   "metadata": {},
   "source": [
    "## Explore on your own\n",
    "\n",
    "Given the endpoints above for finding collections and then finding data within those collections, try to craft a query by copying cells to find data from one of the other collections in the list above. Some things to try\n",
    "\n",
    "* Find data in the Unity system for the L0_SNPP_EphAtt product type\n",
    "* Find data in the Unity system for the L1 SounderSIPS \n",
    "* Filter the collections above on a numer\n",
    "\n"
   ]
  },
  {
   "cell_type": "markdown",
   "id": "d79e544a",
   "metadata": {},
   "source": [
    "## Credential-less data download\n",
    "\n",
    "When access data stores within the same venue, you'll be able to download data from S3 wihtout credentials. Something \n",
    "\n",
    "Note, the following libraries are needed for this, and the below command can be run in a jupyter-terminal to install them:\n",
    "\n",
    "```\n",
    "conda install xarray netcdf4 hdf5 boto3 matplotlib\n",
    "```\n"
   ]
  },
  {
   "cell_type": "code",
   "execution_count": null,
   "id": "620a4e4e",
   "metadata": {},
   "outputs": [],
   "source": [
    "import boto3"
   ]
  },
  {
   "cell_type": "code",
   "execution_count": null,
   "id": "5c6a2837-fb5a-4467-94e5-a85f8659506e",
   "metadata": {},
   "outputs": [],
   "source": [
    "s3 = boto3.client('s3')\n",
    "s3.download_file('uds-test-cumulus-protected', 'SNDR_SNPP_ATMS_L1A___1/SNDR.SNPP.ATMS.L1A.nominal2.04.nc', 'test_file11.nc')"
   ]
  },
  {
   "cell_type": "code",
   "execution_count": null,
   "id": "c09f8626",
   "metadata": {},
   "outputs": [],
   "source": [
    "import xarray as xr\n",
    "ds = xr.open_dataset('test_file11.nc')\n",
    "ds"
   ]
  },
  {
   "cell_type": "code",
   "execution_count": null,
   "id": "fba4dff8",
   "metadata": {},
   "outputs": [],
   "source": [
    "ds.band_surf_alt.plot()"
   ]
  },
  {
   "cell_type": "code",
   "execution_count": null,
   "id": "9386a4f1",
   "metadata": {},
   "outputs": [],
   "source": []
  }
 ],
 "metadata": {
  "kernelspec": {
   "display_name": "Python 3 (ipykernel)",
   "language": "python",
   "name": "python3"
  },
  "language_info": {
   "codemirror_mode": {
    "name": "ipython",
    "version": 3
   },
   "file_extension": ".py",
   "mimetype": "text/x-python",
   "name": "python",
   "nbconvert_exporter": "python",
   "pygments_lexer": "ipython3",
   "version": "3.10.5"
  }
 },
 "nbformat": 4,
 "nbformat_minor": 5
}
