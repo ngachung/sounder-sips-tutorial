{
 "cells": [
  {
   "cell_type": "markdown",
   "id": "3be345ad-b008-45c6-b481-46888d2d2ebc",
   "metadata": {},
   "source": [
    "# Working with Data\n",
    "\n",
    "The intent of this tutorial is to help familiarize yourself with browsing for data that will be used along with an application to generate data by submitting a job. Job submission will be covered in the next tutorial."
   ]
  },
  {
   "cell_type": "code",
   "execution_count": null,
   "id": "93e43227-c229-4ed4-a514-9293eda6c4f6",
   "metadata": {},
   "outputs": [],
   "source": [
    "import requests\n",
    "import getpass\n",
    "import json\n",
    "from IPython.display import JSON"
   ]
  },
  {
   "cell_type": "markdown",
   "id": "b860ceff-8f05-4615-a78b-add89ae59567",
   "metadata": {},
   "source": [
    "First we need some pre-defined environment variables"
   ]
  },
  {
   "cell_type": "code",
   "execution_count": null,
   "id": "484e55a1-2933-49e7-a684-c38ab269d1e8",
   "metadata": {},
   "outputs": [],
   "source": [
    "# This portion of the code is env specific for Dev, Test, Ops, etc. \n",
    "env = {\n",
    "    \"clientId\":\"71894molftjtie4dvvkbjeard0\",\n",
    "    \"url\":\"https://58nbcawrvb.execute-api.us-west-2.amazonaws.com/test/\"\n",
    "      }\n",
    "\n",
    "# The auth_json is template for authorizing with AWS Cognito for a token that can be used for calls to the data service.\n",
    "auth_json = '''{\n",
    "     \"AuthParameters\" : {\n",
    "        \"USERNAME\" : \"\",\n",
    "        \"PASSWORD\" : \"\"\n",
    "     },\n",
    "     \"AuthFlow\" : \"USER_PASSWORD_AUTH\",\n",
    "     \"ClientId\" : \"\"\n",
    "  }'''"
   ]
  },
  {
   "cell_type": "markdown",
   "id": "386c712e-307f-48e9-a1ba-f2bb3d378c4e",
   "metadata": {},
   "source": [
    "### Authentication Code\n",
    "\n",
    "The below method is a helper function for getting a token for accessing unity services"
   ]
  },
  {
   "cell_type": "code",
   "execution_count": null,
   "id": "6b9bbd23-1e4b-4286-959a-a00908a8ff7e",
   "metadata": {},
   "outputs": [],
   "source": [
    "# This method is used for taking a username and password and client ID and fetching a cognito token\n",
    "def get_token(username, password, clientID):\n",
    "    aj = json.loads(auth_json)\n",
    "    aj['AuthParameters']['USERNAME'] = username\n",
    "    aj['AuthParameters']['PASSWORD'] = password\n",
    "    aj['ClientId'] = clientID \n",
    "    token = None\n",
    "    try:\n",
    "        response = requests.post('https://cognito-idp.us-west-2.amazonaws.com', headers={\"Content-Type\":\"application/x-amz-json-1.1\", \"X-Amz-Target\":\"AWSCognitoIdentityProviderService.InitiateAuth\"}, json=aj)\n",
    "        token = response.json()['AuthenticationResult']['AccessToken']\n",
    "    except:\n",
    "        print(\"Error, check username and password and try again.\")\n",
    "    return token"
   ]
  },
  {
   "cell_type": "markdown",
   "id": "5ea61770-5592-4e79-b6c3-8dadcb9301cb",
   "metadata": {},
   "source": [
    "### Ask the User for their Unity username, password\n",
    "\n",
    "These are required to get the token (described above) to connect to the data services."
   ]
  },
  {
   "cell_type": "code",
   "execution_count": null,
   "id": "1f586ee1-003f-40eb-9ae5-3770b4579ead",
   "metadata": {},
   "outputs": [],
   "source": [
    "print(\"Please enter your username...\")\n",
    "user_name = input()\n",
    "\n",
    "print(\"Please enter your password...\")\n",
    "password = getpass.getpass()"
   ]
  },
  {
   "cell_type": "code",
   "execution_count": null,
   "id": "be1b7bcd-eb10-44aa-9940-d92b7bec9817",
   "metadata": {},
   "outputs": [],
   "source": [
    "token = get_token(user_name, password, env['clientId'])"
   ]
  },
  {
   "cell_type": "markdown",
   "id": "1a128652-a73b-4b9c-93ce-5f4147d73c32",
   "metadata": {},
   "source": [
    "## List Available Collections in the Unity System"
   ]
  },
  {
   "cell_type": "code",
   "execution_count": null,
   "id": "65d2dd37-c123-4125-b796-6a93a1b1d39e",
   "metadata": {},
   "outputs": [],
   "source": [
    "url = env['url'] + \"am-uds-dapa/collections\"\n",
    "response = requests.get(url, headers={\"Authorization\": \"Bearer \" + token})\n",
    "\n",
    "#print(json.dumps(response.json()))\n",
    "JSON(response.json())"
   ]
  },
  {
   "cell_type": "markdown",
   "id": "4c4f410c-1dd3-4723-b3f8-11e951b38cdf",
   "metadata": {},
   "source": [
    "## Given a collection (above), List the files within that collection"
   ]
  },
  {
   "cell_type": "code",
   "execution_count": null,
   "id": "1bb34cc9-eaae-4efd-82c0-6f33043b6207",
   "metadata": {},
   "outputs": [],
   "source": [
    "\n",
    "url = env['url'] + \"am-uds-dapa/collections/L0_SNPP_ATMS_SCIENCE___1/items\"\n",
    "params = []\n",
    "params.append((\"limit\", 100))\n",
    "\n",
    "response = requests.get(url, headers={\"Authorization\": \"Bearer \" + token}, params=params)\n",
    "JSON(response.json())\n"
   ]
  },
  {
   "cell_type": "markdown",
   "id": "42bc4d07-d8de-4298-9d33-6299ae41a024",
   "metadata": {},
   "source": [
    "## Filter the results above by time"
   ]
  },
  {
   "cell_type": "code",
   "execution_count": null,
   "id": "70a4ab9e-8693-4948-bc2a-cce1e09d1cab",
   "metadata": {},
   "outputs": [],
   "source": [
    "url = env['url'] + \"am-uds-dapa/collections/L0_SNPP_ATMS_SCIENCE___1/items\"\n",
    "# the datetime,limit, and offset are included due to a current bug in the API Gatway setting these values to 'none'.\n",
    "# Example date/time params\n",
    "\n",
    "params = []\n",
    "#add a datetime to your request\n",
    "params.append((\"datetime\", \"2016-11-01T00:00:00Z/2016-11-01T12:31:12Z\"))\n",
    "\n",
    "# limit - how many results to return in a single request\n",
    "params.append((\"limit\", 100))\n",
    "\n",
    "#offset - the number of results to offset, for paging\n",
    "#params.append((\"offset\", 100))\n",
    "\n",
    "#response = requests.get('https://58nbcawrvb.execute-api.us-west-2.amazonaws.com/test/', headers={\"Authorization\": \"Bearer \" + token})\n",
    "response = requests.get(url, headers={\"Authorization\": \"Bearer \" + token}, params=params)\n",
    "\n",
    "#print(json.dumps(response.json()))\n",
    "JSON(response.json())\n"
   ]
  },
  {
   "cell_type": "code",
   "execution_count": null,
   "id": "cdc0525c-3dcb-4c27-865b-3eacf0138d4b",
   "metadata": {},
   "outputs": [],
   "source": []
  }
 ],
 "metadata": {
  "kernelspec": {
   "display_name": "Python 3 (ipykernel)",
   "language": "python",
   "name": "python3"
  },
  "language_info": {
   "codemirror_mode": {
    "name": "ipython",
    "version": 3
   },
   "file_extension": ".py",
   "mimetype": "text/x-python",
   "name": "python",
   "nbconvert_exporter": "python",
   "pygments_lexer": "ipython3",
   "version": "3.9.12"
  }
 },
 "nbformat": 4,
 "nbformat_minor": 5
}
