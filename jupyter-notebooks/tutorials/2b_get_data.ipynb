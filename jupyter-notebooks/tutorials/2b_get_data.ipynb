{
 "cells": [
  {
   "cell_type": "markdown",
   "id": "3be345ad-b008-45c6-b481-46888d2d2ebc",
   "metadata": {},
   "source": [
    "# Working with Data\n",
    "\n",
    "The intent of this tutorial is to help familiarize yourself with browsing for data that will be used along with an application to generate data by submitting a job. Job submission will be covered in the next tutorial. Run each cell in order (shift-enter). The notes will indicate when you need to edit code to customize things (e.g., to indicate a data collection)vs. being prompted by running the cell (e.g. for your username and password)."
   ]
  },
  {
   "cell_type": "code",
   "execution_count": 1,
   "id": "93e43227-c229-4ed4-a514-9293eda6c4f6",
   "metadata": {},
   "outputs": [],
   "source": [
    "import requests\n",
    "import getpass\n",
    "import json\n",
    "from IPython.display import JSON"
   ]
  },
  {
   "cell_type": "markdown",
   "id": "b860ceff-8f05-4615-a78b-add89ae59567",
   "metadata": {},
   "source": [
    "First we need some pre-defined environment variables"
   ]
  },
  {
   "cell_type": "code",
   "execution_count": 2,
   "id": "484e55a1-2933-49e7-a684-c38ab269d1e8",
   "metadata": {},
   "outputs": [],
   "source": [
    "# This portion of the code is env specific for Dev, Test, Ops, etc. \n",
    "# define the environment as our test venue\n",
    "env = {\n",
    "    # test clientId\n",
    "#    \"clientId\":\"71894molftjtie4dvvkbjeard0\",\n",
    "\n",
    "    # dev clientId\n",
    "    \"clientId\":\"71g0c73jl77gsqhtlfg2ht388c\",\n",
    "\n",
    "    # test DAPA\n",
    "#    \"url\":\"https://58nbcawrvb.execute-api.us-west-2.amazonaws.com/test/\"\n",
    "\n",
    "    # dev DAPA\n",
    "    \"url\":\"https://1gp9st60gd.execute-api.us-west-2.amazonaws.com/dev/\"\n",
    "      }\n",
    "\n",
    "# The auth_json is template for authorizing with AWS Cognito for a token that can be used for calls to the data service.\n",
    "# For now this is just an empty data structure. You will be prompted for your username and password in a few steps.\n",
    "auth_json = '''{\n",
    "     \"AuthParameters\" : {\n",
    "        \"USERNAME\" : \"\",\n",
    "        \"PASSWORD\" : \"\"\n",
    "     },\n",
    "     \"AuthFlow\" : \"USER_PASSWORD_AUTH\",\n",
    "     \"ClientId\" : \"\"\n",
    "  }'''"
   ]
  },
  {
   "cell_type": "markdown",
   "id": "386c712e-307f-48e9-a1ba-f2bb3d378c4e",
   "metadata": {},
   "source": [
    "### Authentication Code\n",
    "\n",
    "The below method is a helper function for getting an access token for accessing Unity SDS services. You must pass the token along with any API requests in order to access the various Unity SDS services."
   ]
  },
  {
   "cell_type": "code",
   "execution_count": 3,
   "id": "6b9bbd23-1e4b-4286-959a-a00908a8ff7e",
   "metadata": {
    "tags": []
   },
   "outputs": [],
   "source": [
    "# This method is used for taking a username and password and client ID and fetching a cognito token\n",
    "def get_token(username, password, clientID):\n",
    "    aj = json.loads(auth_json)\n",
    "    aj['AuthParameters']['USERNAME'] = username\n",
    "    aj['AuthParameters']['PASSWORD'] = password\n",
    "    aj['ClientId'] =clientID \n",
    "    token = None\n",
    "    try:\n",
    "        response = requests.post('https://cognito-idp.us-west-2.amazonaws.com', headers={\"Content-Type\":\"application/x-amz-json-1.1\", \"X-Amz-Target\":\"AWSCognitoIdentityProviderService.InitiateAuth\"}, json=aj)\n",
    "        token = response.json()['AuthenticationResult']['AccessToken']\n",
    "    except:\n",
    "        print(\"Error, check username and password and try again.\")\n",
    "    return token"
   ]
  },
  {
   "cell_type": "markdown",
   "id": "5ea61770-5592-4e79-b6c3-8dadcb9301cb",
   "metadata": {
    "tags": []
   },
   "source": [
    "### Prompt for your Unity username and password\n",
    "\n",
    "These are required to get the token (described above) to connect to the data services."
   ]
  },
  {
   "cell_type": "code",
   "execution_count": 4,
   "id": "1f586ee1-003f-40eb-9ae5-3770b4579ead",
   "metadata": {
    "tags": []
   },
   "outputs": [
    {
     "name": "stdout",
     "output_type": "stream",
     "text": [
      "Please enter your username...\n"
     ]
    },
    {
     "name": "stdin",
     "output_type": "stream",
     "text": [
      " rtapella\n"
     ]
    },
    {
     "name": "stdout",
     "output_type": "stream",
     "text": [
      "Please enter your password...\n"
     ]
    },
    {
     "name": "stdin",
     "output_type": "stream",
     "text": [
      " ············\n"
     ]
    }
   ],
   "source": [
    "print(\"Please enter your username...\")\n",
    "user_name = input()\n",
    "\n",
    "print(\"Please enter your password...\")\n",
    "password = getpass.getpass()"
   ]
  },
  {
   "cell_type": "code",
   "execution_count": 5,
   "id": "be1b7bcd-eb10-44aa-9940-d92b7bec9817",
   "metadata": {},
   "outputs": [
    {
     "name": "stdout",
     "output_type": "stream",
     "text": [
      "Token received.\n"
     ]
    }
   ],
   "source": [
    "token = get_token(user_name, password, env['clientId'])\n",
    "\n",
    "if(token):\n",
    "    print(\"Token received.\")"
   ]
  },
  {
   "cell_type": "markdown",
   "id": "1a128652-a73b-4b9c-93ce-5f4147d73c32",
   "metadata": {},
   "source": [
    "## List Available Data Collections in the Unity System\n",
    "\n",
    "Data is organized into Collections. Any particular data file will be in at least one Collection."
   ]
  },
  {
   "cell_type": "code",
   "execution_count": 8,
   "id": "65d2dd37-c123-4125-b796-6a93a1b1d39e",
   "metadata": {},
   "outputs": [
    {
     "name": "stdout",
     "output_type": "stream",
     "text": [
      "Data Collections at https://1gp9st60gd.execute-api.us-west-2.amazonaws.com/dev/am-uds-dapa/collections\n",
      "URN:NASA:UNITY:MAIN_PROJECT:DEV:CUMULUS_DAPA_UNIT_TEST___1691544291\n",
      "URN:NASA:UNITY:MAIN_PROJECT:DEV:CUMULUS_DAPA_UNIT_TEST___1691542970\n",
      "CUMULUS_DAPA_UNIT_TEST___1690844736\n",
      "CUMULUS_DAPA_UNIT_TEST___1690834109\n",
      "CUMULUS_DAPA_UNIT_TEST___1690832834\n",
      "CUMULUS_DAPA_UNIT_TEST___1690832711\n",
      "CUMULUS_DAPA_UNIT_TEST___1690423426\n",
      "CUMULUS_DAPA_UNIT_TEST___1690421539\n",
      "CUMULUS_DAPA_UNIT_TEST___1690348633_8\n",
      "CUMULUS_DAPA_UNIT_TEST___1690348633_7\n",
      "CUMULUS_DAPA_UNIT_TEST___1690348633_6\n",
      "CUMULUS_DAPA_UNIT_TEST___1690348633_5\n",
      "CUMULUS_DAPA_UNIT_TEST___1690348633_4\n",
      "CUMULUS_DAPA_UNIT_TEST___1690348633_3\n",
      "CUMULUS_DAPA_UNIT_TEST___1690348633_1\n",
      "CUMULUS_DAPA_UNIT_TEST___1690348633\n",
      "CUMULUS_DAPA_UNIT_TEST___1690232329\n",
      "urn:nasa:unity:uds_local_test:DEV1:CHRP_16_DAY_REBIN___1\n",
      "urn:nasa:unity:uds_local_test:DEV1:GESDISC_TEST___1\n",
      "urn:nasa:unity:uds_local_test:DEV1:SNDR13CHRP1___2\n",
      "urn:nasa:unity:uds_local_test:DEV1:ECO1BATT___1\n",
      "urn:nasa:unity:uds_local_test:DEV1:SPL2SMP___8\n",
      "urn:nasa:unity:uds_local_test:DEV1:CUMULUS_DAPA_UNIT_TEST___1674695854\n",
      "urn:nasa:unity:uds_local_test:DEV1:CUMULUS_DAPA_UNIT_TEST___1674695207\n",
      "urn:nasa:unity:uds_local_test:DEV1:CUMULUS_DAPA_UNIT_TEST___1674693532\n",
      "NEW_COLLECTION_EXAMPLE_L1B_SMOKE___1\n",
      "NEW_COLLECTION_EXAMPLE_L1B___10\n",
      "NEW_COLLECTION_EXAMPLE_L1B___9\n",
      "NEW_COLLECTION_EXAMPLE_L1B___8\n",
      "NEW_COLLECTION_EXAMPLE_L1B___7\n",
      "CUMULUS_DAPA_UNIT_TEST___1668586541\n",
      "CUMULUS_DAPA_UNIT_TEST___1668586160\n",
      "CUMULUS_DAPA_UNIT_TEST___1668585706\n",
      "CUMULUS_DAPA_UNIT_TEST___1668585354\n",
      "CUMULUS_DAPA_UNIT_TEST___1668584482\n",
      "CUMULUS_DAPA_UNIT_TEST___1668583955\n",
      "CUMULUS_DAPA_UNIT_TEST___1668583817\n",
      "CUMULUS_DAPA_UNIT_TEST___1668577451\n",
      "CUMULUS_DAPA_UNIT_TEST___16643333\n",
      "L0_SNPP_EphAtt___1\n",
      "L0_SNPP_ATMS_SCIENCE___1\n",
      "NEW_COLLECTION_EXAMPLE_L1B___5\n",
      "NEW_COLLECTION_EXAMPLE_L1B___4\n",
      "NEW_COLLECTION_EXAMPLE_L1B___3\n",
      "NEW_COLLECTION_EXAMPLE_L1B___2\n",
      "NEW_COLLECTION_EXAMPLE_L1B___1\n",
      "CUMULUS_DAPA_UNIT_TEST___1664333802\n",
      "SNDR_SNPP_ATMS_L1B_OUTPUT___1\n",
      "SNDR_SNPP_ATMS_L1A_OUTPUT___1\n",
      "SNDR_SNPP_ATMS_L1A___1\n",
      "\n",
      "Full JSON response object:\n"
     ]
    },
    {
     "data": {
      "application/json": {
       "features": [
        {
         "description": "TODO",
         "extent": {
          "spatial": {
           "bbox": [
            [
             0,
             0,
             0,
             0
            ]
           ]
          },
          "temporal": {
           "interval": [
            [
             "1970-01-01T12:00:00Z",
             "2023-09-01T03:06:52Z"
            ]
           ]
          }
         },
         "id": "URN:NASA:UNITY:MAIN_PROJECT:DEV:CUMULUS_DAPA_UNIT_TEST___1691544291",
         "license": "proprietary",
         "links": [
          {
           "href": "./collection.json?bucket=unknown_bucket&regex=%5EP%5B0-9%5D%7B3%7D%5B0-9%5D%7B4%7D%5BA-Z%5D%7B13%7DT%5B0-9%5D%7B12%7D01.PDS%24",
           "rel": "root",
           "title": "P1570515ATMSSCIENCEAXT11344000000001.PDS",
           "type": "application/json"
          },
          {
           "href": "./collection.json?bucket=internal&regex=%5EP%5B0-9%5D%7B3%7D%5B0-9%5D%7B4%7D%5BA-Z%5D%7B13%7DT%5B0-9%5D%7B12%7D00.PDS.cmr.xml%24",
           "rel": "item",
           "title": "P1570515ATMSSCIENCEAXT11344000000000.PDS.cmr.xml",
           "type": "metadata"
          },
          {
           "href": "./collection.json?bucket=internal&regex=%5EP%5B0-9%5D%7B3%7D%5B0-9%5D%7B4%7D%5BA-Z%5D%7B13%7DT%5B0-9%5D%7B12%7D01%5C.PDS%5C.xml%24",
           "rel": "item",
           "title": "P1570515ATMSSCIENCEAXT11344000000001.PDS.xml",
           "type": "metadata"
          },
          {
           "href": "./collection.json?bucket=internal&regex=%5EP%5B0-9%5D%7B3%7D%5B0-9%5D%7B4%7D%5BA-Z%5D%7B13%7DT%5B0-9%5D%7B12%7D00%5C.PDS%24",
           "rel": "item",
           "title": "P1570515ATMSSCIENCEAXT11344000000000.PDS",
           "type": "data"
          }
         ],
         "stac_version": "1.0.0",
         "summaries": {
          "granuleId": [
           "^P[0-9]{3}[0-9]{4}[A-Z]{13}T[0-9]{12}0$"
          ],
          "granuleIdExtraction": [
           "(P[0-9]{3}[0-9]{4}[A-Z]{13}T[0-9]{12}0).+"
          ],
          "process": [
           "modis"
          ],
          "totalGranules": [
           0
          ],
          "updated": [
           "2023-08-08T20:24:58.670000Z"
          ]
         },
         "type": "Collection"
        },
        {
         "description": "TODO",
         "extent": {
          "spatial": {
           "bbox": [
            [
             0,
             0,
             0,
             0
            ]
           ]
          },
          "temporal": {
           "interval": [
            [
             "1970-01-01T12:00:00Z",
             "2023-09-01T03:06:52Z"
            ]
           ]
          }
         },
         "id": "URN:NASA:UNITY:MAIN_PROJECT:DEV:CUMULUS_DAPA_UNIT_TEST___1691542970",
         "license": "proprietary",
         "links": [
          {
           "href": "./collection.json?bucket=unknown_bucket&regex=%5EP%5B0-9%5D%7B3%7D%5B0-9%5D%7B4%7D%5BA-Z%5D%7B13%7DT%5B0-9%5D%7B12%7D01.PDS%24",
           "rel": "root",
           "title": "P1570515ATMSSCIENCEAXT11344000000001.PDS",
           "type": "application/json"
          },
          {
           "href": "./collection.json?bucket=internal&regex=%5EP%5B0-9%5D%7B3%7D%5B0-9%5D%7B4%7D%5BA-Z%5D%7B13%7DT%5B0-9%5D%7B12%7D00.PDS.cmr.xml%24",
           "rel": "item",
           "title": "P1570515ATMSSCIENCEAXT11344000000000.PDS.cmr.xml",
           "type": "metadata"
          },
          {
           "href": "./collection.json?bucket=internal&regex=%5EP%5B0-9%5D%7B3%7D%5B0-9%5D%7B4%7D%5BA-Z%5D%7B13%7DT%5B0-9%5D%7B12%7D01%5C.PDS%5C.xml%24",
           "rel": "item",
           "title": "P1570515ATMSSCIENCEAXT11344000000001.PDS.xml",
           "type": "metadata"
          },
          {
           "href": "./collection.json?bucket=internal&regex=%5EP%5B0-9%5D%7B3%7D%5B0-9%5D%7B4%7D%5BA-Z%5D%7B13%7DT%5B0-9%5D%7B12%7D00%5C.PDS%24",
           "rel": "item",
           "title": "P1570515ATMSSCIENCEAXT11344000000000.PDS",
           "type": "data"
          }
         ],
         "stac_version": "1.0.0",
         "summaries": {
          "granuleId": [
           "^P[0-9]{3}[0-9]{4}[A-Z]{13}T[0-9]{12}0$"
          ],
          "granuleIdExtraction": [
           "(P[0-9]{3}[0-9]{4}[A-Z]{13}T[0-9]{12}0).+"
          ],
          "process": [
           "modis"
          ],
          "totalGranules": [
           0
          ],
          "updated": [
           "2023-08-08T20:02:56.790000Z"
          ]
         },
         "type": "Collection"
        },
        {
         "description": "TODO",
         "extent": {
          "spatial": {
           "bbox": [
            [
             0,
             0,
             0,
             0
            ]
           ]
          },
          "temporal": {
           "interval": [
            [
             "1970-01-01T12:00:00Z",
             "2023-09-01T03:06:52Z"
            ]
           ]
          }
         },
         "id": "CUMULUS_DAPA_UNIT_TEST___1690844736",
         "license": "proprietary",
         "links": [
          {
           "href": "./collection.json?bucket=unknown_bucket&regex=%5EP%5B0-9%5D%7B3%7D%5B0-9%5D%7B4%7D%5BA-Z%5D%7B13%7DT%5B0-9%5D%7B12%7D01.PDS%24",
           "rel": "root",
           "title": "P1570515ATMSSCIENCEAXT11344000000001.PDS",
           "type": "application/json"
          },
          {
           "href": "./collection.json?bucket=internal&regex=%5EP%5B0-9%5D%7B3%7D%5B0-9%5D%7B4%7D%5BA-Z%5D%7B13%7DT%5B0-9%5D%7B12%7D00.PDS.cmr.xml%24",
           "rel": "item",
           "title": "P1570515ATMSSCIENCEAXT11344000000000.PDS.cmr.xml",
           "type": "metadata"
          },
          {
           "href": "./collection.json?bucket=internal&regex=%5EP%5B0-9%5D%7B3%7D%5B0-9%5D%7B4%7D%5BA-Z%5D%7B13%7DT%5B0-9%5D%7B12%7D01%5C.PDS%5C.xml%24",
           "rel": "item",
           "title": "P1570515ATMSSCIENCEAXT11344000000001.PDS.xml",
           "type": "metadata"
          },
          {
           "href": "./collection.json?bucket=internal&regex=%5EP%5B0-9%5D%7B3%7D%5B0-9%5D%7B4%7D%5BA-Z%5D%7B13%7DT%5B0-9%5D%7B12%7D00%5C.PDS%24",
           "rel": "item",
           "title": "P1570515ATMSSCIENCEAXT11344000000000.PDS",
           "type": "data"
          }
         ],
         "stac_version": "1.0.0",
         "summaries": {
          "granuleId": [
           "^P[0-9]{3}[0-9]{4}[A-Z]{13}T[0-9]{12}0$"
          ],
          "granuleIdExtraction": [
           "(P[0-9]{3}[0-9]{4}[A-Z]{13}T[0-9]{12}0).+"
          ],
          "process": [
           "modis"
          ],
          "totalGranules": [
           0
          ],
          "updated": [
           "2023-07-31T16:05:44.226000Z"
          ]
         },
         "type": "Collection"
        },
        {
         "description": "TODO",
         "extent": {
          "spatial": {
           "bbox": [
            [
             0,
             0,
             0,
             0
            ]
           ]
          },
          "temporal": {
           "interval": [
            [
             "1970-01-01T12:00:00Z",
             "2023-09-01T03:06:52Z"
            ]
           ]
          }
         },
         "id": "CUMULUS_DAPA_UNIT_TEST___1690834109",
         "license": "proprietary",
         "links": [
          {
           "href": "./collection.json?bucket=unknown_bucket&regex=%5EP%5B0-9%5D%7B3%7D%5B0-9%5D%7B4%7D%5BA-Z%5D%7B13%7DT%5B0-9%5D%7B12%7D01.PDS%24",
           "rel": "root",
           "title": "P1570515ATMSSCIENCEAXT11344000000001.PDS",
           "type": "application/json"
          },
          {
           "href": "./collection.json?bucket=internal&regex=%5EP%5B0-9%5D%7B3%7D%5B0-9%5D%7B4%7D%5BA-Z%5D%7B13%7DT%5B0-9%5D%7B12%7D00.PDS.cmr.xml%24",
           "rel": "item",
           "title": "P1570515ATMSSCIENCEAXT11344000000000.PDS.cmr.xml",
           "type": "metadata"
          },
          {
           "href": "./collection.json?bucket=internal&regex=%5EP%5B0-9%5D%7B3%7D%5B0-9%5D%7B4%7D%5BA-Z%5D%7B13%7DT%5B0-9%5D%7B12%7D01%5C.PDS%5C.xml%24",
           "rel": "item",
           "title": "P1570515ATMSSCIENCEAXT11344000000001.PDS.xml",
           "type": "metadata"
          },
          {
           "href": "./collection.json?bucket=internal&regex=%5EP%5B0-9%5D%7B3%7D%5B0-9%5D%7B4%7D%5BA-Z%5D%7B13%7DT%5B0-9%5D%7B12%7D00%5C.PDS%24",
           "rel": "item",
           "title": "P1570515ATMSSCIENCEAXT11344000000000.PDS",
           "type": "data"
          }
         ],
         "stac_version": "1.0.0",
         "summaries": {
          "granuleId": [
           "^P[0-9]{3}[0-9]{4}[A-Z]{13}T[0-9]{12}0$"
          ],
          "granuleIdExtraction": [
           "(P[0-9]{3}[0-9]{4}[A-Z]{13}T[0-9]{12}0).+"
          ],
          "process": [
           "modis"
          ],
          "totalGranules": [
           0
          ],
          "updated": [
           "2023-07-31T13:08:38.369000Z"
          ]
         },
         "type": "Collection"
        },
        {
         "description": "TODO",
         "extent": {
          "spatial": {
           "bbox": [
            [
             0,
             0,
             0,
             0
            ]
           ]
          },
          "temporal": {
           "interval": [
            [
             "1970-01-01T12:00:00Z",
             "2023-09-01T03:06:52Z"
            ]
           ]
          }
         },
         "id": "CUMULUS_DAPA_UNIT_TEST___1690832834",
         "license": "proprietary",
         "links": [
          {
           "href": "./collection.json?bucket=unknown_bucket&regex=%5EP%5B0-9%5D%7B3%7D%5B0-9%5D%7B4%7D%5BA-Z%5D%7B13%7DT%5B0-9%5D%7B12%7D01.PDS%24",
           "rel": "root",
           "title": "P1570515ATMSSCIENCEAXT11344000000001.PDS",
           "type": "application/json"
          },
          {
           "href": "./collection.json?bucket=internal&regex=%5EP%5B0-9%5D%7B3%7D%5B0-9%5D%7B4%7D%5BA-Z%5D%7B13%7DT%5B0-9%5D%7B12%7D00.PDS.cmr.xml%24",
           "rel": "item",
           "title": "P1570515ATMSSCIENCEAXT11344000000000.PDS.cmr.xml",
           "type": "metadata"
          },
          {
           "href": "./collection.json?bucket=internal&regex=%5EP%5B0-9%5D%7B3%7D%5B0-9%5D%7B4%7D%5BA-Z%5D%7B13%7DT%5B0-9%5D%7B12%7D01%5C.PDS%5C.xml%24",
           "rel": "item",
           "title": "P1570515ATMSSCIENCEAXT11344000000001.PDS.xml",
           "type": "metadata"
          },
          {
           "href": "./collection.json?bucket=internal&regex=%5EP%5B0-9%5D%7B3%7D%5B0-9%5D%7B4%7D%5BA-Z%5D%7B13%7DT%5B0-9%5D%7B12%7D00%5C.PDS%24",
           "rel": "item",
           "title": "P1570515ATMSSCIENCEAXT11344000000000.PDS",
           "type": "data"
          }
         ],
         "stac_version": "1.0.0",
         "summaries": {
          "granuleId": [
           "^P[0-9]{3}[0-9]{4}[A-Z]{13}T[0-9]{12}0$"
          ],
          "granuleIdExtraction": [
           "(P[0-9]{3}[0-9]{4}[A-Z]{13}T[0-9]{12}0).+"
          ],
          "process": [
           "modis"
          ],
          "totalGranules": [
           0
          ],
          "updated": [
           "2023-07-31T12:47:17.569000Z"
          ]
         },
         "type": "Collection"
        },
        {
         "description": "TODO",
         "extent": {
          "spatial": {
           "bbox": [
            [
             0,
             0,
             0,
             0
            ]
           ]
          },
          "temporal": {
           "interval": [
            [
             "1970-01-01T12:00:00Z",
             "2023-09-01T03:06:52Z"
            ]
           ]
          }
         },
         "id": "CUMULUS_DAPA_UNIT_TEST___1690832711",
         "license": "proprietary",
         "links": [
          {
           "href": "./collection.json?bucket=unknown_bucket&regex=%5EP%5B0-9%5D%7B3%7D%5B0-9%5D%7B4%7D%5BA-Z%5D%7B13%7DT%5B0-9%5D%7B12%7D01.PDS%24",
           "rel": "root",
           "title": "P1570515ATMSSCIENCEAXT11344000000001.PDS",
           "type": "application/json"
          },
          {
           "href": "./collection.json?bucket=internal&regex=%5EP%5B0-9%5D%7B3%7D%5B0-9%5D%7B4%7D%5BA-Z%5D%7B13%7DT%5B0-9%5D%7B12%7D00.PDS.cmr.xml%24",
           "rel": "item",
           "title": "P1570515ATMSSCIENCEAXT11344000000000.PDS.cmr.xml",
           "type": "metadata"
          },
          {
           "href": "./collection.json?bucket=internal&regex=%5EP%5B0-9%5D%7B3%7D%5B0-9%5D%7B4%7D%5BA-Z%5D%7B13%7DT%5B0-9%5D%7B12%7D01%5C.PDS%5C.xml%24",
           "rel": "item",
           "title": "P1570515ATMSSCIENCEAXT11344000000001.PDS.xml",
           "type": "metadata"
          },
          {
           "href": "./collection.json?bucket=internal&regex=%5EP%5B0-9%5D%7B3%7D%5B0-9%5D%7B4%7D%5BA-Z%5D%7B13%7DT%5B0-9%5D%7B12%7D00%5C.PDS%24",
           "rel": "item",
           "title": "P1570515ATMSSCIENCEAXT11344000000000.PDS",
           "type": "data"
          }
         ],
         "stac_version": "1.0.0",
         "summaries": {
          "granuleId": [
           "^P[0-9]{3}[0-9]{4}[A-Z]{13}T[0-9]{12}0$"
          ],
          "granuleIdExtraction": [
           "(P[0-9]{3}[0-9]{4}[A-Z]{13}T[0-9]{12}0).+"
          ],
          "process": [
           "modis"
          ],
          "totalGranules": [
           0
          ],
          "updated": [
           "2023-07-31T12:45:13.002000Z"
          ]
         },
         "type": "Collection"
        },
        {
         "description": "TODO",
         "extent": {
          "spatial": {
           "bbox": [
            [
             0,
             0,
             0,
             0
            ]
           ]
          },
          "temporal": {
           "interval": [
            [
             "1970-01-01T12:00:00Z",
             "2023-09-01T03:06:52Z"
            ]
           ]
          }
         },
         "id": "CUMULUS_DAPA_UNIT_TEST___1690423426",
         "license": "proprietary",
         "links": [
          {
           "href": "./collection.json?bucket=unknown_bucket&regex=%5EP%5B0-9%5D%7B3%7D%5B0-9%5D%7B4%7D%5BA-Z%5D%7B13%7DT%5B0-9%5D%7B12%7D01.PDS%24",
           "rel": "root",
           "title": "P1570515ATMSSCIENCEAXT11344000000001.PDS",
           "type": "application/json"
          },
          {
           "href": "./collection.json?bucket=internal&regex=%5EP%5B0-9%5D%7B3%7D%5B0-9%5D%7B4%7D%5BA-Z%5D%7B13%7DT%5B0-9%5D%7B12%7D00.PDS.cmr.xml%24",
           "rel": "item",
           "title": "P1570515ATMSSCIENCEAXT11344000000000.PDS.cmr.xml",
           "type": "metadata"
          },
          {
           "href": "./collection.json?bucket=internal&regex=%5EP%5B0-9%5D%7B3%7D%5B0-9%5D%7B4%7D%5BA-Z%5D%7B13%7DT%5B0-9%5D%7B12%7D01%5C.PDS%5C.xml%24",
           "rel": "item",
           "title": "P1570515ATMSSCIENCEAXT11344000000001.PDS.xml",
           "type": "metadata"
          },
          {
           "href": "./collection.json?bucket=internal&regex=%5EP%5B0-9%5D%7B3%7D%5B0-9%5D%7B4%7D%5BA-Z%5D%7B13%7DT%5B0-9%5D%7B12%7D00%5C.PDS%24",
           "rel": "item",
           "title": "P1570515ATMSSCIENCEAXT11344000000000.PDS",
           "type": "data"
          }
         ],
         "stac_version": "1.0.0",
         "summaries": {
          "granuleId": [
           "^P[0-9]{3}[0-9]{4}[A-Z]{13}T[0-9]{12}0$"
          ],
          "granuleIdExtraction": [
           "(P[0-9]{3}[0-9]{4}[A-Z]{13}T[0-9]{12}0).+"
          ],
          "process": [
           "modis"
          ],
          "totalGranules": [
           0
          ],
          "updated": [
           "2023-07-26T19:03:48.542000Z"
          ]
         },
         "type": "Collection"
        },
        {
         "description": "TODO",
         "extent": {
          "spatial": {
           "bbox": [
            [
             0,
             0,
             0,
             0
            ]
           ]
          },
          "temporal": {
           "interval": [
            [
             "1970-01-01T12:00:00Z",
             "2023-09-01T03:06:52Z"
            ]
           ]
          }
         },
         "id": "CUMULUS_DAPA_UNIT_TEST___1690421539",
         "license": "proprietary",
         "links": [
          {
           "href": "./collection.json?bucket=unknown_bucket&regex=%5EP%5B0-9%5D%7B3%7D%5B0-9%5D%7B4%7D%5BA-Z%5D%7B13%7DT%5B0-9%5D%7B12%7D01.PDS%24",
           "rel": "root",
           "title": "P1570515ATMSSCIENCEAXT11344000000001.PDS",
           "type": "application/json"
          },
          {
           "href": "./collection.json?bucket=internal&regex=%5EP%5B0-9%5D%7B3%7D%5B0-9%5D%7B4%7D%5BA-Z%5D%7B13%7DT%5B0-9%5D%7B12%7D00.PDS.cmr.xml%24",
           "rel": "item",
           "title": "P1570515ATMSSCIENCEAXT11344000000000.PDS.cmr.xml",
           "type": "metadata"
          },
          {
           "href": "./collection.json?bucket=internal&regex=%5EP%5B0-9%5D%7B3%7D%5B0-9%5D%7B4%7D%5BA-Z%5D%7B13%7DT%5B0-9%5D%7B12%7D01%5C.PDS%5C.xml%24",
           "rel": "item",
           "title": "P1570515ATMSSCIENCEAXT11344000000001.PDS.xml",
           "type": "metadata"
          },
          {
           "href": "./collection.json?bucket=internal&regex=%5EP%5B0-9%5D%7B3%7D%5B0-9%5D%7B4%7D%5BA-Z%5D%7B13%7DT%5B0-9%5D%7B12%7D00%5C.PDS%24",
           "rel": "item",
           "title": "P1570515ATMSSCIENCEAXT11344000000000.PDS",
           "type": "data"
          }
         ],
         "stac_version": "1.0.0",
         "summaries": {
          "granuleId": [
           "^P[0-9]{3}[0-9]{4}[A-Z]{13}T[0-9]{12}0$"
          ],
          "granuleIdExtraction": [
           "(P[0-9]{3}[0-9]{4}[A-Z]{13}T[0-9]{12}0).+"
          ],
          "process": [
           "modis"
          ],
          "totalGranules": [
           0
          ],
          "updated": [
           "2023-07-26T18:33:30.165000Z"
          ]
         },
         "type": "Collection"
        },
        {
         "description": "TODO",
         "extent": {
          "spatial": {
           "bbox": [
            [
             0,
             0,
             0,
             0
            ]
           ]
          },
          "temporal": {
           "interval": [
            [
             "1970-01-01T12:00:00Z",
             "2023-09-01T03:06:53Z"
            ]
           ]
          }
         },
         "id": "CUMULUS_DAPA_UNIT_TEST___1690348633_8",
         "license": "proprietary",
         "links": [
          {
           "href": "./collection.json?bucket=unknown_bucket&regex=%5EP%5B0-9%5D%7B3%7D%5B0-9%5D%7B4%7D%5BA-Z%5D%7B13%7DT%5B0-9%5D%7B12%7D01.PDS%24",
           "rel": "root",
           "title": "P1570515ATMSSCIENCEAXT11344000000001.PDS",
           "type": "application/json"
          },
          {
           "href": "./collection.json?bucket=internal&regex=%5EP%5B0-9%5D%7B3%7D%5B0-9%5D%7B4%7D%5BA-Z%5D%7B13%7DT%5B0-9%5D%7B12%7D00.PDS.cmr.xml%24",
           "rel": "item",
           "title": "P1570515ATMSSCIENCEAXT11344000000000.PDS.cmr.xml",
           "type": "metadata"
          },
          {
           "href": "./collection.json?bucket=internal&regex=%5EP%5B0-9%5D%7B3%7D%5B0-9%5D%7B4%7D%5BA-Z%5D%7B13%7DT%5B0-9%5D%7B12%7D01%5C.PDS%5C.xml%24",
           "rel": "item",
           "title": "P1570515ATMSSCIENCEAXT11344000000001.PDS.xml",
           "type": "metadata"
          },
          {
           "href": "./collection.json?bucket=internal&regex=%5EP%5B0-9%5D%7B3%7D%5B0-9%5D%7B4%7D%5BA-Z%5D%7B13%7DT%5B0-9%5D%7B12%7D00%5C.PDS%24",
           "rel": "item",
           "title": "P1570515ATMSSCIENCEAXT11344000000000.PDS",
           "type": "data"
          }
         ],
         "stac_version": "1.0.0",
         "summaries": {
          "granuleId": [
           "^P[0-9]{3}[0-9]{4}[A-Z]{13}T[0-9]{12}0$"
          ],
          "granuleIdExtraction": [
           "(P[0-9]{3}[0-9]{4}[A-Z]{13}T[0-9]{12}0).+"
          ],
          "process": [
           "modis"
          ],
          "totalGranules": [
           0
          ],
          "updated": [
           "2023-07-25T23:30:31.892000Z"
          ]
         },
         "type": "Collection"
        },
        {
         "description": "TODO",
         "extent": {
          "spatial": {
           "bbox": [
            [
             0,
             0,
             0,
             0
            ]
           ]
          },
          "temporal": {
           "interval": [
            [
             "1970-01-01T12:00:00Z",
             "2023-09-01T03:06:53Z"
            ]
           ]
          }
         },
         "id": "CUMULUS_DAPA_UNIT_TEST___1690348633_7",
         "license": "proprietary",
         "links": [
          {
           "href": "./collection.json?bucket=unknown_bucket&regex=%5EP%5B0-9%5D%7B3%7D%5B0-9%5D%7B4%7D%5BA-Z%5D%7B13%7DT%5B0-9%5D%7B12%7D01.PDS%24",
           "rel": "root",
           "title": "P1570515ATMSSCIENCEAXT11344000000001.PDS",
           "type": "application/json"
          },
          {
           "href": "./collection.json?bucket=internal&regex=%5EP%5B0-9%5D%7B3%7D%5B0-9%5D%7B4%7D%5BA-Z%5D%7B13%7DT%5B0-9%5D%7B12%7D00.PDS.cmr.xml%24",
           "rel": "item",
           "title": "P1570515ATMSSCIENCEAXT11344000000000.PDS.cmr.xml",
           "type": "metadata"
          },
          {
           "href": "./collection.json?bucket=internal&regex=%5EP%5B0-9%5D%7B3%7D%5B0-9%5D%7B4%7D%5BA-Z%5D%7B13%7DT%5B0-9%5D%7B12%7D01%5C.PDS%5C.xml%24",
           "rel": "item",
           "title": "P1570515ATMSSCIENCEAXT11344000000001.PDS.xml",
           "type": "metadata"
          },
          {
           "href": "./collection.json?bucket=internal&regex=%5EP%5B0-9%5D%7B3%7D%5B0-9%5D%7B4%7D%5BA-Z%5D%7B13%7DT%5B0-9%5D%7B12%7D00%5C.PDS%24",
           "rel": "item",
           "title": "P1570515ATMSSCIENCEAXT11344000000000.PDS",
           "type": "data"
          }
         ],
         "stac_version": "1.0.0",
         "summaries": {
          "granuleId": [
           "^P[0-9]{3}[0-9]{4}[A-Z]{13}T[0-9]{12}0$"
          ],
          "granuleIdExtraction": [
           "(P[0-9]{3}[0-9]{4}[A-Z]{13}T[0-9]{12}0).+"
          ],
          "process": [
           "modis"
          ],
          "totalGranules": [
           0
          ],
          "updated": [
           "2023-07-25T23:18:35.343000Z"
          ]
         },
         "type": "Collection"
        },
        {
         "description": "TODO",
         "extent": {
          "spatial": {
           "bbox": [
            [
             0,
             0,
             0,
             0
            ]
           ]
          },
          "temporal": {
           "interval": [
            [
             "1970-01-01T12:00:00Z",
             "2023-09-01T03:06:53Z"
            ]
           ]
          }
         },
         "id": "CUMULUS_DAPA_UNIT_TEST___1690348633_6",
         "license": "proprietary",
         "links": [
          {
           "href": "./collection.json?bucket=unknown_bucket&regex=%5EP%5B0-9%5D%7B3%7D%5B0-9%5D%7B4%7D%5BA-Z%5D%7B13%7DT%5B0-9%5D%7B12%7D01.PDS%24",
           "rel": "root",
           "title": "P1570515ATMSSCIENCEAXT11344000000001.PDS",
           "type": "application/json"
          },
          {
           "href": "./collection.json?bucket=internal&regex=%5EP%5B0-9%5D%7B3%7D%5B0-9%5D%7B4%7D%5BA-Z%5D%7B13%7DT%5B0-9%5D%7B12%7D00.PDS.cmr.xml%24",
           "rel": "item",
           "title": "P1570515ATMSSCIENCEAXT11344000000000.PDS.cmr.xml",
           "type": "metadata"
          },
          {
           "href": "./collection.json?bucket=internal&regex=%5EP%5B0-9%5D%7B3%7D%5B0-9%5D%7B4%7D%5BA-Z%5D%7B13%7DT%5B0-9%5D%7B12%7D01%5C.PDS%5C.xml%24",
           "rel": "item",
           "title": "P1570515ATMSSCIENCEAXT11344000000001.PDS.xml",
           "type": "metadata"
          },
          {
           "href": "./collection.json?bucket=internal&regex=%5EP%5B0-9%5D%7B3%7D%5B0-9%5D%7B4%7D%5BA-Z%5D%7B13%7DT%5B0-9%5D%7B12%7D00%5C.PDS%24",
           "rel": "item",
           "title": "P1570515ATMSSCIENCEAXT11344000000000.PDS",
           "type": "data"
          }
         ],
         "stac_version": "1.0.0",
         "summaries": {
          "granuleId": [
           "^P[0-9]{3}[0-9]{4}[A-Z]{13}T[0-9]{12}0$"
          ],
          "granuleIdExtraction": [
           "(P[0-9]{3}[0-9]{4}[A-Z]{13}T[0-9]{12}0).+"
          ],
          "process": [
           "modis"
          ],
          "totalGranules": [
           0
          ],
          "updated": [
           "2023-07-25T23:15:23.021000Z"
          ]
         },
         "type": "Collection"
        },
        {
         "description": "TODO",
         "extent": {
          "spatial": {
           "bbox": [
            [
             0,
             0,
             0,
             0
            ]
           ]
          },
          "temporal": {
           "interval": [
            [
             "1970-01-01T12:00:00Z",
             "2023-09-01T03:06:53Z"
            ]
           ]
          }
         },
         "id": "CUMULUS_DAPA_UNIT_TEST___1690348633_5",
         "license": "proprietary",
         "links": [
          {
           "href": "./collection.json?bucket=unknown_bucket&regex=%5EP%5B0-9%5D%7B3%7D%5B0-9%5D%7B4%7D%5BA-Z%5D%7B13%7DT%5B0-9%5D%7B12%7D01.PDS%24",
           "rel": "root",
           "title": "P1570515ATMSSCIENCEAXT11344000000001.PDS",
           "type": "application/json"
          },
          {
           "href": "./collection.json?bucket=internal&regex=%5EP%5B0-9%5D%7B3%7D%5B0-9%5D%7B4%7D%5BA-Z%5D%7B13%7DT%5B0-9%5D%7B12%7D00.PDS.cmr.xml%24",
           "rel": "item",
           "title": "P1570515ATMSSCIENCEAXT11344000000000.PDS.cmr.xml",
           "type": "metadata"
          },
          {
           "href": "./collection.json?bucket=internal&regex=%5EP%5B0-9%5D%7B3%7D%5B0-9%5D%7B4%7D%5BA-Z%5D%7B13%7DT%5B0-9%5D%7B12%7D01%5C.PDS%5C.xml%24",
           "rel": "item",
           "title": "P1570515ATMSSCIENCEAXT11344000000001.PDS.xml",
           "type": "metadata"
          },
          {
           "href": "./collection.json?bucket=internal&regex=%5EP%5B0-9%5D%7B3%7D%5B0-9%5D%7B4%7D%5BA-Z%5D%7B13%7DT%5B0-9%5D%7B12%7D00%5C.PDS%24",
           "rel": "item",
           "title": "P1570515ATMSSCIENCEAXT11344000000000.PDS",
           "type": "data"
          }
         ],
         "stac_version": "1.0.0",
         "summaries": {
          "granuleId": [
           "^P[0-9]{3}[0-9]{4}[A-Z]{13}T[0-9]{12}0$"
          ],
          "granuleIdExtraction": [
           "(P[0-9]{3}[0-9]{4}[A-Z]{13}T[0-9]{12}0).+"
          ],
          "process": [
           "modis"
          ],
          "totalGranules": [
           0
          ],
          "updated": [
           "2023-07-25T23:11:21.123000Z"
          ]
         },
         "type": "Collection"
        },
        {
         "description": "TODO",
         "extent": {
          "spatial": {
           "bbox": [
            [
             0,
             0,
             0,
             0
            ]
           ]
          },
          "temporal": {
           "interval": [
            [
             "1970-01-01T12:00:00Z",
             "2023-09-01T03:06:53Z"
            ]
           ]
          }
         },
         "id": "CUMULUS_DAPA_UNIT_TEST___1690348633_4",
         "license": "proprietary",
         "links": [
          {
           "href": "./collection.json?bucket=unknown_bucket&regex=%5EP%5B0-9%5D%7B3%7D%5B0-9%5D%7B4%7D%5BA-Z%5D%7B13%7DT%5B0-9%5D%7B12%7D01.PDS%24",
           "rel": "root",
           "title": "P1570515ATMSSCIENCEAXT11344000000001.PDS",
           "type": "application/json"
          },
          {
           "href": "./collection.json?bucket=internal&regex=%5EP%5B0-9%5D%7B3%7D%5B0-9%5D%7B4%7D%5BA-Z%5D%7B13%7DT%5B0-9%5D%7B12%7D00.PDS.cmr.xml%24",
           "rel": "item",
           "title": "P1570515ATMSSCIENCEAXT11344000000000.PDS.cmr.xml",
           "type": "metadata"
          },
          {
           "href": "./collection.json?bucket=internal&regex=%5EP%5B0-9%5D%7B3%7D%5B0-9%5D%7B4%7D%5BA-Z%5D%7B13%7DT%5B0-9%5D%7B12%7D01%5C.PDS%5C.xml%24",
           "rel": "item",
           "title": "P1570515ATMSSCIENCEAXT11344000000001.PDS.xml",
           "type": "metadata"
          },
          {
           "href": "./collection.json?bucket=internal&regex=%5EP%5B0-9%5D%7B3%7D%5B0-9%5D%7B4%7D%5BA-Z%5D%7B13%7DT%5B0-9%5D%7B12%7D00%5C.PDS%24",
           "rel": "item",
           "title": "P1570515ATMSSCIENCEAXT11344000000000.PDS",
           "type": "data"
          }
         ],
         "stac_version": "1.0.0",
         "summaries": {
          "granuleId": [
           "^P[0-9]{3}[0-9]{4}[A-Z]{13}T[0-9]{12}0$"
          ],
          "granuleIdExtraction": [
           "(P[0-9]{3}[0-9]{4}[A-Z]{13}T[0-9]{12}0).+"
          ],
          "process": [
           "modis"
          ],
          "totalGranules": [
           0
          ],
          "updated": [
           "2023-07-25T23:08:30.111000Z"
          ]
         },
         "type": "Collection"
        },
        {
         "description": "TODO",
         "extent": {
          "spatial": {
           "bbox": [
            [
             0,
             0,
             0,
             0
            ]
           ]
          },
          "temporal": {
           "interval": [
            [
             "1970-01-01T12:00:00Z",
             "2023-09-01T03:06:53Z"
            ]
           ]
          }
         },
         "id": "CUMULUS_DAPA_UNIT_TEST___1690348633_3",
         "license": "proprietary",
         "links": [
          {
           "href": "./collection.json?bucket=unknown_bucket&regex=%5EP%5B0-9%5D%7B3%7D%5B0-9%5D%7B4%7D%5BA-Z%5D%7B13%7DT%5B0-9%5D%7B12%7D01.PDS%24",
           "rel": "root",
           "title": "P1570515ATMSSCIENCEAXT11344000000001.PDS",
           "type": "application/json"
          },
          {
           "href": "./collection.json?bucket=internal&regex=%5EP%5B0-9%5D%7B3%7D%5B0-9%5D%7B4%7D%5BA-Z%5D%7B13%7DT%5B0-9%5D%7B12%7D00.PDS.cmr.xml%24",
           "rel": "item",
           "title": "P1570515ATMSSCIENCEAXT11344000000000.PDS.cmr.xml",
           "type": "metadata"
          },
          {
           "href": "./collection.json?bucket=internal&regex=%5EP%5B0-9%5D%7B3%7D%5B0-9%5D%7B4%7D%5BA-Z%5D%7B13%7DT%5B0-9%5D%7B12%7D01%5C.PDS%5C.xml%24",
           "rel": "item",
           "title": "P1570515ATMSSCIENCEAXT11344000000001.PDS.xml",
           "type": "metadata"
          },
          {
           "href": "./collection.json?bucket=internal&regex=%5EP%5B0-9%5D%7B3%7D%5B0-9%5D%7B4%7D%5BA-Z%5D%7B13%7DT%5B0-9%5D%7B12%7D00%5C.PDS%24",
           "rel": "item",
           "title": "P1570515ATMSSCIENCEAXT11344000000000.PDS",
           "type": "data"
          }
         ],
         "stac_version": "1.0.0",
         "summaries": {
          "granuleId": [
           "^P[0-9]{3}[0-9]{4}[A-Z]{13}T[0-9]{12}0$"
          ],
          "granuleIdExtraction": [
           "(P[0-9]{3}[0-9]{4}[A-Z]{13}T[0-9]{12}0).+"
          ],
          "process": [
           "modis"
          ],
          "totalGranules": [
           0
          ],
          "updated": [
           "2023-07-25T23:00:07.978000Z"
          ]
         },
         "type": "Collection"
        },
        {
         "description": "TODO",
         "extent": {
          "spatial": {
           "bbox": [
            [
             0,
             0,
             0,
             0
            ]
           ]
          },
          "temporal": {
           "interval": [
            [
             "1970-01-01T12:00:00Z",
             "2023-09-01T03:06:53Z"
            ]
           ]
          }
         },
         "id": "CUMULUS_DAPA_UNIT_TEST___1690348633_1",
         "license": "proprietary",
         "links": [
          {
           "href": "./collection.json?bucket=unknown_bucket&regex=%5EP%5B0-9%5D%7B3%7D%5B0-9%5D%7B4%7D%5BA-Z%5D%7B13%7DT%5B0-9%5D%7B12%7D01.PDS%24",
           "rel": "root",
           "title": "P1570515ATMSSCIENCEAXT11344000000001.PDS",
           "type": "application/json"
          },
          {
           "href": "./collection.json?bucket=internal&regex=%5EP%5B0-9%5D%7B3%7D%5B0-9%5D%7B4%7D%5BA-Z%5D%7B13%7DT%5B0-9%5D%7B12%7D00.PDS.cmr.xml%24",
           "rel": "item",
           "title": "P1570515ATMSSCIENCEAXT11344000000000.PDS.cmr.xml",
           "type": "metadata"
          },
          {
           "href": "./collection.json?bucket=internal&regex=%5EP%5B0-9%5D%7B3%7D%5B0-9%5D%7B4%7D%5BA-Z%5D%7B13%7DT%5B0-9%5D%7B12%7D01%5C.PDS%5C.xml%24",
           "rel": "item",
           "title": "P1570515ATMSSCIENCEAXT11344000000001.PDS.xml",
           "type": "metadata"
          },
          {
           "href": "./collection.json?bucket=internal&regex=%5EP%5B0-9%5D%7B3%7D%5B0-9%5D%7B4%7D%5BA-Z%5D%7B13%7DT%5B0-9%5D%7B12%7D00%5C.PDS%24",
           "rel": "item",
           "title": "P1570515ATMSSCIENCEAXT11344000000000.PDS",
           "type": "data"
          }
         ],
         "stac_version": "1.0.0",
         "summaries": {
          "granuleId": [
           "^P[0-9]{3}[0-9]{4}[A-Z]{13}T[0-9]{12}0$"
          ],
          "granuleIdExtraction": [
           "(P[0-9]{3}[0-9]{4}[A-Z]{13}T[0-9]{12}0).+"
          ],
          "process": [
           "modis"
          ],
          "totalGranules": [
           0
          ],
          "updated": [
           "2023-07-25T22:42:07.997000Z"
          ]
         },
         "type": "Collection"
        },
        {
         "description": "TODO",
         "extent": {
          "spatial": {
           "bbox": [
            [
             0,
             0,
             0,
             0
            ]
           ]
          },
          "temporal": {
           "interval": [
            [
             "1970-01-01T12:00:00Z",
             "2023-09-01T03:06:53Z"
            ]
           ]
          }
         },
         "id": "CUMULUS_DAPA_UNIT_TEST___1690348633",
         "license": "proprietary",
         "links": [
          {
           "href": "./collection.json?bucket=unknown_bucket&regex=%5EP%5B0-9%5D%7B3%7D%5B0-9%5D%7B4%7D%5BA-Z%5D%7B13%7DT%5B0-9%5D%7B12%7D01.PDS%24",
           "rel": "root",
           "title": "P1570515ATMSSCIENCEAXT11344000000001.PDS",
           "type": "application/json"
          },
          {
           "href": "./collection.json?bucket=internal&regex=%5EP%5B0-9%5D%7B3%7D%5B0-9%5D%7B4%7D%5BA-Z%5D%7B13%7DT%5B0-9%5D%7B12%7D00.PDS.cmr.xml%24",
           "rel": "item",
           "title": "P1570515ATMSSCIENCEAXT11344000000000.PDS.cmr.xml",
           "type": "metadata"
          },
          {
           "href": "./collection.json?bucket=internal&regex=%5EP%5B0-9%5D%7B3%7D%5B0-9%5D%7B4%7D%5BA-Z%5D%7B13%7DT%5B0-9%5D%7B12%7D01%5C.PDS%5C.xml%24",
           "rel": "item",
           "title": "P1570515ATMSSCIENCEAXT11344000000001.PDS.xml",
           "type": "metadata"
          },
          {
           "href": "./collection.json?bucket=internal&regex=%5EP%5B0-9%5D%7B3%7D%5B0-9%5D%7B4%7D%5BA-Z%5D%7B13%7DT%5B0-9%5D%7B12%7D00%5C.PDS%24",
           "rel": "item",
           "title": "P1570515ATMSSCIENCEAXT11344000000000.PDS",
           "type": "data"
          }
         ],
         "stac_version": "1.0.0",
         "summaries": {
          "granuleId": [
           "^P[0-9]{3}[0-9]{4}[A-Z]{13}T[0-9]{12}0$"
          ],
          "granuleIdExtraction": [
           "(P[0-9]{3}[0-9]{4}[A-Z]{13}T[0-9]{12}0).+"
          ],
          "process": [
           "modis"
          ],
          "totalGranules": [
           0
          ],
          "updated": [
           "2023-07-25T22:17:22.132000Z"
          ]
         },
         "type": "Collection"
        },
        {
         "description": "TODO",
         "extent": {
          "spatial": {
           "bbox": [
            [
             0,
             0,
             0,
             0
            ]
           ]
          },
          "temporal": {
           "interval": [
            [
             "1970-01-01T12:00:00Z",
             "2023-09-01T03:06:53Z"
            ]
           ]
          }
         },
         "id": "CUMULUS_DAPA_UNIT_TEST___1690232329",
         "license": "proprietary",
         "links": [
          {
           "href": "./collection.json?bucket=unknown_bucket&regex=%5EP%5B0-9%5D%7B3%7D%5B0-9%5D%7B4%7D%5BA-Z%5D%7B13%7DT%5B0-9%5D%7B12%7D01.PDS%24",
           "rel": "root",
           "title": "P1570515ATMSSCIENCEAXT11344000000001.PDS",
           "type": "application/json"
          },
          {
           "href": "./collection.json?bucket=internal&regex=%5EP%5B0-9%5D%7B3%7D%5B0-9%5D%7B4%7D%5BA-Z%5D%7B13%7DT%5B0-9%5D%7B12%7D00.PDS.cmr.xml%24",
           "rel": "item",
           "title": "P1570515ATMSSCIENCEAXT11344000000000.PDS.cmr.xml",
           "type": "metadata"
          },
          {
           "href": "./collection.json?bucket=internal&regex=%5EP%5B0-9%5D%7B3%7D%5B0-9%5D%7B4%7D%5BA-Z%5D%7B13%7DT%5B0-9%5D%7B12%7D01%5C.PDS%5C.xml%24",
           "rel": "item",
           "title": "P1570515ATMSSCIENCEAXT11344000000001.PDS.xml",
           "type": "metadata"
          },
          {
           "href": "./collection.json?bucket=internal&regex=%5EP%5B0-9%5D%7B3%7D%5B0-9%5D%7B4%7D%5BA-Z%5D%7B13%7DT%5B0-9%5D%7B12%7D00%5C.PDS%24",
           "rel": "item",
           "title": "P1570515ATMSSCIENCEAXT11344000000000.PDS",
           "type": "data"
          }
         ],
         "stac_version": "1.0.0",
         "summaries": {
          "granuleId": [
           "^P[0-9]{3}[0-9]{4}[A-Z]{13}T[0-9]{12}0$"
          ],
          "granuleIdExtraction": [
           "(P[0-9]{3}[0-9]{4}[A-Z]{13}T[0-9]{12}0).+"
          ],
          "process": [
           "modis"
          ],
          "totalGranules": [
           0
          ],
          "updated": [
           "2023-07-24T13:58:57.922000Z"
          ]
         },
         "type": "Collection"
        },
        {
         "description": "TODO",
         "extent": {
          "spatial": {
           "bbox": [
            [
             0,
             0,
             0,
             0
            ]
           ]
          },
          "temporal": {
           "interval": [
            [
             "1970-01-01T12:00:00Z",
             "2023-09-01T03:06:53Z"
            ]
           ]
          }
         },
         "id": "urn:nasa:unity:uds_local_test:DEV1:CHRP_16_DAY_REBIN___1",
         "license": "proprietary",
         "links": [
          {
           "href": "./collection.json?bucket=unknown_bucket&regex=%7BcmrMetadata.Granule.Collection.ShortName%7D___%7BcmrMetadata.Granule.Collection.VersionId%7D",
           "rel": "root",
           "title": "SNDR.SS1330.CHIRP.20230101T0000.m06.g001.L1_J1.std.v02_48.G.200101070318_REBIN.nc",
           "type": "application/json"
          },
          {
           "href": "./collection.json?bucket=protected&regex=%5ESNDR.SS1330.CHIRP.%5B0-9%5D%7B8%7DT%5B0-9%5D%7B4%7D.m06.g%5B0-9%5D%7B3%7D.L1_.%2B%5B0-9%5D%7B12%7D_REBIN.nc%24",
           "rel": "item",
           "title": "SNDR.SS1330.CHIRP.20230101T0000.m06.g001.L1_J1.std.v02_48.G.200101070318_REBIN.nc",
           "type": "data"
          },
          {
           "href": "./collection.json?bucket=protected&regex=%5ESNDR.SS1330.CHIRP.%5B0-9%5D%7B8%7DT%5B0-9%5D%7B4%7D.m06.g%5B0-9%5D%7B3%7D.L1_.%2B%5B0-9%5D%7B12%7D_REBIN.nc.stac.json%24",
           "rel": "item",
           "title": "SNDR.SS1330.CHIRP.20230101T0000.m06.g001.L1_J1.std.v02_48.G.200101070318_REBIN.nc.stac.json",
           "type": "metadata"
          },
          {
           "href": "./collection.json?bucket=private&regex=%5ESNDR.SS1330.CHIRP.%5B0-9%5D%7B8%7DT%5B0-9%5D%7B4%7D.m06.g%5B0-9%5D%7B3%7D.L1_.%2B%5B0-9%5D%7B12%7D_REBIN.cmr.xml%24",
           "rel": "item",
           "title": "SNDR.SS1330.CHIRP.20230101T0000.m06.g001.L1_J1.std.v02_48.G.200101070318_REBIN.cmr.xml",
           "type": "metadata"
          }
         ],
         "stac_version": "1.0.0",
         "summaries": {
          "granuleId": [
           "^SNDR.SS1330.CHIRP.[0-9]{8}T[0-9]{4}.m06.g[0-9]{3}.L1_.+[0-9]{12}_REBIN$"
          ],
          "granuleIdExtraction": [
           "(SNDR.SS1330.CHIRP.[0-9]{8}T[0-9]{4}.m06.g[0-9]{3}.L1_.+[0-9]{12}_REBIN).+"
          ],
          "process": [
           "stac"
          ],
          "totalGranules": [
           44811
          ],
          "updated": [
           "2023-05-23T16:25:28.925000Z"
          ]
         },
         "type": "Collection"
        },
        {
         "description": "TODO",
         "extent": {
          "spatial": {
           "bbox": [
            [
             0,
             0,
             0,
             0
            ]
           ]
          },
          "temporal": {
           "interval": [
            [
             "1970-01-01T12:00:00Z",
             "2023-09-01T03:06:53Z"
            ]
           ]
          }
         },
         "id": "urn:nasa:unity:uds_local_test:DEV1:GESDISC_TEST___1",
         "license": "proprietary",
         "links": [
          {
           "href": "./collection.json?bucket=unknown_bucket&regex=%7BcmrMetadata.Granule.Collection.ShortName%7D___%7BcmrMetadata.Granule.Collection.VersionId%7D",
           "rel": "root",
           "title": "test.dat",
           "type": "application/json"
          },
          {
           "href": "./collection.json?bucket=protected&regex=test.dat",
           "rel": "item",
           "title": "test.dat",
           "type": "data"
          }
         ],
         "stac_version": "1.0.0",
         "summaries": {
          "granuleId": [
           "test.dat"
          ],
          "granuleIdExtraction": [
           "(test.dat)"
          ],
          "process": [
           "snpp.level0"
          ],
          "totalGranules": [
           1
          ],
          "updated": [
           "2023-04-06T16:53:09.564000Z"
          ]
         },
         "type": "Collection"
        },
        {
         "description": "TODO",
         "extent": {
          "spatial": {
           "bbox": [
            [
             0,
             0,
             0,
             0
            ]
           ]
          },
          "temporal": {
           "interval": [
            [
             "1970-01-01T12:00:00Z",
             "2023-09-01T03:06:53Z"
            ]
           ]
          }
         },
         "id": "urn:nasa:unity:uds_local_test:DEV1:SNDR13CHRP1___2",
         "license": "proprietary",
         "links": [
          {
           "href": "./collection.json?bucket=unknown_bucket&regex=%7BcmrMetadata.Granule.Collection.ShortName%7D___%7BcmrMetadata.Granule.Collection.VersionId%7D",
           "rel": "root",
           "title": "SNDR.SS1330.CHIRP.20230101T0000.m06.g001.L1_J1.std.v02_48.G.200101070318.nc",
           "type": "application/json"
          },
          {
           "href": "./collection.json?bucket=protected&regex=%5ESNDR.SS1330.CHIRP.%5B0-9%5D%7B8%7DT%5B0-9%5D%7B4%7D.m06.g%5B0-9%5D%7B3%7D.L1_.%2B%5B0-9%5D%7B12%7D.nc%24",
           "rel": "item",
           "title": "SNDR.SS1330.CHIRP.20230101T0000.m06.g001.L1_J1.std.v02_48.G.200101070318.nc",
           "type": "data"
          },
          {
           "href": "./collection.json?bucket=protected&regex=%5ESNDR.SS1330.CHIRP.%5B0-9%5D%7B8%7DT%5B0-9%5D%7B4%7D.m06.g%5B0-9%5D%7B3%7D.L1_.%2B%5B0-9%5D%7B12%7D.nc.xml%24",
           "rel": "item",
           "title": "SNDR.SS1330.CHIRP.20230101T0000.m06.g001.L1_J1.std.v02_48.G.200101070318.nc.xml",
           "type": "metadata"
          },
          {
           "href": "./collection.json?bucket=private&regex=%5ESNDR.SS1330.CHIRP.%5B0-9%5D%7B8%7DT%5B0-9%5D%7B4%7D.m06.g%5B0-9%5D%7B3%7D.L1_.%2B%5B0-9%5D%7B12%7D.nc.cmr.xml%24",
           "rel": "item",
           "title": "SNDR.SS1330.CHIRP.20230101T0000.m06.g001.L1_J1.std.v02_48.G.200101070318.nc.cmr.xml",
           "type": "metadata"
          }
         ],
         "stac_version": "1.0.0",
         "summaries": {
          "granuleId": [
           "^SNDR.SS1330.CHIRP.[0-9]{8}T[0-9]{4}.m06.g[0-9]{3}.L1_.+[0-9]{12}$"
          ],
          "granuleIdExtraction": [
           "(SNDR.SS1330.CHIRP.[0-9]{8}T[0-9]{4}.m06.g[0-9]{3}.L1_.+[0-9]{12}).+"
          ],
          "process": [
           "snpp.level0"
          ],
          "totalGranules": [
           1200
          ],
          "updated": [
           "2023-04-05T23:23:58.312000Z"
          ]
         },
         "type": "Collection"
        },
        {
         "description": "TODO",
         "extent": {
          "spatial": {
           "bbox": [
            [
             0,
             0,
             0,
             0
            ]
           ]
          },
          "temporal": {
           "interval": [
            [
             "1970-01-01T12:00:00Z",
             "2023-09-01T03:06:53Z"
            ]
           ]
          }
         },
         "id": "urn:nasa:unity:uds_local_test:DEV1:ECO1BATT___1",
         "license": "proprietary",
         "links": [
          {
           "href": "./collection.json?bucket=unknown_bucket&regex=%7BcmrMetadata.Granule.Collection.ShortName%7D___%7BcmrMetadata.Granule.Collection.VersionId%7D",
           "rel": "root",
           "title": "ECOSTRESS_L1B_ATT_00048_20180709T204901_0601_03.h5",
           "type": "application/json"
          },
          {
           "href": "./collection.json?bucket=protected&regex=%5EECOSTRESS_L1B_ATT.%2A.h5%24",
           "rel": "item",
           "title": "ECOSTRESS_L1B_ATT_00048_20180709T204901_0601_03.h5",
           "type": "data"
          },
          {
           "href": "./collection.json?bucket=protected&regex=%5EECOSTRESS_L1B_ATT.%2A.h5.xml%24",
           "rel": "item",
           "title": "ECOSTRESS_L1B_ATT_00048_20180709T204901_0601_03.h5.xml",
           "type": "metadata"
          }
         ],
         "stac_version": "1.0.0",
         "summaries": {
          "granuleId": [
           "^ECOSTRESS_L1B_ATT_[0-9]{5}_[0-9]{8}T[0-9]{6}_[0-9]{4}_[0-9]{2}$"
          ],
          "granuleIdExtraction": [
           "(ECOSTRESS_L1B_ATT_[0-9]{5}_[0-9]{8}T[0-9]{6}_[0-9]{4}_[0-9]{2}).+"
          ],
          "process": [
           "snpp.level0"
          ],
          "totalGranules": [
           2
          ],
          "updated": [
           "2023-03-31T23:34:34.179000Z"
          ]
         },
         "type": "Collection"
        },
        {
         "description": "TODO",
         "extent": {
          "spatial": {
           "bbox": [
            [
             0,
             0,
             0,
             0
            ]
           ]
          },
          "temporal": {
           "interval": [
            [
             "1970-01-01T12:00:00Z",
             "2023-09-01T03:06:53Z"
            ]
           ]
          }
         },
         "id": "urn:nasa:unity:uds_local_test:DEV1:SPL2SMP___8",
         "license": "proprietary",
         "links": [
          {
           "href": "./collection.json?bucket=unknown_bucket&regex=%7BcmrMetadata.Granule.Collection.ShortName%7D___%7BcmrMetadata.Granule.Collection.VersionId%7D",
           "rel": "root",
           "title": "SMAP_L2_SM_P_43589_D_20230331T001249_R18290_001.h5",
           "type": "application/json"
          },
          {
           "href": "./collection.json?bucket=protected&regex=%5ESMAP_L2_SM_P.%2A.h5%24",
           "rel": "item",
           "title": "SMAP_L2_SM_P_43589_D_20230331T001249_R18290_001.h5",
           "type": "data"
          },
          {
           "href": "./collection.json?bucket=protected&regex=%5ESMAP_L2_SM_P.%2A.h5.iso.xml%24",
           "rel": "item",
           "title": "SMAP_L2_SM_P_43589_D_20230331T001249_R18290_001.h5.iso.xml",
           "type": "metadata"
          },
          {
           "href": "./collection.json?bucket=private&regex=%5ESMAP_L2_SM_P.%2A.qa%24",
           "rel": "item",
           "title": "SMAP_L2_SM_P_43589_D_20230331T001249_R18290_001.qa",
           "type": "metadata"
          }
         ],
         "stac_version": "1.0.0",
         "summaries": {
          "granuleId": [
           "^SMAP_L2_SM_P_[0-9]{5}_[AD]_[0-9]{8}T[0-9]{6}_R18290_[0-9]{3}$"
          ],
          "granuleIdExtraction": [
           "(SMAP_L2_SM_P_[0-9]{5}_[AD]_[0-9]{8}T[0-9]{6}_R18290_[0-9]{3}).+"
          ],
          "process": [
           "snpp.level0"
          ],
          "totalGranules": [
           0
          ],
          "updated": [
           "2023-03-31T23:20:47.324000Z"
          ]
         },
         "type": "Collection"
        },
        {
         "description": "TODO",
         "extent": {
          "spatial": {
           "bbox": [
            [
             0,
             0,
             0,
             0
            ]
           ]
          },
          "temporal": {
           "interval": [
            [
             "1970-01-01T12:00:00Z",
             "2023-09-01T03:06:54Z"
            ]
           ]
          }
         },
         "id": "urn:nasa:unity:uds_local_test:DEV1:CUMULUS_DAPA_UNIT_TEST___1674695854",
         "license": "proprietary",
         "links": [
          {
           "href": "./collection.json?bucket=unknown_bucket&regex=.%2Fcollection.json",
           "rel": "root",
           "title": "test_file01.nc",
           "type": "application/json"
          },
          {
           "href": "./collection.json?bucket=private&regex=%5Etest_file.%2A%5C.cmr%5C.xml%24",
           "rel": "item",
           "title": "test_file01.cmr.xml",
           "type": "metadata"
          },
          {
           "href": "./collection.json?bucket=protected&regex=%5Etest_file.%2A%5C.nc%5C.cas%24",
           "rel": "item",
           "title": "test_file01.nc.cas",
           "type": "metadata"
          },
          {
           "href": "./collection.json?bucket=protected&regex=%5Etest_file.%2A%5C.nc%24",
           "rel": "item",
           "title": "test_file01.nc",
           "type": "data"
          }
         ],
         "stac_version": "1.0.0",
         "summaries": {
          "granuleId": [
           "^test_file.*$"
          ],
          "granuleIdExtraction": [
           "(^test_file.*)(\\.nc|\\.nc\\.cas|\\.cmr\\.xml)"
          ],
          "process": [
           "snpp.level1"
          ],
          "totalGranules": [
           1
          ],
          "updated": [
           "2023-01-25T17:17:44.817000Z"
          ]
         },
         "type": "Collection"
        },
        {
         "description": "TODO",
         "extent": {
          "spatial": {
           "bbox": [
            [
             0,
             0,
             0,
             0
            ]
           ]
          },
          "temporal": {
           "interval": [
            [
             "1970-01-01T12:00:00Z",
             "2023-09-01T03:06:54Z"
            ]
           ]
          }
         },
         "id": "urn:nasa:unity:uds_local_test:DEV1:CUMULUS_DAPA_UNIT_TEST___1674695207",
         "license": "proprietary",
         "links": [
          {
           "href": "./collection.json?bucket=unknown_bucket&regex=.%2Fcollection.json",
           "rel": "root",
           "title": "P1570515ATMSSCIENCEAXT11344000000001.PDS",
           "type": "application/json"
          },
          {
           "href": "./collection.json?bucket=private&regex=%5Etest_file.%2A%5C.cmr%5C.xml%24",
           "rel": "item",
           "title": "test_file01.cmr.xml",
           "type": "metadata"
          },
          {
           "href": "./collection.json?bucket=protected&regex=%5Etest_file.%2A%5C.nc%5C.cas%24",
           "rel": "item",
           "title": "test_file01.nc.cas",
           "type": "metadata"
          },
          {
           "href": "./collection.json?bucket=protected&regex=%5Etest_file.%2A%5C.nc%24",
           "rel": "item",
           "title": "test_file01.nc",
           "type": "data"
          }
         ],
         "stac_version": "1.0.0",
         "summaries": {
          "granuleId": [
           "^P[0-9]{3}[0-9]{4}[A-Z]{13}T[0-9]{12}0$"
          ],
          "granuleIdExtraction": [
           "(P[0-9]{3}[0-9]{4}[A-Z]{13}T[0-9]{12}0).+"
          ],
          "process": [
           "modis"
          ],
          "totalGranules": [
           0
          ],
          "updated": [
           "2023-01-25T17:06:59.836000Z"
          ]
         },
         "type": "Collection"
        },
        {
         "description": "TODO",
         "extent": {
          "spatial": {
           "bbox": [
            [
             0,
             0,
             0,
             0
            ]
           ]
          },
          "temporal": {
           "interval": [
            [
             "1970-01-01T12:00:00Z",
             "2023-09-01T03:06:54Z"
            ]
           ]
          }
         },
         "id": "urn:nasa:unity:uds_local_test:DEV1:CUMULUS_DAPA_UNIT_TEST___1674693532",
         "license": "proprietary",
         "links": [
          {
           "href": "./collection.json?bucket=unknown_bucket&regex=.%2Fcollection.json",
           "rel": "root",
           "title": "P1570515ATMSSCIENCEAXT11344000000001.PDS",
           "type": "application/json"
          },
          {
           "href": "./collection.json?bucket=internal&regex=%5EP%5B0-9%5D%7B3%7D%5B0-9%5D%7B4%7D%5BA-Z%5D%7B13%7DT%5B0-9%5D%7B12%7D00.PDS.cmr.xml%24",
           "rel": "item",
           "title": "P1570515ATMSSCIENCEAXT11344000000000.PDS.cmr.xml",
           "type": "metadata"
          },
          {
           "href": "./collection.json?bucket=internal&regex=%5EP%5B0-9%5D%7B3%7D%5B0-9%5D%7B4%7D%5BA-Z%5D%7B13%7DT%5B0-9%5D%7B12%7D01%5C.PDS%5C.xml%24",
           "rel": "item",
           "title": "P1570515ATMSSCIENCEAXT11344000000001.PDS.xml",
           "type": "metadata"
          },
          {
           "href": "./collection.json?bucket=internal&regex=%5EP%5B0-9%5D%7B3%7D%5B0-9%5D%7B4%7D%5BA-Z%5D%7B13%7DT%5B0-9%5D%7B12%7D00%5C.PDS%24",
           "rel": "item",
           "title": "P1570515ATMSSCIENCEAXT11344000000000.PDS",
           "type": "data"
          }
         ],
         "stac_version": "1.0.0",
         "summaries": {
          "granuleId": [
           "^P[0-9]{3}[0-9]{4}[A-Z]{13}T[0-9]{12}0$"
          ],
          "granuleIdExtraction": [
           "(P[0-9]{3}[0-9]{4}[A-Z]{13}T[0-9]{12}0).+"
          ],
          "process": [
           "modis"
          ],
          "totalGranules": [
           0
          ],
          "updated": [
           "2023-01-25T16:39:04.460000Z"
          ]
         },
         "type": "Collection"
        },
        {
         "description": "TODO",
         "extent": {
          "spatial": {
           "bbox": [
            [
             0,
             0,
             0,
             0
            ]
           ]
          },
          "temporal": {
           "interval": [
            [
             "1970-01-01T12:00:00Z",
             "2023-09-01T03:06:54Z"
            ]
           ]
          }
         },
         "id": "NEW_COLLECTION_EXAMPLE_L1B_SMOKE___1",
         "license": "proprietary",
         "links": [
          {
           "href": "./collection.json?bucket=unknown_bucket&regex=%7BcmrMetadata.Granule.Collection.ShortName%7D___%7BcmrMetadata.Granule.Collection.VersionId%7D",
           "rel": "root",
           "title": "test_file01.nc",
           "type": "application/json"
          },
          {
           "href": "./collection.json?bucket=protected&regex=%5Etest_file.%2A%5C.nc%24",
           "rel": "item",
           "title": "test_file01.nc",
           "type": "data"
          },
          {
           "href": "./collection.json?bucket=protected&regex=%5Etest_file.%2A%5C.nc%5C.cas%24",
           "rel": "item",
           "title": "test_file01.nc.cas",
           "type": "metadata"
          },
          {
           "href": "./collection.json?bucket=private&regex=%5Etest_file.%2A%5C.cmr%5C.xml%24",
           "rel": "item",
           "title": "test_file01.cmr.xml",
           "type": "metadata"
          }
         ],
         "stac_version": "1.0.0",
         "summaries": {
          "granuleId": [
           "^test_file.*$"
          ],
          "granuleIdExtraction": [
           "(^test_file.*)(\\.nc|\\.nc\\.cas|\\.cmr\\.xml)"
          ],
          "process": [
           "snpp.level1"
          ],
          "totalGranules": [
           0
          ],
          "updated": [
           "2023-01-23T18:10:22.683000Z"
          ]
         },
         "type": "Collection"
        },
        {
         "description": "TODO",
         "extent": {
          "spatial": {
           "bbox": [
            [
             0,
             0,
             0,
             0
            ]
           ]
          },
          "temporal": {
           "interval": [
            [
             "1970-01-01T12:00:00Z",
             "2023-09-01T03:06:54Z"
            ]
           ]
          }
         },
         "id": "NEW_COLLECTION_EXAMPLE_L1B___10",
         "license": "proprietary",
         "links": [
          {
           "href": "./collection.json?bucket=unknown_bucket&regex=%7BcmrMetadata.Granule.Collection.ShortName%7D___%7BcmrMetadata.Granule.Collection.VersionId%7D",
           "rel": "root",
           "title": "test_file01.nc",
           "type": "application/json"
          },
          {
           "href": "./collection.json?bucket=protected&regex=%5Etest_file.%2A%5C.nc%24",
           "rel": "item",
           "title": "test_file01.nc",
           "type": "data"
          },
          {
           "href": "./collection.json?bucket=protected&regex=%5Etest_file.%2A%5C.nc%5C.cas%24",
           "rel": "item",
           "title": "test_file01.nc.cas",
           "type": "metadata"
          },
          {
           "href": "./collection.json?bucket=private&regex=%5Etest_file.%2A%5C.cmr%5C.xml%24",
           "rel": "item",
           "title": "test_file01.cmr.xml",
           "type": "metadata"
          }
         ],
         "stac_version": "1.0.0",
         "summaries": {
          "granuleId": [
           "^test_file.*$"
          ],
          "granuleIdExtraction": [
           "(^test_file.*)(\\.nc|\\.nc\\.cas|\\.cmr\\.xml)"
          ],
          "process": [
           "snpp.level1"
          ],
          "totalGranules": [
           0
          ],
          "updated": [
           "2022-11-28T08:48:21.565000Z"
          ]
         },
         "type": "Collection"
        },
        {
         "description": "TODO",
         "extent": {
          "spatial": {
           "bbox": [
            [
             0,
             0,
             0,
             0
            ]
           ]
          },
          "temporal": {
           "interval": [
            [
             "1970-01-01T12:00:00Z",
             "2023-09-01T03:06:54Z"
            ]
           ]
          }
         },
         "id": "NEW_COLLECTION_EXAMPLE_L1B___9",
         "license": "proprietary",
         "links": [
          {
           "href": "./collection.json?bucket=unknown_bucket&regex=%7BcmrMetadata.Granule.Collection.ShortName%7D___%7BcmrMetadata.Granule.Collection.VersionId%7D",
           "rel": "root",
           "title": "test_file01.nc",
           "type": "application/json"
          },
          {
           "href": "./collection.json?bucket=protected&regex=%5Etest_file.%2A%5C.nc%24",
           "rel": "item",
           "title": "test_file01.nc",
           "type": "data"
          },
          {
           "href": "./collection.json?bucket=protected&regex=%5Etest_file.%2A%5C.nc%5C.cas%24",
           "rel": "item",
           "title": "test_file01.nc.cas",
           "type": "metadata"
          },
          {
           "href": "./collection.json?bucket=private&regex=%5Etest_file.%2A%5C.cmr%5C.xml%24",
           "rel": "item",
           "title": "test_file01.cmr.xml",
           "type": "metadata"
          }
         ],
         "stac_version": "1.0.0",
         "summaries": {
          "granuleId": [
           "^test_file.*$"
          ],
          "granuleIdExtraction": [
           "(^test_file.*)(\\.nc|\\.nc\\.cas|\\.cmr\\.xml)"
          ],
          "process": [
           "snpp.level1"
          ],
          "totalGranules": [
           2
          ],
          "updated": [
           "2022-11-16T19:20:52.495000Z"
          ]
         },
         "type": "Collection"
        },
        {
         "description": "TODO",
         "extent": {
          "spatial": {
           "bbox": [
            [
             0,
             0,
             0,
             0
            ]
           ]
          },
          "temporal": {
           "interval": [
            [
             "1970-01-01T12:00:00Z",
             "2023-09-01T03:06:54Z"
            ]
           ]
          }
         },
         "id": "NEW_COLLECTION_EXAMPLE_L1B___8",
         "license": "proprietary",
         "links": [
          {
           "href": "./collection.json?bucket=unknown_bucket&regex=%7BcmrMetadata.Granule.Collection.ShortName%7D___%7BcmrMetadata.Granule.Collection.VersionId%7D",
           "rel": "root",
           "title": "test_file01.nc",
           "type": "application/json"
          },
          {
           "href": "./collection.json?bucket=protected&regex=%5Etest_file.%2A%5C.nc%24",
           "rel": "item",
           "title": "test_file01.nc",
           "type": "data"
          },
          {
           "href": "./collection.json?bucket=protected&regex=%5Etest_file.%2A%5C.nc%5C.cas%24",
           "rel": "item",
           "title": "test_file01.nc.cas",
           "type": "metadata"
          },
          {
           "href": "./collection.json?bucket=private&regex=%5Etest_file.%2A%5C.cmr%5C.xml%24",
           "rel": "item",
           "title": "test_file01.cmr.xml",
           "type": "metadata"
          }
         ],
         "stac_version": "1.0.0",
         "summaries": {
          "granuleId": [
           "^test_file.*$"
          ],
          "granuleIdExtraction": [
           "(^test_file.*)(\\.nc|\\.nc\\.cas|\\.cmr\\.xml)"
          ],
          "process": [
           "snpp.level1"
          ],
          "totalGranules": [
           1
          ],
          "updated": [
           "2022-11-16T17:11:45.528000Z"
          ]
         },
         "type": "Collection"
        },
        {
         "description": "TODO",
         "extent": {
          "spatial": {
           "bbox": [
            [
             0,
             0,
             0,
             0
            ]
           ]
          },
          "temporal": {
           "interval": [
            [
             "1970-01-01T12:00:00Z",
             "2023-09-01T03:06:54Z"
            ]
           ]
          }
         },
         "id": "NEW_COLLECTION_EXAMPLE_L1B___7",
         "license": "proprietary",
         "links": [
          {
           "href": "./collection.json?bucket=unknown_bucket&regex=%7BcmrMetadata.Granule.Collection.ShortName%7D___%7BcmrMetadata.Granule.Collection.VersionId%7D",
           "rel": "root",
           "title": "test_file01.nc",
           "type": "application/json"
          },
          {
           "href": "./collection.json?bucket=protected&regex=%5Etest_file.%2A%5C.nc%24",
           "rel": "item",
           "title": "test_file01.nc",
           "type": "data"
          },
          {
           "href": "./collection.json?bucket=protected&regex=%5Etest_file.%2A%5C.nc%5C.cas%24",
           "rel": "item",
           "title": "test_file01.nc.cas",
           "type": "metadata"
          },
          {
           "href": "./collection.json?bucket=private&regex=%5Etest_file.%2A%5C.cmr%5C.xml%24",
           "rel": "item",
           "title": "test_file01.cmr.xml",
           "type": "metadata"
          }
         ],
         "stac_version": "1.0.0",
         "summaries": {
          "granuleId": [
           "^test_file.*$"
          ],
          "granuleIdExtraction": [
           "(^test_file.*)(\\.nc|\\.nc\\.cas|\\.cmr\\.xml)"
          ],
          "process": [
           "snpp.level1"
          ],
          "totalGranules": [
           1
          ],
          "updated": [
           "2022-11-16T07:50:06.959000Z"
          ]
         },
         "type": "Collection"
        },
        {
         "description": "TODO",
         "extent": {
          "spatial": {
           "bbox": [
            [
             0,
             0,
             0,
             0
            ]
           ]
          },
          "temporal": {
           "interval": [
            [
             "1970-01-01T12:00:00Z",
             "2023-09-01T03:06:54Z"
            ]
           ]
          }
         },
         "id": "CUMULUS_DAPA_UNIT_TEST___1668586541",
         "license": "proprietary",
         "links": [
          {
           "href": "./collection.json?bucket=unknown_bucket&regex=.%2Fcollection.json",
           "rel": "root",
           "title": "P1570515ATMSSCIENCEAXT11344000000001.PDS",
           "type": "application/json"
          },
          {
           "href": "./collection.json?bucket=internal&regex=%5EP%5B0-9%5D%7B3%7D%5B0-9%5D%7B4%7D%5BA-Z%5D%7B13%7DT%5B0-9%5D%7B12%7D00.PDS.cmr.xml%24",
           "rel": "item",
           "title": "P1570515ATMSSCIENCEAXT11344000000000.PDS.cmr.xml",
           "type": "metadata"
          },
          {
           "href": "./collection.json?bucket=internal&regex=%5EP%5B0-9%5D%7B3%7D%5B0-9%5D%7B4%7D%5BA-Z%5D%7B13%7DT%5B0-9%5D%7B12%7D01%5C.PDS%5C.xml%24",
           "rel": "item",
           "title": "P1570515ATMSSCIENCEAXT11344000000001.PDS.xml",
           "type": "metadata"
          },
          {
           "href": "./collection.json?bucket=internal&regex=%5EP%5B0-9%5D%7B3%7D%5B0-9%5D%7B4%7D%5BA-Z%5D%7B13%7DT%5B0-9%5D%7B12%7D00%5C.PDS%24",
           "rel": "item",
           "title": "P1570515ATMSSCIENCEAXT11344000000000.PDS",
           "type": "data"
          }
         ],
         "stac_version": "1.0.0",
         "summaries": {
          "granuleId": [
           "^P[0-9]{3}[0-9]{4}[A-Z]{13}T[0-9]{12}0$"
          ],
          "granuleIdExtraction": [
           "(P[0-9]{3}[0-9]{4}[A-Z]{13}T[0-9]{12}0).+"
          ],
          "process": [
           "modis"
          ],
          "totalGranules": [
           0
          ],
          "updated": [
           "2022-11-16T00:15:47.471000Z"
          ]
         },
         "type": "Collection"
        },
        {
         "description": "TODO",
         "extent": {
          "spatial": {
           "bbox": [
            [
             0,
             0,
             0,
             0
            ]
           ]
          },
          "temporal": {
           "interval": [
            [
             "1970-01-01T12:00:00Z",
             "2023-09-01T03:06:54Z"
            ]
           ]
          }
         },
         "id": "CUMULUS_DAPA_UNIT_TEST___1668586160",
         "license": "proprietary",
         "links": [
          {
           "href": "./collection.json?bucket=unknown_bucket&regex=.%2Fcollection.json",
           "rel": "root",
           "title": "P1570515ATMSSCIENCEAXT11344000000001.PDS",
           "type": "application/json"
          },
          {
           "href": "./collection.json?bucket=internal&regex=%5EP%5B0-9%5D%7B3%7D%5B0-9%5D%7B4%7D%5BA-Z%5D%7B13%7DT%5B0-9%5D%7B12%7D00.PDS.cmr.xml%24",
           "rel": "item",
           "title": "P1570515ATMSSCIENCEAXT11344000000000.PDS.cmr.xml",
           "type": "metadata"
          },
          {
           "href": "./collection.json?bucket=internal&regex=%5EP%5B0-9%5D%7B3%7D%5B0-9%5D%7B4%7D%5BA-Z%5D%7B13%7DT%5B0-9%5D%7B12%7D01%5C.PDS%5C.xml%24",
           "rel": "item",
           "title": "P1570515ATMSSCIENCEAXT11344000000001.PDS.xml",
           "type": "metadata"
          },
          {
           "href": "./collection.json?bucket=internal&regex=%5EP%5B0-9%5D%7B3%7D%5B0-9%5D%7B4%7D%5BA-Z%5D%7B13%7DT%5B0-9%5D%7B12%7D00%5C.PDS%24",
           "rel": "item",
           "title": "P1570515ATMSSCIENCEAXT11344000000000.PDS",
           "type": "data"
          }
         ],
         "stac_version": "1.0.0",
         "summaries": {
          "granuleId": [
           "^P[0-9]{3}[0-9]{4}[A-Z]{13}T[0-9]{12}0$"
          ],
          "granuleIdExtraction": [
           "(P[0-9]{3}[0-9]{4}[A-Z]{13}T[0-9]{12}0).+"
          ],
          "process": [
           "modis"
          ],
          "totalGranules": [
           0
          ],
          "updated": [
           "2022-11-16T00:09:27.126000Z"
          ]
         },
         "type": "Collection"
        },
        {
         "description": "TODO",
         "extent": {
          "spatial": {
           "bbox": [
            [
             0,
             0,
             0,
             0
            ]
           ]
          },
          "temporal": {
           "interval": [
            [
             "1970-01-01T12:00:00Z",
             "2023-09-01T03:06:54Z"
            ]
           ]
          }
         },
         "id": "CUMULUS_DAPA_UNIT_TEST___1668585706",
         "license": "proprietary",
         "links": [
          {
           "href": "./collection.json?bucket=unknown_bucket&regex=.%2Fcollection.json",
           "rel": "root",
           "title": "P1570515ATMSSCIENCEAXT11344000000001.PDS",
           "type": "application/json"
          },
          {
           "href": "./collection.json?bucket=internal&regex=%5EP%5B0-9%5D%7B3%7D%5B0-9%5D%7B4%7D%5BA-Z%5D%7B13%7DT%5B0-9%5D%7B12%7D00.PDS.cmr.xml%24",
           "rel": "item",
           "title": "P1570515ATMSSCIENCEAXT11344000000000.PDS.cmr.xml",
           "type": "metadata"
          },
          {
           "href": "./collection.json?bucket=internal&regex=%5EP%5B0-9%5D%7B3%7D%5B0-9%5D%7B4%7D%5BA-Z%5D%7B13%7DT%5B0-9%5D%7B12%7D01%5C.PDS%5C.xml%24",
           "rel": "item",
           "title": "P1570515ATMSSCIENCEAXT11344000000001.PDS.xml",
           "type": "metadata"
          },
          {
           "href": "./collection.json?bucket=internal&regex=%5EP%5B0-9%5D%7B3%7D%5B0-9%5D%7B4%7D%5BA-Z%5D%7B13%7DT%5B0-9%5D%7B12%7D00%5C.PDS%24",
           "rel": "item",
           "title": "P1570515ATMSSCIENCEAXT11344000000000.PDS",
           "type": "data"
          }
         ],
         "stac_version": "1.0.0",
         "summaries": {
          "granuleId": [
           "^P[0-9]{3}[0-9]{4}[A-Z]{13}T[0-9]{12}0$"
          ],
          "granuleIdExtraction": [
           "(P[0-9]{3}[0-9]{4}[A-Z]{13}T[0-9]{12}0).+"
          ],
          "process": [
           "modis"
          ],
          "totalGranules": [
           0
          ],
          "updated": [
           "2022-11-16T00:01:50.709000Z"
          ]
         },
         "type": "Collection"
        },
        {
         "description": "TODO",
         "extent": {
          "spatial": {
           "bbox": [
            [
             0,
             0,
             0,
             0
            ]
           ]
          },
          "temporal": {
           "interval": [
            [
             "1970-01-01T12:00:00Z",
             "2023-09-01T03:06:54Z"
            ]
           ]
          }
         },
         "id": "CUMULUS_DAPA_UNIT_TEST___1668585354",
         "license": "proprietary",
         "links": [
          {
           "href": "./collection.json?bucket=unknown_bucket&regex=.%2Fcollection.json",
           "rel": "root",
           "title": "P1570515ATMSSCIENCEAXT11344000000001.PDS",
           "type": "application/json"
          },
          {
           "href": "./collection.json?bucket=internal&regex=%5EP%5B0-9%5D%7B3%7D%5B0-9%5D%7B4%7D%5BA-Z%5D%7B13%7DT%5B0-9%5D%7B12%7D00.PDS.cmr.xml%24",
           "rel": "item",
           "title": "P1570515ATMSSCIENCEAXT11344000000000.PDS.cmr.xml",
           "type": "metadata"
          },
          {
           "href": "./collection.json?bucket=internal&regex=%5EP%5B0-9%5D%7B3%7D%5B0-9%5D%7B4%7D%5BA-Z%5D%7B13%7DT%5B0-9%5D%7B12%7D01%5C.PDS%5C.xml%24",
           "rel": "item",
           "title": "P1570515ATMSSCIENCEAXT11344000000001.PDS.xml",
           "type": "metadata"
          },
          {
           "href": "./collection.json?bucket=internal&regex=%5EP%5B0-9%5D%7B3%7D%5B0-9%5D%7B4%7D%5BA-Z%5D%7B13%7DT%5B0-9%5D%7B12%7D00%5C.PDS%24",
           "rel": "item",
           "title": "P1570515ATMSSCIENCEAXT11344000000000.PDS",
           "type": "data"
          }
         ],
         "stac_version": "1.0.0",
         "summaries": {
          "granuleId": [
           "^P[0-9]{3}[0-9]{4}[A-Z]{13}T[0-9]{12}0$"
          ],
          "granuleIdExtraction": [
           "(P[0-9]{3}[0-9]{4}[A-Z]{13}T[0-9]{12}0).+"
          ],
          "process": [
           "modis"
          ],
          "totalGranules": [
           0
          ],
          "updated": [
           "2022-11-15T23:56:00.241000Z"
          ]
         },
         "type": "Collection"
        },
        {
         "description": "TODO",
         "extent": {
          "spatial": {
           "bbox": [
            [
             0,
             0,
             0,
             0
            ]
           ]
          },
          "temporal": {
           "interval": [
            [
             "1970-01-01T12:00:00Z",
             "2023-09-01T03:06:54Z"
            ]
           ]
          }
         },
         "id": "CUMULUS_DAPA_UNIT_TEST___1668584482",
         "license": "proprietary",
         "links": [
          {
           "href": "./collection.json?bucket=unknown_bucket&regex=.%2Fcollection.json",
           "rel": "root",
           "title": "P1570515ATMSSCIENCEAXT11344000000001.PDS",
           "type": "application/json"
          },
          {
           "href": "./collection.json?bucket=internal&regex=%5EP%5B0-9%5D%7B3%7D%5B0-9%5D%7B4%7D%5BA-Z%5D%7B13%7DT%5B0-9%5D%7B12%7D00.PDS.cmr.xml%24",
           "rel": "item",
           "title": "P1570515ATMSSCIENCEAXT11344000000000.PDS.cmr.xml",
           "type": "metadata"
          },
          {
           "href": "./collection.json?bucket=internal&regex=%5EP%5B0-9%5D%7B3%7D%5B0-9%5D%7B4%7D%5BA-Z%5D%7B13%7DT%5B0-9%5D%7B12%7D01%5C.PDS%5C.xml%24",
           "rel": "item",
           "title": "P1570515ATMSSCIENCEAXT11344000000001.PDS.xml",
           "type": "metadata"
          },
          {
           "href": "./collection.json?bucket=internal&regex=%5EP%5B0-9%5D%7B3%7D%5B0-9%5D%7B4%7D%5BA-Z%5D%7B13%7DT%5B0-9%5D%7B12%7D00%5C.PDS%24",
           "rel": "item",
           "title": "P1570515ATMSSCIENCEAXT11344000000000.PDS",
           "type": "data"
          }
         ],
         "stac_version": "1.0.0",
         "summaries": {
          "granuleId": [
           "^P[0-9]{3}[0-9]{4}[A-Z]{13}T[0-9]{12}0$"
          ],
          "granuleIdExtraction": [
           "(P[0-9]{3}[0-9]{4}[A-Z]{13}T[0-9]{12}0).+"
          ],
          "process": [
           "modis"
          ],
          "totalGranules": [
           0
          ],
          "updated": [
           "2022-11-15T23:41:30.480000Z"
          ]
         },
         "type": "Collection"
        },
        {
         "description": "TODO",
         "extent": {
          "spatial": {
           "bbox": [
            [
             0,
             0,
             0,
             0
            ]
           ]
          },
          "temporal": {
           "interval": [
            [
             "1970-01-01T12:00:00Z",
             "2023-09-01T03:06:54Z"
            ]
           ]
          }
         },
         "id": "CUMULUS_DAPA_UNIT_TEST___1668583955",
         "license": "proprietary",
         "links": [
          {
           "href": "./collection.json?bucket=unknown_bucket&regex=.%2Fcollection.json",
           "rel": "root",
           "title": "P1570515ATMSSCIENCEAXT11344000000001.PDS",
           "type": "application/json"
          },
          {
           "href": "./collection.json?bucket=internal&regex=%5EP%5B0-9%5D%7B3%7D%5B0-9%5D%7B4%7D%5BA-Z%5D%7B13%7DT%5B0-9%5D%7B12%7D00.PDS.cmr.xml%24",
           "rel": "item",
           "title": "P1570515ATMSSCIENCEAXT11344000000000.PDS.cmr.xml",
           "type": "metadata"
          },
          {
           "href": "./collection.json?bucket=internal&regex=%5EP%5B0-9%5D%7B3%7D%5B0-9%5D%7B4%7D%5BA-Z%5D%7B13%7DT%5B0-9%5D%7B12%7D01%5C.PDS%5C.xml%24",
           "rel": "item",
           "title": "P1570515ATMSSCIENCEAXT11344000000001.PDS.xml",
           "type": "metadata"
          },
          {
           "href": "./collection.json?bucket=internal&regex=%5EP%5B0-9%5D%7B3%7D%5B0-9%5D%7B4%7D%5BA-Z%5D%7B13%7DT%5B0-9%5D%7B12%7D00%5C.PDS%24",
           "rel": "item",
           "title": "P1570515ATMSSCIENCEAXT11344000000000.PDS",
           "type": "data"
          }
         ],
         "stac_version": "1.0.0",
         "summaries": {
          "granuleId": [
           "^P[0-9]{3}[0-9]{4}[A-Z]{13}T[0-9]{12}0$"
          ],
          "granuleIdExtraction": [
           "(P[0-9]{3}[0-9]{4}[A-Z]{13}T[0-9]{12}0).+"
          ],
          "process": [
           "modis"
          ],
          "totalGranules": [
           0
          ],
          "updated": [
           "2022-11-15T23:32:41.163000Z"
          ]
         },
         "type": "Collection"
        },
        {
         "description": "TODO",
         "extent": {
          "spatial": {
           "bbox": [
            [
             0,
             0,
             0,
             0
            ]
           ]
          },
          "temporal": {
           "interval": [
            [
             "1970-01-01T12:00:00Z",
             "2023-09-01T03:06:55Z"
            ]
           ]
          }
         },
         "id": "CUMULUS_DAPA_UNIT_TEST___1668583817",
         "license": "proprietary",
         "links": [
          {
           "href": "./collection.json?bucket=unknown_bucket&regex=.%2Fcollection.json",
           "rel": "root",
           "title": "P1570515ATMSSCIENCEAXT11344000000001.PDS",
           "type": "application/json"
          },
          {
           "href": "./collection.json?bucket=internal&regex=%5EP%5B0-9%5D%7B3%7D%5B0-9%5D%7B4%7D%5BA-Z%5D%7B13%7DT%5B0-9%5D%7B12%7D00.PDS.cmr.xml%24",
           "rel": "item",
           "title": "P1570515ATMSSCIENCEAXT11344000000000.PDS.cmr.xml",
           "type": "metadata"
          },
          {
           "href": "./collection.json?bucket=internal&regex=%5EP%5B0-9%5D%7B3%7D%5B0-9%5D%7B4%7D%5BA-Z%5D%7B13%7DT%5B0-9%5D%7B12%7D01%5C.PDS%5C.xml%24",
           "rel": "item",
           "title": "P1570515ATMSSCIENCEAXT11344000000001.PDS.xml",
           "type": "metadata"
          },
          {
           "href": "./collection.json?bucket=internal&regex=%5EP%5B0-9%5D%7B3%7D%5B0-9%5D%7B4%7D%5BA-Z%5D%7B13%7DT%5B0-9%5D%7B12%7D00%5C.PDS%24",
           "rel": "item",
           "title": "P1570515ATMSSCIENCEAXT11344000000000.PDS",
           "type": "data"
          }
         ],
         "stac_version": "1.0.0",
         "summaries": {
          "granuleId": [
           "^P[0-9]{3}[0-9]{4}[A-Z]{13}T[0-9]{12}0$"
          ],
          "granuleIdExtraction": [
           "(P[0-9]{3}[0-9]{4}[A-Z]{13}T[0-9]{12}0).+"
          ],
          "process": [
           "modis"
          ],
          "totalGranules": [
           0
          ],
          "updated": [
           "2022-11-15T23:30:24.882000Z"
          ]
         },
         "type": "Collection"
        },
        {
         "description": "TODO",
         "extent": {
          "spatial": {
           "bbox": [
            [
             0,
             0,
             0,
             0
            ]
           ]
          },
          "temporal": {
           "interval": [
            [
             "1970-01-01T12:00:00Z",
             "2023-09-01T03:06:55Z"
            ]
           ]
          }
         },
         "id": "CUMULUS_DAPA_UNIT_TEST___1668577451",
         "license": "proprietary",
         "links": [
          {
           "href": "./collection.json?bucket=unknown_bucket&regex=.%2Fcollection.json",
           "rel": "root",
           "title": "P1570515ATMSSCIENCEAXT11344000000001.PDS",
           "type": "application/json"
          },
          {
           "href": "./collection.json?bucket=internal&regex=%5EP%5B0-9%5D%7B3%7D%5B0-9%5D%7B4%7D%5BA-Z%5D%7B13%7DT%5B0-9%5D%7B12%7D00.PDS.cmr.xml%24",
           "rel": "item",
           "title": "P1570515ATMSSCIENCEAXT11344000000000.PDS.cmr.xml",
           "type": "metadata"
          },
          {
           "href": "./collection.json?bucket=internal&regex=%5EP%5B0-9%5D%7B3%7D%5B0-9%5D%7B4%7D%5BA-Z%5D%7B13%7DT%5B0-9%5D%7B12%7D01%5C.PDS%5C.xml%24",
           "rel": "item",
           "title": "P1570515ATMSSCIENCEAXT11344000000001.PDS.xml",
           "type": "metadata"
          },
          {
           "href": "./collection.json?bucket=internal&regex=%5EP%5B0-9%5D%7B3%7D%5B0-9%5D%7B4%7D%5BA-Z%5D%7B13%7DT%5B0-9%5D%7B12%7D00%5C.PDS%24",
           "rel": "item",
           "title": "P1570515ATMSSCIENCEAXT11344000000000.PDS",
           "type": "data"
          }
         ],
         "stac_version": "1.0.0",
         "summaries": {
          "granuleId": [
           "^P[0-9]{3}[0-9]{4}[A-Z]{13}T[0-9]{12}0$"
          ],
          "granuleIdExtraction": [
           "(P[0-9]{3}[0-9]{4}[A-Z]{13}T[0-9]{12}0).+"
          ],
          "process": [
           "modis"
          ],
          "totalGranules": [
           0
          ],
          "updated": [
           "2022-11-15T21:44:19.508000Z"
          ]
         },
         "type": "Collection"
        },
        {
         "description": "TODO",
         "extent": {
          "spatial": {
           "bbox": [
            [
             0,
             0,
             0,
             0
            ]
           ]
          },
          "temporal": {
           "interval": [
            [
             "1970-01-01T12:00:00Z",
             "2023-09-01T03:06:55Z"
            ]
           ]
          }
         },
         "id": "CUMULUS_DAPA_UNIT_TEST___16643333",
         "license": "proprietary",
         "links": [
          {
           "href": "./collection.json?bucket=unknown_bucket&regex=.%2Fcollection.json",
           "rel": "root",
           "title": "P1570515ATMSSCIENCEAXT11344000000001.PDS",
           "type": "application/json"
          },
          {
           "href": "./collection.json?bucket=internal&regex=%5EP%5B0-9%5D%7B3%7D%5B0-9%5D%7B4%7D%5BA-Z%5D%7B13%7DT%5B0-9%5D%7B12%7D00.PDS.cmr.xml%24",
           "rel": "item",
           "title": "P1570515ATMSSCIENCEAXT11344000000000.PDS.cmr.xml",
           "type": "metadata"
          },
          {
           "href": "./collection.json?bucket=internal&regex=%5EP%5B0-9%5D%7B3%7D%5B0-9%5D%7B4%7D%5BA-Z%5D%7B13%7DT%5B0-9%5D%7B12%7D01%5C.PDS%5C.xml%24",
           "rel": "item",
           "title": "P1570515ATMSSCIENCEAXT11344000000001.PDS.xml",
           "type": "metadata"
          },
          {
           "href": "./collection.json?bucket=internal&regex=%5EP%5B0-9%5D%7B3%7D%5B0-9%5D%7B4%7D%5BA-Z%5D%7B13%7DT%5B0-9%5D%7B12%7D00%5C.PDS%24",
           "rel": "item",
           "title": "P1570515ATMSSCIENCEAXT11344000000000.PDS",
           "type": "data"
          }
         ],
         "stac_version": "1.0.0",
         "summaries": {
          "granuleId": [
           "^P[0-9]{3}[0-9]{4}[A-Z]{13}T[0-9]{12}0$"
          ],
          "granuleIdExtraction": [
           "(P[0-9]{3}[0-9]{4}[A-Z]{13}T[0-9]{12}0).+"
          ],
          "process": [
           "modis"
          ],
          "totalGranules": [
           0
          ],
          "updated": [
           "2022-10-31T23:39:41.638000Z"
          ]
         },
         "type": "Collection"
        },
        {
         "description": "TODO",
         "extent": {
          "spatial": {
           "bbox": [
            [
             0,
             0,
             0,
             0
            ]
           ]
          },
          "temporal": {
           "interval": [
            [
             "1970-01-01T12:00:00Z",
             "2023-09-01T03:06:55Z"
            ]
           ]
          }
         },
         "id": "L0_SNPP_EphAtt___1",
         "license": "proprietary",
         "links": [
          {
           "href": "./collection.json?bucket=unknown_bucket&regex=%7BcmrMetadata.Granule.Collection.ShortName%7D___%7BcmrMetadata.Granule.Collection.VersionId%7D",
           "rel": "root",
           "title": "P1570011AAAAAAAAAAAAAT16014214620701.PDS",
           "type": "application/json"
          },
          {
           "href": "./collection.json?bucket=protected&regex=%5EP%5B0-9%5D%7B3%7D%5B0-9%5D%7B4%7D%5BA-Z%5D%7B13%7DT%5B0-9%5D%7B12%7D01%5C.PDS%24",
           "rel": "item",
           "title": "P1570011AAAAAAAAAAAAAT16014214620701.PDS",
           "type": "data"
          },
          {
           "href": "./collection.json?bucket=protected&regex=%5EP%5B0-9%5D%7B3%7D%5B0-9%5D%7B4%7D%5BA-Z%5D%7B13%7DT%5B0-9%5D%7B12%7D00%5C.PDS%24",
           "rel": "item",
           "title": "P1570011AAAAAAAAAAAAAT16014214620700.PDS",
           "type": "metadata"
          },
          {
           "href": "./collection.json?bucket=protected&regex=%5EP%5B0-9%5D%7B3%7D%5B0-9%5D%7B4%7D%5BA-Z%5D%7B13%7DT%5B0-9%5D%7B12%7D01%5C.PDS%5C.xml%24",
           "rel": "item",
           "title": "P1570011AAAAAAAAAAAAAT16014214620701.PDS.xml",
           "type": "metadata"
          },
          {
           "href": "./collection.json?bucket=private&regex=%5EP%5B0-9%5D%7B3%7D%5B0-9%5D%7B4%7D%5BA-Z%5D%7B13%7DT%5B0-9%5D%7B12%7D00.PDS.cmr.xml%24",
           "rel": "item",
           "title": "P1570011AAAAAAAAAAAAAT16014214620700.PDS.cmr.xml",
           "type": "metadata"
          }
         ],
         "stac_version": "1.0.0",
         "summaries": {
          "granuleId": [
           "^P[0-9]{3}[0-9]{4}[A-Z]{13}T[0-9]{12}0$"
          ],
          "granuleIdExtraction": [
           "(P[0-9]{3}[0-9]{4}[A-Z]{13}T[0-9]{12}0).+"
          ],
          "process": [
           "snpp.level0"
          ],
          "totalGranules": [
           12
          ],
          "updated": [
           "2022-10-10T21:15:44.296000Z"
          ]
         },
         "type": "Collection"
        },
        {
         "description": "TODO",
         "extent": {
          "spatial": {
           "bbox": [
            [
             0,
             0,
             0,
             0
            ]
           ]
          },
          "temporal": {
           "interval": [
            [
             "1970-01-01T12:00:00Z",
             "2023-09-01T03:06:55Z"
            ]
           ]
          }
         },
         "id": "L0_SNPP_ATMS_SCIENCE___1",
         "license": "proprietary",
         "links": [
          {
           "href": "./collection.json?bucket=unknown_bucket&regex=%7BcmrMetadata.Granule.Collection.ShortName%7D___%7BcmrMetadata.Granule.Collection.VersionId%7D",
           "rel": "root",
           "title": "P1570515ATMSSCIENCEAXT11344000000001.PDS",
           "type": "application/json"
          },
          {
           "href": "./collection.json?bucket=protected&regex=%5EP%5B0-9%5D%7B3%7D%5B0-9%5D%7B4%7D%5BA-Z%5D%7B13%7DT%5B0-9%5D%7B12%7D00%5C.PDS%24",
           "rel": "item",
           "title": "P1570515ATMSSCIENCEAXT11344000000000.PDS",
           "type": "metadata"
          },
          {
           "href": "./collection.json?bucket=protected&regex=%5EP%5B0-9%5D%7B3%7D%5B0-9%5D%7B4%7D%5BA-Z%5D%7B13%7DT%5B0-9%5D%7B12%7D01%5C.PDS%24",
           "rel": "item",
           "title": "P1570515ATMSSCIENCEAXT11344000000001.PDS",
           "type": "data"
          },
          {
           "href": "./collection.json?bucket=protected&regex=%5EP%5B0-9%5D%7B3%7D%5B0-9%5D%7B4%7D%5BA-Z%5D%7B13%7DT%5B0-9%5D%7B12%7D01%5C.PDS%5C.xml%24",
           "rel": "item",
           "title": "P1570515ATMSSCIENCEAXT11344000000001.PDS.xml",
           "type": "metadata"
          },
          {
           "href": "./collection.json?bucket=private&regex=%5EP%5B0-9%5D%7B3%7D%5B0-9%5D%7B4%7D%5BA-Z%5D%7B13%7DT%5B0-9%5D%7B12%7D00.PDS.cmr.xml%24",
           "rel": "item",
           "title": "P1570515ATMSSCIENCEAXT11344000000000.PDS.cmr.xml",
           "type": "metadata"
          }
         ],
         "stac_version": "1.0.0",
         "summaries": {
          "granuleId": [
           "^P[0-9]{3}[0-9]{4}[A-Z]{13}T[0-9]{12}0$"
          ],
          "granuleIdExtraction": [
           "(P[0-9]{3}[0-9]{4}[A-Z]{13}T[0-9]{12}0).+"
          ],
          "process": [
           "snpp.level0"
          ],
          "totalGranules": [
           12
          ],
          "updated": [
           "2022-10-10T20:34:13.150000Z"
          ]
         },
         "type": "Collection"
        },
        {
         "description": "TODO",
         "extent": {
          "spatial": {
           "bbox": [
            [
             0,
             0,
             0,
             0
            ]
           ]
          },
          "temporal": {
           "interval": [
            [
             "1970-01-01T12:00:00Z",
             "2023-09-01T03:06:55Z"
            ]
           ]
          }
         },
         "id": "NEW_COLLECTION_EXAMPLE_L1B___5",
         "license": "proprietary",
         "links": [
          {
           "href": "./collection.json?bucket=unknown_bucket&regex=%7BcmrMetadata.Granule.Collection.ShortName%7D___%7BcmrMetadata.Granule.Collection.VersionId%7D",
           "rel": "root",
           "title": "test_file01.nc",
           "type": "application/json"
          },
          {
           "href": "./collection.json?bucket=protected&regex=%5Etest_file.%2A%5C.nc%24",
           "rel": "item",
           "title": "test_file01.nc",
           "type": "data"
          },
          {
           "href": "./collection.json?bucket=protected&regex=%5Etest_file.%2A%5C.nc%5C.cas%24",
           "rel": "item",
           "title": "test_file01.nc.cas",
           "type": "metadata"
          },
          {
           "href": "./collection.json?bucket=private&regex=%5Etest_file.%2A%5C.cmr%5C.xml%24",
           "rel": "item",
           "title": "test_file01.cmr.xml",
           "type": "metadata"
          }
         ],
         "stac_version": "1.0.0",
         "summaries": {
          "granuleId": [
           "^test_file.*$"
          ],
          "granuleIdExtraction": [
           "(^test_file.*)(\\.nc|\\.nc\\.cas|\\.cmr\\.xml)"
          ],
          "process": [
           "snpp.level1"
          ],
          "totalGranules": [
           0
          ],
          "updated": [
           "2022-10-04T18:43:09.927000Z"
          ]
         },
         "type": "Collection"
        },
        {
         "description": "TODO",
         "extent": {
          "spatial": {
           "bbox": [
            [
             0,
             0,
             0,
             0
            ]
           ]
          },
          "temporal": {
           "interval": [
            [
             "1970-01-01T12:00:00Z",
             "2023-09-01T03:06:55Z"
            ]
           ]
          }
         },
         "id": "NEW_COLLECTION_EXAMPLE_L1B___4",
         "license": "proprietary",
         "links": [
          {
           "href": "./collection.json?bucket=unknown_bucket&regex=%7BcmrMetadata.Granule.Collection.ShortName%7D___%7BcmrMetadata.Granule.Collection.VersionId%7D",
           "rel": "root",
           "title": "test_file01.nc",
           "type": "application/json"
          },
          {
           "href": "./collection.json?bucket=protected&regex=%5Etest_file.%2A%5C.nc%24",
           "rel": "item",
           "title": "test_file01.nc",
           "type": "data"
          },
          {
           "href": "./collection.json?bucket=protected&regex=%5Etest_file.%2A%5C.nc%5C.cas%24",
           "rel": "item",
           "title": "test_file01.nc.cas",
           "type": "metadata"
          },
          {
           "href": "./collection.json?bucket=private&regex=%5Etest_file.%2A%5C.cmr%5C.xml%24",
           "rel": "item",
           "title": "test_file01.cmr.xml",
           "type": "metadata"
          }
         ],
         "stac_version": "1.0.0",
         "summaries": {
          "granuleId": [
           "^test_file.*$"
          ],
          "granuleIdExtraction": [
           "(^test_file.*)(\\.nc|\\.nc\\.cas|\\.cmr\\.xml)"
          ],
          "process": [
           "snpp.level1"
          ],
          "totalGranules": [
           0
          ],
          "updated": [
           "2022-10-04T18:04:25.802000Z"
          ]
         },
         "type": "Collection"
        },
        {
         "description": "TODO",
         "extent": {
          "spatial": {
           "bbox": [
            [
             0,
             0,
             0,
             0
            ]
           ]
          },
          "temporal": {
           "interval": [
            [
             "1970-01-01T12:00:00Z",
             "2023-09-01T03:06:55Z"
            ]
           ]
          }
         },
         "id": "NEW_COLLECTION_EXAMPLE_L1B___3",
         "license": "proprietary",
         "links": [
          {
           "href": "./collection.json?bucket=unknown_bucket&regex=%7BcmrMetadata.Granule.Collection.ShortName%7D___%7BcmrMetadata.Granule.Collection.VersionId%7D",
           "rel": "root",
           "title": "test_file01.nc",
           "type": "application/json"
          },
          {
           "href": "./collection.json?bucket=protected&regex=%5Etest_file.%2A%5C.nc%24",
           "rel": "item",
           "title": "test_file01.nc",
           "type": "data"
          },
          {
           "href": "./collection.json?bucket=protected&regex=%5Etest_file.%2A%5C.nc%5C.cas%24",
           "rel": "item",
           "title": "test_file01.nc.cas",
           "type": "metadata"
          },
          {
           "href": "./collection.json?bucket=private&regex=%5Etest_file.%2A%5C.cmr%5C.xml%24",
           "rel": "item",
           "title": "test_file01.cmr.xml",
           "type": "metadata"
          }
         ],
         "stac_version": "1.0.0",
         "summaries": {
          "granuleId": [
           "^test_file.*$"
          ],
          "granuleIdExtraction": [
           "(^test_file.*)(\\.nc|\\.nc\\.cas|\\.cmr\\.xml)"
          ],
          "process": [
           "snpp.level1"
          ],
          "totalGranules": [
           0
          ],
          "updated": [
           "2022-10-04T17:38:39.968000Z"
          ]
         },
         "type": "Collection"
        },
        {
         "description": "TODO",
         "extent": {
          "spatial": {
           "bbox": [
            [
             0,
             0,
             0,
             0
            ]
           ]
          },
          "temporal": {
           "interval": [
            [
             "1970-01-01T12:00:00Z",
             "2023-09-01T03:06:55Z"
            ]
           ]
          }
         },
         "id": "NEW_COLLECTION_EXAMPLE_L1B___2",
         "license": "proprietary",
         "links": [
          {
           "href": "./collection.json?bucket=unknown_bucket&regex=%7BcmrMetadata.Granule.Collection.ShortName%7D___%7BcmrMetadata.Granule.Collection.VersionId%7D",
           "rel": "root",
           "title": "test_file01.nc",
           "type": "application/json"
          },
          {
           "href": "./collection.json?bucket=protected&regex=%5Etest_file.%2A%5C.nc%24",
           "rel": "item",
           "title": "test_file01.nc",
           "type": "data"
          },
          {
           "href": "./collection.json?bucket=protected&regex=%5Etest_file.%2A%5C.nc%5C.cas%24",
           "rel": "item",
           "title": "test_file01.nc.cas",
           "type": "metadata"
          },
          {
           "href": "./collection.json?bucket=private&regex=%5Etest_file.%2A%5C.cmr%5C.xml%24",
           "rel": "item",
           "title": "test_file01.cmr.xml",
           "type": "metadata"
          }
         ],
         "stac_version": "1.0.0",
         "summaries": {
          "granuleId": [
           "^test_file.*$"
          ],
          "granuleIdExtraction": [
           "(^test_file.*)(\\.nc|\\.nc\\.cas|\\.cmr\\.xml)"
          ],
          "process": [
           "snpp.level1"
          ],
          "totalGranules": [
           0
          ],
          "updated": [
           "2022-10-04T17:34:39.432000Z"
          ]
         },
         "type": "Collection"
        },
        {
         "description": "TODO",
         "extent": {
          "spatial": {
           "bbox": [
            [
             0,
             0,
             0,
             0
            ]
           ]
          },
          "temporal": {
           "interval": [
            [
             "1970-01-01T12:00:00Z",
             "2023-09-01T03:06:55Z"
            ]
           ]
          }
         },
         "id": "NEW_COLLECTION_EXAMPLE_L1B___1",
         "license": "proprietary",
         "links": [
          {
           "href": "./collection.json?bucket=unknown_bucket&regex=%7BcmrMetadata.Granule.Collection.ShortName%7D___%7BcmrMetadata.Granule.Collection.VersionId%7D",
           "rel": "root",
           "title": "test_file01.nc",
           "type": "application/json"
          },
          {
           "href": "./collection.json?bucket=protected&regex=%5Etest_file.%2A%5C.nc%24",
           "rel": "item",
           "title": "test_file01.nc",
           "type": "data"
          },
          {
           "href": "./collection.json?bucket=protected&regex=%5Etest_file.%2A%5C.nc%5C.cas%24",
           "rel": "item",
           "title": "test_file01.nc.cas",
           "type": "metadata"
          },
          {
           "href": "./collection.json?bucket=private&regex=%5Etest_file.%2A%5C.cmr%5C.xml%24",
           "rel": "item",
           "title": "test_file01.cmr.xml",
           "type": "metadata"
          }
         ],
         "stac_version": "1.0.0",
         "summaries": {
          "granuleId": [
           "^test_file.*$"
          ],
          "granuleIdExtraction": [
           "(^test_file.*)(\\.nc|\\.nc\\.cas|\\.cmr\\.xml)"
          ],
          "process": [
           "snpp.level1"
          ],
          "totalGranules": [
           0
          ],
          "updated": [
           "2022-10-04T17:17:58.669000Z"
          ]
         },
         "type": "Collection"
        },
        {
         "description": "TODO",
         "extent": {
          "spatial": {
           "bbox": [
            [
             0,
             0,
             0,
             0
            ]
           ]
          },
          "temporal": {
           "interval": [
            [
             "1970-01-01T12:00:00Z",
             "2023-09-01T03:06:55Z"
            ]
           ]
          }
         },
         "id": "CUMULUS_DAPA_UNIT_TEST___1664333802",
         "license": "proprietary",
         "links": [
          {
           "href": "./collection.json?bucket=unknown_bucket&regex=.%2Fcollection.json",
           "rel": "root",
           "title": "P1570515ATMSSCIENCEAXT11344000000001.PDS",
           "type": "application/json"
          },
          {
           "href": "./collection.json?bucket=internal&regex=%5EP%5B0-9%5D%7B3%7D%5B0-9%5D%7B4%7D%5BA-Z%5D%7B13%7DT%5B0-9%5D%7B12%7D00.PDS.cmr.xml%24",
           "rel": "item",
           "title": "P1570515ATMSSCIENCEAXT11344000000000.PDS.cmr.xml",
           "type": "metadata"
          },
          {
           "href": "./collection.json?bucket=internal&regex=%5EP%5B0-9%5D%7B3%7D%5B0-9%5D%7B4%7D%5BA-Z%5D%7B13%7DT%5B0-9%5D%7B12%7D01%5C.PDS%5C.xml%24",
           "rel": "item",
           "title": "P1570515ATMSSCIENCEAXT11344000000001.PDS.xml",
           "type": "metadata"
          },
          {
           "href": "./collection.json?bucket=internal&regex=%5EP%5B0-9%5D%7B3%7D%5B0-9%5D%7B4%7D%5BA-Z%5D%7B13%7DT%5B0-9%5D%7B12%7D00%5C.PDS%24",
           "rel": "item",
           "title": "P1570515ATMSSCIENCEAXT11344000000000.PDS",
           "type": "data"
          }
         ],
         "stac_version": "1.0.0",
         "summaries": {
          "granuleId": [
           "^P[0-9]{3}[0-9]{4}[A-Z]{13}T[0-9]{12}0$"
          ],
          "granuleIdExtraction": [
           "(P[0-9]{3}[0-9]{4}[A-Z]{13}T[0-9]{12}0).+"
          ],
          "process": [
           "modis"
          ],
          "totalGranules": [
           0
          ],
          "updated": [
           "2022-09-27T21:01:45.755000Z"
          ]
         },
         "type": "Collection"
        },
        {
         "description": "TODO",
         "extent": {
          "spatial": {
           "bbox": [
            [
             0,
             0,
             0,
             0
            ]
           ]
          },
          "temporal": {
           "interval": [
            [
             "1970-01-01T12:00:00Z",
             "2023-09-01T03:06:55Z"
            ]
           ]
          }
         },
         "id": "SNDR_SNPP_ATMS_L1B_OUTPUT___1",
         "license": "proprietary",
         "links": [
          {
           "href": "./collection.json?bucket=unknown_bucket&regex=%7BcmrMetadata.Granule.Collection.ShortName%7D___%7BcmrMetadata.Granule.Collection.VersionId%7D",
           "rel": "root",
           "title": "test_file01.nc",
           "type": "application/json"
          },
          {
           "href": "./collection.json?bucket=protected&regex=%5Etest_file.%2A%5C.nc%24",
           "rel": "item",
           "title": "test_file01.nc",
           "type": "data"
          },
          {
           "href": "./collection.json?bucket=protected&regex=%5Etest_file.%2A%5C.nc%5C.cas%24",
           "rel": "item",
           "title": "test_file01.nc.cas",
           "type": "metadata"
          },
          {
           "href": "./collection.json?bucket=private&regex=%5Etest_file.%2A%5C.cmr%5C.xml%24",
           "rel": "item",
           "title": "test_file01.cmr.xml",
           "type": "metadata"
          }
         ],
         "stac_version": "1.0.0",
         "summaries": {
          "granuleId": [
           "^test_file.*$"
          ],
          "granuleIdExtraction": [
           "(^test_file.*)(\\.nc|\\.nc\\.cas|\\.cmr\\.xml)"
          ],
          "process": [
           "snpp.level1"
          ],
          "totalGranules": [
           18
          ],
          "updated": [
           "2022-08-09T07:25:23.325000Z"
          ]
         },
         "type": "Collection"
        },
        {
         "description": "TODO",
         "extent": {
          "spatial": {
           "bbox": [
            [
             0,
             0,
             0,
             0
            ]
           ]
          },
          "temporal": {
           "interval": [
            [
             "1970-01-01T12:00:00Z",
             "2023-09-01T03:06:55Z"
            ]
           ]
          }
         },
         "id": "SNDR_SNPP_ATMS_L1A_OUTPUT___1",
         "license": "proprietary",
         "links": [
          {
           "href": "./collection.json?bucket=unknown_bucket&regex=%7BcmrMetadata.Granule.Collection.ShortName%7D___%7BcmrMetadata.Granule.Collection.VersionId%7D",
           "rel": "root",
           "title": "SNDR.SNPP.ATMS.L1A.nominal2.01.nc",
           "type": "application/json"
          },
          {
           "href": "./collection.json?bucket=protected&regex=%5ESNDR.SNPP.ATMS.L1A.%2A%5C.nc%24",
           "rel": "item",
           "title": "SNDR.SNPP.ATMS.L1A.nominal2.01.nc",
           "type": "data"
          },
          {
           "href": "./collection.json?bucket=protected&regex=%5ESNDR.SNPP.ATMS.L1A.%2A%5C.nc%5C.cas%24",
           "rel": "item",
           "title": "SNDR.SNPP.ATMS.L1A.nominal2.01.nc.cas",
           "type": "metadata"
          },
          {
           "href": "./collection.json?bucket=private&regex=%5ESNDR.SNPP.ATMS.L1A.%2A%5C.cmr%5C.xml%24",
           "rel": "item",
           "title": "SNDR.SNPP.ATMS.L1A.nominal2.01.cmr.xml",
           "type": "metadata"
          }
         ],
         "stac_version": "1.0.0",
         "summaries": {
          "granuleId": [
           "^SNDR.SNPP.ATMS.L1A.*$"
          ],
          "granuleIdExtraction": [
           "(^SNDR.SNPP.ATMS.L1A.*)(\\.nc|\\.nc\\.cas|\\.cmr\\.xml)"
          ],
          "process": [
           "snpp.level1"
          ],
          "totalGranules": [
           20
          ],
          "updated": [
           "2022-08-09T07:25:09.418000Z"
          ]
         },
         "type": "Collection"
        },
        {
         "description": "TODO",
         "extent": {
          "spatial": {
           "bbox": [
            [
             0,
             0,
             0,
             0
            ]
           ]
          },
          "temporal": {
           "interval": [
            [
             "1970-01-01T12:00:00Z",
             "2023-09-01T03:06:55Z"
            ]
           ]
          }
         },
         "id": "SNDR_SNPP_ATMS_L1A___1",
         "license": "proprietary",
         "links": [
          {
           "href": "./collection.json?bucket=unknown_bucket&regex=%7BcmrMetadata.Granule.Collection.ShortName%7D___%7BcmrMetadata.Granule.Collection.VersionId%7D",
           "rel": "root",
           "title": "SNDR.SNPP.ATMS.L1A.nominal2.01.nc",
           "type": "application/json"
          },
          {
           "href": "./collection.json?bucket=protected&regex=%5ESNDR.SNPP.ATMS.L1A.%2A%5C.nc%24",
           "rel": "item",
           "title": "SNDR.SNPP.ATMS.L1A.nominal2.01.nc",
           "type": "data"
          },
          {
           "href": "./collection.json?bucket=protected&regex=%5ESNDR.SNPP.ATMS.L1A.%2A%5C.nc%5C.cas%24",
           "rel": "item",
           "title": "SNDR.SNPP.ATMS.L1A.nominal2.01.nc.cas",
           "type": "metadata"
          },
          {
           "href": "./collection.json?bucket=protected&regex=%5ESNDR.SNPP.ATMS.L1A.%2A%5C.cmr%5C.xml%24",
           "rel": "item",
           "title": "SNDR.SNPP.ATMS.L1A.nominal2.01.cmr.xml",
           "type": "metadata"
          }
         ],
         "stac_version": "1.0.0",
         "summaries": {
          "granuleId": [
           "^SNDR.SNPP.ATMS.L1A.*$"
          ],
          "granuleIdExtraction": [
           "(^SNDR.SNPP.ATMS.L1A.*)(\\.nc|\\.nc\\.cas|\\.cmr\\.xml)"
          ],
          "process": [
           "snpp.level1"
          ],
          "totalGranules": [
           22
          ],
          "updated": [
           "2022-06-28T19:39:30.084000Z"
          ]
         },
         "type": "Collection"
        }
       ],
       "links": [
        {
         "href": "https://1gp9st60gd.execute-api.us-west-2.amazonaws.com/am-uds-dapa/collections?limit=50&offset=0",
         "rel": "self"
        },
        {
         "href": "https://1gp9st60gd.execute-api.us-west-2.amazonaws.com/",
         "rel": "root"
        },
        {
         "href": "https://1gp9st60gd.execute-api.us-west-2.amazonaws.com/am-uds-dapa/collections?limit=50&offset=50",
         "rel": "next"
        },
        {
         "href": "https://1gp9st60gd.execute-api.us-west-2.amazonaws.com/am-uds-dapa/collections?limit=50&offset=0",
         "rel": "prev"
        }
       ],
       "numberMatched": 50,
       "numberReturned": 50,
       "stac_version": "1.0.0",
       "type": "FeatureCollection"
      },
      "text/plain": [
       "<IPython.core.display.JSON object>"
      ]
     },
     "execution_count": 8,
     "metadata": {
      "application/json": {
       "expanded": false,
       "root": "root"
      }
     },
     "output_type": "execute_result"
    }
   ],
   "source": [
    "# The DAPA-request endpoint to retrieve collections is the base URL plus the following:\n",
    "url = env['url'] + \"am-uds-dapa/collections\"\n",
    "\n",
    "# tweak the paging with this parameter\n",
    "params = []\n",
    "params.append((\"limit\", 50))\n",
    "\n",
    "# Make a GET request at the URL you have constructed, using your access token\n",
    "response = requests.get(url, headers={\"Authorization\": \"Bearer \" + token}, params=params)\n",
    "\n",
    "print (\"Data Collections at \" + url)\n",
    "# To see raw JSON of the API response, uncomment this line:\n",
    "#print(json.dumps(response.json()))\n",
    "\n",
    "features = response.json()['features']\n",
    "\n",
    "for data_set in features:\n",
    "   print(data_set['id'])\n",
    "\n",
    "print(\"\\nFull JSON response object:\")\n",
    "JSON(response.json())"
   ]
  },
  {
   "cell_type": "markdown",
   "id": "4c4f410c-1dd3-4723-b3f8-11e951b38cdf",
   "metadata": {},
   "source": [
    "## Given a collection (above), List the files within that collection\n",
    "\n",
    "Executing this cell will retrieve all the files in a Collection defined by the data_set variable. Then it will print out the name and href location of each (up to a limit defined in this code block).\n",
    "\n",
    "To see a different data Collection, change the data_set variable to one of the other Collections you found in the step above. If you would like to limit your query to something other than 100 files, change the value in the params.append() call."
   ]
  },
  {
   "cell_type": "code",
   "execution_count": 17,
   "id": "1bb34cc9-eaae-4efd-82c0-6f33043b6207",
   "metadata": {},
   "outputs": [
    {
     "name": "stdout",
     "output_type": "stream",
     "text": [
      "Endpoint: https://1gp9st60gd.execute-api.us-west-2.amazonaws.com/dev/am-uds-dapa/collections/urn:nasa:unity:uds_local_test:DEV1:CHRP_16_DAY_REBIN___1/items\n",
      "Total number of files: 44240\n",
      "5 results per page\n",
      "File IDs, titles, and hrefs in Collection urn:nasa:unity:uds_local_test:DEV1:CHRP_16_DAY_REBIN___1\n",
      "\n",
      "ID:\n",
      "urn:nasa:unity:uds_local_test:DEV1:CHRP_16_DAY_REBIN___1:SNDR.SS1330.CHIRP.20230101T0000.m06.g001.L1_J1.std.v02_48.G.200101070318_REBIN\n",
      "File:\n",
      "s3://uds-dev-cumulus-sps/urn:nasa:unity:uds_local_test:DEV1:CHRP_16_DAY_REBIN___1:SNDR.SS1330.CHIRP.20230101T0000.m06.g001.L1_J1.std.v02_48.G.200101070318_REBIN/SNDR.SS1330.CHIRP.20230101T0000.m06.g001.L1_J1.std.v02_48.G.200101070318_REBIN.nc\n",
      "Datetime:\n",
      "2023-08-29T16:57:37.239000Z\n",
      "\n",
      "ID:\n",
      "urn:nasa:unity:uds_local_test:DEV1:CHRP_16_DAY_REBIN___1:SNDR.SS1330.CHIRP.20230101T0006.m06.g002.L1_J1.std.v02_48.G.200101070318_REBIN\n",
      "File:\n",
      "s3://uds-dev-cumulus-sps/urn:nasa:unity:uds_local_test:DEV1:CHRP_16_DAY_REBIN___1:SNDR.SS1330.CHIRP.20230101T0006.m06.g002.L1_J1.std.v02_48.G.200101070318_REBIN/SNDR.SS1330.CHIRP.20230101T0006.m06.g002.L1_J1.std.v02_48.G.200101070318_REBIN.nc\n",
      "Datetime:\n",
      "2023-08-29T16:57:35.170000Z\n",
      "\n",
      "ID:\n",
      "urn:nasa:unity:uds_local_test:DEV1:CHRP_16_DAY_REBIN___1:SNDR_tile_2016_s320_S70p75_W020p00_L1_AQ_v1_D_2308281693264007.nc\n",
      "File:\n",
      "s3://uds-dev-cumulus-protected/urn:nasa:unity:uds_local_test:DEV1:CHRP_16_DAY_REBIN___1/urn:nasa:unity:uds_local_test:DEV1:CHRP_16_DAY_REBIN___1:SNDR_tile_2016_s320_S70p75_W020p00_L1_AQ_v1_D_2308281693264007.nc/SNDR_tile_2016_s320_S70p75_W020p00_L1_AQ_v1_D_2308281693264007.nc\n",
      "Datetime:\n",
      "2023-08-29T00:31:11.999000Z\n",
      "\n",
      "ID:\n",
      "urn:nasa:unity:uds_local_test:DEV1:CHRP_16_DAY_REBIN___1:SNDR_tile_2016_s320_S46p75_E035p00_L1_AQ_v1_D_2308281693264028.nc\n",
      "File:\n",
      "s3://uds-dev-cumulus-protected/urn:nasa:unity:uds_local_test:DEV1:CHRP_16_DAY_REBIN___1/urn:nasa:unity:uds_local_test:DEV1:CHRP_16_DAY_REBIN___1:SNDR_tile_2016_s320_S46p75_E035p00_L1_AQ_v1_D_2308281693264028.nc/SNDR_tile_2016_s320_S46p75_E035p00_L1_AQ_v1_D_2308281693264028.nc\n",
      "Datetime:\n",
      "2023-08-29T00:31:10.118000Z\n",
      "\n",
      "ID:\n",
      "urn:nasa:unity:uds_local_test:DEV1:CHRP_16_DAY_REBIN___1:SNDR_tile_2016_s320_S46p75_E130p00_L1_AQ_v1_D_2308281693264028.nc\n",
      "File:\n",
      "s3://uds-dev-cumulus-protected/urn:nasa:unity:uds_local_test:DEV1:CHRP_16_DAY_REBIN___1/urn:nasa:unity:uds_local_test:DEV1:CHRP_16_DAY_REBIN___1:SNDR_tile_2016_s320_S46p75_E130p00_L1_AQ_v1_D_2308281693264028.nc/SNDR_tile_2016_s320_S46p75_E130p00_L1_AQ_v1_D_2308281693264028.nc\n",
      "Datetime:\n",
      "2023-08-29T00:29:16.311000Z\n",
      "\n",
      "Full JSON response object:\n"
     ]
    },
    {
     "data": {
      "application/json": {
       "features": [
        {
         "assets": {
          "data": {
           "description": "SNDR.SS1330.CHIRP.20230101T0000.m06.g001.L1_J1.std.v02_48.G.200101070318_REBIN.nc",
           "href": "s3://uds-dev-cumulus-sps/urn:nasa:unity:uds_local_test:DEV1:CHRP_16_DAY_REBIN___1:SNDR.SS1330.CHIRP.20230101T0000.m06.g001.L1_J1.std.v02_48.G.200101070318_REBIN/SNDR.SS1330.CHIRP.20230101T0000.m06.g001.L1_J1.std.v02_48.G.200101070318_REBIN.nc",
           "title": "SNDR.SS1330.CHIRP.20230101T0000.m06.g001.L1_J1.std.v02_48.G.200101070318_REBIN.nc"
          },
          "metadata__cmr": {
           "description": "SNDR.SS1330.CHIRP.20230101T0000.m06.g001.L1_J1.std.v02_48.G.200101070318_REBIN.cmr.xml",
           "href": "s3://uds-dev-cumulus-sps/urn:nasa:unity:uds_local_test:DEV1:CHRP_16_DAY_REBIN___1:SNDR.SS1330.CHIRP.20230101T0000.m06.g001.L1_J1.std.v02_48.G.200101070318_REBIN/SNDR.SS1330.CHIRP.20230101T0000.m06.g001.L1_J1.std.v02_48.G.200101070318_REBIN.cmr.xml",
           "title": "SNDR.SS1330.CHIRP.20230101T0000.m06.g001.L1_J1.std.v02_48.G.200101070318_REBIN.cmr.xml"
          },
          "metadata__stac": {
           "description": "SNDR.SS1330.CHIRP.20230101T0000.m06.g001.L1_J1.std.v02_48.G.200101070318_REBIN.nc.stac.json",
           "href": "s3://uds-dev-cumulus-sps/urn:nasa:unity:uds_local_test:DEV1:CHRP_16_DAY_REBIN___1:SNDR.SS1330.CHIRP.20230101T0000.m06.g001.L1_J1.std.v02_48.G.200101070318_REBIN/SNDR.SS1330.CHIRP.20230101T0000.m06.g001.L1_J1.std.v02_48.G.200101070318_REBIN.nc.stac.json",
           "title": "SNDR.SS1330.CHIRP.20230101T0000.m06.g001.L1_J1.std.v02_48.G.200101070318_REBIN.nc.stac.json"
          }
         },
         "bbox": [
          0,
          0,
          0,
          0
         ],
         "collection": "urn:nasa:unity:uds_local_test:DEV1:CHRP_16_DAY_REBIN___1",
         "geometry": {
          "coordinates": [
           0,
           0
          ],
          "type": "Point"
         },
         "id": "urn:nasa:unity:uds_local_test:DEV1:CHRP_16_DAY_REBIN___1:SNDR.SS1330.CHIRP.20230101T0000.m06.g001.L1_J1.std.v02_48.G.200101070318_REBIN",
         "links": [
          {
           "href": ".",
           "rel": "collection"
          }
         ],
         "properties": {
          "created": "2020-01-01T07:03:18Z",
          "datetime": "2023-08-29T16:57:37.239000Z",
          "end_datetime": "2023-01-01T00:06:00Z",
          "start_datetime": "2023-01-01T00:00:00Z",
          "updated": "2023-08-29T16:58:17.462000Z"
         },
         "stac_extensions": [],
         "stac_version": "1.0.0",
         "type": "Feature"
        },
        {
         "assets": {
          "data": {
           "description": "SNDR.SS1330.CHIRP.20230101T0006.m06.g002.L1_J1.std.v02_48.G.200101070318_REBIN.nc",
           "href": "s3://uds-dev-cumulus-sps/urn:nasa:unity:uds_local_test:DEV1:CHRP_16_DAY_REBIN___1:SNDR.SS1330.CHIRP.20230101T0006.m06.g002.L1_J1.std.v02_48.G.200101070318_REBIN/SNDR.SS1330.CHIRP.20230101T0006.m06.g002.L1_J1.std.v02_48.G.200101070318_REBIN.nc",
           "title": "SNDR.SS1330.CHIRP.20230101T0006.m06.g002.L1_J1.std.v02_48.G.200101070318_REBIN.nc"
          },
          "metadata__cmr": {
           "description": "SNDR.SS1330.CHIRP.20230101T0006.m06.g002.L1_J1.std.v02_48.G.200101070318_REBIN.cmr.xml",
           "href": "s3://uds-dev-cumulus-sps/urn:nasa:unity:uds_local_test:DEV1:CHRP_16_DAY_REBIN___1:SNDR.SS1330.CHIRP.20230101T0006.m06.g002.L1_J1.std.v02_48.G.200101070318_REBIN/SNDR.SS1330.CHIRP.20230101T0006.m06.g002.L1_J1.std.v02_48.G.200101070318_REBIN.cmr.xml",
           "title": "SNDR.SS1330.CHIRP.20230101T0006.m06.g002.L1_J1.std.v02_48.G.200101070318_REBIN.cmr.xml"
          },
          "metadata__stac": {
           "description": "SNDR.SS1330.CHIRP.20230101T0006.m06.g002.L1_J1.std.v02_48.G.200101070318_REBIN.nc.stac.json",
           "href": "s3://uds-dev-cumulus-sps/urn:nasa:unity:uds_local_test:DEV1:CHRP_16_DAY_REBIN___1:SNDR.SS1330.CHIRP.20230101T0006.m06.g002.L1_J1.std.v02_48.G.200101070318_REBIN/SNDR.SS1330.CHIRP.20230101T0006.m06.g002.L1_J1.std.v02_48.G.200101070318_REBIN.nc.stac.json",
           "title": "SNDR.SS1330.CHIRP.20230101T0006.m06.g002.L1_J1.std.v02_48.G.200101070318_REBIN.nc.stac.json"
          }
         },
         "bbox": [
          0,
          0,
          0,
          0
         ],
         "collection": "urn:nasa:unity:uds_local_test:DEV1:CHRP_16_DAY_REBIN___1",
         "geometry": {
          "coordinates": [
           0,
           0
          ],
          "type": "Point"
         },
         "id": "urn:nasa:unity:uds_local_test:DEV1:CHRP_16_DAY_REBIN___1:SNDR.SS1330.CHIRP.20230101T0006.m06.g002.L1_J1.std.v02_48.G.200101070318_REBIN",
         "links": [
          {
           "href": ".",
           "rel": "collection"
          }
         ],
         "properties": {
          "created": "2020-01-01T07:03:18Z",
          "datetime": "2023-08-29T16:57:35.170000Z",
          "end_datetime": "2023-01-01T00:12:00Z",
          "start_datetime": "2023-01-01T00:06:00Z",
          "updated": "2023-08-29T16:58:16.896000Z"
         },
         "stac_extensions": [],
         "stac_version": "1.0.0",
         "type": "Feature"
        },
        {
         "assets": {
          "data": {
           "description": "SNDR_tile_2016_s320_S70p75_W020p00_L1_AQ_v1_D_2308281693264007.nc",
           "href": "s3://uds-dev-cumulus-protected/urn:nasa:unity:uds_local_test:DEV1:CHRP_16_DAY_REBIN___1/urn:nasa:unity:uds_local_test:DEV1:CHRP_16_DAY_REBIN___1:SNDR_tile_2016_s320_S70p75_W020p00_L1_AQ_v1_D_2308281693264007.nc/SNDR_tile_2016_s320_S70p75_W020p00_L1_AQ_v1_D_2308281693264007.nc",
           "title": "SNDR_tile_2016_s320_S70p75_W020p00_L1_AQ_v1_D_2308281693264007.nc"
          },
          "metadata__cmr": {
           "description": "SNDR_tile_2016_s320_S70p75_W020p00_L1_AQ_v1_D_2308281693264007.nc.cmr.xml",
           "href": "s3://uds-dev-cumulus-protected/urn:nasa:unity:uds_local_test:DEV1:CHRP_16_DAY_REBIN___1/urn:nasa:unity:uds_local_test:DEV1:CHRP_16_DAY_REBIN___1:SNDR_tile_2016_s320_S70p75_W020p00_L1_AQ_v1_D_2308281693264007.nc/SNDR_tile_2016_s320_S70p75_W020p00_L1_AQ_v1_D_2308281693264007.nc.cmr.xml",
           "title": "SNDR_tile_2016_s320_S70p75_W020p00_L1_AQ_v1_D_2308281693264007.nc.cmr.xml"
          },
          "metadata__data": {
           "description": "SNDR_tile_2016_s320_S70p75_W020p00_L1_AQ_v1_D_2308281693264007.nc.json",
           "href": "s3://uds-dev-cumulus-protected/urn:nasa:unity:uds_local_test:DEV1:CHRP_16_DAY_REBIN___1/urn:nasa:unity:uds_local_test:DEV1:CHRP_16_DAY_REBIN___1:SNDR_tile_2016_s320_S70p75_W020p00_L1_AQ_v1_D_2308281693264007.nc/SNDR_tile_2016_s320_S70p75_W020p00_L1_AQ_v1_D_2308281693264007.nc.json",
           "title": "SNDR_tile_2016_s320_S70p75_W020p00_L1_AQ_v1_D_2308281693264007.nc.json"
          }
         },
         "bbox": [
          0,
          0,
          0,
          0
         ],
         "collection": "urn:nasa:unity:uds_local_test:DEV1:CHRP_16_DAY_REBIN___1",
         "geometry": {
          "coordinates": [
           0,
           0
          ],
          "type": "Point"
         },
         "id": "urn:nasa:unity:uds_local_test:DEV1:CHRP_16_DAY_REBIN___1:SNDR_tile_2016_s320_S70p75_W020p00_L1_AQ_v1_D_2308281693264007.nc",
         "links": [
          {
           "href": ".",
           "rel": "collection"
          }
         ],
         "properties": {
          "created": "2023-06-15T01:31:12.467000Z",
          "datetime": "2023-08-29T00:31:11.999000Z",
          "end_datetime": "2023-06-15T01:36:12.467000Z",
          "start_datetime": "2023-06-15T01:31:12.467000Z",
          "updated": "2023-08-29T00:31:21.796000Z"
         },
         "stac_extensions": [],
         "stac_version": "1.0.0",
         "type": "Feature"
        },
        {
         "assets": {
          "data": {
           "description": "SNDR_tile_2016_s320_S46p75_E035p00_L1_AQ_v1_D_2308281693264028.nc",
           "href": "s3://uds-dev-cumulus-protected/urn:nasa:unity:uds_local_test:DEV1:CHRP_16_DAY_REBIN___1/urn:nasa:unity:uds_local_test:DEV1:CHRP_16_DAY_REBIN___1:SNDR_tile_2016_s320_S46p75_E035p00_L1_AQ_v1_D_2308281693264028.nc/SNDR_tile_2016_s320_S46p75_E035p00_L1_AQ_v1_D_2308281693264028.nc",
           "title": "SNDR_tile_2016_s320_S46p75_E035p00_L1_AQ_v1_D_2308281693264028.nc"
          },
          "metadata__cmr": {
           "description": "SNDR_tile_2016_s320_S46p75_E035p00_L1_AQ_v1_D_2308281693264028.nc.cmr.xml",
           "href": "s3://uds-dev-cumulus-protected/urn:nasa:unity:uds_local_test:DEV1:CHRP_16_DAY_REBIN___1/urn:nasa:unity:uds_local_test:DEV1:CHRP_16_DAY_REBIN___1:SNDR_tile_2016_s320_S46p75_E035p00_L1_AQ_v1_D_2308281693264028.nc/SNDR_tile_2016_s320_S46p75_E035p00_L1_AQ_v1_D_2308281693264028.nc.cmr.xml",
           "title": "SNDR_tile_2016_s320_S46p75_E035p00_L1_AQ_v1_D_2308281693264028.nc.cmr.xml"
          },
          "metadata__data": {
           "description": "SNDR_tile_2016_s320_S46p75_E035p00_L1_AQ_v1_D_2308281693264028.nc.json",
           "href": "s3://uds-dev-cumulus-protected/urn:nasa:unity:uds_local_test:DEV1:CHRP_16_DAY_REBIN___1/urn:nasa:unity:uds_local_test:DEV1:CHRP_16_DAY_REBIN___1:SNDR_tile_2016_s320_S46p75_E035p00_L1_AQ_v1_D_2308281693264028.nc/SNDR_tile_2016_s320_S46p75_E035p00_L1_AQ_v1_D_2308281693264028.nc.json",
           "title": "SNDR_tile_2016_s320_S46p75_E035p00_L1_AQ_v1_D_2308281693264028.nc.json"
          }
         },
         "bbox": [
          0,
          0,
          0,
          0
         ],
         "collection": "urn:nasa:unity:uds_local_test:DEV1:CHRP_16_DAY_REBIN___1",
         "geometry": {
          "coordinates": [
           0,
           0
          ],
          "type": "Point"
         },
         "id": "urn:nasa:unity:uds_local_test:DEV1:CHRP_16_DAY_REBIN___1:SNDR_tile_2016_s320_S46p75_E035p00_L1_AQ_v1_D_2308281693264028.nc",
         "links": [
          {
           "href": ".",
           "rel": "collection"
          }
         ],
         "properties": {
          "created": "2023-06-15T01:31:12.467000Z",
          "datetime": "2023-08-29T00:31:10.118000Z",
          "end_datetime": "2023-06-15T01:36:12.467000Z",
          "start_datetime": "2023-06-15T01:31:12.467000Z",
          "updated": "2023-08-29T00:31:20.772000Z"
         },
         "stac_extensions": [],
         "stac_version": "1.0.0",
         "type": "Feature"
        },
        {
         "assets": {
          "data": {
           "description": "SNDR_tile_2016_s320_S46p75_E130p00_L1_AQ_v1_D_2308281693264028.nc",
           "href": "s3://uds-dev-cumulus-protected/urn:nasa:unity:uds_local_test:DEV1:CHRP_16_DAY_REBIN___1/urn:nasa:unity:uds_local_test:DEV1:CHRP_16_DAY_REBIN___1:SNDR_tile_2016_s320_S46p75_E130p00_L1_AQ_v1_D_2308281693264028.nc/SNDR_tile_2016_s320_S46p75_E130p00_L1_AQ_v1_D_2308281693264028.nc",
           "title": "SNDR_tile_2016_s320_S46p75_E130p00_L1_AQ_v1_D_2308281693264028.nc"
          },
          "metadata__cmr": {
           "description": "SNDR_tile_2016_s320_S46p75_E130p00_L1_AQ_v1_D_2308281693264028.nc.cmr.xml",
           "href": "s3://uds-dev-cumulus-protected/urn:nasa:unity:uds_local_test:DEV1:CHRP_16_DAY_REBIN___1/urn:nasa:unity:uds_local_test:DEV1:CHRP_16_DAY_REBIN___1:SNDR_tile_2016_s320_S46p75_E130p00_L1_AQ_v1_D_2308281693264028.nc/SNDR_tile_2016_s320_S46p75_E130p00_L1_AQ_v1_D_2308281693264028.nc.cmr.xml",
           "title": "SNDR_tile_2016_s320_S46p75_E130p00_L1_AQ_v1_D_2308281693264028.nc.cmr.xml"
          },
          "metadata__data": {
           "description": "SNDR_tile_2016_s320_S46p75_E130p00_L1_AQ_v1_D_2308281693264028.nc.json",
           "href": "s3://uds-dev-cumulus-protected/urn:nasa:unity:uds_local_test:DEV1:CHRP_16_DAY_REBIN___1/urn:nasa:unity:uds_local_test:DEV1:CHRP_16_DAY_REBIN___1:SNDR_tile_2016_s320_S46p75_E130p00_L1_AQ_v1_D_2308281693264028.nc/SNDR_tile_2016_s320_S46p75_E130p00_L1_AQ_v1_D_2308281693264028.nc.json",
           "title": "SNDR_tile_2016_s320_S46p75_E130p00_L1_AQ_v1_D_2308281693264028.nc.json"
          }
         },
         "bbox": [
          0,
          0,
          0,
          0
         ],
         "collection": "urn:nasa:unity:uds_local_test:DEV1:CHRP_16_DAY_REBIN___1",
         "geometry": {
          "coordinates": [
           0,
           0
          ],
          "type": "Point"
         },
         "id": "urn:nasa:unity:uds_local_test:DEV1:CHRP_16_DAY_REBIN___1:SNDR_tile_2016_s320_S46p75_E130p00_L1_AQ_v1_D_2308281693264028.nc",
         "links": [
          {
           "href": ".",
           "rel": "collection"
          }
         ],
         "properties": {
          "created": "2023-06-15T01:31:12.467000Z",
          "datetime": "2023-08-29T00:29:16.311000Z",
          "end_datetime": "2023-06-15T01:36:12.467000Z",
          "start_datetime": "2023-06-15T01:31:12.467000Z",
          "updated": "2023-08-29T00:29:57.331000Z"
         },
         "stac_extensions": [],
         "stac_version": "1.0.0",
         "type": "Feature"
        }
       ],
       "links": [
        {
         "href": "https://1gp9st60gd.execute-api.us-west-2.amazonaws.com/am-uds-dapa/collections/urn:nasa:unity:uds_local_test:DEV1:CHRP_16_DAY_REBIN___1/items?limit=5&offset=0",
         "rel": "self"
        },
        {
         "href": "https://1gp9st60gd.execute-api.us-west-2.amazonaws.com/",
         "rel": "root"
        },
        {
         "href": "https://1gp9st60gd.execute-api.us-west-2.amazonaws.com/am-uds-dapa/collections/urn:nasa:unity:uds_local_test:DEV1:CHRP_16_DAY_REBIN___1/items?limit=5&offset=5",
         "rel": "next"
        },
        {
         "href": "https://1gp9st60gd.execute-api.us-west-2.amazonaws.com/am-uds-dapa/collections/urn:nasa:unity:uds_local_test:DEV1:CHRP_16_DAY_REBIN___1/items?limit=5&offset=0",
         "rel": "prev"
        }
       ],
       "numberMatched": 44240,
       "numberReturned": 5,
       "stac_version": "1.0.0",
       "type": "FeatureCollection"
      },
      "text/plain": [
       "<IPython.core.display.JSON object>"
      ]
     },
     "execution_count": 17,
     "metadata": {
      "application/json": {
       "expanded": false,
       "root": "root"
      }
     },
     "output_type": "execute_result"
    }
   ],
   "source": [
    "data_set = \"urn:nasa:unity:uds_local_test:DEV1:CHRP_16_DAY_REBIN___1\"\n",
    "\n",
    "url = env['url'] + \"am-uds-dapa/collections/\"+data_set+\"/items\"\n",
    "\n",
    "# tweak the paging with this parameter\n",
    "params = []\n",
    "params.append((\"limit\", 5))\n",
    "\n",
    "response = requests.get(url, headers={\"Authorization\": \"Bearer \" + token}, params=params)\n",
    "\n",
    "print(f\"Endpoint: \"+url)\n",
    "print(f\"Total number of files: {response.json()['numberMatched']}\")\n",
    "\n",
    "# get features into an array and cut it down to just 0th to 15th items\n",
    "features = response.json()['features']\n",
    "print(\"\"+ str(len(features)) +\" results per page\"),\n",
    "print(\"File IDs, titles, and hrefs in Collection \" + data_set + \"\\n\")\n",
    "\n",
    "\n",
    "for data_file in features: {\n",
    "   print(\"ID:\\n\"+data_file['id']),\n",
    "   print(\"File:\\n\"+data_file['assets']['data']['href']),\n",
    "   print(\"Datetime:\\n\"+data_file['properties']['datetime']),\n",
    "#   print(\"STAC Metadata:\\n\"+data_file['assets']['metadata__stac']['href'])\n",
    "   print(\"\")\n",
    "}\n",
    "\n",
    "\n",
    "print(\"Full JSON response object:\")\n",
    "JSON(response.json())\n"
   ]
  },
  {
   "cell_type": "markdown",
   "id": "42bc4d07-d8de-4298-9d33-6299ae41a024",
   "metadata": {},
   "source": [
    "## Filter the results above by time\n",
    "\n",
    "The standards-based API used by the Unity SDS Data Store, DAPA, has a variety of filtering options. Currently we have implemented a time-based filter. See more about the Data Access and Processing API at: https://docs.ogc.org/per/20-025r1.html#_dapa_overview\n",
    "\n",
    "This cell will filter the full list of files in the Collection with ID = data_set by a start and end time defined by the datetime parameter."
   ]
  },
  {
   "cell_type": "code",
   "execution_count": 16,
   "id": "70a4ab9e-8693-4948-bc2a-cce1e09d1cab",
   "metadata": {},
   "outputs": [
    {
     "name": "stdout",
     "output_type": "stream",
     "text": [
      "Total number of files: 2\n",
      "File IDs, datetimes, and hrefs in Collection urn:nasa:unity:uds_local_test:DEV1:CHRP_16_DAY_REBIN___1\n",
      "\n",
      "Full JSON response object:\n"
     ]
    },
    {
     "data": {
      "application/json": {
       "features": [
        {
         "assets": {
          "data": {
           "description": "SNDR.SS1330.CHIRP.20230101T0000.m06.g001.L1_J1.std.v02_48.G.200101070318_REBIN.nc",
           "href": "s3://uds-dev-cumulus-sps/urn:nasa:unity:uds_local_test:DEV1:CHRP_16_DAY_REBIN___1:SNDR.SS1330.CHIRP.20230101T0000.m06.g001.L1_J1.std.v02_48.G.200101070318_REBIN/SNDR.SS1330.CHIRP.20230101T0000.m06.g001.L1_J1.std.v02_48.G.200101070318_REBIN.nc",
           "title": "SNDR.SS1330.CHIRP.20230101T0000.m06.g001.L1_J1.std.v02_48.G.200101070318_REBIN.nc"
          },
          "metadata__cmr": {
           "description": "SNDR.SS1330.CHIRP.20230101T0000.m06.g001.L1_J1.std.v02_48.G.200101070318_REBIN.cmr.xml",
           "href": "s3://uds-dev-cumulus-sps/urn:nasa:unity:uds_local_test:DEV1:CHRP_16_DAY_REBIN___1:SNDR.SS1330.CHIRP.20230101T0000.m06.g001.L1_J1.std.v02_48.G.200101070318_REBIN/SNDR.SS1330.CHIRP.20230101T0000.m06.g001.L1_J1.std.v02_48.G.200101070318_REBIN.cmr.xml",
           "title": "SNDR.SS1330.CHIRP.20230101T0000.m06.g001.L1_J1.std.v02_48.G.200101070318_REBIN.cmr.xml"
          },
          "metadata__stac": {
           "description": "SNDR.SS1330.CHIRP.20230101T0000.m06.g001.L1_J1.std.v02_48.G.200101070318_REBIN.nc.stac.json",
           "href": "s3://uds-dev-cumulus-sps/urn:nasa:unity:uds_local_test:DEV1:CHRP_16_DAY_REBIN___1:SNDR.SS1330.CHIRP.20230101T0000.m06.g001.L1_J1.std.v02_48.G.200101070318_REBIN/SNDR.SS1330.CHIRP.20230101T0000.m06.g001.L1_J1.std.v02_48.G.200101070318_REBIN.nc.stac.json",
           "title": "SNDR.SS1330.CHIRP.20230101T0000.m06.g001.L1_J1.std.v02_48.G.200101070318_REBIN.nc.stac.json"
          }
         },
         "bbox": [
          0,
          0,
          0,
          0
         ],
         "collection": "urn:nasa:unity:uds_local_test:DEV1:CHRP_16_DAY_REBIN___1",
         "geometry": {
          "coordinates": [
           0,
           0
          ],
          "type": "Point"
         },
         "id": "urn:nasa:unity:uds_local_test:DEV1:CHRP_16_DAY_REBIN___1:SNDR.SS1330.CHIRP.20230101T0000.m06.g001.L1_J1.std.v02_48.G.200101070318_REBIN",
         "links": [
          {
           "href": ".",
           "rel": "collection"
          }
         ],
         "properties": {
          "created": "2020-01-01T07:03:18Z",
          "datetime": "2023-08-29T16:57:37.239000Z",
          "end_datetime": "2023-01-01T00:06:00Z",
          "start_datetime": "2023-01-01T00:00:00Z",
          "updated": "2023-08-29T16:58:17.462000Z"
         },
         "stac_extensions": [],
         "stac_version": "1.0.0",
         "type": "Feature"
        },
        {
         "assets": {
          "data": {
           "description": "SNDR.SS1330.CHIRP.20230101T0006.m06.g002.L1_J1.std.v02_48.G.200101070318_REBIN.nc",
           "href": "s3://uds-dev-cumulus-sps/urn:nasa:unity:uds_local_test:DEV1:CHRP_16_DAY_REBIN___1:SNDR.SS1330.CHIRP.20230101T0006.m06.g002.L1_J1.std.v02_48.G.200101070318_REBIN/SNDR.SS1330.CHIRP.20230101T0006.m06.g002.L1_J1.std.v02_48.G.200101070318_REBIN.nc",
           "title": "SNDR.SS1330.CHIRP.20230101T0006.m06.g002.L1_J1.std.v02_48.G.200101070318_REBIN.nc"
          },
          "metadata__cmr": {
           "description": "SNDR.SS1330.CHIRP.20230101T0006.m06.g002.L1_J1.std.v02_48.G.200101070318_REBIN.cmr.xml",
           "href": "s3://uds-dev-cumulus-sps/urn:nasa:unity:uds_local_test:DEV1:CHRP_16_DAY_REBIN___1:SNDR.SS1330.CHIRP.20230101T0006.m06.g002.L1_J1.std.v02_48.G.200101070318_REBIN/SNDR.SS1330.CHIRP.20230101T0006.m06.g002.L1_J1.std.v02_48.G.200101070318_REBIN.cmr.xml",
           "title": "SNDR.SS1330.CHIRP.20230101T0006.m06.g002.L1_J1.std.v02_48.G.200101070318_REBIN.cmr.xml"
          },
          "metadata__stac": {
           "description": "SNDR.SS1330.CHIRP.20230101T0006.m06.g002.L1_J1.std.v02_48.G.200101070318_REBIN.nc.stac.json",
           "href": "s3://uds-dev-cumulus-sps/urn:nasa:unity:uds_local_test:DEV1:CHRP_16_DAY_REBIN___1:SNDR.SS1330.CHIRP.20230101T0006.m06.g002.L1_J1.std.v02_48.G.200101070318_REBIN/SNDR.SS1330.CHIRP.20230101T0006.m06.g002.L1_J1.std.v02_48.G.200101070318_REBIN.nc.stac.json",
           "title": "SNDR.SS1330.CHIRP.20230101T0006.m06.g002.L1_J1.std.v02_48.G.200101070318_REBIN.nc.stac.json"
          }
         },
         "bbox": [
          0,
          0,
          0,
          0
         ],
         "collection": "urn:nasa:unity:uds_local_test:DEV1:CHRP_16_DAY_REBIN___1",
         "geometry": {
          "coordinates": [
           0,
           0
          ],
          "type": "Point"
         },
         "id": "urn:nasa:unity:uds_local_test:DEV1:CHRP_16_DAY_REBIN___1:SNDR.SS1330.CHIRP.20230101T0006.m06.g002.L1_J1.std.v02_48.G.200101070318_REBIN",
         "links": [
          {
           "href": ".",
           "rel": "collection"
          }
         ],
         "properties": {
          "created": "2020-01-01T07:03:18Z",
          "datetime": "2023-08-29T16:57:35.170000Z",
          "end_datetime": "2023-01-01T00:12:00Z",
          "start_datetime": "2023-01-01T00:06:00Z",
          "updated": "2023-08-29T16:58:16.896000Z"
         },
         "stac_extensions": [],
         "stac_version": "1.0.0",
         "type": "Feature"
        }
       ],
       "links": [
        {
         "href": "https://1gp9st60gd.execute-api.us-west-2.amazonaws.com/am-uds-dapa/collections/urn:nasa:unity:uds_local_test:DEV1:CHRP_16_DAY_REBIN___1/items?datetime=2023-01-01T00:06:00Z/2023-01-03T00:06:00Z&limit=20&offset=0",
         "rel": "self"
        },
        {
         "href": "https://1gp9st60gd.execute-api.us-west-2.amazonaws.com/",
         "rel": "root"
        },
        {
         "href": "https://1gp9st60gd.execute-api.us-west-2.amazonaws.com/am-uds-dapa/collections/urn:nasa:unity:uds_local_test:DEV1:CHRP_16_DAY_REBIN___1/items?datetime=2023-01-01T00:06:00Z/2023-01-03T00:06:00Z&limit=20&offset=20",
         "rel": "next"
        },
        {
         "href": "https://1gp9st60gd.execute-api.us-west-2.amazonaws.com/am-uds-dapa/collections/urn:nasa:unity:uds_local_test:DEV1:CHRP_16_DAY_REBIN___1/items?datetime=2023-01-01T00:06:00Z/2023-01-03T00:06:00Z&limit=20&offset=0",
         "rel": "prev"
        }
       ],
       "numberMatched": 2,
       "numberReturned": 2,
       "stac_version": "1.0.0",
       "type": "FeatureCollection"
      },
      "text/plain": [
       "<IPython.core.display.JSON object>"
      ]
     },
     "execution_count": 16,
     "metadata": {
      "application/json": {
       "expanded": false,
       "root": "root"
      }
     },
     "output_type": "execute_result"
    }
   ],
   "source": [
    "#data_set = \"SNDR_SNPP_ATMS_L1B_OUTPUT___1\"\n",
    "data_set = \"urn:nasa:unity:uds_local_test:DEV1:CHRP_16_DAY_REBIN___1\"\n",
    "\n",
    "url = env['url'] + \"am-uds-dapa/collections/\"+data_set+\"/items\"\n",
    "# the datetime,limit, and offset are included due to a current bug in the API Gatway setting these values to 'none'.\n",
    "# Example date/time params\n",
    "\n",
    "params = []\n",
    "#add a datetime to your request\n",
    "params.append((\"datetime\", \"2023-01-01T00:06:00Z/2023-01-03T00:06:00Z\"))\n",
    "\n",
    "# limit - how many results to return in a single request\n",
    "params.append((\"limit\", 20))\n",
    "\n",
    "response = requests.get(url, headers={\"Authorization\": \"Bearer \" + token}, params=params)\n",
    "\n",
    "print(f\"Total number of files: {response.json()['numberMatched']}\")\n",
    "print(\"File IDs, datetimes, and hrefs in Collection \" + data_set + \"\\n\")\n",
    "\n",
    "print(\"Full JSON response object:\")\n",
    "JSON(response.json())"
   ]
  },
  {
   "cell_type": "code",
   "execution_count": 18,
   "id": "d8098bb7-97f7-4855-a291-6b0df40a9789",
   "metadata": {},
   "outputs": [
    {
     "name": "stderr",
     "output_type": "stream",
     "text": [
      "IOPub data rate exceeded.\n",
      "The Jupyter server will temporarily stop sending output\n",
      "to the client in order to avoid crashing it.\n",
      "To change this limit, set the config variable\n",
      "`--ServerApp.iopub_data_rate_limit`.\n",
      "\n",
      "Current values:\n",
      "ServerApp.iopub_data_rate_limit=1000000.0 (bytes/sec)\n",
      "ServerApp.rate_limit_window=3.0 (secs)\n",
      "\n"
     ]
    },
    {
     "ename": "KeyboardInterrupt",
     "evalue": "",
     "output_type": "error",
     "traceback": [
      "\u001b[0;31m---------------------------------------------------------------------------\u001b[0m",
      "\u001b[0;31mKeyboardInterrupt\u001b[0m                         Traceback (most recent call last)",
      "Input \u001b[0;32mIn [18]\u001b[0m, in \u001b[0;36m<cell line: 24>\u001b[0;34m()\u001b[0m\n\u001b[1;32m     22\u001b[0m \u001b[38;5;66;03m#features = features[0:10]\u001b[39;00m\n\u001b[1;32m     24\u001b[0m \u001b[38;5;28;01mwhile\u001b[39;00m \u001b[38;5;28mlen\u001b[39m(features) \u001b[38;5;241m>\u001b[39m \u001b[38;5;241m0\u001b[39m:\n\u001b[1;32m     25\u001b[0m     \u001b[38;5;28;01mfor\u001b[39;00m data_file \u001b[38;5;129;01min\u001b[39;00m features: {\n\u001b[0;32m---> 26\u001b[0m        \u001b[38;5;28;43mprint\u001b[39;49m\u001b[43m(\u001b[49m\u001b[43mdata_file\u001b[49m\u001b[43m[\u001b[49m\u001b[38;5;124;43m'\u001b[39;49m\u001b[38;5;124;43mid\u001b[39;49m\u001b[38;5;124;43m'\u001b[39;49m\u001b[43m]\u001b[49m\u001b[43m)\u001b[49m,\n\u001b[1;32m     27\u001b[0m        \u001b[38;5;28mprint\u001b[39m(data_file[\u001b[38;5;124m'\u001b[39m\u001b[38;5;124mproperties\u001b[39m\u001b[38;5;124m'\u001b[39m][\u001b[38;5;124m'\u001b[39m\u001b[38;5;124mcreated\u001b[39m\u001b[38;5;124m'\u001b[39m]),\n\u001b[1;32m     28\u001b[0m \u001b[38;5;66;03m#       print(data_file['assets']['metadata__stac']['href']),\u001b[39;00m\n\u001b[1;32m     29\u001b[0m        \u001b[38;5;28mprint\u001b[39m(data_file[\u001b[38;5;124m'\u001b[39m\u001b[38;5;124massets\u001b[39m\u001b[38;5;124m'\u001b[39m][\u001b[38;5;124m'\u001b[39m\u001b[38;5;124mdata\u001b[39m\u001b[38;5;124m'\u001b[39m][\u001b[38;5;124m'\u001b[39m\u001b[38;5;124mhref\u001b[39m\u001b[38;5;124m'\u001b[39m]),\n\u001b[1;32m     30\u001b[0m        \u001b[38;5;28mprint\u001b[39m(\u001b[38;5;124m\"\u001b[39m\u001b[38;5;124m\"\u001b[39m)\n\u001b[1;32m     31\u001b[0m     }\n",
      "File \u001b[0;32m/opt/conda/lib/python3.10/site-packages/ipykernel/iostream.py:542\u001b[0m, in \u001b[0;36mOutStream.write\u001b[0;34m(self, string)\u001b[0m\n\u001b[1;32m    539\u001b[0m     \u001b[38;5;28;01mraise\u001b[39;00m \u001b[38;5;167;01mValueError\u001b[39;00m(\u001b[38;5;124m\"\u001b[39m\u001b[38;5;124mI/O operation on closed file\u001b[39m\u001b[38;5;124m\"\u001b[39m)\n\u001b[1;32m    540\u001b[0m \u001b[38;5;28;01melse\u001b[39;00m:\n\u001b[0;32m--> 542\u001b[0m     is_child \u001b[38;5;241m=\u001b[39m \u001b[38;5;129;01mnot\u001b[39;00m \u001b[38;5;28;43mself\u001b[39;49m\u001b[38;5;241;43m.\u001b[39;49m\u001b[43m_is_master_process\u001b[49m\u001b[43m(\u001b[49m\u001b[43m)\u001b[49m\n\u001b[1;32m    543\u001b[0m     \u001b[38;5;66;03m# only touch the buffer in the IO thread to avoid races\u001b[39;00m\n\u001b[1;32m    544\u001b[0m     \u001b[38;5;28;01mwith\u001b[39;00m \u001b[38;5;28mself\u001b[39m\u001b[38;5;241m.\u001b[39m_buffer_lock:\n",
      "File \u001b[0;32m/opt/conda/lib/python3.10/site-packages/ipykernel/iostream.py:430\u001b[0m, in \u001b[0;36mOutStream._is_master_process\u001b[0;34m(self)\u001b[0m\n\u001b[1;32m    429\u001b[0m \u001b[38;5;28;01mdef\u001b[39;00m \u001b[38;5;21m_is_master_process\u001b[39m(\u001b[38;5;28mself\u001b[39m):\n\u001b[0;32m--> 430\u001b[0m     \u001b[38;5;28;01mreturn\u001b[39;00m \u001b[43mos\u001b[49m\u001b[38;5;241;43m.\u001b[39;49m\u001b[43mgetpid\u001b[49m\u001b[43m(\u001b[49m\u001b[43m)\u001b[49m \u001b[38;5;241m==\u001b[39m \u001b[38;5;28mself\u001b[39m\u001b[38;5;241m.\u001b[39m_master_pid\n",
      "\u001b[0;31mKeyboardInterrupt\u001b[0m: "
     ]
    }
   ],
   "source": [
    "#data_set = \"SNDR_SNPP_ATMS_L1B_OUTPUT___1\"\n",
    "data_set = \"urn:nasa:unity:uds_local_test:DEV1:CHRP_16_DAY_REBIN___1\"\n",
    "\n",
    "url = env['url'] + \"am-uds-dapa/collections/\"+data_set+\"/items\"\n",
    "# the datetime,limit, and offset are included due to a current bug in the API Gatway setting these values to 'none'.\n",
    "# Example date/time params\n",
    "\n",
    "params = []\n",
    "#add a datetime to your request\n",
    "params.append((\"datetime\", \"2023-01-01T00:06:00Z/2023-01-03T00:06:00Z\"))\n",
    "\n",
    "# limit - how many results to return in a single request\n",
    "params.append((\"limit\", 20))\n",
    "\n",
    "response = requests.get(url, headers={\"Authorization\": \"Bearer \" + token}, params=params)\n",
    "\n",
    "print(f\"Total number of files: {response.json()['numberMatched']}\")\n",
    "print(\"File IDs, datetimes, and hrefs in Collection \" + data_set + \"\\n\")\n",
    "\n",
    "features = response.json()['features']\n",
    "print(str(len(features)) +\" features\")\n",
    "#features = features[0:10]\n",
    "\n",
    "while len(features) > 0:\n",
    "    for data_file in features: {\n",
    "       print(data_file['id']),\n",
    "       print(data_file['properties']['created']),\n",
    "#       print(data_file['assets']['metadata__stac']['href']),\n",
    "       print(data_file['assets']['data']['href']),\n",
    "       print(\"\")\n",
    "    }\n",
    "\n",
    "#    response = requests.get(next(item for item in response.json()['links'] if item['rel'] == 'next')['href'], headers={\"Authorization\": \"Bearer \" + token}, params=params)\n",
    "    # Get the next page of results\n",
    "    #features = response.json()['features']"
   ]
  },
  {
   "cell_type": "markdown",
   "id": "d79e544a",
   "metadata": {},
   "source": [
    "## Credential-less data download\n",
    "\n",
    "When accessing data stores within the same venue, you'll be able to download data from S3 without credentials. \n",
    "\n",
    "**Note**, the following libraries are needed for this, and the below command can be run in a jupyter-terminal to install them:\n",
    "\n",
    "```\n",
    "conda install xarray netcdf4 hdf5 boto3 matplotlib\n",
    "```\n"
   ]
  },
  {
   "cell_type": "code",
   "execution_count": null,
   "id": "620a4e4e",
   "metadata": {},
   "outputs": [],
   "source": [
    "import boto3"
   ]
  },
  {
   "cell_type": "code",
   "execution_count": null,
   "id": "5c6a2837-fb5a-4467-94e5-a85f8659506e",
   "metadata": {},
   "outputs": [],
   "source": [
    "s3 = boto3.client('s3')\n",
    "s3.download_file('uds-test-cumulus-protected', 'SNDR_SNPP_ATMS_L1A___1/SNDR.SNPP.ATMS.L1A.nominal2.04.nc', 'test_file11.nc')"
   ]
  },
  {
   "cell_type": "code",
   "execution_count": null,
   "id": "c09f8626",
   "metadata": {},
   "outputs": [],
   "source": [
    "import xarray as xr\n",
    "ds = xr.open_dataset('test_file11.nc')\n",
    "ds"
   ]
  },
  {
   "cell_type": "code",
   "execution_count": null,
   "id": "fba4dff8",
   "metadata": {},
   "outputs": [],
   "source": [
    "ds.band_surf_alt.plot()"
   ]
  },
  {
   "cell_type": "code",
   "execution_count": null,
   "id": "9386a4f1",
   "metadata": {},
   "outputs": [],
   "source": []
  }
 ],
 "metadata": {
  "kernelspec": {
   "display_name": "Python 3 (ipykernel)",
   "language": "python",
   "name": "python3"
  },
  "language_info": {
   "codemirror_mode": {
    "name": "ipython",
    "version": 3
   },
   "file_extension": ".py",
   "mimetype": "text/x-python",
   "name": "python",
   "nbconvert_exporter": "python",
   "pygments_lexer": "ipython3",
   "version": "3.10.5"
  }
 },
 "nbformat": 4,
 "nbformat_minor": 5
}
