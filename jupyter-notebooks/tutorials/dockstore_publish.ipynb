{
 "cells": [
  {
   "cell_type": "code",
   "execution_count": 1,
   "id": "702d6a78-9eef-418a-b624-43ee8ee98643",
   "metadata": {},
   "outputs": [],
   "source": [
    "import os\n",
    "import sys"
   ]
  },
  {
   "cell_type": "code",
   "execution_count": 2,
   "id": "6f3a0abe-3a42-455d-b365-0f0039455570",
   "metadata": {},
   "outputs": [],
   "source": [
    "sys.path.append(os.path.expanduser(\"~/unity-py\"))"
   ]
  },
  {
   "cell_type": "code",
   "execution_count": 3,
   "id": "0d63d3d2-0f6e-4303-b37d-8394e0e1411c",
   "metadata": {},
   "outputs": [],
   "source": [
    "from unity_py.services.application_service import *"
   ]
  },
  {
   "cell_type": "markdown",
   "id": "42bfa738-fc42-421a-b2cf-44b1204e32eb",
   "metadata": {},
   "source": [
    "## Configuration"
   ]
  },
  {
   "cell_type": "code",
   "execution_count": 4,
   "id": "11b285a3-2b97-4cd1-9115-05beb47de12a",
   "metadata": {},
   "outputs": [],
   "source": [
    "dockstore_api_uri = \"http://uads-test-dockstore-deploy-lb-1762603872.us-west-2.elb.amazonaws.com:9998/api\""
   ]
  },
  {
   "cell_type": "code",
   "execution_count": 5,
   "id": "2f1108d3-b0cb-49ec-9c87-d86515b102f9",
   "metadata": {},
   "outputs": [],
   "source": [
    "token = !cat ~/.dockstore/config  | grep token | awk '{print $2}'\n",
    "token = token[0]"
   ]
  },
  {
   "cell_type": "markdown",
   "id": "7e128d17-f0a4-4698-8ab1-4d68f0da0316",
   "metadata": {},
   "source": [
    "## Catalog Interface\n"
   ]
  },
  {
   "cell_type": "code",
   "execution_count": 6,
   "id": "b9dae047-4ac0-478c-87b7-b8011d09465c",
   "metadata": {},
   "outputs": [],
   "source": [
    "app_catalog = DockstoreAppCatalog(dockstore_api_uri, token)"
   ]
  },
  {
   "cell_type": "markdown",
   "id": "919b88c1-4e85-446e-801e-0ee76d264525",
   "metadata": {},
   "source": [
    "## Existing User Applications"
   ]
  },
  {
   "cell_type": "code",
   "execution_count": 7,
   "id": "4ca327d3-35fe-4455-8eae-a9d56a88c423",
   "metadata": {
    "tags": []
   },
   "outputs": [],
   "source": [
    "for app in app_catalog.application_list(for_user=True):\n",
    "    print(f\"{app.id} {app.name} {app.source_repository}\")"
   ]
  },
  {
   "cell_type": "markdown",
   "id": "29b1516d-e67e-48d7-a2fc-e4293317f46a",
   "metadata": {},
   "source": [
    "## New Application"
   ]
  },
  {
   "cell_type": "code",
   "execution_count": 8,
   "id": "fcbe7a9c-6893-424d-822a-f1c1a1b10773",
   "metadata": {},
   "outputs": [],
   "source": [
    "name = \"sounder_sips_l1a\"\n",
    "source_repository = \"git@github.com:unity-sds/sounder-sips-application.git\"\n",
    "workflow_path = \"/cwl/l1a_workflow.cwl\""
   ]
  },
  {
   "cell_type": "code",
   "execution_count": 9,
   "id": "f2a48297-ca47-43b6-929e-484159876607",
   "metadata": {},
   "outputs": [],
   "source": [
    "new_app = ApplicationPackage(name, source_repository, workflow_path)"
   ]
  },
  {
   "cell_type": "code",
   "execution_count": 10,
   "id": "eed8a991-dadb-48e9-91b2-fb93abfbf1f8",
   "metadata": {},
   "outputs": [
    {
     "data": {
      "text/plain": [
       "ApplicationPackage(name='sounder_sips_l1a', source_repository='git@github.com:unity-sds/sounder-sips-application.git', workflow_path='/cwl/l1a_workflow.cwl', id=None, is_published=False, description='', workflow_type='CWL')"
      ]
     },
     "execution_count": 10,
     "metadata": {},
     "output_type": "execute_result"
    }
   ],
   "source": [
    "new_app"
   ]
  },
  {
   "cell_type": "markdown",
   "id": "1f94da3e-727a-456e-ab13-32edf688ddba",
   "metadata": {},
   "source": [
    "## Publish Application"
   ]
  },
  {
   "cell_type": "code",
   "execution_count": 11,
   "id": "f3ea1bb2-00ff-46d6-9a18-ef23a5bd93f0",
   "metadata": {},
   "outputs": [],
   "source": [
    "reg_app = app_catalog.register(new_app)"
   ]
  },
  {
   "cell_type": "code",
   "execution_count": 12,
   "id": "360a929a-bbbf-4a51-8433-b72f7424f7b7",
   "metadata": {},
   "outputs": [
    {
     "data": {
      "text/plain": [
       "DockstoreApplicationPackage(name='sounder_sips_l1a', source_repository='git@github.com:unity-sds/sounder-sips-application.git', workflow_path='/cwl/l1a_workflow.cwl', id='50', is_published=False, description='Processes Sounder SIPS L0 products into L1A products', workflow_type='CWL', dockstore_info={'type': 'BioWorkflow', 'descriptorType': 'CWL', 'aliases': {}, 'author': 'James McDuffie', 'checker_id': None, 'conceptDoi': None, 'dbCreateDate': 1670623272833, 'dbUpdateDate': 1670623276387, 'defaultTestParameterFilePath': '/test.json', 'defaultVersion': 'main', 'description': 'Processes Sounder SIPS L0 products into L1A products', 'descriptorTypeSubclass': 'NOT_APPLICABLE', 'email': 'James.Mcduffie@jpl.nasa.gov', 'forumUrl': None, 'full_workflow_path': 'github.com/unity-sds/sounder-sips-application/sounder_sips_l1a', 'gitUrl': 'git@github.com:unity-sds/sounder-sips-application.git', 'has_checker': False, 'id': 50, 'input_file_formats': [], 'isChecker': False, 'is_published': False, 'labels': [], 'lastUpdated': 1670623272828, 'last_modified': 2004663152, 'last_modified_date': 1668451974000, 'licenseInformation': {'licenseName': 'Other'}, 'mode': 'FULL', 'organization': 'unity-sds', 'output_file_formats': [], 'parent_id': None, 'path': 'github.com/unity-sds/sounder-sips-application', 'repository': 'sounder-sips-application', 'sourceControl': 'github.com', 'source_control_provider': 'GITHUB', 'starredUsers': [], 'topic': 'This repository represents the containerization of the Sounder SIPS SPSS repository into a Unity Application Package.', 'topicAutomatic': 'This repository represents the containerization of the Sounder SIPS SPSS repository into a Unity Application Package.', 'topicId': None, 'topicManual': None, 'topicSelection': 'AUTOMATIC', 'userIdToOrcidPutCode': None, 'users': [{'avatarUrl': 'https://avatars.githubusercontent.com/u/3554574?v=4', 'curator': False, 'id': 2, 'isAdmin': False, 'name': 'mcduffie', 'orcid': None, 'privacyPolicyVersion': 'PRIVACY_POLICY_VERSION_2_5', 'privacyPolicyVersionAcceptanceDate': 1660239673886, 'setupComplete': False, 'tosacceptanceDate': 1660239673886, 'tosversion': 'TOS_VERSION_2', 'userProfiles': None, 'username': 'mcduffie', 'usernameChangeRequired': False}], 'workflowName': 'sounder_sips_l1a', 'workflowVersions': [{'aliases': None, 'author': 'James McDuffie', 'authors': [{'affiliation': None, 'email': 'James.Mcduffie@jpl.nasa.gov', 'name': 'James McDuffie', 'role': None}], 'commitID': 'a1e2cf4b07504820129cd8ed7554134b4534f79d', 'dbUpdateDate': 1670623276387, 'description': 'Processes Sounder SIPS L0 products into L1A products', 'descriptionSource': 'DESCRIPTOR', 'dirtyBit': False, 'doiStatus': 'NOT_REQUESTED', 'doiURL': None, 'email': 'James.Mcduffie@jpl.nasa.gov', 'frozen': False, 'hidden': False, 'id': 73, 'images': None, 'input_file_formats': [], 'last_modified': 1668451974000, 'legacyVersion': True, 'name': 'main', 'orcidAuthors': None, 'output_file_formats': [], 'reference': 'main', 'referenceType': 'BRANCH', 'subClass': None, 'synced': True, 'valid': True, 'validations': None, 'verified': False, 'verifiedSource': None, 'verifiedSources': [], 'versionEditor': None, 'versionMetadata': {'description': 'Processes Sounder SIPS L0 products into L1A products', 'id': 73, 'parsedInformationSet': [{'descriptorLanguage': 'CWL', 'hasHTTPImports': False, 'hasLocalImports': True}], 'publicAccessibleTestParameterFile': None, 'userIdToOrcidPutCode': {}}, 'workflow_path': '/cwl/l1a_workflow.cwl', 'workingDirectory': 'cwl'}], 'workflow_path': '/cwl/l1a_workflow.cwl'})"
      ]
     },
     "execution_count": 12,
     "metadata": {},
     "output_type": "execute_result"
    }
   ],
   "source": [
    "reg_app"
   ]
  },
  {
   "cell_type": "markdown",
   "id": "704a1308-796f-4591-adf1-a98b35a20b26",
   "metadata": {
    "tags": []
   },
   "source": [
    "## Delete Application (Cleanup)"
   ]
  },
  {
   "cell_type": "code",
   "execution_count": 13,
   "id": "307ee2df-c596-4170-81bb-faff193c86b7",
   "metadata": {},
   "outputs": [],
   "source": [
    "del_app = app_catalog.unregister(reg_app, delete=True)"
   ]
  },
  {
   "cell_type": "code",
   "execution_count": 14,
   "id": "f76c6475-ca8e-46be-bf1e-1608cd628f9d",
   "metadata": {},
   "outputs": [
    {
     "data": {
      "text/plain": [
       "DockstoreApplicationPackage(name='sounder_sips_l1a', source_repository='git@github.com:unity-sds/sounder-sips-application.git', workflow_path='/cwl/l1a_workflow.cwl', id=None, is_published=False, description='Processes Sounder SIPS L0 products into L1A products', workflow_type='CWL', dockstore_info=None)"
      ]
     },
     "execution_count": 14,
     "metadata": {},
     "output_type": "execute_result"
    }
   ],
   "source": [
    "del_app"
   ]
  }
 ],
 "metadata": {
  "kernelspec": {
   "display_name": "Python 3 (ipykernel)",
   "language": "python",
   "name": "python3"
  },
  "language_info": {
   "codemirror_mode": {
    "name": "ipython",
    "version": 3
   },
   "file_extension": ".py",
   "mimetype": "text/x-python",
   "name": "python",
   "nbconvert_exporter": "python",
   "pygments_lexer": "ipython3",
   "version": "3.10.6"
  }
 },
 "nbformat": 4,
 "nbformat_minor": 5
}
