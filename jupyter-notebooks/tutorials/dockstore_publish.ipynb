{
 "cells": [
  {
   "cell_type": "code",
   "execution_count": null,
   "id": "702d6a78-9eef-418a-b624-43ee8ee98643",
   "metadata": {},
   "outputs": [],
   "source": [
    "import os\n",
    "import json\n",
    "import requests"
   ]
  },
  {
   "cell_type": "markdown",
   "id": "42bfa738-fc42-421a-b2cf-44b1204e32eb",
   "metadata": {},
   "source": [
    "## Configuration"
   ]
  },
  {
   "cell_type": "code",
   "execution_count": null,
   "id": "11b285a3-2b97-4cd1-9115-05beb47de12a",
   "metadata": {},
   "outputs": [],
   "source": [
    "dockstore_api_uri = \"http://uads-test-dockstore-deploy-lb-1762603872.us-west-2.elb.amazonaws.com:9998/api\""
   ]
  },
  {
   "cell_type": "code",
   "execution_count": null,
   "id": "2f1108d3-b0cb-49ec-9c87-d86515b102f9",
   "metadata": {},
   "outputs": [],
   "source": [
    "token = !cat ~/.dockstore/config  | grep token | awk '{print $2}'\n",
    "token = token[0]"
   ]
  },
  {
   "cell_type": "code",
   "execution_count": null,
   "id": "a1b77872-05d4-408f-8387-c86db15ca3b6",
   "metadata": {},
   "outputs": [],
   "source": [
    "headers = {\n",
    "    \"accept\": \"application/json\",\n",
    "    \"Authorization\": f\"Bearer {token}\",\n",
    "    \"Content-Type\": \"application/json\",\n",
    "}"
   ]
  },
  {
   "cell_type": "markdown",
   "id": "548e2ffd-2a5e-4ac7-8504-8dbd48f04bc0",
   "metadata": {},
   "source": [
    "## User Info"
   ]
  },
  {
   "cell_type": "code",
   "execution_count": null,
   "id": "7062bb73-5659-4e92-8cb5-12487f447e8d",
   "metadata": {},
   "outputs": [],
   "source": [
    "request_url = f\"{dockstore_api_uri}/users/user\""
   ]
  },
  {
   "cell_type": "code",
   "execution_count": null,
   "id": "975e707f-23bd-454f-bca9-8d46a0374bc5",
   "metadata": {},
   "outputs": [],
   "source": [
    "response = requests.get(request_url, headers=headers)"
   ]
  },
  {
   "cell_type": "code",
   "execution_count": null,
   "id": "1bc790dc-eb8a-4d3d-94aa-187e618cf9bc",
   "metadata": {},
   "outputs": [],
   "source": [
    "response.status_code"
   ]
  },
  {
   "cell_type": "code",
   "execution_count": null,
   "id": "07efe5d2-6fb0-42de-ab79-ad84f8b00c37",
   "metadata": {},
   "outputs": [],
   "source": [
    "user_id = response.json()['id']"
   ]
  },
  {
   "cell_type": "markdown",
   "id": "29b1516d-e67e-48d7-a2fc-e4293317f46a",
   "metadata": {},
   "source": [
    "## Application Variables"
   ]
  },
  {
   "cell_type": "code",
   "execution_count": null,
   "id": "fcbe7a9c-6893-424d-822a-f1c1a1b10773",
   "metadata": {},
   "outputs": [],
   "source": [
    "organization = \"unity-sds\"\n",
    "git_version_control = \"github\"\n",
    "git_registry = \"github.com\"\n",
    "repository_base = \"sounder-sips-application\"\n",
    "descriptor_type = \"CWL\""
   ]
  },
  {
   "cell_type": "markdown",
   "id": "1f94da3e-727a-456e-ab13-32edf688ddba",
   "metadata": {},
   "source": [
    "## Publish L1A Algorithm"
   ]
  },
  {
   "cell_type": "code",
   "execution_count": null,
   "id": "25f3e646-811b-45d1-b9c5-3d5b6c3cf2f7",
   "metadata": {},
   "outputs": [],
   "source": [
    "workflow_path = \"/cwl/l1a_workflow.cwl\"\n",
    "workflow_name = \"sounder_sips_l1a\""
   ]
  },
  {
   "cell_type": "code",
   "execution_count": null,
   "id": "49770c9a-a8ba-44ad-870c-0a16897df745",
   "metadata": {},
   "outputs": [],
   "source": [
    "params = {\n",
    "    'workflowRegistry': git_version_control,\n",
    "    'workflowPath': f\"{organization}/{repository_base}\",\n",
    "    'defaultWorkflowPath': workflow_path,\n",
    "    'workflowName': workflow_name,\n",
    "    'descriptorType': descriptor_type,\n",
    "    #'defaultTestParameterFilePath':, \n",
    "}\n",
    "\n",
    "request_url = f\"{dockstore_api_uri}/workflows/manualRegister\""
   ]
  },
  {
   "cell_type": "code",
   "execution_count": null,
   "id": "2af93444-44bc-443e-b288-36647872fb49",
   "metadata": {},
   "outputs": [],
   "source": [
    "response = requests.post(request_url, params=params, headers=headers)"
   ]
  },
  {
   "cell_type": "code",
   "execution_count": null,
   "id": "2542321a-7997-40ff-bb20-04f201f4ffd5",
   "metadata": {},
   "outputs": [],
   "source": [
    "response.status_code"
   ]
  },
  {
   "cell_type": "code",
   "execution_count": null,
   "id": "5fdedd6c-2349-4fb8-a9d0-6d531a06a20b",
   "metadata": {},
   "outputs": [],
   "source": [
    "workflow_id = response.json()['id']"
   ]
  },
  {
   "cell_type": "markdown",
   "id": "caacf9c0-e527-417c-a389-e1f66bc81a34",
   "metadata": {},
   "source": [
    "## Refresh"
   ]
  },
  {
   "cell_type": "code",
   "execution_count": null,
   "id": "6d7fff95-ee43-4e24-9811-f62f1ca12edb",
   "metadata": {},
   "outputs": [],
   "source": [
    "request_url = f\"{dockstore_api_uri}/workflows/{workflow_id}/refresh\""
   ]
  },
  {
   "cell_type": "code",
   "execution_count": null,
   "id": "c9029dbe-78d1-4a15-8036-78f574addb2d",
   "metadata": {},
   "outputs": [],
   "source": [
    "response = requests.get(request_url, headers=headers)"
   ]
  },
  {
   "cell_type": "code",
   "execution_count": null,
   "id": "3c42a2ea-51c4-4746-b925-3d660bf2c8e1",
   "metadata": {},
   "outputs": [],
   "source": [
    "response.status_code"
   ]
  },
  {
   "cell_type": "markdown",
   "id": "896ff3ac-103d-4728-9148-20b3fd9af5d6",
   "metadata": {
    "tags": []
   },
   "source": [
    "## Publish"
   ]
  },
  {
   "cell_type": "code",
   "execution_count": null,
   "id": "9646ca56-ee91-4807-9774-0c94381ed435",
   "metadata": {},
   "outputs": [],
   "source": [
    "request_url = f\"{dockstore_api_uri}/workflows/{workflow_id}/publish\""
   ]
  },
  {
   "cell_type": "code",
   "execution_count": null,
   "id": "80c2fe8d-6483-4636-8c26-609b9de5ee59",
   "metadata": {},
   "outputs": [],
   "source": [
    "data = { 'publish': True }"
   ]
  },
  {
   "cell_type": "code",
   "execution_count": null,
   "id": "bbffe9d9-2fea-4a0e-8aba-f8c08528bd3c",
   "metadata": {},
   "outputs": [],
   "source": [
    "response = requests.post(request_url, data=json.dumps(data), headers=headers)"
   ]
  },
  {
   "cell_type": "code",
   "execution_count": null,
   "id": "c85b9124-626c-4111-926b-3cab2334385f",
   "metadata": {},
   "outputs": [],
   "source": [
    "response.status_code"
   ]
  },
  {
   "cell_type": "markdown",
   "id": "65d6578c-4911-492d-9412-5f96fcd565e5",
   "metadata": {},
   "source": [
    "## List Algorithms"
   ]
  },
  {
   "cell_type": "code",
   "execution_count": null,
   "id": "aab9f9aa-0c25-490f-b6a5-37915bf21f16",
   "metadata": {},
   "outputs": [],
   "source": [
    "request_url = f\"{dockstore_api_uri}/users/{user_id}/workflows\""
   ]
  },
  {
   "cell_type": "code",
   "execution_count": null,
   "id": "74dbba28-4492-4ee8-bc52-5c58cc065766",
   "metadata": {},
   "outputs": [],
   "source": [
    "response = requests.get(request_url, headers=headers)"
   ]
  },
  {
   "cell_type": "code",
   "execution_count": null,
   "id": "e542ab6f-f3a5-4285-b6c4-2c9455b9cac1",
   "metadata": {},
   "outputs": [],
   "source": [
    "response.status_code"
   ]
  },
  {
   "cell_type": "code",
   "execution_count": null,
   "id": "9d518604-64de-4b20-b6ec-1bbef6f2c0d3",
   "metadata": {},
   "outputs": [],
   "source": [
    "for wf in response.json():\n",
    "    print(f\"{wf['id']} {wf['full_workflow_path']} - Published: {wf['is_published']}\")"
   ]
  },
  {
   "cell_type": "markdown",
   "id": "6bbf0b34-a35b-4843-b86d-7e7663b6a463",
   "metadata": {},
   "source": [
    "## Workflow ID from Repository Name"
   ]
  },
  {
   "cell_type": "code",
   "execution_count": null,
   "id": "0de90678-bec7-4c95-97e0-b76909f604dd",
   "metadata": {},
   "outputs": [],
   "source": [
    "request_repo = f\"{git_registry}/{organization}/{repository_base}/{workflow_name}\".replace(\"/\", \"%2F\")\n",
    "request_url = f\"{dockstore_api_uri}/workflows/path/entry/{request_repo}\""
   ]
  },
  {
   "cell_type": "code",
   "execution_count": null,
   "id": "f78ca07c-dcc4-4f1b-bfcf-b1a2387630ab",
   "metadata": {},
   "outputs": [],
   "source": [
    "response = requests.get(request_url, headers=headers)"
   ]
  },
  {
   "cell_type": "code",
   "execution_count": null,
   "id": "6dcbe4ed-8d49-4011-9015-3eb0741eb8fa",
   "metadata": {},
   "outputs": [],
   "source": [
    "response.status_code"
   ]
  },
  {
   "cell_type": "code",
   "execution_count": null,
   "id": "7e70e134-58ad-464c-9fdd-9e3a99353501",
   "metadata": {},
   "outputs": [],
   "source": [
    "#response.json()"
   ]
  },
  {
   "cell_type": "code",
   "execution_count": null,
   "id": "ebdb5aa5-bb57-4607-b667-9ebbeac8d0da",
   "metadata": {},
   "outputs": [],
   "source": [
    "workflow_id = response.json()['id']\n",
    "workflow_id"
   ]
  },
  {
   "cell_type": "markdown",
   "id": "704a1308-796f-4591-adf1-a98b35a20b26",
   "metadata": {
    "tags": []
   },
   "source": [
    "## Unpublish"
   ]
  },
  {
   "cell_type": "code",
   "execution_count": null,
   "id": "9121d828-6f8c-4070-b685-99bcb7acbf63",
   "metadata": {},
   "outputs": [],
   "source": [
    "request_url = f\"{dockstore_api_uri}/workflows/{workflow_id}/publish\""
   ]
  },
  {
   "cell_type": "code",
   "execution_count": null,
   "id": "45ff4246-017c-474e-8f0f-2977b3ba20cb",
   "metadata": {},
   "outputs": [],
   "source": [
    "data = { 'publish': False }"
   ]
  },
  {
   "cell_type": "code",
   "execution_count": null,
   "id": "21e10625-5492-4cd2-bf33-195249ed486a",
   "metadata": {},
   "outputs": [],
   "source": [
    "response = requests.post(request_url, data=json.dumps(data), headers=headers)"
   ]
  },
  {
   "cell_type": "code",
   "execution_count": null,
   "id": "be36f214-c6ea-4532-b247-d453b1dd5a39",
   "metadata": {},
   "outputs": [],
   "source": [
    "response.status_code"
   ]
  },
  {
   "cell_type": "markdown",
   "id": "f54ca205-9bca-4d28-86e3-d981634c1910",
   "metadata": {},
   "source": [
    "## Restub"
   ]
  },
  {
   "cell_type": "code",
   "execution_count": null,
   "id": "55e28a77-6b51-4855-aa04-31874c885aac",
   "metadata": {},
   "outputs": [],
   "source": [
    "request_url = f\"{dockstore_api_uri}/workflows/{workflow_id}/restub\""
   ]
  },
  {
   "cell_type": "code",
   "execution_count": null,
   "id": "06caa4bb-036b-4110-8bd5-7333b3b30e0d",
   "metadata": {},
   "outputs": [],
   "source": [
    "response = requests.get(request_url, headers=headers)"
   ]
  },
  {
   "cell_type": "code",
   "execution_count": null,
   "id": "7906d407-a9e7-4a8f-b2b7-b7479c54de59",
   "metadata": {},
   "outputs": [],
   "source": [
    "response.status_code"
   ]
  },
  {
   "cell_type": "markdown",
   "id": "e4f96b98-1bdd-4300-a61f-46f1ac20154c",
   "metadata": {},
   "source": [
    "## Delete"
   ]
  },
  {
   "cell_type": "code",
   "execution_count": null,
   "id": "e1802c0e-f062-43c9-967c-c3ef85eecd3c",
   "metadata": {},
   "outputs": [],
   "source": [
    "request_repo = f\"{repository_base}/{workflow_name}\".replace(\"/\", \"%2F\")\n",
    "request_url = f\"{dockstore_api_uri}/workflows/registries/{git_registry}/organizations/{organization}/repositories/{request_repo}\""
   ]
  },
  {
   "cell_type": "code",
   "execution_count": null,
   "id": "c444d54c-09ba-4506-ad49-9358f8c8b012",
   "metadata": {},
   "outputs": [],
   "source": [
    "response = requests.delete(request_url, headers=headers)"
   ]
  },
  {
   "cell_type": "code",
   "execution_count": null,
   "id": "d89acd54-fa56-4cd4-ab14-d3c73c6a0d89",
   "metadata": {},
   "outputs": [],
   "source": [
    "response.status_code"
   ]
  },
  {
   "cell_type": "code",
   "execution_count": null,
   "id": "a224d251-eefb-4aab-a59d-c417a0638f79",
   "metadata": {},
   "outputs": [],
   "source": [
    "response.content"
   ]
  }
 ],
 "metadata": {
  "kernelspec": {
   "display_name": "Python 3 (ipykernel)",
   "language": "python",
   "name": "python3"
  },
  "language_info": {
   "codemirror_mode": {
    "name": "ipython",
    "version": 3
   },
   "file_extension": ".py",
   "mimetype": "text/x-python",
   "name": "python",
   "nbconvert_exporter": "python",
   "pygments_lexer": "ipython3",
   "version": "3.10.5"
  }
 },
 "nbformat": 4,
 "nbformat_minor": 5
}
