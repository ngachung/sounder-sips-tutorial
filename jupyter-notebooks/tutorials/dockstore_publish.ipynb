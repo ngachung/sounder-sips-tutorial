{
 "cells": [
  {
   "cell_type": "code",
   "execution_count": 1,
   "id": "702d6a78-9eef-418a-b624-43ee8ee98643",
   "metadata": {},
   "outputs": [],
   "source": [
    "import os  \n",
    "import sys"
   ]
  },
  {
   "cell_type": "code",
   "execution_count": 2,
   "id": "6f3a0abe-3a42-455d-b365-0f0039455570",
   "metadata": {},
   "outputs": [],
   "source": [
    "sys.path.append(os.path.expanduser(\"~/Documents/Unity/ADS/unity-py\"))"
   ]
  },
  {
   "cell_type": "code",
   "execution_count": 3,
   "id": "0d63d3d2-0f6e-4303-b37d-8394e0e1411c",
   "metadata": {},
   "outputs": [],
   "source": [
    "from unity_py.services.application_service import *"
   ]
  },
  {
   "cell_type": "markdown",
   "id": "42bfa738-fc42-421a-b2cf-44b1204e32eb",
   "metadata": {},
   "source": [
    "## Configuration"
   ]
  },
  {
   "cell_type": "code",
   "execution_count": 4,
   "id": "11b285a3-2b97-4cd1-9115-05beb47de12a",
   "metadata": {},
   "outputs": [],
   "source": [
    "# \"test\" deployment of the Dockstore:\n",
    "# dockstore_api_uri = \"http://uads-test-dockstore-deploy-lb-1762603872.us-west-2.elb.amazonaws.com:9998/api\"\n",
    "\n",
    "# \"dev\" deployment of the Dockstore:\n",
    "dockstore_api_uri = \"http://awsLBDockstoreStack-lb-1993889266.us-west-2.elb.amazonaws.com:9998/api\""
   ]
  },
  {
   "cell_type": "markdown",
   "id": "c7b6dacf-650f-4eea-96ca-985a1834c907",
   "metadata": {},
   "source": [
    "### Read Dockstore user account token from the ~/.dockstore/config file"
   ]
  },
  {
   "cell_type": "markdown",
   "id": "016dd62b-4eaa-4823-b65b-07793444afa4",
   "metadata": {},
   "source": [
    "The token for the Dockstore user account is expected to be stored in the ~/.dockstore/config file in the following format:\n",
    "\n",
    "```\n",
    "% cat ~/.dockstore/config\n",
    "token 91e039fb982da7e1847fd6fc365e390de67f8eed09abc7ba606a169800eda20\n",
    "```"
   ]
  },
  {
   "cell_type": "code",
   "execution_count": 5,
   "id": "2f1108d3-b0cb-49ec-9c87-d86515b102f9",
   "metadata": {},
   "outputs": [],
   "source": [
    "# token = os.environ.get('TF_VAR_dockstore_token')\n",
    "\n",
    "token = !cat ~/.dockstore/config  | grep token | awk '{print $2}'\n",
    "token = token[0]"
   ]
  },
  {
   "cell_type": "markdown",
   "id": "7e128d17-f0a4-4698-8ab1-4d68f0da0316",
   "metadata": {},
   "source": [
    "## Catalog Interface\n"
   ]
  },
  {
   "cell_type": "code",
   "execution_count": 6,
   "id": "b9dae047-4ac0-478c-87b7-b8011d09465c",
   "metadata": {},
   "outputs": [],
   "source": [
    "app_catalog = DockstoreAppCatalog(dockstore_api_uri, token)"
   ]
  },
  {
   "cell_type": "markdown",
   "id": "919b88c1-4e85-446e-801e-0ee76d264525",
   "metadata": {},
   "source": [
    "## Existing User Applications"
   ]
  },
  {
   "cell_type": "code",
   "execution_count": 7,
   "id": "4ca327d3-35fe-4455-8eae-a9d56a88c423",
   "metadata": {
    "tags": []
   },
   "outputs": [
    {
     "name": "stdout",
     "output_type": "stream",
     "text": [
      "1 workflow_example git@dockstore.org:workflows/dockstore.org/mliukis/workflow_example.git\n",
      "2 workflow_for_download git@dockstore.org:workflows/dockstore.org/mliukis/workflow_for_download.git\n"
     ]
    }
   ],
   "source": [
    "for app in app_catalog.application_list(for_user=True):\n",
    "    print(f\"{app.id} {app.name} {app.source_repository}\")"
   ]
  },
  {
   "cell_type": "markdown",
   "id": "9094f83c-4671-420e-92e2-85d03facf277",
   "metadata": {},
   "source": [
    "## Existing Published User Applications"
   ]
  },
  {
   "cell_type": "code",
   "execution_count": 8,
   "id": "8a8e5b2b-1fe7-4a57-85e2-8e5337b8b447",
   "metadata": {},
   "outputs": [
    {
     "name": "stdout",
     "output_type": "stream",
     "text": [
      "1 workflow_example git@dockstore.org:workflows/dockstore.org/mliukis/workflow_example.git\n",
      "2 workflow_for_download git@dockstore.org:workflows/dockstore.org/mliukis/workflow_for_download.git\n"
     ]
    }
   ],
   "source": [
    "for app in app_catalog.application_list(for_user=True, published=True):\n",
    "    print(f\"{app.id} {app.name} {app.source_repository}\")"
   ]
  },
  {
   "cell_type": "markdown",
   "id": "c4d10706-f649-4e16-b253-48b81d2db847",
   "metadata": {},
   "source": [
    "## Existing Published Applications for All Users"
   ]
  },
  {
   "cell_type": "code",
   "execution_count": 9,
   "id": "532deb27-c43d-4bfe-bdef-f90343d956b1",
   "metadata": {},
   "outputs": [
    {
     "name": "stdout",
     "output_type": "stream",
     "text": [
      "2 workflow_for_download git@dockstore.org:workflows/dockstore.org/mliukis/workflow_for_download.git\n",
      "1 workflow_example git@dockstore.org:workflows/dockstore.org/mliukis/workflow_example.git\n"
     ]
    }
   ],
   "source": [
    "for app in app_catalog.application_list(published=True):\n",
    "    print(f\"{app.id} {app.name} {app.source_repository}\")"
   ]
  },
  {
   "cell_type": "markdown",
   "id": "29b1516d-e67e-48d7-a2fc-e4293317f46a",
   "metadata": {},
   "source": [
    "## Create and Publish New Application in Dockstore"
   ]
  },
  {
   "cell_type": "code",
   "execution_count": 10,
   "id": "fcbe7a9c-6893-424d-822a-f1c1a1b10773",
   "metadata": {},
   "outputs": [],
   "source": [
    "name = \"workflow_test\""
   ]
  },
  {
   "cell_type": "markdown",
   "id": "654b0caf-ca90-46e2-90e4-5dc872db7dcc",
   "metadata": {},
   "source": [
    "### Parameter Files to Upload to Dockstore\n",
    "\n",
    "NOTE: Dockstore hard-codes the path for primary descriptor file of the hosted workflow to **Dockstore.cwl**, so we must use that filename when uploading primary CWL parameter file to the Dockstore.\n",
    "\n",
    "**DockstoreAppCatalog** uploads all parameter files for the application at the same time (by the same URL request) when new application is registered within the Dockstore. "
   ]
  },
  {
   "cell_type": "code",
   "execution_count": 11,
   "id": "9b2ea3d8-9dd6-4d42-9346-1e9298d8e2f5",
   "metadata": {},
   "outputs": [],
   "source": [
    "cwl_param_files = [\n",
    "    'data/dockstore_publish/Dockstore.cwl',\n",
    "    'data/dockstore_publish/step.cwl'\n",
    "]\n",
    "\n",
    "json_param_files = [\n",
    "    'data/dockstore_publish/parameters.json'\n",
    "]"
   ]
  },
  {
   "cell_type": "code",
   "execution_count": 12,
   "id": "f3ea1bb2-00ff-46d6-9a18-ef23a5bd93f0",
   "metadata": {},
   "outputs": [],
   "source": [
    "reg_app = app_catalog.register(app_name=name, cwl_files=cwl_param_files, json_files=json_param_files, publish=True)"
   ]
  },
  {
   "cell_type": "code",
   "execution_count": 13,
   "id": "360a929a-bbbf-4a51-8433-b72f7424f7b7",
   "metadata": {},
   "outputs": [
    {
     "data": {
      "text/plain": [
       "DockstoreApplicationPackage(name='workflow_test', source_repository='git@dockstore.org:workflows/dockstore.org/mliukis/workflow_test.git', workflow_path='/Dockstore.cwl', id='3', is_published=True, description='Bogus hosted workflow registered by unity_py.\\n', workflow_type='CWL', dockstore_info={'type': 'BioWorkflow', 'descriptorType': 'CWL', 'aliases': {}, 'author': 'Masha Liukis', 'checker_id': None, 'conceptDoi': None, 'dbCreateDate': 1687902833832, 'dbUpdateDate': 1687902834396, 'defaultTestParameterFilePath': '/test.json', 'defaultVersion': '1', 'description': 'Bogus hosted workflow registered by unity_py.\\n', 'descriptorTypeSubclass': 'NOT_APPLICABLE', 'email': 'mliukis@jpl.nasa.gov', 'forumUrl': None, 'full_workflow_path': 'dockstore.org/mliukis/workflow_test', 'gitUrl': 'git@dockstore.org:workflows/dockstore.org/mliukis/workflow_test.git', 'has_checker': False, 'id': 3, 'input_file_formats': [], 'isChecker': False, 'is_published': True, 'labels': [], 'lastUpdated': 1687902833826, 'last_modified': -19313300, 'last_modified_date': 1687902834028, 'licenseInformation': {'licenseName': None}, 'mode': 'HOSTED', 'organization': 'mliukis', 'output_file_formats': [], 'parent_id': None, 'path': 'dockstore.org/mliukis/workflow_test', 'repository': 'workflow_test', 'sourceControl': 'dockstore.org', 'source_control_provider': 'DOCKSTORE', 'starredUsers': [], 'topic': None, 'topicAutomatic': None, 'topicId': None, 'topicManual': None, 'topicSelection': 'AUTOMATIC', 'userIdToOrcidPutCode': None, 'users': [{'avatarUrl': 'https://avatars.githubusercontent.com/u/72407733?v=4', 'curator': True, 'id': 1, 'isAdmin': True, 'name': 'mliukis', 'orcid': None, 'privacyPolicyVersion': 'PRIVACY_POLICY_VERSION_2_5', 'privacyPolicyVersionAcceptanceDate': 1687539156728, 'setupComplete': False, 'tosacceptanceDate': 1687539156728, 'tosversion': 'TOS_VERSION_2', 'userProfiles': None, 'username': 'mliukis', 'usernameChangeRequired': False}], 'workflowName': None, 'workflowVersions': [{'aliases': None, 'author': 'Masha Liukis', 'authors': [{'affiliation': None, 'email': 'mliukis@jpl.nasa.gov', 'name': 'Masha Liukis', 'role': None}], 'commitID': None, 'dbUpdateDate': 1687902834068, 'description': 'Bogus hosted workflow registered by unity_py.\\n', 'descriptionSource': 'DESCRIPTOR', 'dirtyBit': False, 'doiStatus': 'NOT_REQUESTED', 'doiURL': None, 'email': 'mliukis@jpl.nasa.gov', 'frozen': False, 'hidden': False, 'id': 13, 'images': None, 'input_file_formats': [], 'last_modified': 1687902834028, 'legacyVersion': True, 'name': '1', 'orcidAuthors': None, 'output_file_formats': [], 'reference': None, 'referenceType': 'TAG', 'subClass': None, 'synced': False, 'valid': True, 'validations': None, 'verified': False, 'verifiedSource': None, 'verifiedSources': [], 'versionEditor': {'avatarUrl': 'https://avatars.githubusercontent.com/u/72407733?v=4', 'curator': True, 'id': 1, 'isAdmin': True, 'name': 'mliukis', 'orcid': None, 'privacyPolicyVersion': 'PRIVACY_POLICY_VERSION_2_5', 'privacyPolicyVersionAcceptanceDate': 1687539156728, 'setupComplete': False, 'tosacceptanceDate': 1687539156728, 'tosversion': 'TOS_VERSION_2', 'userProfiles': None, 'username': 'mliukis', 'usernameChangeRequired': False}, 'versionMetadata': {'description': 'Bogus hosted workflow registered by unity_py.\\n', 'id': 13, 'parsedInformationSet': [], 'publicAccessibleTestParameterFile': None, 'userIdToOrcidPutCode': {}}, 'workflow_path': '/Dockstore.cwl', 'workingDirectory': ''}], 'workflow_path': '/Dockstore.cwl'})"
      ]
     },
     "execution_count": 13,
     "metadata": {},
     "output_type": "execute_result"
    }
   ],
   "source": [
    "reg_app"
   ]
  },
  {
   "cell_type": "markdown",
   "id": "e0a1c20b-24b9-406e-9942-31b951a496d7",
   "metadata": {},
   "source": [
    "### Verify Application is Published"
   ]
  },
  {
   "cell_type": "code",
   "execution_count": 14,
   "id": "0313f8f1-90a9-4c1c-b486-17f1d7b3edd9",
   "metadata": {},
   "outputs": [
    {
     "name": "stdout",
     "output_type": "stream",
     "text": [
      "1 workflow_example git@dockstore.org:workflows/dockstore.org/mliukis/workflow_example.git\n",
      "2 workflow_for_download git@dockstore.org:workflows/dockstore.org/mliukis/workflow_for_download.git\n",
      "3 workflow_test git@dockstore.org:workflows/dockstore.org/mliukis/workflow_test.git\n"
     ]
    }
   ],
   "source": [
    "for app in app_catalog.application_list(for_user=True, published=True):\n",
    "    print(f\"{app.id} {app.name} {app.source_repository}\")"
   ]
  },
  {
   "cell_type": "markdown",
   "id": "f95baacb-8821-4118-9a67-1789e0cb76a2",
   "metadata": {},
   "source": [
    "## Upload / Update Workflow's CWL and JSON Parameter Files One at a Time "
   ]
  },
  {
   "cell_type": "markdown",
   "id": "9296ea97-a157-47eb-b189-d4ea2886afa5",
   "metadata": {},
   "source": [
    "### Upload/Update CWL File for the Application\n",
    "\n",
    "**DockstoreAppCatalog** can upload parameter files one at a time, which might be useful when uploading updated parameter files for already registered application within the Dockstore."
   ]
  },
  {
   "cell_type": "code",
   "execution_count": 15,
   "id": "dc1d7793-d153-45ca-a247-cc8a78a60ed1",
   "metadata": {},
   "outputs": [],
   "source": [
    "param_file = 'data/dockstore_update/Dockstore.cwl'"
   ]
  },
  {
   "cell_type": "code",
   "execution_count": 16,
   "id": "bce63ff3-e76b-4b8d-a3cc-0c8e890bfaab",
   "metadata": {},
   "outputs": [],
   "source": [
    "app_catalog.upload_parameter_file(application=reg_app, param_filename=param_file)"
   ]
  },
  {
   "cell_type": "markdown",
   "id": "feefb17e-4fd1-4ee0-bfcd-b2509381de1f",
   "metadata": {},
   "source": [
    "### Upload/Update JSON File for the Application"
   ]
  },
  {
   "cell_type": "code",
   "execution_count": 17,
   "id": "bb94dd6b-315c-4afb-b5b1-ee4f526a3451",
   "metadata": {},
   "outputs": [],
   "source": [
    "json_param_file = 'data/dockstore_update/parameters.json'"
   ]
  },
  {
   "cell_type": "code",
   "execution_count": 18,
   "id": "1168e7f6-6cfe-4edb-8b31-8340f875ece4",
   "metadata": {},
   "outputs": [],
   "source": [
    "app_catalog.upload_json_file(application=reg_app, param_filename=json_param_file)"
   ]
  },
  {
   "cell_type": "markdown",
   "id": "38b501b2-eb5f-46e5-96df-9bb0563f440c",
   "metadata": {},
   "source": [
    "### Remove Parameter File from the Application\n",
    "\n",
    "To remove any of the uploaded files from the hosted workflow, please specify **None** for the local file path to upload."
   ]
  },
  {
   "cell_type": "code",
   "execution_count": 19,
   "id": "b779b2f9-87ab-4643-9843-bda8a9e3937d",
   "metadata": {},
   "outputs": [],
   "source": [
    "file_to_remove = 'step.cwl'"
   ]
  },
  {
   "cell_type": "code",
   "execution_count": 20,
   "id": "d01e37fb-a3dd-49d4-b17d-8d576655d58e",
   "metadata": {},
   "outputs": [],
   "source": [
    "app_catalog.upload_parameter_file(application=reg_app, param_filename=None, dockstore_filename=file_to_remove)"
   ]
  },
  {
   "cell_type": "markdown",
   "id": "a54100a5-9fed-4188-aaaf-4c5be8bbfe74",
   "metadata": {},
   "source": [
    "### Upload Parameter File to the Application with Provided Dockstore Filename"
   ]
  },
  {
   "cell_type": "code",
   "execution_count": 21,
   "id": "720ceb60-341a-40a9-a18e-00e9a5337e70",
   "metadata": {},
   "outputs": [],
   "source": [
    "file_path = 'data/dockstore_publish/step.cwl'\n",
    "dockstore_path = 'temp/test_step.cwl'"
   ]
  },
  {
   "cell_type": "code",
   "execution_count": 22,
   "id": "926fbe2f-0f3e-4b75-961a-42c5f302d1dc",
   "metadata": {},
   "outputs": [],
   "source": [
    "app_catalog.upload_parameter_file(application=reg_app, param_filename=file_path, dockstore_filename=dockstore_path)"
   ]
  },
  {
   "cell_type": "markdown",
   "id": "704a1308-796f-4591-adf1-a98b35a20b26",
   "metadata": {
    "tags": []
   },
   "source": [
    "## Unpublish Application\n",
    "\n",
    "Dockstore does not allow to delete hosted workflows, so the application can only be unpublished."
   ]
  },
  {
   "cell_type": "code",
   "execution_count": 23,
   "id": "307ee2df-c596-4170-81bb-faff193c86b7",
   "metadata": {},
   "outputs": [],
   "source": [
    "app_catalog.unpublish(application=reg_app)"
   ]
  },
  {
   "cell_type": "markdown",
   "id": "08dac163-bc22-4cfd-a853-1a3eaba2e410",
   "metadata": {},
   "source": [
    "### Verify Application is Unpublished"
   ]
  },
  {
   "cell_type": "code",
   "execution_count": 24,
   "id": "978beac7-6dec-4fce-88f4-47f1786c346d",
   "metadata": {},
   "outputs": [
    {
     "name": "stdout",
     "output_type": "stream",
     "text": [
      "1 workflow_example git@dockstore.org:workflows/dockstore.org/mliukis/workflow_example.git\n",
      "2 workflow_for_download git@dockstore.org:workflows/dockstore.org/mliukis/workflow_for_download.git\n"
     ]
    }
   ],
   "source": [
    "for app in app_catalog.application_list(for_user=True, published=True):\n",
    "    print(f\"{app.id} {app.name} {app.source_repository}\")"
   ]
  },
  {
   "cell_type": "markdown",
   "id": "49386283-c618-4b66-a6b3-7dbea686526e",
   "metadata": {},
   "source": [
    "### Publish Application"
   ]
  },
  {
   "cell_type": "code",
   "execution_count": 25,
   "id": "89311b4d-da30-421a-a045-8b54a3725312",
   "metadata": {},
   "outputs": [],
   "source": [
    "app_catalog.publish(application=reg_app)"
   ]
  },
  {
   "cell_type": "markdown",
   "id": "bd690d06-7ac3-4393-94b9-0fe2fe437022",
   "metadata": {},
   "source": [
    "### Verify Application is Published"
   ]
  },
  {
   "cell_type": "code",
   "execution_count": 26,
   "id": "ab1711d6-adae-4af5-b034-5492d2d2b223",
   "metadata": {},
   "outputs": [
    {
     "name": "stdout",
     "output_type": "stream",
     "text": [
      "1 workflow_example git@dockstore.org:workflows/dockstore.org/mliukis/workflow_example.git\n",
      "2 workflow_for_download git@dockstore.org:workflows/dockstore.org/mliukis/workflow_for_download.git\n",
      "3 workflow_test git@dockstore.org:workflows/dockstore.org/mliukis/workflow_test.git\n"
     ]
    }
   ],
   "source": [
    "for app in app_catalog.application_list(for_user=True, published=True):\n",
    "    print(f\"{app.id} {app.name} {app.source_repository}\")"
   ]
  },
  {
   "cell_type": "markdown",
   "id": "f881bb44-746d-4530-a3d5-78162be5eddb",
   "metadata": {},
   "source": [
    "## Upload/Update Workflow's CWL and JSON Parameter Files All at Once"
   ]
  },
  {
   "cell_type": "code",
   "execution_count": 27,
   "id": "77101c89-7542-42e1-b29b-3b9e039987dc",
   "metadata": {},
   "outputs": [],
   "source": [
    "app_catalog.upload_files(application=reg_app, cwl_files=cwl_param_files, json_files=json_param_files)"
   ]
  },
  {
   "cell_type": "markdown",
   "id": "3ca9b250-1f69-4b39-8ddc-3ce4ddcd6593",
   "metadata": {},
   "source": [
    "## Download Parameter Files for the Workflow"
   ]
  },
  {
   "cell_type": "code",
   "execution_count": 28,
   "id": "1ebb433f-d2f8-4a49-9a9d-3656b4792a94",
   "metadata": {},
   "outputs": [],
   "source": [
    "output_dir = f'download_application_id{reg_app.id}'"
   ]
  },
  {
   "cell_type": "code",
   "execution_count": 29,
   "id": "d3b5dc95-82c9-49ba-9cb9-dff95b032395",
   "metadata": {},
   "outputs": [],
   "source": [
    "app_catalog.download_files(application=reg_app, output_dir_path=output_dir)"
   ]
  },
  {
   "cell_type": "markdown",
   "id": "382ffdfb-5359-407f-b26a-401adcc1f6c6",
   "metadata": {},
   "source": [
    "### List All Downloaded Files in \"output_dir\""
   ]
  },
  {
   "cell_type": "code",
   "execution_count": 31,
   "id": "d94773ed-8584-4dfd-b1d6-7bddf1c1290d",
   "metadata": {},
   "outputs": [
    {
     "data": {
      "text/plain": [
       "['temp',\n",
       " 'parameters.json',\n",
       " 'Dockstore.cwl',\n",
       " 'application_id3_v6.zip',\n",
       " 'step.cwl']"
      ]
     },
     "execution_count": 31,
     "metadata": {},
     "output_type": "execute_result"
    }
   ],
   "source": [
    "os.listdir(output_dir)"
   ]
  },
  {
   "cell_type": "code",
   "execution_count": null,
   "id": "dd1299f0-5b3e-4bcc-97f4-3b7365e8c6cd",
   "metadata": {},
   "outputs": [],
   "source": []
  }
 ],
 "metadata": {
  "kernelspec": {
   "display_name": "Python 3 (ipykernel)",
   "language": "python",
   "name": "python3"
  },
  "language_info": {
   "codemirror_mode": {
    "name": "ipython",
    "version": 3
   },
   "file_extension": ".py",
   "mimetype": "text/x-python",
   "name": "python",
   "nbconvert_exporter": "python",
   "pygments_lexer": "ipython3",
   "version": "3.9.15"
  }
 },
 "nbformat": 4,
 "nbformat_minor": 5
}
