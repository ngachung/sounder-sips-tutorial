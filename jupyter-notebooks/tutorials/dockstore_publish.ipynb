{
 "cells": [
  {
   "cell_type": "code",
   "execution_count": 1,
   "id": "702d6a78-9eef-418a-b624-43ee8ee98643",
   "metadata": {},
   "outputs": [],
   "source": [
    "import os  \n",
    "import sys"
   ]
  },
  {
   "cell_type": "code",
   "execution_count": 2,
   "id": "6f3a0abe-3a42-455d-b365-0f0039455570",
   "metadata": {},
   "outputs": [],
   "source": [
    "# sys.path.append(os.path.expanduser(\"~/unity-py\"))\n",
    "sys.path.append(os.path.expanduser(\"~/Documents/Unity/ADS/unity-py\"))"
   ]
  },
  {
   "cell_type": "code",
   "execution_count": 3,
   "id": "0d63d3d2-0f6e-4303-b37d-8394e0e1411c",
   "metadata": {},
   "outputs": [],
   "source": [
    "from unity_py.services.application_service import *"
   ]
  },
  {
   "cell_type": "markdown",
   "id": "42bfa738-fc42-421a-b2cf-44b1204e32eb",
   "metadata": {},
   "source": [
    "## Configuration"
   ]
  },
  {
   "cell_type": "code",
   "execution_count": 4,
   "id": "11b285a3-2b97-4cd1-9115-05beb47de12a",
   "metadata": {},
   "outputs": [],
   "source": [
    "# \"test\" deployment of the Dockstore:\n",
    "# dockstore_api_uri = \"http://uads-test-dockstore-deploy-lb-1762603872.us-west-2.elb.amazonaws.com:9998/api\"\n",
    "\n",
    "# \"dev\" deployment of the Dockstore:\n",
    "dockstore_api_uri = \"http://awslbdockstorestack-lb-1205958675.us-west-2.elb.amazonaws.com:9998/api\""
   ]
  },
  {
   "cell_type": "code",
   "execution_count": 5,
   "id": "2f1108d3-b0cb-49ec-9c87-d86515b102f9",
   "metadata": {},
   "outputs": [],
   "source": [
    "token = !cat ~/.dockstore/config  | grep token | awk '{print $2}'\n",
    "token = token[0]"
   ]
  },
  {
   "cell_type": "markdown",
   "id": "7e128d17-f0a4-4698-8ab1-4d68f0da0316",
   "metadata": {},
   "source": [
    "## Catalog Interface\n"
   ]
  },
  {
   "cell_type": "code",
   "execution_count": 6,
   "id": "b9dae047-4ac0-478c-87b7-b8011d09465c",
   "metadata": {},
   "outputs": [],
   "source": [
    "app_catalog = DockstoreAppCatalog(dockstore_api_uri, token)"
   ]
  },
  {
   "cell_type": "markdown",
   "id": "919b88c1-4e85-446e-801e-0ee76d264525",
   "metadata": {},
   "source": [
    "## Existing User Applications"
   ]
  },
  {
   "cell_type": "code",
   "execution_count": 7,
   "id": "4ca327d3-35fe-4455-8eae-a9d56a88c423",
   "metadata": {
    "tags": []
   },
   "outputs": [
    {
     "name": "stdout",
     "output_type": "stream",
     "text": [
      "1 sounder_sips_l1a git@github.com:mliukis/sounder-sips-application.git\n",
      "2 sounder_sips_l1b git@github.com:mliukis/sounder-sips-application.git\n",
      "3 jpl-uads-test git@github.com:mliukis/unity-ads-dockstore-app-test.git\n",
      "6 sounder_sips_l1a git@github.com:unity-sds/sounder-sips-application.git\n",
      "7 test_hosted_fromUI git@dockstore.org:workflows/dockstore.org/mliukis/test_hosted_fromUI.git\n",
      "8 test_hosted_workflow_from_python git@dockstore.org:workflows/dockstore.org/mliukis/test_hosted_workflow_from_python.git\n",
      "9 test_hosted_fromUI_N1 git@dockstore.org:workflows/dockstore.org/mliukis/test_hosted_fromUI_N1.git\n",
      "10 test_hosted_workflow_from_python_N2 git@dockstore.org:workflows/dockstore.org/mliukis/test_hosted_workflow_from_python_N2.git\n",
      "11 test_hosted_workflow_from_python_N3 git@dockstore.org:workflows/dockstore.org/mliukis/test_hosted_workflow_from_python_N3.git\n",
      "12 hosted_workflow git@dockstore.org:workflows/dockstore.org/mliukis/hosted_workflow.git\n",
      "13 hosted_workflow_CWL_JSON git@dockstore.org:workflows/dockstore.org/mliukis/hosted_workflow_CWL_JSON.git\n",
      "14 hosted_workflow_upload git@dockstore.org:workflows/dockstore.org/mliukis/hosted_workflow_upload.git\n",
      "15 hosted_workflow_test git@dockstore.org:workflows/dockstore.org/mliukis/hosted_workflow_test.git\n",
      "16 published_hosted_workflow git@dockstore.org:workflows/dockstore.org/mliukis/published_hosted_workflow.git\n",
      "17 hosted_workflow_by_name git@dockstore.org:workflows/dockstore.org/mliukis/hosted_workflow_by_name.git\n",
      "18 workflow_by_unity_py git@dockstore.org:workflows/dockstore.org/mliukis/workflow_by_unity_py.git\n",
      "19 workflow_by_unity git@dockstore.org:workflows/dockstore.org/mliukis/workflow_by_unity.git\n"
     ]
    }
   ],
   "source": [
    "for app in app_catalog.application_list(for_user=True):\n",
    "    print(f\"{app.id} {app.name} {app.source_repository}\")"
   ]
  },
  {
   "cell_type": "markdown",
   "id": "9094f83c-4671-420e-92e2-85d03facf277",
   "metadata": {},
   "source": [
    "## Existing Published User Applications"
   ]
  },
  {
   "cell_type": "code",
   "execution_count": 8,
   "id": "8a8e5b2b-1fe7-4a57-85e2-8e5337b8b447",
   "metadata": {},
   "outputs": [
    {
     "name": "stdout",
     "output_type": "stream",
     "text": [
      "1 sounder_sips_l1a git@github.com:mliukis/sounder-sips-application.git\n",
      "2 sounder_sips_l1b git@github.com:mliukis/sounder-sips-application.git\n",
      "8 test_hosted_workflow_from_python git@dockstore.org:workflows/dockstore.org/mliukis/test_hosted_workflow_from_python.git\n",
      "12 hosted_workflow git@dockstore.org:workflows/dockstore.org/mliukis/hosted_workflow.git\n",
      "15 hosted_workflow_test git@dockstore.org:workflows/dockstore.org/mliukis/hosted_workflow_test.git\n",
      "17 hosted_workflow_by_name git@dockstore.org:workflows/dockstore.org/mliukis/hosted_workflow_by_name.git\n",
      "19 workflow_by_unity git@dockstore.org:workflows/dockstore.org/mliukis/workflow_by_unity.git\n"
     ]
    }
   ],
   "source": [
    "for app in app_catalog.application_list(for_user=True, published=True):\n",
    "    print(f\"{app.id} {app.name} {app.source_repository}\")"
   ]
  },
  {
   "cell_type": "markdown",
   "id": "c4d10706-f649-4e16-b253-48b81d2db847",
   "metadata": {},
   "source": [
    "## Existing Published Applications for All Users"
   ]
  },
  {
   "cell_type": "code",
   "execution_count": 9,
   "id": "532deb27-c43d-4bfe-bdef-f90343d956b1",
   "metadata": {},
   "outputs": [
    {
     "name": "stdout",
     "output_type": "stream",
     "text": [
      "19 workflow_by_unity git@dockstore.org:workflows/dockstore.org/mliukis/workflow_by_unity.git\n",
      "17 hosted_workflow_by_name git@dockstore.org:workflows/dockstore.org/mliukis/hosted_workflow_by_name.git\n",
      "15 hosted_workflow_test git@dockstore.org:workflows/dockstore.org/mliukis/hosted_workflow_test.git\n",
      "12 hosted_workflow git@dockstore.org:workflows/dockstore.org/mliukis/hosted_workflow.git\n",
      "8 test_hosted_workflow_from_python git@dockstore.org:workflows/dockstore.org/mliukis/test_hosted_workflow_from_python.git\n",
      "5 sounder_sips_l1b git@github.com:nlahaye/sounder-sips-application.git\n",
      "4 sounder_sips_l1a git@github.com:nlahaye/sounder-sips-application.git\n",
      "2 sounder_sips_l1b git@github.com:mliukis/sounder-sips-application.git\n",
      "1 sounder_sips_l1a git@github.com:mliukis/sounder-sips-application.git\n"
     ]
    }
   ],
   "source": [
    "for app in app_catalog.application_list(published=True):\n",
    "    print(f\"{app.id} {app.name} {app.source_repository}\")"
   ]
  },
  {
   "cell_type": "markdown",
   "id": "29b1516d-e67e-48d7-a2fc-e4293317f46a",
   "metadata": {},
   "source": [
    "## Create and Publish New Application in Dockstore"
   ]
  },
  {
   "cell_type": "code",
   "execution_count": 10,
   "id": "fcbe7a9c-6893-424d-822a-f1c1a1b10773",
   "metadata": {},
   "outputs": [],
   "source": [
    "name = \"workflow\""
   ]
  },
  {
   "cell_type": "markdown",
   "id": "654b0caf-ca90-46e2-90e4-5dc872db7dcc",
   "metadata": {},
   "source": [
    "### Parameter Files to Upload to Dockstore\n",
    "\n",
    "NOTE: Dockstore hard-codes the path for primary descriptor file of the hosted workflow to **Dockstore.cwl**, so we must use that filename when uploading primary CWL parameter file to the Dockstore.\n",
    "\n",
    "**DockstoreAppCatalog** uploads all parameter files for the application at the same time (by the same URL request) when new application is registered within the Dockstore. "
   ]
  },
  {
   "cell_type": "code",
   "execution_count": 11,
   "id": "9b2ea3d8-9dd6-4d42-9346-1e9298d8e2f5",
   "metadata": {},
   "outputs": [],
   "source": [
    "cwl_param_files = [\n",
    "    'data/dockstore_publish/Dockstore.cwl',\n",
    "    'data/dockstore_publish/step.cwl'\n",
    "]\n",
    "\n",
    "json_param_files = [\n",
    "    'data/dockstore_publish/parameters.json'\n",
    "]"
   ]
  },
  {
   "cell_type": "code",
   "execution_count": 12,
   "id": "f3ea1bb2-00ff-46d6-9a18-ef23a5bd93f0",
   "metadata": {},
   "outputs": [],
   "source": [
    "reg_app = app_catalog.register(app_name=name, cwl_files=cwl_param_files, json_files=json_param_files, publish=True)"
   ]
  },
  {
   "cell_type": "code",
   "execution_count": 13,
   "id": "360a929a-bbbf-4a51-8433-b72f7424f7b7",
   "metadata": {},
   "outputs": [
    {
     "data": {
      "text/plain": [
       "DockstoreApplicationPackage(name='workflow', source_repository='git@dockstore.org:workflows/dockstore.org/mliukis/workflow.git', workflow_path='/Dockstore.cwl', id='20', is_published=True, description='Bogus hosted workflow registered by unity_py.\\n', workflow_type='CWL', dockstore_info={'type': 'BioWorkflow', 'descriptorType': 'CWL', 'aliases': {}, 'author': 'Masha Liukis', 'checker_id': None, 'conceptDoi': None, 'dbCreateDate': 1681261658271, 'dbUpdateDate': 1681261658667, 'defaultTestParameterFilePath': '/test.json', 'defaultVersion': '1', 'description': 'Bogus hosted workflow registered by unity_py.\\n', 'descriptorTypeSubclass': 'NOT_APPLICABLE', 'email': 'mliukis@jpl.nasa.gov', 'forumUrl': None, 'full_workflow_path': 'dockstore.org/mliukis/workflow', 'gitUrl': 'git@dockstore.org:workflows/dockstore.org/mliukis/workflow.git', 'has_checker': False, 'id': 20, 'input_file_formats': [], 'isChecker': False, 'is_published': True, 'labels': [], 'lastUpdated': 1681261658269, 'last_modified': 1929445688, 'last_modified_date': 1681261658424, 'licenseInformation': {'licenseName': None}, 'mode': 'HOSTED', 'organization': 'mliukis', 'output_file_formats': [], 'parent_id': None, 'path': 'dockstore.org/mliukis/workflow', 'repository': 'workflow', 'sourceControl': 'dockstore.org', 'source_control_provider': 'DOCKSTORE', 'starredUsers': [], 'topic': None, 'topicAutomatic': None, 'topicId': None, 'topicManual': None, 'topicSelection': 'AUTOMATIC', 'userIdToOrcidPutCode': None, 'users': [{'avatarUrl': 'https://avatars.githubusercontent.com/u/72407733?v=4', 'curator': True, 'id': 2, 'isAdmin': True, 'name': 'mliukis', 'orcid': None, 'privacyPolicyVersion': 'PRIVACY_POLICY_VERSION_2_5', 'privacyPolicyVersionAcceptanceDate': 1676409759024, 'setupComplete': False, 'tosacceptanceDate': 1676409759024, 'tosversion': 'TOS_VERSION_2', 'userProfiles': None, 'username': 'mliukis', 'usernameChangeRequired': False}], 'workflowName': None, 'workflowVersions': [{'aliases': None, 'author': 'Masha Liukis', 'authors': [{'affiliation': None, 'email': 'mliukis@jpl.nasa.gov', 'name': 'Masha Liukis', 'role': None}], 'commitID': None, 'dbUpdateDate': 1681261658447, 'description': 'Bogus hosted workflow registered by unity_py.\\n', 'descriptionSource': 'DESCRIPTOR', 'dirtyBit': False, 'doiStatus': 'NOT_REQUESTED', 'doiURL': None, 'email': 'mliukis@jpl.nasa.gov', 'frozen': False, 'hidden': False, 'id': 29, 'images': None, 'input_file_formats': [], 'last_modified': 1681261658424, 'legacyVersion': True, 'name': '1', 'orcidAuthors': None, 'output_file_formats': [], 'reference': None, 'referenceType': 'TAG', 'subClass': None, 'synced': False, 'valid': True, 'validations': None, 'verified': False, 'verifiedSource': None, 'verifiedSources': [], 'versionEditor': {'avatarUrl': 'https://avatars.githubusercontent.com/u/72407733?v=4', 'curator': True, 'id': 2, 'isAdmin': True, 'name': 'mliukis', 'orcid': None, 'privacyPolicyVersion': 'PRIVACY_POLICY_VERSION_2_5', 'privacyPolicyVersionAcceptanceDate': 1676409759024, 'setupComplete': False, 'tosacceptanceDate': 1676409759024, 'tosversion': 'TOS_VERSION_2', 'userProfiles': None, 'username': 'mliukis', 'usernameChangeRequired': False}, 'versionMetadata': {'description': 'Bogus hosted workflow registered by unity_py.\\n', 'id': 29, 'parsedInformationSet': [], 'publicAccessibleTestParameterFile': None, 'userIdToOrcidPutCode': {}}, 'workflow_path': '/Dockstore.cwl', 'workingDirectory': ''}], 'workflow_path': '/Dockstore.cwl'})"
      ]
     },
     "execution_count": 13,
     "metadata": {},
     "output_type": "execute_result"
    }
   ],
   "source": [
    "reg_app"
   ]
  },
  {
   "cell_type": "markdown",
   "id": "e0a1c20b-24b9-406e-9942-31b951a496d7",
   "metadata": {},
   "source": [
    "### Verify Application is Published"
   ]
  },
  {
   "cell_type": "code",
   "execution_count": 14,
   "id": "0313f8f1-90a9-4c1c-b486-17f1d7b3edd9",
   "metadata": {},
   "outputs": [
    {
     "name": "stdout",
     "output_type": "stream",
     "text": [
      "1 sounder_sips_l1a git@github.com:mliukis/sounder-sips-application.git\n",
      "2 sounder_sips_l1b git@github.com:mliukis/sounder-sips-application.git\n",
      "8 test_hosted_workflow_from_python git@dockstore.org:workflows/dockstore.org/mliukis/test_hosted_workflow_from_python.git\n",
      "12 hosted_workflow git@dockstore.org:workflows/dockstore.org/mliukis/hosted_workflow.git\n",
      "15 hosted_workflow_test git@dockstore.org:workflows/dockstore.org/mliukis/hosted_workflow_test.git\n",
      "17 hosted_workflow_by_name git@dockstore.org:workflows/dockstore.org/mliukis/hosted_workflow_by_name.git\n",
      "19 workflow_by_unity git@dockstore.org:workflows/dockstore.org/mliukis/workflow_by_unity.git\n",
      "20 workflow git@dockstore.org:workflows/dockstore.org/mliukis/workflow.git\n"
     ]
    }
   ],
   "source": [
    "for app in app_catalog.application_list(for_user=True, published=True):\n",
    "    print(f\"{app.id} {app.name} {app.source_repository}\")"
   ]
  },
  {
   "cell_type": "markdown",
   "id": "f95baacb-8821-4118-9a67-1789e0cb76a2",
   "metadata": {},
   "source": [
    "## Upload / Update Workflow's CWL and JSON Parameter Files One at a Time "
   ]
  },
  {
   "cell_type": "markdown",
   "id": "9296ea97-a157-47eb-b189-d4ea2886afa5",
   "metadata": {},
   "source": [
    "### Upload/Update CWL File for the Application\n",
    "\n",
    "**DockstoreAppCatalog** can upload parameter files one at a time, which might be useful when uploading updated parameter files for already registered application within the Dockstore."
   ]
  },
  {
   "cell_type": "code",
   "execution_count": 15,
   "id": "dc1d7793-d153-45ca-a247-cc8a78a60ed1",
   "metadata": {},
   "outputs": [],
   "source": [
    "param_file = 'data/dockstore_update/Dockstore.cwl'"
   ]
  },
  {
   "cell_type": "code",
   "execution_count": 16,
   "id": "bce63ff3-e76b-4b8d-a3cc-0c8e890bfaab",
   "metadata": {},
   "outputs": [],
   "source": [
    "app_catalog.upload_parameter_file(application=reg_app, param_filename=param_file)"
   ]
  },
  {
   "cell_type": "markdown",
   "id": "feefb17e-4fd1-4ee0-bfcd-b2509381de1f",
   "metadata": {},
   "source": [
    "### Upload/Update JSON File for the Application"
   ]
  },
  {
   "cell_type": "code",
   "execution_count": 17,
   "id": "bb94dd6b-315c-4afb-b5b1-ee4f526a3451",
   "metadata": {},
   "outputs": [],
   "source": [
    "json_param_file = 'data/dockstore_update/parameters.json'"
   ]
  },
  {
   "cell_type": "code",
   "execution_count": 18,
   "id": "1168e7f6-6cfe-4edb-8b31-8340f875ece4",
   "metadata": {},
   "outputs": [],
   "source": [
    "app_catalog.upload_json_file(application=reg_app, param_filename=json_param_file)"
   ]
  },
  {
   "cell_type": "markdown",
   "id": "38b501b2-eb5f-46e5-96df-9bb0563f440c",
   "metadata": {},
   "source": [
    "### Remove Parameter File from the Application\n",
    "\n",
    "To remove any of the uploaded files from the hosted workflow, please upload file with empty contents to the Dockstore.\n",
    "\n",
    "Dockstore does not remove the file, but replaces it with pre-defined (by the Dockstore) template file."
   ]
  },
  {
   "cell_type": "code",
   "execution_count": 19,
   "id": "b779b2f9-87ab-4643-9843-bda8a9e3937d",
   "metadata": {},
   "outputs": [],
   "source": [
    "file_path = 'data/dockstore_update/step.cwl'"
   ]
  },
  {
   "cell_type": "code",
   "execution_count": 20,
   "id": "d01e37fb-a3dd-49d4-b17d-8d576655d58e",
   "metadata": {},
   "outputs": [],
   "source": [
    "app_catalog.upload_parameter_file(application=reg_app, param_filename=file_path)"
   ]
  },
  {
   "cell_type": "markdown",
   "id": "a54100a5-9fed-4188-aaaf-4c5be8bbfe74",
   "metadata": {},
   "source": [
    "### Upload Parameter File to the Application with Provided Dockstore Filename"
   ]
  },
  {
   "cell_type": "code",
   "execution_count": 21,
   "id": "720ceb60-341a-40a9-a18e-00e9a5337e70",
   "metadata": {},
   "outputs": [],
   "source": [
    "file_path = 'data/dockstore_publish/step.cwl'\n",
    "dockstore_path = 'temp/test_step.cwl'"
   ]
  },
  {
   "cell_type": "code",
   "execution_count": 22,
   "id": "926fbe2f-0f3e-4b75-961a-42c5f302d1dc",
   "metadata": {},
   "outputs": [],
   "source": [
    "app_catalog.upload_parameter_file(application=reg_app, param_filename=file_path, dockstore_filename=dockstore_path)"
   ]
  },
  {
   "cell_type": "markdown",
   "id": "704a1308-796f-4591-adf1-a98b35a20b26",
   "metadata": {
    "tags": []
   },
   "source": [
    "## Unpublish Application\n",
    "\n",
    "Dockstore does not allow to delete hosted workflows, so the application can only be unpublished."
   ]
  },
  {
   "cell_type": "code",
   "execution_count": 23,
   "id": "307ee2df-c596-4170-81bb-faff193c86b7",
   "metadata": {},
   "outputs": [],
   "source": [
    "app_catalog.unpublish(application=reg_app)"
   ]
  },
  {
   "cell_type": "markdown",
   "id": "08dac163-bc22-4cfd-a853-1a3eaba2e410",
   "metadata": {},
   "source": [
    "### Verify Application is Unpublished"
   ]
  },
  {
   "cell_type": "code",
   "execution_count": 24,
   "id": "978beac7-6dec-4fce-88f4-47f1786c346d",
   "metadata": {},
   "outputs": [
    {
     "name": "stdout",
     "output_type": "stream",
     "text": [
      "1 sounder_sips_l1a git@github.com:mliukis/sounder-sips-application.git\n",
      "2 sounder_sips_l1b git@github.com:mliukis/sounder-sips-application.git\n",
      "8 test_hosted_workflow_from_python git@dockstore.org:workflows/dockstore.org/mliukis/test_hosted_workflow_from_python.git\n",
      "12 hosted_workflow git@dockstore.org:workflows/dockstore.org/mliukis/hosted_workflow.git\n",
      "15 hosted_workflow_test git@dockstore.org:workflows/dockstore.org/mliukis/hosted_workflow_test.git\n",
      "17 hosted_workflow_by_name git@dockstore.org:workflows/dockstore.org/mliukis/hosted_workflow_by_name.git\n",
      "19 workflow_by_unity git@dockstore.org:workflows/dockstore.org/mliukis/workflow_by_unity.git\n"
     ]
    }
   ],
   "source": [
    "for app in app_catalog.application_list(for_user=True, published=True):\n",
    "    print(f\"{app.id} {app.name} {app.source_repository}\")"
   ]
  },
  {
   "cell_type": "code",
   "execution_count": null,
   "id": "6c93a215-6d1f-4432-9f4b-967b69cbd6c8",
   "metadata": {},
   "outputs": [],
   "source": []
  }
 ],
 "metadata": {
  "kernelspec": {
   "display_name": "Python 3 (ipykernel)",
   "language": "python",
   "name": "python3"
  },
  "language_info": {
   "codemirror_mode": {
    "name": "ipython",
    "version": 3
   },
   "file_extension": ".py",
   "mimetype": "text/x-python",
   "name": "python",
   "nbconvert_exporter": "python",
   "pygments_lexer": "ipython3",
   "version": "3.9.15"
  }
 },
 "nbformat": 4,
 "nbformat_minor": 5
}
