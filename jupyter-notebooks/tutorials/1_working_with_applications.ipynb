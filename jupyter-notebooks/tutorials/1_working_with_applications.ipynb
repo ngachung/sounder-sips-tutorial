{
 "cells": [
  {
   "cell_type": "markdown",
   "id": "55f72c34-0ac8-4625-86a9-17e7a859f011",
   "metadata": {},
   "source": [
    "# Working with Applications\n",
    "The intent of this tutorial is to help familiarize yourself with submitting applications to the Unity Application Catalog. Adding applications to the application catalog allows you and others to generate data by submitting jobs that use an application selected from the catalog."
   ]
  }
 ],
 "metadata": {
  "kernelspec": {
   "display_name": "Python 3 (ipykernel)",
   "language": "python",
   "name": "python3"
  },
  "language_info": {
   "codemirror_mode": {
    "name": "ipython",
    "version": 3
   },
   "file_extension": ".py",
   "mimetype": "text/x-python",
   "name": "python",
   "nbconvert_exporter": "python",
   "pygments_lexer": "ipython3",
   "version": "3.9.12"
  }
 },
 "nbformat": 4,
 "nbformat_minor": 5
}
