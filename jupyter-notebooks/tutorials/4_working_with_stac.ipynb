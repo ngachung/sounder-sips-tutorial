{
 "cells": [
  {
   "cell_type": "markdown",
   "id": "0b069562",
   "metadata": {},
   "source": [
    "# Working with STAC\n",
    "\n",
    "STAC is the interface to data from a notebook. In this workbook we will show how to read the content of a STAC file and get the locations of data products for input toa. process. Once the process is run, we will show you how to use the unity_py libraries to write a STAC output.\n",
    "\n",
    "The unity_py library is required for usage. It can be installed by one of the two commands:\n",
    "\n",
    "1. pypi: `pip install unity_py` -- coming soon\n",
    "2. From git: main branch: `python -m pip install git+https://github.com/unity-sds/unity-py.git`\n",
    "3. From git: a specific branch: `python -m pip install git+https://github.com/unity-sds/unity-py.git@develop`\n",
    " "
   ]
  },
  {
   "cell_type": "code",
   "execution_count": null,
   "id": "deb37e0b-002e-4b6e-90b5-6beec6b29b59",
   "metadata": {},
   "outputs": [],
   "source": [
    "from unity_py.unity_exception import UnityException\n",
    "from unity_py.resources.collection import Collection, Dataset, DataFile"
   ]
  },
  {
   "cell_type": "markdown",
   "id": "a7794977",
   "metadata": {},
   "source": [
    "### Reading in STAC\n",
    "\n",
    "Using the unity_py 'collection' object, read in files from a STAC catalog. The stac catalog should be in an input to the applicaiton you are developing."
   ]
  },
  {
   "cell_type": "code",
   "execution_count": null,
   "id": "79920e39-4ad0-4926-9078-7cf18d3a7bd5",
   "metadata": {},
   "outputs": [],
   "source": [
    "collection = Collection.from_stac(\"/unity/ads/scratch/gangl/chirp/catalog.json\")"
   ]
  },
  {
   "cell_type": "code",
   "execution_count": null,
   "id": "e5349ee0-c17a-4900-bdd5-40499b3d7e34",
   "metadata": {},
   "outputs": [],
   "source": [
    "datasets = collection._datasets\n",
    "len(datasets)"
   ]
  },
  {
   "cell_type": "code",
   "execution_count": null,
   "id": "3361bc1b-db66-4ab1-9694-32b91ab6df65",
   "metadata": {},
   "outputs": [],
   "source": [
    "# A convenince method for only finding assets with specific \"keys\" (here, data)\n",
    "data_files = collection.data_locations([\"data\"])"
   ]
  },
  {
   "cell_type": "code",
   "execution_count": null,
   "id": "4cbd35b0-3cda-4354-a55a-a900a84fb06e",
   "metadata": {},
   "outputs": [],
   "source": [
    "len(data_files)"
   ]
  },
  {
   "cell_type": "code",
   "execution_count": null,
   "id": "c7f4c460-bf87-4ff0-8ff4-ba25bc93e202",
   "metadata": {},
   "outputs": [],
   "source": [
    "data_files[0:20]"
   ]
  },
  {
   "cell_type": "code",
   "execution_count": null,
   "id": "b41911d0-be54-4cc4-88fc-effa43835d0d",
   "metadata": {},
   "outputs": [],
   "source": [
    "# Run my program on this list of files\n",
    "# This is a simple example of calling a program with the data files as inputs.\n",
    "# The outputs of this \"process\" are written to some directory\n",
    "\n",
    "def chirp_rebin(data_files):\n",
    "    print(\"Processing your data files...\")\n"
   ]
  },
  {
   "cell_type": "code",
   "execution_count": null,
   "id": "c62d5cc3-10d3-49c6-93e2-f7232a2ea2fe",
   "metadata": {},
   "outputs": [],
   "source": [
    "# Call the process\n",
    "chirp_rebin(data_files)\n",
    "\n",
    "# Some additional metadata\n",
    "chirp_rebin_version = \"1.0.1\""
   ]
  },
  {
   "cell_type": "markdown",
   "id": "e1cd0ec0",
   "metadata": {},
   "source": [
    "### Output STAC Creation\n",
    "\n",
    "The output of `chirp_rebin` is, obstensibly, some set of outputs. The output directory should be configurable and passed in, but for this example let's assume they are written to `/unity/ads/scratch/altinok/tiling_output/v1`.\n",
    "\n",
    "We must write a stac file so that followon tasks work appropriately within unity. Some follow on tasks would be \"cataloging\" or \"persisting\" the data files from the output directory to something persisten (e.g. S3). Without staging these out, they only exist on the instance that _generated_ the products; in a scalable system, these products on different machiens need to be stored in a persistent location.\n",
    "\n",
    "The unity_py library allows for the creation of STAC files based on the data you've created. Since some metadata are specific to the products being generated, it is the responsiblity of the project to generate \"good enough\" metadata for use in the unity system.\n",
    "\n",
    "Below is an example of creating STAC from a set of output files. \n",
    "\n",
    " - Collection: A collection of products. \n",
    " - Dataset: metadata and files that correspond to some space/time measurement. this is the same as a \"granule\"\n",
    " - DataFile: a file representing some part of the dataset. Data, metadata, image, etc are all valid types. The 'type' must be unique when converting to STAC.\n"
   ]
  },
  {
   "cell_type": "markdown",
   "id": "04ec1e7b",
   "metadata": {},
   "source": [
    "### A note about output data\n",
    "\n",
    "Because data are transferred between systems and disks, \"absolute\" paths are not ideal in the STAC catalog. the translation from absolute to relative paths is handled automatically by the unity_py catalog with the following stipulations:\n",
    "\n",
    "* URIs are not made relative; if you create a DataFile with a location like `https:`, `http:`, or `s3:` these will not be converted to relative paths.\n",
    "* If a relative path is given as the location of a DataFile, it will not be modified\n",
    "* If a DataFile has an absolute path (e.g. /data/users/mydata...), it will be converted to a relative path IF AND ONLY IF the Collection.to_stac method is called with a path that includes the asset. So if `Collection.to_stac(collection, /data/users/mydata)` is used as the STAC location, the above example datafile will be made relateive. if `Collection.to_stac(collection, /data/users/my_other_data)` is used, it will not be converted to relative paths."
   ]
  },
  {
   "cell_type": "code",
   "execution_count": null,
   "id": "546d380c-93c9-4c00-b979-96539be75561",
   "metadata": {},
   "outputs": [],
   "source": [
    "from pathlib import Path\n",
    "import datetime\n",
    "\n",
    "collection  = Collection(\"SNDR13CHRP1AQCal_rebin\")\n",
    "\n",
    "for path in Path('/unity/ads/scratch/altinok/tiling_output/v1').rglob('*.nc'):\n",
    "        # Create a Dataset for the collection\n",
    "    dataset_name = path.name\n",
    "    dataset_start_time = \"2023-06-15T01:31:12.467113Z\"\n",
    "    dataset_end_time = \"2023-06-15T01:36:12.467113Z\"\n",
    "    dataset_create_time = datetime.datetime.utcnow().replace(tzinfo=datetime.timezone.utc).isoformat()\n",
    "    dataset = Dataset(dataset_name, collection.collection_id, dataset_start_time, dataset_end_time, dataset_create_time)\n",
    "\n",
    "    dataset.add_data_file(DataFile(\"data\",str(path.resolve())))\n",
    "    dataset.add_property(\"percent_cloud_cover\", .01)\n",
    "    dataset.add_property(\"pge_version\",chirp_rebin_version) \n",
    "\n",
    "    #Add the dataset to the collection\n",
    "    collection.add_dataset(dataset)\n",
    "\n"
   ]
  },
  {
   "cell_type": "code",
   "execution_count": null,
   "id": "ba9d2e8a-3f84-4dd2-a295-1773aca3f8ef",
   "metadata": {},
   "outputs": [],
   "source": [
    "len(collection._datasets)"
   ]
  },
  {
   "cell_type": "code",
   "execution_count": null,
   "id": "83193da1-f86c-4b8e-9734-e812039a91d3",
   "metadata": {},
   "outputs": [],
   "source": [
    "Collection.to_stac(collection, \"/unity/ads/scratch/altinok/tiling_output/\")"
   ]
  },
  {
   "cell_type": "markdown",
   "id": "967cde22",
   "metadata": {},
   "source": [
    "The output of the above command will be a catalog.json file at `/unity/ads/scratch/altinok/tiling_output/catalog.json`. A corresponding item file will be created for each dataset (e.g. `SNDR_tile_2016_s320_S19p25_W055p00_L1_AQ_v1_D_2305241684955813.nc.json`) in the same directory"
   ]
  }
 ],
 "metadata": {
  "kernelspec": {
   "display_name": "Python 3 (ipykernel)",
   "language": "python",
   "name": "python3"
  },
  "language_info": {
   "codemirror_mode": {
    "name": "ipython",
    "version": 3
   },
   "file_extension": ".py",
   "mimetype": "text/x-python",
   "name": "python",
   "nbconvert_exporter": "python",
   "pygments_lexer": "ipython3",
   "version": "3.10.9"
  }
 },
 "nbformat": 4,
 "nbformat_minor": 5
}
