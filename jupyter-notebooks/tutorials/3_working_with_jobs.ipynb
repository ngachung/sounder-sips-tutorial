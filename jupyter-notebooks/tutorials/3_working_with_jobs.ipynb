{
 "cells": [
  {
   "cell_type": "markdown",
   "id": "2efbd143-168d-481b-9727-679542d0a14e",
   "metadata": {},
   "source": [
    "# Working with Processes and Jobs\n",
    "Unity helps teams move quickly from algorithm development and testing in Jupyter into large-scale processing with the Scaled Processing System (SPS). In order to do this, algorithms developed in Jupyter must be: \n",
    "1. registered in the Application Catalog (see 1_working_with_applications.ipynb) as _Applications_, \n",
    "2. deployed to an Application Deployment and Execution Service (ADES) in SPS where they are referred to as _Processes_, and then may be \n",
    "3. run on the SPS as _Jobs_.\n",
    "\n",
    "The intent of this tutorial is to help familiarize yourself with execution of code at scale using _Processes_ and _Jobs_. Unity provides users the ability to execute _Jobs_ to produce data. The steps below will showcase how a job is typically submitted to the Unity Platform."
   ]
  },
  {
   "cell_type": "markdown",
   "id": "cc8ce426-16dc-4e2e-bbf6-02ca7bb2513b",
   "metadata": {
    "tags": []
   },
   "source": [
    "## 0. Set up imports, predefined variables, and authentication\n",
    "\n",
    "For this Tutorial we will make use of a wrapper API that is called api.py (in the utils folder). It helps to manage things like authentication."
   ]
  },
  {
   "cell_type": "code",
   "execution_count": null,
   "id": "943d7f5c-0215-4443-9944-b86eefa64630",
   "metadata": {},
   "outputs": [],
   "source": [
    "from utils import api\n",
    "import getpass\n",
    "import json\n",
    "from IPython.display import JSON\n",
    "import requests\n",
    "import time\n",
    "from datetime import datetime\n",
    "\n",
    "app_name = \"job-l1b-cwl:develop\"\n",
    "\n",
    "# This portion of the code is env specific for Dev, Test, Ops, etc. \n",
    "# define the environment as our test venue\n",
    "env = {\n",
    "    \"clientId\":\"71894molftjtie4dvvkbjeard0\",\n",
    "}\n",
    "\n",
    "# The auth_json is template for authorizing with AWS Cognito for a token that can be used for calls to the data service.\n",
    "# For now this is just an empty data structure. You will be prompted for your username and password in a few steps.\n",
    "auth_json = '''{\n",
    "     \"AuthParameters\" : {\n",
    "        \"USERNAME\" : \"\",\n",
    "        \"PASSWORD\" : \"\"\n",
    "     },\n",
    "     \"AuthFlow\" : \"USER_PASSWORD_AUTH\",\n",
    "     \"ClientId\" : \"\"\n",
    "  }'''"
   ]
  },
  {
   "cell_type": "markdown",
   "id": "814a3678-dde6-44d9-ad94-5021b5813eb7",
   "metadata": {
    "tags": []
   },
   "source": [
    "### Authentication Code\n",
    "\n",
    "The below method is a helper function for getting an access token for accessing Unity SDS services. You must pass the token along with any API requests in order to access the various Unity SDS services."
   ]
  },
  {
   "cell_type": "code",
   "execution_count": null,
   "id": "dcd5e87b-8f36-4985-977a-e6b4bc3173b5",
   "metadata": {
    "tags": []
   },
   "outputs": [],
   "source": [
    "# This method is used for taking a username and password and client ID and fetching a cognito token\n",
    "def get_token(username, password, clientID):\n",
    "    aj = json.loads(auth_json)\n",
    "    aj['AuthParameters']['USERNAME'] = username\n",
    "    aj['AuthParameters']['PASSWORD'] = password\n",
    "    aj['ClientId'] =clientID \n",
    "    token = None\n",
    "    try:\n",
    "        response = requests.post('https://cognito-idp.us-west-2.amazonaws.com', headers={\"Content-Type\":\"application/x-amz-json-1.1\", \"X-Amz-Target\":\"AWSCognitoIdentityProviderService.InitiateAuth\"}, json=aj)\n",
    "        token = response.json()['AuthenticationResult']['AccessToken']\n",
    "    except:\n",
    "        print(\"Error, check username and password and try again.\")\n",
    "    return token"
   ]
  },
  {
   "cell_type": "markdown",
   "id": "78549288-db6c-454c-a1dc-92d1a098b601",
   "metadata": {
    "tags": []
   },
   "source": [
    "### Prompt for your Unity username and password\n",
    "\n",
    "These are required to get the token (described above) to connect to the data services."
   ]
  },
  {
   "cell_type": "code",
   "execution_count": null,
   "id": "1f69d59c-65a9-4014-924e-255fd8ff158d",
   "metadata": {
    "tags": []
   },
   "outputs": [],
   "source": [
    "print(\"Please enter your username...\")\n",
    "user_name = input()\n",
    "\n",
    "print(\"Please enter your password...\")\n",
    "password = getpass.getpass()"
   ]
  },
  {
   "cell_type": "code",
   "execution_count": null,
   "id": "a142588e-5710-401a-bd62-b46dd109212b",
   "metadata": {},
   "outputs": [],
   "source": [
    "token = get_token(user_name, password, env['clientId'])\n",
    "\n",
    "if(token):\n",
    "    print(\"Token received.\")"
   ]
  },
  {
   "cell_type": "markdown",
   "id": "98017416-3d3c-4225-843f-8f2fa35be36b",
   "metadata": {},
   "source": [
    "## 1. Query Dockstore"
   ]
  },
  {
   "cell_type": "code",
   "execution_count": null,
   "id": "ce34b502-6b55-42d1-bce8-f0a382ea392f",
   "metadata": {},
   "outputs": [],
   "source": [
    "r = requests.get(\"http://uads-test-dockstore-deploy-lb-1762603872.us-west-2.elb.amazonaws.com:9998/api/workflows/published\")\n",
    "r.raise_for_status()\n",
    "json = r.json()\n",
    "\n",
    "print(\"\\n\\nList of Application Packages available in Dockstore:\")\n",
    "JSON(json)"
   ]
  },
  {
   "cell_type": "markdown",
   "id": "59a80d9c-6a9a-4612-bda5-39eaf64bf8e9",
   "metadata": {},
   "source": [
    "## 2. Select an application from Dockstore\n",
    "\n",
    "In the previous step we queried Dockstore and retrieved a list of applications. From this list of applications, select one and set the `workflow_id` and `workflow_version_id` in the cell below.\n",
    "\n",
    "`workflow_id` is a field labeled `id` from Dockstore.\n",
    "`workflow_version_id` is a field labeled `id` in the `workflowVersions` object.\n",
    "\n",
    "The ID values set below reference an example Sounder SIPS L1B application registered in Unity's Dockstore Test environment."
   ]
  },
  {
   "cell_type": "code",
   "execution_count": null,
   "id": "b0c6b491-8130-4f8c-a8a3-5bd19c90ba24",
   "metadata": {},
   "outputs": [],
   "source": [
    "workflow_id = 16\n",
    "workflow_version_id = 31"
   ]
  },
  {
   "cell_type": "markdown",
   "id": "9e36a5fb-25ab-40ad-a9cb-ed2c06597cea",
   "metadata": {},
   "source": [
    "## 3. Fetch the application's metadata\n",
    "\n",
    "The code below will download a ZIP file containing the CWL files associated with the selected package. The name of the zip will the name of the application (aka workflow). The information in the ZIP file will be used to create a JSON payload needed to deploy the application to Unity's Science Processing Service.\n",
    "\n",
    "***Note, this ZIP file contains a file named `.dockstore.yml` which when unpackad will not be visible in JupyterLab's Folder/File View, it will be viewable via a Terminal window.***"
   ]
  },
  {
   "cell_type": "code",
   "execution_count": null,
   "id": "5f1c287f-939c-424d-bb12-b5145643ba38",
   "metadata": {},
   "outputs": [],
   "source": [
    "r_zip = requests.get(\"http://uads-test-dockstore-deploy-lb-1762603872.us-west-2.elb.amazonaws.com:9998/api/workflows/{workflowId}/zip/{workflowVersionId}\".format(workflowId=16,workflowVersionId=31))\n",
    "r_zip.raise_for_status()\n",
    "\n",
    "workflow_name = json[0]['workflowName']\n",
    "open(\"{}.zip\".format(workflow_name), 'wb').write(r_zip.content)"
   ]
  },
  {
   "cell_type": "markdown",
   "id": "69d43073-3e99-4ea2-8021-9104b4003e84",
   "metadata": {},
   "source": [
    "## 4. Deploy Application\n",
    "\n",
    "Now that we have collected the information about the application from Dockstore, we can package it up and prep it for deployment to Unity's Science Processing Service.\n",
    "\n",
    "Coming soon..."
   ]
  },
  {
   "cell_type": "markdown",
   "id": "9f1cdbbc-6c38-4c2a-955a-08ac8d13e366",
   "metadata": {},
   "source": [
    "## 5. List Processes\n",
    "\n",
    "The Unity API defines a way of viewing all deployed application packages (a.k.a., Processes) on the system using the 'get_apps' function. After a successful deployment of an application package to the Processing endpoint, you should see a new entry for the deployed application.\n",
    "\n",
    "The 'id' field in the returned JSON document is how you will make calls to execute the Process and see existing Jobs for a given Process."
   ]
  },
  {
   "cell_type": "code",
   "execution_count": null,
   "id": "fbf0978f-5f11-4b77-81b1-492f6009234f",
   "metadata": {},
   "outputs": [],
   "source": [
    "apps = api.get_apps(token)\n",
    "for application in apps:\n",
    "    print(\"Process ID: {}\".format(application['id']))\n",
    "    print(\"Process Version: {}\".format(application['processVersion']))\n",
    "    print(\"Process description: {}\".format(application['abstract']))\n",
    "    print(\"\")\n",
    "    \n",
    "print(\"\\n\\nFull JSON Response\")\n",
    "JSON(apps)"
   ]
  },
  {
   "cell_type": "markdown",
   "id": "00fc3f8f-8d05-4765-92cb-99bc25778a02",
   "metadata": {},
   "source": [
    "## 6. Execute a job\n",
    "Before deploying Applications and working with jobs, it is assumed that a system administrator has deployed an ADES. These are often called \"venues\" or \"environments\", and some examples may be dev, test, prod, etc. To run a Job, you need a Process available as well (a deployed Application). In this case we have a demo application deployed and referenced in the setup step 0 above.\n",
    "\n",
    "With an ADES and a Process ready to accept our Job, we can submit a Job along with any input data or parameters that are needed (as defined by a template job definition for a particular Application). In this example case, none are needed so `inputs` is blank. The response will provide a Job ID that we will store in a variable called `job_id` for use later.\n",
    "\n",
    "***NOTE*** - the sample application does not provide input parameters or output parameters at this time. These are coming in a future version of the job control endpoint. Future jobs will allow:\n",
    "- Explicit inputs to be used (no magic)\n",
    "  - inputs can be Unity Resources or DAAC resources\n",
    "- Explicit output 'collection' to which the data will be written"
   ]
  },
  {
   "cell_type": "code",
   "execution_count": null,
   "id": "f923ee90-3e0a-4911-a765-fdd8233d73ea",
   "metadata": {},
   "outputs": [],
   "source": [
    "data = {\n",
    "  \"mode\": \"async\",\n",
    "  \"response\": \"document\",\n",
    "  \"inputs\": [\n",
    "  ],\n",
    "  \"outputs\": [\n",
    "    {\n",
    "      \"id\": \"output\",\n",
    "      \"transmissionMode\": \"reference\"\n",
    "    }\n",
    "  ]\n",
    "}\n",
    "\n",
    "try:\n",
    "\n",
    "    # Store Job ID to use in future steps\n",
    "    job_id = api.submit_job(token, app_name, data)\n",
    "\n",
    "    # If the job submission is successful, print a success message along with the returned JOB-ID\n",
    "    print(\"\\nJob Submission Successful!\\nJOB ID: {}\\n\".format(job_id))\n",
    "\n",
    "except requests.exceptions.HTTPError as e:\n",
    "    # An error has occurred, print the error message that was generated\n",
    "    print(e.reason)"
   ]
  },
  {
   "cell_type": "markdown",
   "id": "7aed28d0-ab28-445c-bbb7-9ead5f5aa160",
   "metadata": {},
   "source": [
    "## 7. Get the Job status\n",
    "The code below will demonstrate how one can check the status of the Job. The potential status responses are documented [here] _need a reference to process status_.\n",
    "\n",
    "In this example, we will look up the status of the predfined application name from the setup step 0, and the job ID that was returned previously. This function will loop/block until the process ends. You will see a printout every 5 seconds."
   ]
  },
  {
   "cell_type": "code",
   "execution_count": null,
   "id": "83e4cc43-3fdf-4e4a-a84c-7bb49f0aa8c3",
   "metadata": {},
   "outputs": [],
   "source": [
    "# Set jobID here if you'd like\n",
    "# job_id = \"76ecf5a6-54b7-4057-bf83-89524a0f709d\"\n",
    "\n",
    "try:\n",
    "    \n",
    "    job_status = api.get_job_status(token, app_name, job_id)\n",
    "\n",
    "    while job_status == \"running\":\n",
    "        print(\"Status for job \\\"{}\\\" ({}): {}\".format(job_id, datetime.now().strftime(\"%H:%M:%S\"), job_status))\n",
    "        time.sleep(5)\n",
    "        job_status = api.get_job_status(token, app_name, job_id)\n",
    "    \n",
    "    # Print the job status\n",
    "    print(\"\\nStatus for job \\\"{}\\\" ({}): {}\\n\".format(job_id, datetime.now().strftime(\"%H:%M:%S\"),job_status))\n",
    "    \n",
    "except requests.exceptions.HTTPError as e:\n",
    "    # An error has occurred, print the error message that was generated\n",
    "    print(e.reason)\n"
   ]
  },
  {
   "cell_type": "markdown",
   "id": "7198115b-2142-4ac7-8581-b1664b2278e7",
   "metadata": {},
   "source": [
    "## 8. Get Job results\n",
    "Now that we've monitored the status of a Job, and verified that is has completed, we can retreive information about where the generated data is located. \n",
    "\n",
    "In this example, we will use the predefined Process name, and the Job ID that was returned previously."
   ]
  },
  {
   "cell_type": "code",
   "execution_count": null,
   "id": "9f4ec92f-0442-4889-b16b-65003a2d6b57",
   "metadata": {},
   "outputs": [],
   "source": [
    "# Set jobID here if you'd like\n",
    "#job_id = \"35284103-b7ce-4ea4-86d1-c0dd0622f898\"\n",
    "\n",
    "try:\n",
    "\n",
    "    job_data = api.get_job_by_id(token, app_name, job_id)\n",
    "\n",
    "    #for data in job_data:\n",
    "    #    print(\"ID: \" + data['id'])\n",
    "    #    print(\"Type: \" + data['mimeType'])\n",
    "    #    print(\"Location: \" + data['href'])\n",
    "        \n",
    "except requests.exceptions.HTTPError as e:\n",
    "    print(e.reason)\n",
    "\n",
    "print(\"\\nFull JSON output data object:\")\n",
    "JSON(job_data)"
   ]
  },
  {
   "cell_type": "markdown",
   "id": "c32a5243-3645-467a-aeec-bd3eba48ed7d",
   "metadata": {},
   "source": [
    "## So... where are the results?\n",
    "\n",
    "Currently the results are not made available to the endpoint, but a future release will include a STAC document of generated files and their locations. For now, the results are written to the `SNDR_SNPP_ATMS_L1B_OUTPUT___1` product type in the Unity system. Again, future releases will allow the specification of the output collection (by name or version)."
   ]
  },
  {
   "cell_type": "markdown",
   "id": "1d9e1a16-cc62-4d0a-87a8-f1c0256c9ac3",
   "metadata": {},
   "source": [
    "## 9. List the Jobs processed by a given Process\n",
    "\n",
    "What if I restarted my notebook and I have no Job ID? The API can ask the process endpoint to list the Jobs for a given Process (deployed Application).\n"
   ]
  },
  {
   "cell_type": "code",
   "execution_count": null,
   "id": "a1c169a6-e4ab-4d9b-bc3f-8b867572be16",
   "metadata": {},
   "outputs": [],
   "source": [
    "jobs = api.get_jobs_for_app(token, app_name)\n",
    "\n",
    "print(\"Jobs running for Process: \", app_name, \"\\n\")\n",
    "\n",
    "for job in jobs:\n",
    "    print(\"{}/{}\".format(job['jobID'], job['status']))\n",
    "\n",
    "    \n",
    "print(\"\\n\\nFull JSON output data of get_jobs_for_app\")\n",
    "JSON(jobs)"
   ]
  }
 ],
 "metadata": {
  "kernelspec": {
   "display_name": "Python 3 (ipykernel)",
   "language": "python",
   "name": "python3"
  },
  "language_info": {
   "codemirror_mode": {
    "name": "ipython",
    "version": 3
   },
   "file_extension": ".py",
   "mimetype": "text/x-python",
   "name": "python",
   "nbconvert_exporter": "python",
   "pygments_lexer": "ipython3",
   "version": "3.9.6"
  }
 },
 "nbformat": 4,
 "nbformat_minor": 5
}
