{
 "cells": [
  {
   "cell_type": "markdown",
   "id": "2efbd143-168d-481b-9727-679542d0a14e",
   "metadata": {},
   "source": [
    "# Working with Jobs\n",
    "The intent of this tutorial is to help familiarize yourself with _jobs_. Unity provides users the ability to execute _jobs_ to produce data. The steps below will showcase how a job is typically submitted to the Unity Platform."
   ]
  },
  {
   "cell_type": "markdown",
   "id": "cc8ce426-16dc-4e2e-bbf6-02ca7bb2513b",
   "metadata": {},
   "source": [
    "#### Set up imports and predefined variables"
   ]
  },
  {
   "cell_type": "code",
   "execution_count": null,
   "id": "943d7f5c-0215-4443-9944-b86eefa64630",
   "metadata": {},
   "outputs": [],
   "source": [
    "from utils import api\n",
    "\n",
    "app_name = \"job-hello_world:develop\""
   ]
  },
  {
   "cell_type": "markdown",
   "id": "00fc3f8f-8d05-4765-92cb-99bc25778a02",
   "metadata": {},
   "source": [
    "## 1. Deploy a job\n",
    "With an ADES environment ready to accept our job, we can submit a job along with any input data that is needed. In this example case, none are needed so `inputs` is blank. The response will provide a Job ID that will store in a variable called `job_id` for use later."
   ]
  },
  {
   "cell_type": "code",
   "execution_count": null,
   "id": "f923ee90-3e0a-4911-a765-fdd8233d73ea",
   "metadata": {},
   "outputs": [],
   "source": [
    "data = {\n",
    "  \"mode\": \"async\",\n",
    "  \"response\": \"document\",\n",
    "  \"inputs\": [\n",
    "  ],\n",
    "  \"outputs\": [\n",
    "    {\n",
    "      \"id\": \"output\",\n",
    "      \"transmissionMode\": \"reference\"\n",
    "    }\n",
    "  ]\n",
    "}\n",
    "\n",
    "try:\n",
    "\n",
    "    # Store Job ID to use in future steps\n",
    "    job_id = api.submit_job(app_name, data)\n",
    "\n",
    "    # If the job submission is successful, print a success message along with the returned JOB-ID\n",
    "    print(\"\\nJob Submission Successful!\\nJOB ID: {}\\n\".format(job_id))\n",
    "\n",
    "except requests.exceptions.HTTPError as e:\n",
    "    # An error has occurred, print the error message that was generated\n",
    "    print(e.reason)"
   ]
  },
  {
   "cell_type": "markdown",
   "id": "7aed28d0-ab28-445c-bbb7-9ead5f5aa160",
   "metadata": {},
   "source": [
    "## 2. Get the job status\n",
    "The code below will demonstrate how one can check the status of a job. \n",
    "\n",
    "In this example, we will use the predfined application name, and the job ID that was returned previously."
   ]
  },
  {
   "cell_type": "code",
   "execution_count": null,
   "id": "83e4cc43-3fdf-4e4a-a84c-7bb49f0aa8c3",
   "metadata": {},
   "outputs": [],
   "source": [
    "try:\n",
    "    \n",
    "    job_status = api.get_job_status(app_name, job_id)\n",
    "    \n",
    "    # Print the job status\n",
    "    print(\"\\nStatus for job \\\"{}\\\": {}\\n\".format(job_id, job_status))\n",
    "    \n",
    "except request.exceptions.HTTPError as e:\n",
    "    # An error has occurred, print the error message that was generated\n",
    "    print(e.reason)\n",
    "        "
   ]
  },
  {
   "cell_type": "markdown",
   "id": "7198115b-2142-4ac7-8581-b1664b2278e7",
   "metadata": {},
   "source": [
    "## 3. Get job results\n",
    "Now that we've monitored the status of a job, and verified that is has completed, we can retreive information about where the generated data is located. \n",
    "\n",
    "In this example, we will use the predfined application name, and the job ID that was returned previously."
   ]
  },
  {
   "cell_type": "code",
   "execution_count": null,
   "id": "9f4ec92f-0442-4889-b16b-65003a2d6b57",
   "metadata": {},
   "outputs": [],
   "source": [
    "try:\n",
    "\n",
    "    job_data = api.get_job_result(app_name, job_id)\n",
    "\n",
    "    for data in job_data:\n",
    "        print(\"ID: \" + data['id'])\n",
    "        print(\"Type: \" + data['mimeType'])\n",
    "        print(\"Location: \" + data['href'])\n",
    "\n",
    "except request.exceptions.HTTPError as e:\n",
    "    print(e.reason)"
   ]
  },
  {
   "cell_type": "code",
   "execution_count": null,
   "id": "da03358a-5cd7-4f36-a95b-4ac26538132f",
   "metadata": {},
   "outputs": [],
   "source": []
  }
 ],
 "metadata": {
  "kernelspec": {
   "display_name": "Python 3 (ipykernel)",
   "language": "python",
   "name": "python3"
  },
  "language_info": {
   "codemirror_mode": {
    "name": "ipython",
    "version": 3
   },
   "file_extension": ".py",
   "mimetype": "text/x-python",
   "name": "python",
   "nbconvert_exporter": "python",
   "pygments_lexer": "ipython3",
   "version": "3.9.12"
  }
 },
 "nbformat": 4,
 "nbformat_minor": 5
}
