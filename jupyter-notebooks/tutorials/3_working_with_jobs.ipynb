{
 "cells": [
  {
   "cell_type": "markdown",
   "id": "2efbd143-168d-481b-9727-679542d0a14e",
   "metadata": {},
   "source": [
    "# Working with processes and jobs\n",
    "Unity helps teams move quickly from algorithm development and testing in Jupyter into large-scale processing with the Scaled Processing System (SPS). In order to do this, algorithms developed in Jupyter must be: \n",
    "1. Registered in the Application Catalog (see 1_working_with_applications.ipynb) as _Applications_, \n",
    "2. Deployed to an Application Deployment and Execution Service (ADES) in SPS where they are referred to as _Processes_, and then may be \n",
    "3. Run on the SPS as _Jobs_.\n",
    "\n",
    "The intent of this tutorial is to help familiarize yourself with execution of code at scale using _Processes_ and _Jobs_. Unity provides users the ability to execute _Jobs_ to produce data. The steps below will showcase how a job is typically submitted to the Unity Platform."
   ]
  },
  {
   "cell_type": "markdown",
   "id": "cc8ce426-16dc-4e2e-bbf6-02ca7bb2513b",
   "metadata": {
    "tags": []
   },
   "source": [
    "## 0. Set up imports, predefined variables, and authentication\n",
    "\n",
    "For this Tutorial we will make use of the Unity-Py client Python package."
   ]
  },
  {
   "cell_type": "markdown",
   "id": "a4037156-e9ee-4b99-aee8-569772ae1d29",
   "metadata": {},
   "source": [
    "### Imports"
   ]
  },
  {
   "cell_type": "code",
   "execution_count": null,
   "id": "943d7f5c-0215-4443-9944-b86eefa64630",
   "metadata": {},
   "outputs": [],
   "source": [
    "import requests\n",
    "import time\n",
    "\n",
    "from datetime import datetime\n",
    "from IPython.display import JSON\n",
    "\n",
    "from unity_py.unity import Unity\n",
    "from unity_py.unity_services import UnityServices\n",
    "from unity_py.resources.job_status import JobStatus"
   ]
  },
  {
   "cell_type": "markdown",
   "id": "9f667721-d0dd-4f38-8eb9-f44aabbe1ac1",
   "metadata": {},
   "source": [
    "### Predefined Variables"
   ]
  },
  {
   "cell_type": "code",
   "execution_count": null,
   "id": "99e378e8-db84-4483-9860-7522b9c37ebc",
   "metadata": {},
   "outputs": [],
   "source": [
    "unity = Unity()\n",
    "process_service = unity.client(UnityServices.PROCESS_SERVICE)"
   ]
  },
  {
   "cell_type": "markdown",
   "id": "95c0cc88-4611-4903-a661-10a80fc60f2e",
   "metadata": {},
   "source": [
    "### Print Unity Configuration"
   ]
  },
  {
   "cell_type": "code",
   "execution_count": null,
   "id": "a0bbe84f-435f-40e1-9ed9-e5e622d17ac0",
   "metadata": {},
   "outputs": [],
   "source": [
    "print(unity)"
   ]
  },
  {
   "cell_type": "markdown",
   "id": "98017416-3d3c-4225-843f-8f2fa35be36b",
   "metadata": {
    "tags": []
   },
   "source": [
    "## 1. Query Dockstore"
   ]
  },
  {
   "cell_type": "code",
   "execution_count": null,
   "id": "ce34b502-6b55-42d1-bce8-f0a382ea392f",
   "metadata": {
    "tags": []
   },
   "outputs": [],
   "source": [
    "r = requests.get(\"http://uads-test-dockstore-deploy-lb-1762603872.us-west-2.elb.amazonaws.com:9998/api/workflows/published\")\n",
    "r.raise_for_status()\n",
    "json = r.json()\n",
    "\n",
    "print(\"\\n\\nList of Application Packages available in Dockstore:\")\n",
    "JSON(json)"
   ]
  },
  {
   "cell_type": "markdown",
   "id": "59a80d9c-6a9a-4612-bda5-39eaf64bf8e9",
   "metadata": {
    "tags": []
   },
   "source": [
    "## 2. Select an application from Dockstore\n",
    "\n",
    "In the previous step we queried Dockstore and retrieved a list of applications. From this list of applications, select one and set the `workflow_id` and `workflow_version_id` in the cell below.\n",
    "\n",
    "`workflow_id` is a field labeled `id` from Dockstore.\n",
    "`workflow_version_id` is a field labeled `id` in the `workflowVersions` object.\n",
    "\n",
    "The ID values set below reference an example Sounder SIPS L1B application registered in Unity's Dockstore Test environment."
   ]
  },
  {
   "cell_type": "code",
   "execution_count": null,
   "id": "b0c6b491-8130-4f8c-a8a3-5bd19c90ba24",
   "metadata": {
    "tags": []
   },
   "outputs": [],
   "source": [
    "workflow_id = 16\n",
    "workflow_version_id = 31"
   ]
  },
  {
   "cell_type": "markdown",
   "id": "9e36a5fb-25ab-40ad-a9cb-ed2c06597cea",
   "metadata": {
    "tags": []
   },
   "source": [
    "## 3. Fetch the application's metadata\n",
    "\n",
    "The code below will download a ZIP file containing the CWL files associated with the selected package. The name of the zip will the name of the application (aka workflow). The information in the ZIP file will be used to create a JSON payload needed to deploy the application to Unity's Science Processing Service.\n",
    "\n",
    "***Note, this ZIP file contains a file named `.dockstore.yml` which when unpackad will not be visible in JupyterLab's Folder/File View, it will be viewable via a Terminal window.***"
   ]
  },
  {
   "cell_type": "code",
   "execution_count": null,
   "id": "5f1c287f-939c-424d-bb12-b5145643ba38",
   "metadata": {
    "tags": []
   },
   "outputs": [],
   "source": [
    "r_zip = requests.get(\"http://uads-test-dockstore-deploy-lb-1762603872.us-west-2.elb.amazonaws.com:9998/api/workflows/{workflowId}/zip/{workflowVersionId}\".format(workflowId=16,workflowVersionId=31))\n",
    "r_zip.raise_for_status()\n",
    "\n",
    "workflow_name = json[0]['workflowName']\n",
    "open(\"{}.zip\".format(workflow_name), 'wb').write(r_zip.content)"
   ]
  },
  {
   "cell_type": "markdown",
   "id": "69d43073-3e99-4ea2-8021-9104b4003e84",
   "metadata": {
    "jp-MarkdownHeadingCollapsed": true,
    "tags": []
   },
   "source": [
    "## 4. Deploy application\n",
    "\n",
    "Now that we have collected the information about the application from Dockstore, we can package it up and prep it for deployment to Unity's Science Processing Service.\n",
    "\n",
    "Coming soon..."
   ]
  },
  {
   "cell_type": "markdown",
   "id": "9f1cdbbc-6c38-4c2a-955a-08ac8d13e366",
   "metadata": {},
   "source": [
    "## 5. Listing all deployed processes\n",
    "\n",
    "The Unity-Py client provides the ability to view all deployed application packages (a.k.a., Processes) on the system using the `get_processes` function. After a successful deployment of an application package to SPS, you should see a new entry for the deployed application.\n",
    "\n",
    "The `id` property is one of the properties needed to execute the Process and see existing Jobs for a given Process."
   ]
  },
  {
   "cell_type": "code",
   "execution_count": null,
   "id": "9d893087-c733-477f-880b-283a1b675df9",
   "metadata": {},
   "outputs": [],
   "source": [
    "processes = process_service.get_processes()\n",
    "for process in processes:\n",
    "    print(\"Process ID: {}\".format(process.id))\n",
    "    print(\"Process Title: {}\".format(process.title))\n",
    "    print(\"Process Abstract: {}\".format(process.abstract))\n",
    "    print(\"Process Version: {}\".format(process.process_version))\n",
    "    print(\"\")\n",
    "    print(process)\n",
    "    \n",
    "# For example purposes, we will use the first process returned\n",
    "my_process = processes[0]\n",
    "print(\"\\n\\nSelected Process:\\n\\n{}\".format(my_process))"
   ]
  },
  {
   "cell_type": "markdown",
   "id": "51426e28-3fa9-41fd-bc52-eca7053c24e7",
   "metadata": {},
   "source": [
    "### Retrieve a deployed process's information\n",
    "\n",
    "If you know the ID of the process, the process information can be retrieved using the `get_process(id)` method of `ProcessService`.\n"
   ]
  },
  {
   "cell_type": "code",
   "execution_count": null,
   "id": "9f2c9ea5-2691-4e4a-bc00-0b682b6a41fd",
   "metadata": {},
   "outputs": [],
   "source": [
    "process = process_service.get_process('l1b-cwl:develop')\n",
    "print(process)"
   ]
  },
  {
   "cell_type": "markdown",
   "id": "00fc3f8f-8d05-4765-92cb-99bc25778a02",
   "metadata": {},
   "source": [
    "## 6. Execute a job\n",
    "Before deploying Applications and working with jobs, it is assumed that a system administrator has deployed an ADES. These are often called \"venues\" or \"environments\", and some examples may be dev, test, prod, etc. To run a Job, you need a Process available as well (a deployed Application). In this case we have a demo application deployed and referenced in the setup step 0 above.\n",
    "\n",
    "With an ADES and a Process ready to accept our Job, we can submit a Job along with any input data or parameters that are needed (as defined by a template job definition for a particular Application). In this example case, none are needed so `inputs` is blank. The response will provide a Job ID that we will store in a variable called `job_id` for use later.\n",
    "\n",
    "***NOTE*** - the sample application does not provide input parameters or output parameters at this time. These are coming in a future version of the job control endpoint. Future jobs will allow:\n",
    "- Explicit inputs to be used (no magic)\n",
    "  - inputs can be Unity Resources or DAAC resources\n",
    "- Explicit output 'collection' to which the data will be written"
   ]
  },
  {
   "cell_type": "code",
   "execution_count": null,
   "id": "f923ee90-3e0a-4911-a765-fdd8233d73ea",
   "metadata": {},
   "outputs": [],
   "source": [
    "data = {\n",
    "  \"mode\": \"async\",\n",
    "  \"response\": \"document\",\n",
    "  \"inputs\": [\n",
    "  ],\n",
    "  \"outputs\": [\n",
    "    {\n",
    "      \"id\": \"output\",\n",
    "      \"transmissionMode\": \"reference\"\n",
    "    }\n",
    "  ]\n",
    "}\n",
    "\n",
    "try:\n",
    "\n",
    "    # Store Job ID to use in future steps\n",
    "    job = my_process.execute(data)\n",
    "    print(job)\n",
    "\n",
    "    # If the job submission is successful, print a success message along with the returned JOB-ID\n",
    "    print(\"\\nJob Submission Successful!\\nJOB ID: {}\\n\".format(job.id))\n",
    "\n",
    "except requests.exceptions.HTTPError as e:\n",
    "    # An error has occurred, print the error message that was generated\n",
    "    print(e.reason)"
   ]
  },
  {
   "cell_type": "markdown",
   "id": "7aed28d0-ab28-445c-bbb7-9ead5f5aa160",
   "metadata": {},
   "source": [
    "## 7. Get the job status\n",
    "The code below will demonstrate how one can check the status of the Job. The potential status responses are documented [here] _need a reference to process status_.\n",
    "\n",
    "In this example, we will look up the status of the predfined application name from the setup step 0, and the job ID that was returned previously. This function will loop/block until the process ends. You will see a printout every 5 seconds."
   ]
  },
  {
   "cell_type": "code",
   "execution_count": null,
   "id": "83e4cc43-3fdf-4e4a-a84c-7bb49f0aa8c3",
   "metadata": {},
   "outputs": [],
   "source": [
    "try:\n",
    "\n",
    "    job_status = job.get_status()\n",
    "    \n",
    "    while job_status == JobStatus.RUNNING:\n",
    "        print(\"Status for job \\\"{}\\\" ({}): {}\".format(job.id, datetime.now().strftime(\"%H:%M:%S\"), job_status.value))\n",
    "        time.sleep(5)\n",
    "        job_status = job.get_status()\n",
    "    \n",
    "    # Print the job status\n",
    "    print(\"\\nStatus for job \\\"{}\\\" ({}): {}\\n\".format(job.id, datetime.now().strftime(\"%H:%M:%S\"),job_status.value))\n",
    "    \n",
    "except requests.exceptions.HTTPError as e:\n",
    "    # An error has occurred, print the error message that was generated\n",
    "    print(e.reason)\n"
   ]
  },
  {
   "cell_type": "markdown",
   "id": "7198115b-2142-4ac7-8581-b1664b2278e7",
   "metadata": {},
   "source": [
    "## 8. Get job results\n",
    "Now that we've monitored the status of a Job, and verified that is has completed, we can retreive information about where the generated data is located. \n",
    "\n",
    "In this example, we will use the predefined Process name, and the Job ID that was returned previously."
   ]
  },
  {
   "cell_type": "code",
   "execution_count": null,
   "id": "9f4ec92f-0442-4889-b16b-65003a2d6b57",
   "metadata": {},
   "outputs": [],
   "source": [
    "try:\n",
    "\n",
    "    job_data = job.get_result()\n",
    "\n",
    "except requests.exceptions.HTTPError as e:\n",
    "    print(e.reason)\n",
    "\n",
    "print(\"\\nFull JSON output data object:\")\n",
    "JSON(job_data)"
   ]
  },
  {
   "cell_type": "markdown",
   "id": "c32a5243-3645-467a-aeec-bd3eba48ed7d",
   "metadata": {},
   "source": [
    "## So... where are the results?\n",
    "\n",
    "Currently the results are not made available to the endpoint, but a future release will include a STAC document of generated files and their locations. For now, the results are written to the `SNDR_SNPP_ATMS_L1B_OUTPUT___1` product type in the Unity system. Again, future releases will allow the specification of the output collection (by name or version)."
   ]
  },
  {
   "cell_type": "markdown",
   "id": "09926e3e-699c-4b05-8611-47df42909088",
   "metadata": {},
   "source": [
    "## 9. Dismiss a job\n",
    "\n",
    "What if after a job was started, it was determined that it is no longer needed? The job can be dismissed as shown in the example below so long as it is still running."
   ]
  },
  {
   "cell_type": "code",
   "execution_count": null,
   "id": "fbc63b7b-0e1c-41a6-bbc4-6526cb251d9a",
   "metadata": {},
   "outputs": [],
   "source": [
    "print(\"{},{}\".format(my_process.id, job.id))\n",
    "response = job.dismiss()\n",
    "\n",
    "print(\"Response: \", response, \"\\n\")"
   ]
  },
  {
   "cell_type": "markdown",
   "id": "1d9e1a16-cc62-4d0a-87a8-f1c0256c9ac3",
   "metadata": {},
   "source": [
    "## 10. List all jobs for a given process\n",
    "\n",
    "What if I restarted my notebook and I have no Job ID? The API can ask the process endpoint to list the Jobs for a given Process (deployed Application).\n"
   ]
  },
  {
   "cell_type": "code",
   "execution_count": null,
   "id": "a1c169a6-e4ab-4d9b-bc3f-8b867572be16",
   "metadata": {},
   "outputs": [],
   "source": [
    "print(\"Jobs running for Process: \", my_process.id, \"\\n\")\n",
    "\n",
    "jobs = process_service.get_jobs(my_process)\n",
    "\n",
    "for job in jobs:\n",
    "    print(job)"
   ]
  }
 ],
 "metadata": {
  "kernelspec": {
   "display_name": "sounder-sips-tutorial",
   "language": "python",
   "name": "sounder-sips-tutorial"
  },
  "language_info": {
   "codemirror_mode": {
    "name": "ipython",
    "version": 3
   },
   "file_extension": ".py",
   "mimetype": "text/x-python",
   "name": "python",
   "nbconvert_exporter": "python",
   "pygments_lexer": "ipython3",
   "version": "3.11.0"
  }
 },
 "nbformat": 4,
 "nbformat_minor": 5
}
