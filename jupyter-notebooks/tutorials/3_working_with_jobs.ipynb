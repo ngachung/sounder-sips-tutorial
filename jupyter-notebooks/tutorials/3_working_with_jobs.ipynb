{
 "cells": [
  {
   "cell_type": "markdown",
   "id": "2efbd143-168d-481b-9727-679542d0a14e",
   "metadata": {},
   "source": [
    "# Working with Processes and Jobs\n",
    "Unity helps teams move quickly from algorithm development and testing in Jupyter into large-scale processing with the Scaled Processing System (SPS). In order to do this, algorithms developed in Jupyter must be: \n",
    "1. registered in the Application Catalog (see 1_working_with_applications.ipynb) as _Applications_, \n",
    "2. deployed to an Application Deployment and Execution Service (ADES) in SPS where they are referred to as _Processes_, and then may be \n",
    "3. run on the SPS as _Jobs_.\n",
    "\n",
    "The intent of this tutorial is to help familiarize yourself with execution of code at scale using _Processes_ and _Jobs_. Unity provides users the ability to execute _Jobs_ to produce data. The steps below will showcase how a job is typically submitted to the Unity Platform."
   ]
  },
  {
   "cell_type": "markdown",
   "id": "cc8ce426-16dc-4e2e-bbf6-02ca7bb2513b",
   "metadata": {
    "tags": []
   },
   "source": [
    "## 0. Set up imports and predefined variables\n",
    "\n",
    "For this Tutorial we will make use of a wrapper API that is called api.py (in the utils folder). It helps to manage things like authentication."
   ]
  },
  {
   "cell_type": "code",
   "execution_count": null,
   "id": "943d7f5c-0215-4443-9944-b86eefa64630",
   "metadata": {},
   "outputs": [],
   "source": [
    "from utils import api\n",
    "import json\n",
    "from IPython.display import JSON\n",
    "import requests\n",
    "import time\n",
    "from datetime import datetime\n",
    "\n",
    "app_name = \"job-l1b-cwl:develop\""
   ]
  },
  {
   "cell_type": "markdown",
   "id": "9f1cdbbc-6c38-4c2a-955a-08ac8d13e366",
   "metadata": {},
   "source": [
    "## 1. List Processes\n",
    "\n",
    "The Unity API defines a way of viewing all deployed application packages (a.k.a., Processes) on the system using the 'get_apps' function. After a successful deployment of an application package to the Processing endpoint, you should see a new entry for the deployed application.\n",
    "\n",
    "The 'id' field in the returned JSON document is how you will make calls to execute the Process and see existing Jobs for a given Process."
   ]
  },
  {
   "cell_type": "code",
   "execution_count": null,
   "id": "fbf0978f-5f11-4b77-81b1-492f6009234f",
   "metadata": {},
   "outputs": [],
   "source": [
    "apps = api.get_apps()\n",
    "for application in apps:\n",
    "    print(\"Process ID: {}\".format(application['id']))\n",
    "    print(\"Process Version: {}\".format(application['processVersion']))\n",
    "    print(\"Process description: {}\".format(application['abstract']))\n",
    "    print(\"\")\n",
    "    \n",
    "print(\"\\n\\nFull JSON Response\")\n",
    "JSON(apps)"
   ]
  },
  {
   "cell_type": "markdown",
   "id": "00fc3f8f-8d05-4765-92cb-99bc25778a02",
   "metadata": {},
   "source": [
    "## 2. Execute a job\n",
    "Before deploying Applications and working with jobs, it is assumed that a system administrator has deployed an ADES. These are often called \"venues\" or \"environments\", and some examples may be dev, test, prod, etc. To run a Job, you need a Process available as well (a deployed Application). In this case we have a demo application deployed and referenced in the setup step 0 above.\n",
    "\n",
    "With an ADES and a Process ready to accept our Job, we can submit a Job along with any input data or parameters that are needed (as defined by a template job definition for a particular Application). In this example case, none are needed so `inputs` is blank. The response will provide a Job ID that we will store in a variable called `job_id` for use later.\n",
    "\n",
    "***NOTE*** - the sample application does not provide input parameters or output parameters at this time. These are coming in a future version of the job control endpoint. Future jobs will allow:\n",
    "- Explicit inputs to be used (no magic)\n",
    "  - inputs can be Unity Resources or DAAC resources\n",
    "- Explicit output 'collection' to which the data will be written"
   ]
  },
  {
   "cell_type": "code",
   "execution_count": null,
   "id": "f923ee90-3e0a-4911-a765-fdd8233d73ea",
   "metadata": {},
   "outputs": [],
   "source": [
    "data = {\n",
    "  \"mode\": \"async\",\n",
    "  \"response\": \"document\",\n",
    "  \"inputs\": [\n",
    "  ],\n",
    "  \"outputs\": [\n",
    "    {\n",
    "      \"id\": \"output\",\n",
    "      \"transmissionMode\": \"reference\"\n",
    "    }\n",
    "  ]\n",
    "}\n",
    "\n",
    "try:\n",
    "\n",
    "    # Store Job ID to use in future steps\n",
    "    job_id = api.submit_job(app_name, data)\n",
    "\n",
    "    # If the job submission is successful, print a success message along with the returned JOB-ID\n",
    "    print(\"\\nJob Submission Successful!\\nJOB ID: {}\\n\".format(job_id))\n",
    "\n",
    "except requests.exceptions.HTTPError as e:\n",
    "    # An error has occurred, print the error message that was generated\n",
    "    print(e.reason)"
   ]
  },
  {
   "cell_type": "markdown",
   "id": "7aed28d0-ab28-445c-bbb7-9ead5f5aa160",
   "metadata": {},
   "source": [
    "## 2. Get the Job status\n",
    "The code below will demonstrate how one can check the status of the Job. The potential status responses are documented [here] _need a reference to process status_.\n",
    "\n",
    "In this example, we will look up the status of the predfined application name from the setup step 0, and the job ID that was returned previously. This function will loop/block until the process ends. You will see a printout every 5 seconds."
   ]
  },
  {
   "cell_type": "code",
   "execution_count": null,
   "id": "83e4cc43-3fdf-4e4a-a84c-7bb49f0aa8c3",
   "metadata": {},
   "outputs": [],
   "source": [
    "# Set jobID here if you'd like\n",
    "# job_id = \"76ecf5a6-54b7-4057-bf83-89524a0f709d\"\n",
    "\n",
    "try:\n",
    "    \n",
    "    job_status = api.get_job_status(app_name, job_id)\n",
    "\n",
    "    while job_status == \"running\":\n",
    "        print(\"Status for job \\\"{}\\\" ({}): {}\".format(job_id, datetime.now().strftime(\"%H:%M:%S\"), job_status))\n",
    "        time.sleep(5)\n",
    "        job_status = api.get_job_status(app_name, job_id)\n",
    "    \n",
    "    # Print the job status\n",
    "    print(\"\\nStatus for job \\\"{}\\\" ({}): {}\\n\".format(job_id, datetime.now().strftime(\"%H:%M:%S\"),job_status))\n",
    "    \n",
    "except requests.exceptions.HTTPError as e:\n",
    "    # An error has occurred, print the error message that was generated\n",
    "    print(e.reason)\n"
   ]
  },
  {
   "cell_type": "markdown",
   "id": "7198115b-2142-4ac7-8581-b1664b2278e7",
   "metadata": {},
   "source": [
    "## 3. Get Job results\n",
    "Now that we've monitored the status of a Job, and verified that is has completed, we can retreive information about where the generated data is located. \n",
    "\n",
    "In this example, we will use the predefined Process name, and the Job ID that was returned previously."
   ]
  },
  {
   "cell_type": "code",
   "execution_count": null,
   "id": "9f4ec92f-0442-4889-b16b-65003a2d6b57",
   "metadata": {},
   "outputs": [],
   "source": [
    "# Set jobID here if you'd like\n",
    "#job_id = \"35284103-b7ce-4ea4-86d1-c0dd0622f898\"\n",
    "\n",
    "try:\n",
    "\n",
    "    job_data = api.get_job_by_id(app_name, job_id)\n",
    "\n",
    "    # for data in job_data:\n",
    "    #     print(\"ID: \" + data['id'])\n",
    "    #     print(\"Type: \" + data['mimeType'])\n",
    "    #     print(\"Location: \" + data['href'])\n",
    "        \n",
    "except requests.exceptions.HTTPError as e:\n",
    "    print(e.reason)\n",
    "\n",
    "print(\"\\nFull JSON output data object:\")\n",
    "JSON(job_data)"
   ]
  },
  {
   "cell_type": "markdown",
   "id": "c32a5243-3645-467a-aeec-bd3eba48ed7d",
   "metadata": {},
   "source": [
    "## So... where are the results?\n",
    "\n",
    "Currently the results are not made available to the endpoint, but a future release will include a STAC document of generated files and their locations. For now, the results are written to the `SNDR_SNPP_ATMS_L1B_OUTPUT___1` product type in the Unity system. Again, future releases will allow the specification of the output collection (by name or version)."
   ]
  },
  {
   "cell_type": "markdown",
   "id": "1d9e1a16-cc62-4d0a-87a8-f1c0256c9ac3",
   "metadata": {},
   "source": [
    "## 4. List the Jobs processed by a given Process\n",
    "\n",
    "What if I restarted my notebook and I have no Job ID? The API can ask the process endpoint to list the Jobs for a given Process (deployed Application).\n"
   ]
  },
  {
   "cell_type": "code",
   "execution_count": null,
   "id": "a1c169a6-e4ab-4d9b-bc3f-8b867572be16",
   "metadata": {},
   "outputs": [],
   "source": [
    "jobs = api.get_jobs_for_app(app_name)\n",
    "\n",
    "for job in jobs:\n",
    "    print(\"{}/{}\".format(job['jobID'], job['status']))\n",
    "\n",
    "    \n",
    "print(\"\\n\\nFull JSON output data of get_jobs_for_app\")\n",
    "JSON(jobs)"
   ]
  },
  {
   "cell_type": "code",
   "execution_count": null,
   "id": "2f68959b-883b-4aee-a0ce-4105a4cf5aca",
   "metadata": {},
   "outputs": [],
   "source": []
  }
 ],
 "metadata": {
  "kernelspec": {
   "display_name": "Python 3 (ipykernel)",
   "language": "python",
   "name": "python3"
  },
  "language_info": {
   "codemirror_mode": {
    "name": "ipython",
    "version": 3
   },
   "file_extension": ".py",
   "mimetype": "text/x-python",
   "name": "python",
   "nbconvert_exporter": "python",
   "pygments_lexer": "ipython3",
   "version": "3.10.5"
  }
 },
 "nbformat": 4,
 "nbformat_minor": 5
}
