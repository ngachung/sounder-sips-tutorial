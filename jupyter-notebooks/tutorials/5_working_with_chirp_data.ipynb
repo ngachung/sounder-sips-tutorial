{
 "cells": [
  {
   "cell_type": "markdown",
   "id": "3be345ad-b008-45c6-b481-46888d2d2ebc",
   "metadata": {
    "editable": true,
    "slideshow": {
     "slide_type": ""
    },
    "tags": []
   },
   "source": [
    "# Working with Data\n",
    "\n",
    "The intent of this tutorial is to help familiarize yourself with browsing for data that will be used along with an application to generate data by submitting a job. Job submission will be covered in the next tutorial. Run each cell in order (shift-enter). The notes will indicate when you need to edit code to customize things (e.g., to indicate a data collection)vs. being prompted by running the cell (e.g. for your username and password)."
   ]
  },
  {
   "cell_type": "code",
   "execution_count": 10,
   "id": "93e43227-c229-4ed4-a514-9293eda6c4f6",
   "metadata": {
    "editable": true,
    "slideshow": {
     "slide_type": ""
    },
    "tags": []
   },
   "outputs": [],
   "source": [
    "import requests\n",
    "import getpass\n",
    "import json\n",
    "from IPython.display import JSON\n",
    "\n",
    "from unity_sds_client.unity import Unity\n",
    "from unity_sds_client.unity_session import UnitySession\n",
    "from unity_sds_client.unity_services import UnityServices as services\n",
    "from unity_sds_client.resources.collection import Collection"
   ]
  },
  {
   "cell_type": "code",
   "execution_count": 11,
   "id": "f848cd0d-f493-427f-b8be-6dfbed2b3213",
   "metadata": {
    "editable": true,
    "slideshow": {
     "slide_type": ""
    },
    "tags": []
   },
   "outputs": [
    {
     "name": "stdin",
     "output_type": "stream",
     "text": [
      "Please enter your Unity username:  gangl\n",
      "Please enter your Unity password:  ········\n"
     ]
    }
   ],
   "source": [
    "s = Unity()\n",
    "# set the venue for interacting with venue specific services\n",
    "# if your venue id is a single string, use the following\n",
    "s.set_venue_id(\"unity-sips-test\")"
   ]
  },
  {
   "cell_type": "markdown",
   "id": "1a128652-a73b-4b9c-93ce-5f4147d73c32",
   "metadata": {
    "editable": true,
    "slideshow": {
     "slide_type": ""
    },
    "tags": []
   },
   "source": [
    "## List Available Data Collections in the Unity System\n",
    "\n",
    "Data is organized into Collections. Any particular data file will be in at least one Collection."
   ]
  },
  {
   "cell_type": "code",
   "execution_count": 12,
   "id": "a8e1ffbd-ee53-497b-8c89-ce9929263e4d",
   "metadata": {
    "editable": true,
    "slideshow": {
     "slide_type": ""
    },
    "tags": []
   },
   "outputs": [
    {
     "name": "stdout",
     "output_type": "stream",
     "text": [
      "urn:nasa:unity:ssips:TEST1:CHRP_16_DAY_REBIN___ROB\n",
      "urn:nasa:unity:ssips:TEST1:CHRP_16_DAY_REBIN___1\n",
      "urn:nasa:unity:uds_local_test:TEST1:L0_SNPP_EphAtt___1\n",
      "urn:nasa:unity:uds_local_test:TEST1:L0_SNPP_ATMS_SCIENCE___1\n",
      "urn:nasa:unity:uds_local_test:TEST1:SNDR_SNPP_ATMS_L1A___1\n",
      "urn:nasa:unity:uds_local_test:TEST1:CHRP_16_DAY_REBIN___1\n",
      "urn:nasa:unity:uds_local_test:TEST1:SNDR_SNPP_ATMS_L1A_OUTPUT___1\n",
      "urn:nasa:unity:uds_local_test:TEST1:SNDR_SNPP_ATMS_L1B_OUTPUT___1\n"
     ]
    }
   ],
   "source": [
    "dataManager = s.client(services.DATA_SERVICE)\n",
    "collections = dataManager.get_collections()\n",
    "for c in collections:\n",
    "    print(c.collection_id)\n"
   ]
  },
  {
   "cell_type": "code",
   "execution_count": 14,
   "id": "1bb34cc9-eaae-4efd-82c0-6f33043b6207",
   "metadata": {
    "editable": true,
    "slideshow": {
     "slide_type": ""
    },
    "tags": []
   },
   "outputs": [
    {
     "name": "stdout",
     "output_type": "stream",
     "text": [
      "dataset name: urn:nasa:unity:ssips:TEST1:CHRP_16_DAY_REBIN___1:SNDR_tile_2016_s320_S08p25_W040p00_L1_AQ_v1_D_2312151702601986\n",
      "\ts3://ssips-test-ds-storage-reproc/urn:nasa:unity:ssips:TEST1:CHRP_16_DAY_REBIN___1/urn:nasa:unity:ssips:TEST1:CHRP_16_DAY_REBIN___1:SNDR_tile_2016_s320_S08p25_W040p00_L1_AQ_v1_D_2312151702601986.nc/SNDR_tile_2016_s320_S08p25_W040p00_L1_AQ_v1_D_2312151702601986.nc\n",
      "\ts3://ssips-test-ds-storage-reproc/urn:nasa:unity:ssips:TEST1:CHRP_16_DAY_REBIN___1/urn:nasa:unity:ssips:TEST1:CHRP_16_DAY_REBIN___1:SNDR_tile_2016_s320_S08p25_W040p00_L1_AQ_v1_D_2312151702601986.nc/SNDR_tile_2016_s320_S08p25_W040p00_L1_AQ_v1_D_2312151702601986.nc.json\n",
      "dataset name: urn:nasa:unity:ssips:TEST1:CHRP_16_DAY_REBIN___1:SNDR_tile_2016_s320_N08p25_W175p00_L1_AQ_v1_D_2312151702601994\n",
      "\ts3://ssips-test-ds-storage-reproc/urn:nasa:unity:ssips:TEST1:CHRP_16_DAY_REBIN___1/urn:nasa:unity:ssips:TEST1:CHRP_16_DAY_REBIN___1:SNDR_tile_2016_s320_N08p25_W175p00_L1_AQ_v1_D_2312151702601994.nc/SNDR_tile_2016_s320_N08p25_W175p00_L1_AQ_v1_D_2312151702601994.nc\n",
      "\ts3://ssips-test-ds-storage-reproc/urn:nasa:unity:ssips:TEST1:CHRP_16_DAY_REBIN___1/urn:nasa:unity:ssips:TEST1:CHRP_16_DAY_REBIN___1:SNDR_tile_2016_s320_N08p25_W175p00_L1_AQ_v1_D_2312151702601994.nc/SNDR_tile_2016_s320_N08p25_W175p00_L1_AQ_v1_D_2312151702601994.nc.json\n",
      "dataset name: urn:nasa:unity:ssips:TEST1:CHRP_16_DAY_REBIN___1:SNDR_tile_2016_s320_N13p75_W020p00_L1_AQ_v1_D_2312151702601998\n",
      "\ts3://ssips-test-ds-storage-reproc/urn:nasa:unity:ssips:TEST1:CHRP_16_DAY_REBIN___1/urn:nasa:unity:ssips:TEST1:CHRP_16_DAY_REBIN___1:SNDR_tile_2016_s320_N13p75_W020p00_L1_AQ_v1_D_2312151702601998.nc/SNDR_tile_2016_s320_N13p75_W020p00_L1_AQ_v1_D_2312151702601998.nc\n",
      "\ts3://ssips-test-ds-storage-reproc/urn:nasa:unity:ssips:TEST1:CHRP_16_DAY_REBIN___1/urn:nasa:unity:ssips:TEST1:CHRP_16_DAY_REBIN___1:SNDR_tile_2016_s320_N13p75_W020p00_L1_AQ_v1_D_2312151702601998.nc/SNDR_tile_2016_s320_N13p75_W020p00_L1_AQ_v1_D_2312151702601998.nc.json\n",
      "dataset name: urn:nasa:unity:ssips:TEST1:CHRP_16_DAY_REBIN___1:SNDR_tile_2016_s320_S46p75_W035p00_L1_AQ_v1_D_2312151702601965\n",
      "\ts3://ssips-test-ds-storage-reproc/urn:nasa:unity:ssips:TEST1:CHRP_16_DAY_REBIN___1/urn:nasa:unity:ssips:TEST1:CHRP_16_DAY_REBIN___1:SNDR_tile_2016_s320_S46p75_W035p00_L1_AQ_v1_D_2312151702601965.nc/SNDR_tile_2016_s320_S46p75_W035p00_L1_AQ_v1_D_2312151702601965.nc\n",
      "\ts3://ssips-test-ds-storage-reproc/urn:nasa:unity:ssips:TEST1:CHRP_16_DAY_REBIN___1/urn:nasa:unity:ssips:TEST1:CHRP_16_DAY_REBIN___1:SNDR_tile_2016_s320_S46p75_W035p00_L1_AQ_v1_D_2312151702601965.nc/SNDR_tile_2016_s320_S46p75_W035p00_L1_AQ_v1_D_2312151702601965.nc.json\n",
      "dataset name: urn:nasa:unity:ssips:TEST1:CHRP_16_DAY_REBIN___1:SNDR_tile_2016_s320_S22p00_E015p00_L1_AQ_v1_D_2312151702601979\n",
      "\ts3://ssips-test-ds-storage-reproc/urn:nasa:unity:ssips:TEST1:CHRP_16_DAY_REBIN___1/urn:nasa:unity:ssips:TEST1:CHRP_16_DAY_REBIN___1:SNDR_tile_2016_s320_S22p00_E015p00_L1_AQ_v1_D_2312151702601979.nc/SNDR_tile_2016_s320_S22p00_E015p00_L1_AQ_v1_D_2312151702601979.nc\n",
      "\ts3://ssips-test-ds-storage-reproc/urn:nasa:unity:ssips:TEST1:CHRP_16_DAY_REBIN___1/urn:nasa:unity:ssips:TEST1:CHRP_16_DAY_REBIN___1:SNDR_tile_2016_s320_S22p00_E015p00_L1_AQ_v1_D_2312151702601979.nc/SNDR_tile_2016_s320_S22p00_E015p00_L1_AQ_v1_D_2312151702601979.nc.json\n",
      "dataset name: urn:nasa:unity:ssips:TEST1:CHRP_16_DAY_REBIN___1:SNDR_tile_2016_s320_N75p00_E135p00_L1_AQ_v1_D_2312151702602036\n",
      "\ts3://ssips-test-ds-storage-reproc/urn:nasa:unity:ssips:TEST1:CHRP_16_DAY_REBIN___1/urn:nasa:unity:ssips:TEST1:CHRP_16_DAY_REBIN___1:SNDR_tile_2016_s320_N75p00_E135p00_L1_AQ_v1_D_2312151702602036.nc/SNDR_tile_2016_s320_N75p00_E135p00_L1_AQ_v1_D_2312151702602036.nc\n",
      "\ts3://ssips-test-ds-storage-reproc/urn:nasa:unity:ssips:TEST1:CHRP_16_DAY_REBIN___1/urn:nasa:unity:ssips:TEST1:CHRP_16_DAY_REBIN___1:SNDR_tile_2016_s320_N75p00_E135p00_L1_AQ_v1_D_2312151702602036.nc/SNDR_tile_2016_s320_N75p00_E135p00_L1_AQ_v1_D_2312151702602036.nc.json\n",
      "dataset name: urn:nasa:unity:ssips:TEST1:CHRP_16_DAY_REBIN___1:SNDR_tile_2016_s320_S27p50_E125p00_L1_AQ_v1_D_2312151702601976\n",
      "\ts3://ssips-test-ds-storage-reproc/urn:nasa:unity:ssips:TEST1:CHRP_16_DAY_REBIN___1/urn:nasa:unity:ssips:TEST1:CHRP_16_DAY_REBIN___1:SNDR_tile_2016_s320_S27p50_E125p00_L1_AQ_v1_D_2312151702601976.nc/SNDR_tile_2016_s320_S27p50_E125p00_L1_AQ_v1_D_2312151702601976.nc\n",
      "\ts3://ssips-test-ds-storage-reproc/urn:nasa:unity:ssips:TEST1:CHRP_16_DAY_REBIN___1/urn:nasa:unity:ssips:TEST1:CHRP_16_DAY_REBIN___1:SNDR_tile_2016_s320_S27p50_E125p00_L1_AQ_v1_D_2312151702601976.nc/SNDR_tile_2016_s320_S27p50_E125p00_L1_AQ_v1_D_2312151702601976.nc.json\n",
      "dataset name: urn:nasa:unity:ssips:TEST1:CHRP_16_DAY_REBIN___1:SNDR_tile_2016_s320_S75p00_E060p00_L1_AQ_v1_D_2312151702601949\n",
      "\ts3://ssips-test-ds-storage-reproc/urn:nasa:unity:ssips:TEST1:CHRP_16_DAY_REBIN___1/urn:nasa:unity:ssips:TEST1:CHRP_16_DAY_REBIN___1:SNDR_tile_2016_s320_S75p00_E060p00_L1_AQ_v1_D_2312151702601949.nc/SNDR_tile_2016_s320_S75p00_E060p00_L1_AQ_v1_D_2312151702601949.nc\n",
      "\ts3://ssips-test-ds-storage-reproc/urn:nasa:unity:ssips:TEST1:CHRP_16_DAY_REBIN___1/urn:nasa:unity:ssips:TEST1:CHRP_16_DAY_REBIN___1:SNDR_tile_2016_s320_S75p00_E060p00_L1_AQ_v1_D_2312151702601949.nc/SNDR_tile_2016_s320_S75p00_E060p00_L1_AQ_v1_D_2312151702601949.nc.json\n",
      "dataset name: urn:nasa:unity:ssips:TEST1:CHRP_16_DAY_REBIN___1:SNDR_tile_2016_s320_N13p75_E115p00_L1_AQ_v1_D_2312151702601998\n",
      "\ts3://ssips-test-ds-storage-reproc/urn:nasa:unity:ssips:TEST1:CHRP_16_DAY_REBIN___1/urn:nasa:unity:ssips:TEST1:CHRP_16_DAY_REBIN___1:SNDR_tile_2016_s320_N13p75_E115p00_L1_AQ_v1_D_2312151702601998.nc/SNDR_tile_2016_s320_N13p75_E115p00_L1_AQ_v1_D_2312151702601998.nc\n",
      "\ts3://ssips-test-ds-storage-reproc/urn:nasa:unity:ssips:TEST1:CHRP_16_DAY_REBIN___1/urn:nasa:unity:ssips:TEST1:CHRP_16_DAY_REBIN___1:SNDR_tile_2016_s320_N13p75_E115p00_L1_AQ_v1_D_2312151702601998.nc/SNDR_tile_2016_s320_N13p75_E115p00_L1_AQ_v1_D_2312151702601998.nc.json\n",
      "dataset name: urn:nasa:unity:ssips:TEST1:CHRP_16_DAY_REBIN___1:SNDR_tile_2016_s320_N75p00_W100p00_L1_AQ_v1_D_2312151702602035\n",
      "\ts3://ssips-test-ds-storage-reproc/urn:nasa:unity:ssips:TEST1:CHRP_16_DAY_REBIN___1/urn:nasa:unity:ssips:TEST1:CHRP_16_DAY_REBIN___1:SNDR_tile_2016_s320_N75p00_W100p00_L1_AQ_v1_D_2312151702602035.nc/SNDR_tile_2016_s320_N75p00_W100p00_L1_AQ_v1_D_2312151702602035.nc\n",
      "\ts3://ssips-test-ds-storage-reproc/urn:nasa:unity:ssips:TEST1:CHRP_16_DAY_REBIN___1/urn:nasa:unity:ssips:TEST1:CHRP_16_DAY_REBIN___1:SNDR_tile_2016_s320_N75p00_W100p00_L1_AQ_v1_D_2312151702602035.nc/SNDR_tile_2016_s320_N75p00_W100p00_L1_AQ_v1_D_2312151702602035.nc.json\n"
     ]
    }
   ],
   "source": [
    "#collection_id = \"urn:nasa:unity:ssips:TEST1:CHRP_16_DAY_REBIN___ROB\"\n",
    "collection_id = \"urn:nasa:unity:ssips:TEST1:CHRP_16_DAY_REBIN___1\"\n",
    "cd = dataManager.get_collection_data(Collection(collection_id))\n",
    "for dataset in cd:\n",
    "    print(f'dataset name: {dataset.id}' )\n",
    "    for f in dataset.datafiles:\n",
    "        print(\"\t\" + f.location)"
   ]
  },
  {
   "cell_type": "markdown",
   "id": "d79e544a",
   "metadata": {
    "editable": true,
    "slideshow": {
     "slide_type": ""
    },
    "tags": []
   },
   "source": [
    "## Credential-less data download\n",
    "\n",
    "When accessing data stores within the same venue, you'll be able to download data from S3 without credentials. \n",
    "\n",
    "**Note**, the following libraries are needed for this, and the below command can be run in a jupyter-terminal to install them:\n",
    "\n",
    "```\n",
    "conda install xarray netcdf4 hdf5 boto3 matplotlib\n",
    "```\n"
   ]
  },
  {
   "cell_type": "code",
   "execution_count": 15,
   "id": "620a4e4e",
   "metadata": {
    "editable": true,
    "slideshow": {
     "slide_type": ""
    },
    "tags": []
   },
   "outputs": [
    {
     "name": "stdout",
     "output_type": "stream",
     "text": [
      "Requirement already satisfied: boto3 in /opt/conda/lib/python3.11/site-packages (1.34.1)\n",
      "Requirement already satisfied: botocore<1.35.0,>=1.34.1 in /opt/conda/lib/python3.11/site-packages (from boto3) (1.34.1)\n",
      "Requirement already satisfied: jmespath<2.0.0,>=0.7.1 in /opt/conda/lib/python3.11/site-packages (from boto3) (1.0.1)\n",
      "Requirement already satisfied: s3transfer<0.10.0,>=0.9.0 in /opt/conda/lib/python3.11/site-packages (from boto3) (0.9.0)\n",
      "Requirement already satisfied: python-dateutil<3.0.0,>=2.1 in /opt/conda/lib/python3.11/site-packages (from botocore<1.35.0,>=1.34.1->boto3) (2.8.2)\n",
      "Requirement already satisfied: urllib3<2.1,>=1.25.4 in /opt/conda/lib/python3.11/site-packages (from botocore<1.35.0,>=1.34.1->boto3) (2.0.4)\n",
      "Requirement already satisfied: six>=1.5 in /opt/conda/lib/python3.11/site-packages (from python-dateutil<3.0.0,>=2.1->botocore<1.35.0,>=1.34.1->boto3) (1.16.0)\n"
     ]
    }
   ],
   "source": [
    "import sys\n",
    "!{sys.executable} -m pip install boto3\n",
    "import boto3"
   ]
  },
  {
   "cell_type": "code",
   "execution_count": 16,
   "id": "5c6a2837-fb5a-4467-94e5-a85f8659506e",
   "metadata": {
    "editable": true,
    "slideshow": {
     "slide_type": ""
    },
    "tags": []
   },
   "outputs": [],
   "source": [
    "s3 = boto3.client('s3')\n",
    "#s3://ssips-test-ds-storage-reproc/urn:nasa:unity:ssips:TEST1:CHRP_16_DAY_REBIN___1/urn:nasa:unity:ssips:TEST1:CHRP_16_DAY_REBIN___1:SNDR_tile_2016_s320_N16p50_E120p00_L1_AQ_v1_D_2311021698943223.nc/SNDR_tile_2016_s320_N16p50_E120p00_L1_AQ_v1_D_2311021698943223.nc\n",
    "s3.download_file('ssips-test-ds-storage-reproc', 'urn:nasa:unity:ssips:TEST1:CHRP_16_DAY_REBIN___1/urn:nasa:unity:ssips:TEST1:CHRP_16_DAY_REBIN___1:SNDR_tile_2016_s320_S38p50_E010p00_L1_AQ_v1_D_2312131702486391.nc/SNDR_tile_2016_s320_S38p50_E010p00_L1_AQ_v1_D_2312131702486391.nc', 'SNDR_tile_2016_s320_S38p50_E010p00_L1_AQ_v1_D_2312131702486391.nc')"
   ]
  },
  {
   "cell_type": "markdown",
   "id": "e81ee1e1-c485-45c2-9074-29c5c3d935fc",
   "metadata": {
    "editable": true,
    "slideshow": {
     "slide_type": ""
    },
    "tags": []
   },
   "source": [
    "The file now should appear in the directory tree to the left in jupyter"
   ]
  },
  {
   "cell_type": "code",
   "execution_count": 28,
   "id": "5583063d-70b0-4ebf-b085-32f72f65d003",
   "metadata": {
    "editable": true,
    "slideshow": {
     "slide_type": ""
    },
    "tags": []
   },
   "outputs": [
    {
     "name": "stdout",
     "output_type": "stream",
     "text": [
      "Requirement already satisfied: xarray in /opt/conda/lib/python3.11/site-packages (2023.12.0)\n",
      "Requirement already satisfied: netCDF4 in /opt/conda/lib/python3.11/site-packages (1.6.5)\n",
      "Requirement already satisfied: matplotlib in /opt/conda/lib/python3.11/site-packages (3.7.2)\n",
      "Requirement already satisfied: numpy>=1.22 in /opt/conda/lib/python3.11/site-packages (from xarray) (1.24.4)\n",
      "Requirement already satisfied: packaging>=21.3 in /opt/conda/lib/python3.11/site-packages (from xarray) (23.1)\n",
      "Requirement already satisfied: pandas>=1.4 in /opt/conda/lib/python3.11/site-packages (from xarray) (2.1.0)\n",
      "Requirement already satisfied: cftime in /opt/conda/lib/python3.11/site-packages (from netCDF4) (1.6.3)\n",
      "Requirement already satisfied: certifi in /opt/conda/lib/python3.11/site-packages (from netCDF4) (2023.11.17)\n",
      "Requirement already satisfied: contourpy>=1.0.1 in /opt/conda/lib/python3.11/site-packages (from matplotlib) (1.1.0)\n",
      "Requirement already satisfied: cycler>=0.10 in /opt/conda/lib/python3.11/site-packages (from matplotlib) (0.11.0)\n",
      "Requirement already satisfied: fonttools>=4.22.0 in /opt/conda/lib/python3.11/site-packages (from matplotlib) (4.42.1)\n",
      "Requirement already satisfied: kiwisolver>=1.0.1 in /opt/conda/lib/python3.11/site-packages (from matplotlib) (1.4.5)\n",
      "Requirement already satisfied: pillow>=6.2.0 in /opt/conda/lib/python3.11/site-packages (from matplotlib) (10.0.0)\n",
      "Requirement already satisfied: pyparsing<3.1,>=2.3.1 in /opt/conda/lib/python3.11/site-packages (from matplotlib) (3.0.9)\n",
      "Requirement already satisfied: python-dateutil>=2.7 in /opt/conda/lib/python3.11/site-packages (from matplotlib) (2.8.2)\n",
      "Requirement already satisfied: pytz>=2020.1 in /opt/conda/lib/python3.11/site-packages (from pandas>=1.4->xarray) (2023.3)\n",
      "Requirement already satisfied: tzdata>=2022.1 in /opt/conda/lib/python3.11/site-packages (from pandas>=1.4->xarray) (2023.3)\n",
      "Requirement already satisfied: six>=1.5 in /opt/conda/lib/python3.11/site-packages (from python-dateutil>=2.7->matplotlib) (1.16.0)\n"
     ]
    },
    {
     "data": {
      "text/html": [
       "<div><svg style=\"position: absolute; width: 0; height: 0; overflow: hidden\">\n",
       "<defs>\n",
       "<symbol id=\"icon-database\" viewBox=\"0 0 32 32\">\n",
       "<path d=\"M16 0c-8.837 0-16 2.239-16 5v4c0 2.761 7.163 5 16 5s16-2.239 16-5v-4c0-2.761-7.163-5-16-5z\"></path>\n",
       "<path d=\"M16 17c-8.837 0-16-2.239-16-5v6c0 2.761 7.163 5 16 5s16-2.239 16-5v-6c0 2.761-7.163 5-16 5z\"></path>\n",
       "<path d=\"M16 26c-8.837 0-16-2.239-16-5v6c0 2.761 7.163 5 16 5s16-2.239 16-5v-6c0 2.761-7.163 5-16 5z\"></path>\n",
       "</symbol>\n",
       "<symbol id=\"icon-file-text2\" viewBox=\"0 0 32 32\">\n",
       "<path d=\"M28.681 7.159c-0.694-0.947-1.662-2.053-2.724-3.116s-2.169-2.030-3.116-2.724c-1.612-1.182-2.393-1.319-2.841-1.319h-15.5c-1.378 0-2.5 1.121-2.5 2.5v27c0 1.378 1.122 2.5 2.5 2.5h23c1.378 0 2.5-1.122 2.5-2.5v-19.5c0-0.448-0.137-1.23-1.319-2.841zM24.543 5.457c0.959 0.959 1.712 1.825 2.268 2.543h-4.811v-4.811c0.718 0.556 1.584 1.309 2.543 2.268zM28 29.5c0 0.271-0.229 0.5-0.5 0.5h-23c-0.271 0-0.5-0.229-0.5-0.5v-27c0-0.271 0.229-0.5 0.5-0.5 0 0 15.499-0 15.5 0v7c0 0.552 0.448 1 1 1h7v19.5z\"></path>\n",
       "<path d=\"M23 26h-14c-0.552 0-1-0.448-1-1s0.448-1 1-1h14c0.552 0 1 0.448 1 1s-0.448 1-1 1z\"></path>\n",
       "<path d=\"M23 22h-14c-0.552 0-1-0.448-1-1s0.448-1 1-1h14c0.552 0 1 0.448 1 1s-0.448 1-1 1z\"></path>\n",
       "<path d=\"M23 18h-14c-0.552 0-1-0.448-1-1s0.448-1 1-1h14c0.552 0 1 0.448 1 1s-0.448 1-1 1z\"></path>\n",
       "</symbol>\n",
       "</defs>\n",
       "</svg>\n",
       "<style>/* CSS stylesheet for displaying xarray objects in jupyterlab.\n",
       " *\n",
       " */\n",
       "\n",
       ":root {\n",
       "  --xr-font-color0: var(--jp-content-font-color0, rgba(0, 0, 0, 1));\n",
       "  --xr-font-color2: var(--jp-content-font-color2, rgba(0, 0, 0, 0.54));\n",
       "  --xr-font-color3: var(--jp-content-font-color3, rgba(0, 0, 0, 0.38));\n",
       "  --xr-border-color: var(--jp-border-color2, #e0e0e0);\n",
       "  --xr-disabled-color: var(--jp-layout-color3, #bdbdbd);\n",
       "  --xr-background-color: var(--jp-layout-color0, white);\n",
       "  --xr-background-color-row-even: var(--jp-layout-color1, white);\n",
       "  --xr-background-color-row-odd: var(--jp-layout-color2, #eeeeee);\n",
       "}\n",
       "\n",
       "html[theme=dark],\n",
       "body[data-theme=dark],\n",
       "body.vscode-dark {\n",
       "  --xr-font-color0: rgba(255, 255, 255, 1);\n",
       "  --xr-font-color2: rgba(255, 255, 255, 0.54);\n",
       "  --xr-font-color3: rgba(255, 255, 255, 0.38);\n",
       "  --xr-border-color: #1F1F1F;\n",
       "  --xr-disabled-color: #515151;\n",
       "  --xr-background-color: #111111;\n",
       "  --xr-background-color-row-even: #111111;\n",
       "  --xr-background-color-row-odd: #313131;\n",
       "}\n",
       "\n",
       ".xr-wrap {\n",
       "  display: block !important;\n",
       "  min-width: 300px;\n",
       "  max-width: 700px;\n",
       "}\n",
       "\n",
       ".xr-text-repr-fallback {\n",
       "  /* fallback to plain text repr when CSS is not injected (untrusted notebook) */\n",
       "  display: none;\n",
       "}\n",
       "\n",
       ".xr-header {\n",
       "  padding-top: 6px;\n",
       "  padding-bottom: 6px;\n",
       "  margin-bottom: 4px;\n",
       "  border-bottom: solid 1px var(--xr-border-color);\n",
       "}\n",
       "\n",
       ".xr-header > div,\n",
       ".xr-header > ul {\n",
       "  display: inline;\n",
       "  margin-top: 0;\n",
       "  margin-bottom: 0;\n",
       "}\n",
       "\n",
       ".xr-obj-type,\n",
       ".xr-array-name {\n",
       "  margin-left: 2px;\n",
       "  margin-right: 10px;\n",
       "}\n",
       "\n",
       ".xr-obj-type {\n",
       "  color: var(--xr-font-color2);\n",
       "}\n",
       "\n",
       ".xr-sections {\n",
       "  padding-left: 0 !important;\n",
       "  display: grid;\n",
       "  grid-template-columns: 150px auto auto 1fr 20px 20px;\n",
       "}\n",
       "\n",
       ".xr-section-item {\n",
       "  display: contents;\n",
       "}\n",
       "\n",
       ".xr-section-item input {\n",
       "  display: none;\n",
       "}\n",
       "\n",
       ".xr-section-item input + label {\n",
       "  color: var(--xr-disabled-color);\n",
       "}\n",
       "\n",
       ".xr-section-item input:enabled + label {\n",
       "  cursor: pointer;\n",
       "  color: var(--xr-font-color2);\n",
       "}\n",
       "\n",
       ".xr-section-item input:enabled + label:hover {\n",
       "  color: var(--xr-font-color0);\n",
       "}\n",
       "\n",
       ".xr-section-summary {\n",
       "  grid-column: 1;\n",
       "  color: var(--xr-font-color2);\n",
       "  font-weight: 500;\n",
       "}\n",
       "\n",
       ".xr-section-summary > span {\n",
       "  display: inline-block;\n",
       "  padding-left: 0.5em;\n",
       "}\n",
       "\n",
       ".xr-section-summary-in:disabled + label {\n",
       "  color: var(--xr-font-color2);\n",
       "}\n",
       "\n",
       ".xr-section-summary-in + label:before {\n",
       "  display: inline-block;\n",
       "  content: '►';\n",
       "  font-size: 11px;\n",
       "  width: 15px;\n",
       "  text-align: center;\n",
       "}\n",
       "\n",
       ".xr-section-summary-in:disabled + label:before {\n",
       "  color: var(--xr-disabled-color);\n",
       "}\n",
       "\n",
       ".xr-section-summary-in:checked + label:before {\n",
       "  content: '▼';\n",
       "}\n",
       "\n",
       ".xr-section-summary-in:checked + label > span {\n",
       "  display: none;\n",
       "}\n",
       "\n",
       ".xr-section-summary,\n",
       ".xr-section-inline-details {\n",
       "  padding-top: 4px;\n",
       "  padding-bottom: 4px;\n",
       "}\n",
       "\n",
       ".xr-section-inline-details {\n",
       "  grid-column: 2 / -1;\n",
       "}\n",
       "\n",
       ".xr-section-details {\n",
       "  display: none;\n",
       "  grid-column: 1 / -1;\n",
       "  margin-bottom: 5px;\n",
       "}\n",
       "\n",
       ".xr-section-summary-in:checked ~ .xr-section-details {\n",
       "  display: contents;\n",
       "}\n",
       "\n",
       ".xr-array-wrap {\n",
       "  grid-column: 1 / -1;\n",
       "  display: grid;\n",
       "  grid-template-columns: 20px auto;\n",
       "}\n",
       "\n",
       ".xr-array-wrap > label {\n",
       "  grid-column: 1;\n",
       "  vertical-align: top;\n",
       "}\n",
       "\n",
       ".xr-preview {\n",
       "  color: var(--xr-font-color3);\n",
       "}\n",
       "\n",
       ".xr-array-preview,\n",
       ".xr-array-data {\n",
       "  padding: 0 5px !important;\n",
       "  grid-column: 2;\n",
       "}\n",
       "\n",
       ".xr-array-data,\n",
       ".xr-array-in:checked ~ .xr-array-preview {\n",
       "  display: none;\n",
       "}\n",
       "\n",
       ".xr-array-in:checked ~ .xr-array-data,\n",
       ".xr-array-preview {\n",
       "  display: inline-block;\n",
       "}\n",
       "\n",
       ".xr-dim-list {\n",
       "  display: inline-block !important;\n",
       "  list-style: none;\n",
       "  padding: 0 !important;\n",
       "  margin: 0;\n",
       "}\n",
       "\n",
       ".xr-dim-list li {\n",
       "  display: inline-block;\n",
       "  padding: 0;\n",
       "  margin: 0;\n",
       "}\n",
       "\n",
       ".xr-dim-list:before {\n",
       "  content: '(';\n",
       "}\n",
       "\n",
       ".xr-dim-list:after {\n",
       "  content: ')';\n",
       "}\n",
       "\n",
       ".xr-dim-list li:not(:last-child):after {\n",
       "  content: ',';\n",
       "  padding-right: 5px;\n",
       "}\n",
       "\n",
       ".xr-has-index {\n",
       "  font-weight: bold;\n",
       "}\n",
       "\n",
       ".xr-var-list,\n",
       ".xr-var-item {\n",
       "  display: contents;\n",
       "}\n",
       "\n",
       ".xr-var-item > div,\n",
       ".xr-var-item label,\n",
       ".xr-var-item > .xr-var-name span {\n",
       "  background-color: var(--xr-background-color-row-even);\n",
       "  margin-bottom: 0;\n",
       "}\n",
       "\n",
       ".xr-var-item > .xr-var-name:hover span {\n",
       "  padding-right: 5px;\n",
       "}\n",
       "\n",
       ".xr-var-list > li:nth-child(odd) > div,\n",
       ".xr-var-list > li:nth-child(odd) > label,\n",
       ".xr-var-list > li:nth-child(odd) > .xr-var-name span {\n",
       "  background-color: var(--xr-background-color-row-odd);\n",
       "}\n",
       "\n",
       ".xr-var-name {\n",
       "  grid-column: 1;\n",
       "}\n",
       "\n",
       ".xr-var-dims {\n",
       "  grid-column: 2;\n",
       "}\n",
       "\n",
       ".xr-var-dtype {\n",
       "  grid-column: 3;\n",
       "  text-align: right;\n",
       "  color: var(--xr-font-color2);\n",
       "}\n",
       "\n",
       ".xr-var-preview {\n",
       "  grid-column: 4;\n",
       "}\n",
       "\n",
       ".xr-index-preview {\n",
       "  grid-column: 2 / 5;\n",
       "  color: var(--xr-font-color2);\n",
       "}\n",
       "\n",
       ".xr-var-name,\n",
       ".xr-var-dims,\n",
       ".xr-var-dtype,\n",
       ".xr-preview,\n",
       ".xr-attrs dt {\n",
       "  white-space: nowrap;\n",
       "  overflow: hidden;\n",
       "  text-overflow: ellipsis;\n",
       "  padding-right: 10px;\n",
       "}\n",
       "\n",
       ".xr-var-name:hover,\n",
       ".xr-var-dims:hover,\n",
       ".xr-var-dtype:hover,\n",
       ".xr-attrs dt:hover {\n",
       "  overflow: visible;\n",
       "  width: auto;\n",
       "  z-index: 1;\n",
       "}\n",
       "\n",
       ".xr-var-attrs,\n",
       ".xr-var-data,\n",
       ".xr-index-data {\n",
       "  display: none;\n",
       "  background-color: var(--xr-background-color) !important;\n",
       "  padding-bottom: 5px !important;\n",
       "}\n",
       "\n",
       ".xr-var-attrs-in:checked ~ .xr-var-attrs,\n",
       ".xr-var-data-in:checked ~ .xr-var-data,\n",
       ".xr-index-data-in:checked ~ .xr-index-data {\n",
       "  display: block;\n",
       "}\n",
       "\n",
       ".xr-var-data > table {\n",
       "  float: right;\n",
       "}\n",
       "\n",
       ".xr-var-name span,\n",
       ".xr-var-data,\n",
       ".xr-index-name div,\n",
       ".xr-index-data,\n",
       ".xr-attrs {\n",
       "  padding-left: 25px !important;\n",
       "}\n",
       "\n",
       ".xr-attrs,\n",
       ".xr-var-attrs,\n",
       ".xr-var-data,\n",
       ".xr-index-data {\n",
       "  grid-column: 1 / -1;\n",
       "}\n",
       "\n",
       "dl.xr-attrs {\n",
       "  padding: 0;\n",
       "  margin: 0;\n",
       "  display: grid;\n",
       "  grid-template-columns: 125px auto;\n",
       "}\n",
       "\n",
       ".xr-attrs dt,\n",
       ".xr-attrs dd {\n",
       "  padding: 0;\n",
       "  margin: 0;\n",
       "  float: left;\n",
       "  padding-right: 10px;\n",
       "  width: auto;\n",
       "}\n",
       "\n",
       ".xr-attrs dt {\n",
       "  font-weight: normal;\n",
       "  grid-column: 1;\n",
       "}\n",
       "\n",
       ".xr-attrs dt:hover span {\n",
       "  display: inline-block;\n",
       "  background: var(--xr-background-color);\n",
       "  padding-right: 10px;\n",
       "}\n",
       "\n",
       ".xr-attrs dd {\n",
       "  grid-column: 2;\n",
       "  white-space: pre-wrap;\n",
       "  word-break: break-all;\n",
       "}\n",
       "\n",
       ".xr-icon-database,\n",
       ".xr-icon-file-text2,\n",
       ".xr-no-icon {\n",
       "  display: inline-block;\n",
       "  vertical-align: middle;\n",
       "  width: 1em;\n",
       "  height: 1.5em !important;\n",
       "  stroke-width: 0;\n",
       "  stroke: currentColor;\n",
       "  fill: currentColor;\n",
       "}\n",
       "</style><pre class='xr-text-repr-fallback'>&lt;xarray.Dataset&gt;\n",
       "Dimensions:         (obs: 11280, bnds: 2, wnum: 1679)\n",
       "Coordinates:\n",
       "    lat             (obs) float32 ...\n",
       "    lon             (obs) float32 ...\n",
       "  * wnum            (wnum) float64 650.0 650.6 651.2 ... 2.549e+03 2.55e+03\n",
       "Dimensions without coordinates: obs, bnds\n",
       "Data variables:\n",
       "    obs_id          (obs) &lt;U20 ...\n",
       "    obs_time_tai93  (obs) datetime64[ns] ...\n",
       "    lat_bnds        (bnds) float32 ...\n",
       "    lon_bnds        (bnds) float32 ...\n",
       "    land_frac       (obs) float32 ...\n",
       "    sol_zen         (obs) float32 ...\n",
       "    sat_zen         (obs) float32 ...\n",
       "    asc_flag        (obs) float32 ...\n",
       "    rad             (obs, wnum) float32 ...\n",
       "    rad_qc          (obs) float32 ...\n",
       "    total_obs       float64 ...\n",
       "Attributes:\n",
       "    algorithm_version:  v1</pre><div class='xr-wrap' style='display:none'><div class='xr-header'><div class='xr-obj-type'>xarray.Dataset</div></div><ul class='xr-sections'><li class='xr-section-item'><input id='section-dd5e068c-9fcf-4f53-a361-b761a21d4e83' class='xr-section-summary-in' type='checkbox' disabled ><label for='section-dd5e068c-9fcf-4f53-a361-b761a21d4e83' class='xr-section-summary'  title='Expand/collapse section'>Dimensions:</label><div class='xr-section-inline-details'><ul class='xr-dim-list'><li><span>obs</span>: 11280</li><li><span>bnds</span>: 2</li><li><span class='xr-has-index'>wnum</span>: 1679</li></ul></div><div class='xr-section-details'></div></li><li class='xr-section-item'><input id='section-0e5e5c78-7465-4ec3-9aab-7f4aee543082' class='xr-section-summary-in' type='checkbox'  checked><label for='section-0e5e5c78-7465-4ec3-9aab-7f4aee543082' class='xr-section-summary' >Coordinates: <span>(3)</span></label><div class='xr-section-inline-details'></div><div class='xr-section-details'><ul class='xr-var-list'><li class='xr-var-item'><div class='xr-var-name'><span>lat</span></div><div class='xr-var-dims'>(obs)</div><div class='xr-var-dtype'>float32</div><div class='xr-var-preview xr-preview'>...</div><input id='attrs-10e79e66-b9a5-4392-9f39-7ae6d9a622f1' class='xr-var-attrs-in' type='checkbox' ><label for='attrs-10e79e66-b9a5-4392-9f39-7ae6d9a622f1' title='Show/Hide attributes'><svg class='icon xr-icon-file-text2'><use xlink:href='#icon-file-text2'></use></svg></label><input id='data-2ed36891-2a18-40f7-867f-82c19c8c8d13' class='xr-var-data-in' type='checkbox'><label for='data-2ed36891-2a18-40f7-867f-82c19c8c8d13' title='Show/Hide data repr'><svg class='icon xr-icon-database'><use xlink:href='#icon-database'></use></svg></label><div class='xr-var-attrs'><dl class='xr-attrs'><dt><span>valid_range :</span></dt><dd>[-90.  90.]</dd><dt><span>long_name :</span></dt><dd>latitude</dd><dt><span>bounds :</span></dt><dd>lat_bnds</dd><dt><span>coverage_content_type :</span></dt><dd>referenceInformation</dd><dt><span>standard_name :</span></dt><dd>latitude</dd><dt><span>units :</span></dt><dd>degrees_north</dd><dt><span>description :</span></dt><dd>latitude of FOV center</dd><dt><span>AIRS_HDF_name :</span></dt><dd>Latitude</dd></dl></div><div class='xr-var-data'><pre>[11280 values with dtype=float32]</pre></div></li><li class='xr-var-item'><div class='xr-var-name'><span>lon</span></div><div class='xr-var-dims'>(obs)</div><div class='xr-var-dtype'>float32</div><div class='xr-var-preview xr-preview'>...</div><input id='attrs-7cc5e33c-0f87-47b0-8de3-cd1c4a8f88e7' class='xr-var-attrs-in' type='checkbox' ><label for='attrs-7cc5e33c-0f87-47b0-8de3-cd1c4a8f88e7' title='Show/Hide attributes'><svg class='icon xr-icon-file-text2'><use xlink:href='#icon-file-text2'></use></svg></label><input id='data-045aa430-67ae-4576-87bd-8f45b715ac24' class='xr-var-data-in' type='checkbox'><label for='data-045aa430-67ae-4576-87bd-8f45b715ac24' title='Show/Hide data repr'><svg class='icon xr-icon-database'><use xlink:href='#icon-database'></use></svg></label><div class='xr-var-attrs'><dl class='xr-attrs'><dt><span>valid_range :</span></dt><dd>[-180.  180.]</dd><dt><span>long_name :</span></dt><dd>FOV longitude</dd><dt><span>bounds :</span></dt><dd>lon_bnds</dd><dt><span>coverage_content_type :</span></dt><dd>referenceInformation</dd><dt><span>standard_name :</span></dt><dd>longitude</dd><dt><span>units :</span></dt><dd>degrees_east</dd><dt><span>description :</span></dt><dd>longitude of FOV center</dd><dt><span>AIRS_HDF_name :</span></dt><dd>Longitude</dd></dl></div><div class='xr-var-data'><pre>[11280 values with dtype=float32]</pre></div></li><li class='xr-var-item'><div class='xr-var-name'><span class='xr-has-index'>wnum</span></div><div class='xr-var-dims'>(wnum)</div><div class='xr-var-dtype'>float64</div><div class='xr-var-preview xr-preview'>650.0 650.6 ... 2.549e+03 2.55e+03</div><input id='attrs-9f2ea45e-352a-4bfb-bca1-4c25756ec2b7' class='xr-var-attrs-in' type='checkbox' ><label for='attrs-9f2ea45e-352a-4bfb-bca1-4c25756ec2b7' title='Show/Hide attributes'><svg class='icon xr-icon-file-text2'><use xlink:href='#icon-file-text2'></use></svg></label><input id='data-8881c623-85e4-41d1-8c77-dccf41774f22' class='xr-var-data-in' type='checkbox'><label for='data-8881c623-85e4-41d1-8c77-dccf41774f22' title='Show/Hide data repr'><svg class='icon xr-icon-database'><use xlink:href='#icon-database'></use></svg></label><div class='xr-var-attrs'><dl class='xr-attrs'><dt><span>units :</span></dt><dd>cm-1</dd><dt><span>valid_range :</span></dt><dd>[ 640. 2700.]</dd><dt><span>long_name :</span></dt><dd>wavenumber</dd><dt><span>standard_name :</span></dt><dd>sensor_band_central_radiation_wavenumber</dd><dt><span>description :</span></dt><dd>wavenumber</dd><dt><span>coverage_content_type :</span></dt><dd>auxiliaryInformation</dd></dl></div><div class='xr-var-data'><pre>array([ 650.   ,  650.625,  651.25 , ..., 2547.5  , 2548.75 , 2550.   ])</pre></div></li></ul></div></li><li class='xr-section-item'><input id='section-4545d90d-d3b4-4fa9-b59f-911c39600d0e' class='xr-section-summary-in' type='checkbox'  checked><label for='section-4545d90d-d3b4-4fa9-b59f-911c39600d0e' class='xr-section-summary' >Data variables: <span>(11)</span></label><div class='xr-section-inline-details'></div><div class='xr-section-details'><ul class='xr-var-list'><li class='xr-var-item'><div class='xr-var-name'><span>obs_id</span></div><div class='xr-var-dims'>(obs)</div><div class='xr-var-dtype'>&lt;U20</div><div class='xr-var-preview xr-preview'>...</div><input id='attrs-4a6e4672-491d-4e0d-bd18-22d1033d3061' class='xr-var-attrs-in' type='checkbox' ><label for='attrs-4a6e4672-491d-4e0d-bd18-22d1033d3061' title='Show/Hide attributes'><svg class='icon xr-icon-file-text2'><use xlink:href='#icon-file-text2'></use></svg></label><input id='data-2e7c0b9d-8dcc-4aa3-ad71-65574d138b04' class='xr-var-data-in' type='checkbox'><label for='data-2e7c0b9d-8dcc-4aa3-ad71-65574d138b04' title='Show/Hide data repr'><svg class='icon xr-icon-database'><use xlink:href='#icon-database'></use></svg></label><div class='xr-var-attrs'><dl class='xr-attrs'><dt><span>long_name :</span></dt><dd>observation id</dd><dt><span>coverage_content_type :</span></dt><dd>referenceInformation</dd><dt><span>description :</span></dt><dd>unique earth view observation identifier.</dd></dl></div><div class='xr-var-data'><pre>[11280 values with dtype=&lt;U20]</pre></div></li><li class='xr-var-item'><div class='xr-var-name'><span>obs_time_tai93</span></div><div class='xr-var-dims'>(obs)</div><div class='xr-var-dtype'>datetime64[ns]</div><div class='xr-var-preview xr-preview'>...</div><input id='attrs-0f7b5541-fa4b-4560-bef7-c82d9823e745' class='xr-var-attrs-in' type='checkbox' ><label for='attrs-0f7b5541-fa4b-4560-bef7-c82d9823e745' title='Show/Hide attributes'><svg class='icon xr-icon-file-text2'><use xlink:href='#icon-file-text2'></use></svg></label><input id='data-3abfe94a-f984-411d-89e6-f6ed7075f7b7' class='xr-var-data-in' type='checkbox'><label for='data-3abfe94a-f984-411d-89e6-f6ed7075f7b7' title='Show/Hide data repr'><svg class='icon xr-icon-database'><use xlink:href='#icon-database'></use></svg></label><div class='xr-var-attrs'><dl class='xr-attrs'><dt><span>valid_range :</span></dt><dd>[-2.93483522e+09  3.37659841e+09]</dd><dt><span>long_name :</span></dt><dd>earth view FOV midtime</dd><dt><span>coverage_content_type :</span></dt><dd>referenceInformation</dd><dt><span>standard_name :</span></dt><dd>time</dd><dt><span>description :</span></dt><dd>earth view observation midtime for each FOV</dd><dt><span>AIRS_HDF_name :</span></dt><dd>Time</dd></dl></div><div class='xr-var-data'><pre>[11280 values with dtype=datetime64[ns]]</pre></div></li><li class='xr-var-item'><div class='xr-var-name'><span>lat_bnds</span></div><div class='xr-var-dims'>(bnds)</div><div class='xr-var-dtype'>float32</div><div class='xr-var-preview xr-preview'>...</div><input id='attrs-1e818af3-0a42-48c9-b281-82743c819291' class='xr-var-attrs-in' type='checkbox' ><label for='attrs-1e818af3-0a42-48c9-b281-82743c819291' title='Show/Hide attributes'><svg class='icon xr-icon-file-text2'><use xlink:href='#icon-file-text2'></use></svg></label><input id='data-704a675b-e917-4cf9-a777-8490934f1ccb' class='xr-var-data-in' type='checkbox'><label for='data-704a675b-e917-4cf9-a777-8490934f1ccb' title='Show/Hide data repr'><svg class='icon xr-icon-database'><use xlink:href='#icon-database'></use></svg></label><div class='xr-var-attrs'><dl class='xr-attrs'><dt><span>valid_range :</span></dt><dd>[-90.  90.]</dd><dt><span>long_name :</span></dt><dd>latitude bounds</dd><dt><span>coverage_content_type :</span></dt><dd>referenceInformation</dd><dt><span>units :</span></dt><dd>degrees_north</dd><dt><span>description :</span></dt><dd>Latitude range of tile</dd></dl></div><div class='xr-var-data'><pre>[2 values with dtype=float32]</pre></div></li><li class='xr-var-item'><div class='xr-var-name'><span>lon_bnds</span></div><div class='xr-var-dims'>(bnds)</div><div class='xr-var-dtype'>float32</div><div class='xr-var-preview xr-preview'>...</div><input id='attrs-02611d0c-cbac-481e-8d47-95969ba13cd5' class='xr-var-attrs-in' type='checkbox' ><label for='attrs-02611d0c-cbac-481e-8d47-95969ba13cd5' title='Show/Hide attributes'><svg class='icon xr-icon-file-text2'><use xlink:href='#icon-file-text2'></use></svg></label><input id='data-bcdadcb8-a066-4f63-82f5-21f53aa498b3' class='xr-var-data-in' type='checkbox'><label for='data-bcdadcb8-a066-4f63-82f5-21f53aa498b3' title='Show/Hide data repr'><svg class='icon xr-icon-database'><use xlink:href='#icon-database'></use></svg></label><div class='xr-var-attrs'><dl class='xr-attrs'><dt><span>valid_range :</span></dt><dd>[-180.  180.]</dd><dt><span>long_name :</span></dt><dd>longitude bounds</dd><dt><span>coverage_content_type :</span></dt><dd>referenceInformation</dd><dt><span>units :</span></dt><dd>degrees_east</dd><dt><span>description :</span></dt><dd>Longitude range of tile</dd></dl></div><div class='xr-var-data'><pre>[2 values with dtype=float32]</pre></div></li><li class='xr-var-item'><div class='xr-var-name'><span>land_frac</span></div><div class='xr-var-dims'>(obs)</div><div class='xr-var-dtype'>float32</div><div class='xr-var-preview xr-preview'>...</div><input id='attrs-b7bb0573-fe53-46d7-a793-b4a48b0a6656' class='xr-var-attrs-in' type='checkbox' ><label for='attrs-b7bb0573-fe53-46d7-a793-b4a48b0a6656' title='Show/Hide attributes'><svg class='icon xr-icon-file-text2'><use xlink:href='#icon-file-text2'></use></svg></label><input id='data-31733453-7a07-4e92-890f-38f84a760ff8' class='xr-var-data-in' type='checkbox'><label for='data-31733453-7a07-4e92-890f-38f84a760ff8' title='Show/Hide data repr'><svg class='icon xr-icon-database'><use xlink:href='#icon-database'></use></svg></label><div class='xr-var-attrs'><dl class='xr-attrs'><dt><span>valid_range :</span></dt><dd>[0. 1.]</dd><dt><span>long_name :</span></dt><dd>land fraction</dd><dt><span>coverage_content_type :</span></dt><dd>referenceInformation</dd><dt><span>standard_name :</span></dt><dd>land_area_fraction</dd><dt><span>units :</span></dt><dd>1</dd><dt><span>description :</span></dt><dd>land fraction over the FOV</dd><dt><span>AIRS_HDF_name :</span></dt><dd>landFrac</dd><dt><span>cell_methods :</span></dt><dd>area: mean (beam-weighted)</dd></dl></div><div class='xr-var-data'><pre>[11280 values with dtype=float32]</pre></div></li><li class='xr-var-item'><div class='xr-var-name'><span>sol_zen</span></div><div class='xr-var-dims'>(obs)</div><div class='xr-var-dtype'>float32</div><div class='xr-var-preview xr-preview'>...</div><input id='attrs-75e5e3e0-6805-4f12-a89a-f99bbbcde130' class='xr-var-attrs-in' type='checkbox' ><label for='attrs-75e5e3e0-6805-4f12-a89a-f99bbbcde130' title='Show/Hide attributes'><svg class='icon xr-icon-file-text2'><use xlink:href='#icon-file-text2'></use></svg></label><input id='data-f5c29f31-f704-4e01-9787-88d1079f653c' class='xr-var-data-in' type='checkbox'><label for='data-f5c29f31-f704-4e01-9787-88d1079f653c' title='Show/Hide data repr'><svg class='icon xr-icon-database'><use xlink:href='#icon-database'></use></svg></label><div class='xr-var-attrs'><dl class='xr-attrs'><dt><span>valid_range :</span></dt><dd>[  0. 180.]</dd><dt><span>long_name :</span></dt><dd>solar zenith angle</dd><dt><span>coverage_content_type :</span></dt><dd>referenceInformation</dd><dt><span>standard_name :</span></dt><dd>solar_zenith_angle</dd><dt><span>units :</span></dt><dd>degree</dd><dt><span>description :</span></dt><dd>solar zenith angle at the center of the FOV</dd><dt><span>AIRS_HDF_name :</span></dt><dd>solzen</dd></dl></div><div class='xr-var-data'><pre>[11280 values with dtype=float32]</pre></div></li><li class='xr-var-item'><div class='xr-var-name'><span>sat_zen</span></div><div class='xr-var-dims'>(obs)</div><div class='xr-var-dtype'>float32</div><div class='xr-var-preview xr-preview'>...</div><input id='attrs-b1ae22aa-9edf-4dc3-b8ac-de2ece025752' class='xr-var-attrs-in' type='checkbox' ><label for='attrs-b1ae22aa-9edf-4dc3-b8ac-de2ece025752' title='Show/Hide attributes'><svg class='icon xr-icon-file-text2'><use xlink:href='#icon-file-text2'></use></svg></label><input id='data-9e96b504-280f-409b-a901-d14555a9caf8' class='xr-var-data-in' type='checkbox'><label for='data-9e96b504-280f-409b-a901-d14555a9caf8' title='Show/Hide data repr'><svg class='icon xr-icon-database'><use xlink:href='#icon-database'></use></svg></label><div class='xr-var-attrs'><dl class='xr-attrs'><dt><span>valid_range :</span></dt><dd>[  0. 180.]</dd><dt><span>long_name :</span></dt><dd>satellite zenith angle</dd><dt><span>coverage_content_type :</span></dt><dd>referenceInformation</dd><dt><span>standard_name :</span></dt><dd>sensor_zenith_angle</dd><dt><span>units :</span></dt><dd>degree</dd><dt><span>description :</span></dt><dd>satellite zenith angle at the center of the FOV</dd><dt><span>AIRS_HDF_name :</span></dt><dd>satzen</dd></dl></div><div class='xr-var-data'><pre>[11280 values with dtype=float32]</pre></div></li><li class='xr-var-item'><div class='xr-var-name'><span>asc_flag</span></div><div class='xr-var-dims'>(obs)</div><div class='xr-var-dtype'>float32</div><div class='xr-var-preview xr-preview'>...</div><input id='attrs-3a8888a7-658b-4170-a1a0-0161bb7fe96c' class='xr-var-attrs-in' type='checkbox' ><label for='attrs-3a8888a7-658b-4170-a1a0-0161bb7fe96c' title='Show/Hide attributes'><svg class='icon xr-icon-file-text2'><use xlink:href='#icon-file-text2'></use></svg></label><input id='data-fd1cf6e5-49ff-4dfd-9763-4528ffe44a5d' class='xr-var-data-in' type='checkbox'><label for='data-fd1cf6e5-49ff-4dfd-9763-4528ffe44a5d' title='Show/Hide data repr'><svg class='icon xr-icon-database'><use xlink:href='#icon-database'></use></svg></label><div class='xr-var-attrs'><dl class='xr-attrs'><dt><span>valid_range :</span></dt><dd>[0 1]</dd><dt><span>long_name :</span></dt><dd>ascending orbit flag</dd><dt><span>flag_values :</span></dt><dd>[0 1]</dd><dt><span>coverage_content_type :</span></dt><dd>referenceInformation</dd><dt><span>description :</span></dt><dd>ascending orbit flag: 1 if ascending, 0 descending</dd><dt><span>AIRS_HDF_name :</span></dt><dd>scan_node_type</dd><dt><span>flag_meanings :</span></dt><dd>descending ascending</dd></dl></div><div class='xr-var-data'><pre>[11280 values with dtype=float32]</pre></div></li><li class='xr-var-item'><div class='xr-var-name'><span>rad</span></div><div class='xr-var-dims'>(obs, wnum)</div><div class='xr-var-dtype'>float32</div><div class='xr-var-preview xr-preview'>...</div><input id='attrs-d06eb800-23f0-4850-94ef-814634ea5932' class='xr-var-attrs-in' type='checkbox' ><label for='attrs-d06eb800-23f0-4850-94ef-814634ea5932' title='Show/Hide attributes'><svg class='icon xr-icon-file-text2'><use xlink:href='#icon-file-text2'></use></svg></label><input id='data-d0cfe288-3dcb-4e35-801b-7355884247db' class='xr-var-data-in' type='checkbox'><label for='data-d0cfe288-3dcb-4e35-801b-7355884247db' title='Show/Hide data repr'><svg class='icon xr-icon-database'><use xlink:href='#icon-database'></use></svg></label><div class='xr-var-attrs'><dl class='xr-attrs'><dt><span>units :</span></dt><dd>mW/(m2 sr cm-1)</dd><dt><span>ancillary_variables :</span></dt><dd>rad_qc synth_frac chan_qc</dd><dt><span>long_name :</span></dt><dd>spectral radiance</dd><dt><span>standard_name :</span></dt><dd>toa_outgoing_radiance_per_unit_wavenumber</dd><dt><span>description :</span></dt><dd>spectral radiance</dd><dt><span>coverage_content_type :</span></dt><dd>physicalMeasurement</dd></dl></div><div class='xr-var-data'><pre>[18939120 values with dtype=float32]</pre></div></li><li class='xr-var-item'><div class='xr-var-name'><span>rad_qc</span></div><div class='xr-var-dims'>(obs)</div><div class='xr-var-dtype'>float32</div><div class='xr-var-preview xr-preview'>...</div><input id='attrs-bd9354d0-6165-4feb-a108-1681d41616fb' class='xr-var-attrs-in' type='checkbox' ><label for='attrs-bd9354d0-6165-4feb-a108-1681d41616fb' title='Show/Hide attributes'><svg class='icon xr-icon-file-text2'><use xlink:href='#icon-file-text2'></use></svg></label><input id='data-22307d37-0b5b-4f7f-8418-7b8eb5f235b4' class='xr-var-data-in' type='checkbox'><label for='data-22307d37-0b5b-4f7f-8418-7b8eb5f235b4' title='Show/Hide data repr'><svg class='icon xr-icon-database'><use xlink:href='#icon-database'></use></svg></label><div class='xr-var-attrs'><dl class='xr-attrs'><dt><span>valid_range :</span></dt><dd>[0 2]</dd><dt><span>long_name :</span></dt><dd>rad QC</dd><dt><span>standard_name :</span></dt><dd>toa_outgoing_radiance_per_unit_wavenumber status_flag</dd><dt><span>description :</span></dt><dd>rad QC flag</dd><dt><span>coverage_content_type :</span></dt><dd>qualityInformation</dd><dt><span>flag_meanings :</span></dt><dd>Best Good Do_Not_Use</dd><dt><span>flag_values :</span></dt><dd>[0 1 2]</dd></dl></div><div class='xr-var-data'><pre>[11280 values with dtype=float32]</pre></div></li><li class='xr-var-item'><div class='xr-var-name'><span>total_obs</span></div><div class='xr-var-dims'>()</div><div class='xr-var-dtype'>float64</div><div class='xr-var-preview xr-preview'>...</div><input id='attrs-773b988d-05f6-482b-aabe-7a6bd417ac62' class='xr-var-attrs-in' type='checkbox' ><label for='attrs-773b988d-05f6-482b-aabe-7a6bd417ac62' title='Show/Hide attributes'><svg class='icon xr-icon-file-text2'><use xlink:href='#icon-file-text2'></use></svg></label><input id='data-02d9ab9f-f461-4878-8147-5a25279d88a2' class='xr-var-data-in' type='checkbox'><label for='data-02d9ab9f-f461-4878-8147-5a25279d88a2' title='Show/Hide data repr'><svg class='icon xr-icon-database'><use xlink:href='#icon-database'></use></svg></label><div class='xr-var-attrs'><dl class='xr-attrs'><dt><span>long_name :</span></dt><dd>total obs for this tile</dd><dt><span>description :</span></dt><dd>total obs for this tile</dd></dl></div><div class='xr-var-data'><pre>[1 values with dtype=float64]</pre></div></li></ul></div></li><li class='xr-section-item'><input id='section-83735a08-3618-4534-81ae-118ace4956a3' class='xr-section-summary-in' type='checkbox'  ><label for='section-83735a08-3618-4534-81ae-118ace4956a3' class='xr-section-summary' >Indexes: <span>(1)</span></label><div class='xr-section-inline-details'></div><div class='xr-section-details'><ul class='xr-var-list'><li class='xr-var-item'><div class='xr-index-name'><div>wnum</div></div><div class='xr-index-preview'>PandasIndex</div><div></div><input id='index-3efc908b-2b8d-43a5-91f0-6020b85752cb' class='xr-index-data-in' type='checkbox'/><label for='index-3efc908b-2b8d-43a5-91f0-6020b85752cb' title='Show/Hide index repr'><svg class='icon xr-icon-database'><use xlink:href='#icon-database'></use></svg></label><div class='xr-index-data'><pre>PandasIndex(Index([  650.0, 650.625,  651.25, 651.875,   652.5, 653.125,  653.75, 654.375,\n",
       "         655.0, 655.625,\n",
       "       ...\n",
       "       2538.75,  2540.0, 2541.25,  2542.5, 2543.75,  2545.0, 2546.25,  2547.5,\n",
       "       2548.75,  2550.0],\n",
       "      dtype=&#x27;float64&#x27;, name=&#x27;wnum&#x27;, length=1679))</pre></div></li></ul></div></li><li class='xr-section-item'><input id='section-481adbb6-e811-4698-a598-856310e5f08d' class='xr-section-summary-in' type='checkbox'  checked><label for='section-481adbb6-e811-4698-a598-856310e5f08d' class='xr-section-summary' >Attributes: <span>(1)</span></label><div class='xr-section-inline-details'></div><div class='xr-section-details'><dl class='xr-attrs'><dt><span>algorithm_version :</span></dt><dd>v1</dd></dl></div></li></ul></div></div>"
      ],
      "text/plain": [
       "<xarray.Dataset>\n",
       "Dimensions:         (obs: 11280, bnds: 2, wnum: 1679)\n",
       "Coordinates:\n",
       "    lat             (obs) float32 ...\n",
       "    lon             (obs) float32 ...\n",
       "  * wnum            (wnum) float64 650.0 650.6 651.2 ... 2.549e+03 2.55e+03\n",
       "Dimensions without coordinates: obs, bnds\n",
       "Data variables:\n",
       "    obs_id          (obs) <U20 ...\n",
       "    obs_time_tai93  (obs) datetime64[ns] ...\n",
       "    lat_bnds        (bnds) float32 ...\n",
       "    lon_bnds        (bnds) float32 ...\n",
       "    land_frac       (obs) float32 ...\n",
       "    sol_zen         (obs) float32 ...\n",
       "    sat_zen         (obs) float32 ...\n",
       "    asc_flag        (obs) float32 ...\n",
       "    rad             (obs, wnum) float32 ...\n",
       "    rad_qc          (obs) float32 ...\n",
       "    total_obs       float64 ...\n",
       "Attributes:\n",
       "    algorithm_version:  v1"
      ]
     },
     "execution_count": 28,
     "metadata": {},
     "output_type": "execute_result"
    }
   ],
   "source": [
    "!{sys.executable} -m pip install xarray netCDF4 matplotlib\n",
    "import xarray as xr\n",
    "import netCDF4\n",
    "\n",
    "ds = xr.open_dataset('SNDR_tile_2016_s320_S38p50_E010p00_L1_AQ_v1_D_2312131702486391.nc')\n",
    "ds"
   ]
  },
  {
   "cell_type": "code",
   "execution_count": 30,
   "id": "71512687-336c-4031-abd6-5e8e817647ba",
   "metadata": {
    "editable": true,
    "slideshow": {
     "slide_type": ""
    },
    "tags": []
   },
   "outputs": [
    {
     "data": {
      "text/plain": [
       "[<matplotlib.lines.Line2D at 0x7fcd07e86450>]"
      ]
     },
     "execution_count": 30,
     "metadata": {},
     "output_type": "execute_result"
    },
    {
     "data": {
      "image/png": "[encoded data removed]",
      "text/plain": [
       "<Figure size 640x480 with 1 Axes>"
      ]
     },
     "metadata": {},
     "output_type": "display_data"
    }
   ],
   "source": [
    "ds[\"sat_zen\"].plot()"
   ]
  },
  {
   "cell_type": "code",
   "execution_count": 31,
   "id": "9be53b04-6760-4d5b-ab7a-7688247f13a5",
   "metadata": {
    "editable": true,
    "slideshow": {
     "slide_type": ""
    },
    "tags": []
   },
   "outputs": [
    {
     "data": {
      "text/plain": [
       "<matplotlib.collections.QuadMesh at 0x7fcd1ce0e410>"
      ]
     },
     "execution_count": 31,
     "metadata": {},
     "output_type": "execute_result"
    },
    {
     "data": {
      "image/png": "[encoded data removed]",
      "text/plain": [
       "<Figure size 640x480 with 2 Axes>"
      ]
     },
     "metadata": {},
     "output_type": "display_data"
    }
   ],
   "source": [
    "ds[\"rad\"].plot()"
   ]
  },
  {
   "cell_type": "code",
   "execution_count": null,
   "id": "9d448543-efac-4d4a-94d0-e7cbaf02b00f",
   "metadata": {
    "editable": true,
    "slideshow": {
     "slide_type": ""
    },
    "tags": []
   },
   "outputs": [],
   "source": []
  }
 ],
 "metadata": {
  "kernelspec": {
   "display_name": "Python [conda env:root] *",
   "language": "python",
   "name": "conda-root-py"
  },
  "language_info": {
   "codemirror_mode": {
    "name": "ipython",
    "version": 3
   },
   "file_extension": ".py",
   "mimetype": "text/x-python",
   "name": "python",
   "nbconvert_exporter": "python",
   "pygments_lexer": "ipython3",
   "version": "3.11.6"
  }
 },
 "nbformat": 4,
 "nbformat_minor": 5
}
